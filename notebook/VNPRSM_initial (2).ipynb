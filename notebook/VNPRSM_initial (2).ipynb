{
  "cells": [
    {
      "cell_type": "markdown",
      "metadata": {
        "id": "3MR4zVH-U9iH"
      },
      "source": [
        "** Install required libraries**"
      ]
    },
    {
      "cell_type": "code",
      "execution_count": null,
      "metadata": {
        "colab": {
          "base_uri": "https://localhost:8080/"
        },
        "id": "mBbAZH9PdwI_",
        "outputId": "78c19de0-9e8f-4f05-c839-ac8ac0cc4da9"
      },
      "outputs": [
        {
          "name": "stdout",
          "output_type": "stream",
          "text": [
            "Collecting ultralytics\n",
            "  Downloading ultralytics-8.3.73-py3-none-any.whl.metadata (35 kB)\n",
            "Requirement already satisfied: opencv-python in /usr/local/lib/python3.11/dist-packages (4.11.0.86)\n",
            "Requirement already satisfied: pillow in /usr/local/lib/python3.11/dist-packages (11.1.0)\n",
            "Requirement already satisfied: matplotlib in /usr/local/lib/python3.11/dist-packages (3.10.0)\n",
            "Requirement already satisfied: torch in /usr/local/lib/python3.11/dist-packages (2.5.1+cu124)\n",
            "Requirement already satisfied: ipython in /usr/local/lib/python3.11/dist-packages (7.34.0)\n",
            "Requirement already satisfied: numpy<=2.1.1,>=1.23.0 in /usr/local/lib/python3.11/dist-packages (from ultralytics) (1.26.4)\n",
            "Requirement already satisfied: pyyaml>=5.3.1 in /usr/local/lib/python3.11/dist-packages (from ultralytics) (6.0.2)\n",
            "Requirement already satisfied: requests>=2.23.0 in /usr/local/lib/python3.11/dist-packages (from ultralytics) (2.32.3)\n",
            "Requirement already satisfied: scipy>=1.4.1 in /usr/local/lib/python3.11/dist-packages (from ultralytics) (1.13.1)\n",
            "Requirement already satisfied: torchvision>=0.9.0 in /usr/local/lib/python3.11/dist-packages (from ultralytics) (0.20.1+cu124)\n",
            "Requirement already satisfied: tqdm>=4.64.0 in /usr/local/lib/python3.11/dist-packages (from ultralytics) (4.67.1)\n",
            "Requirement already satisfied: psutil in /usr/local/lib/python3.11/dist-packages (from ultralytics) (5.9.5)\n",
            "Requirement already satisfied: py-cpuinfo in /usr/local/lib/python3.11/dist-packages (from ultralytics) (9.0.0)\n",
            "Requirement already satisfied: pandas>=1.1.4 in /usr/local/lib/python3.11/dist-packages (from ultralytics) (2.2.2)\n",
            "Requirement already satisfied: seaborn>=0.11.0 in /usr/local/lib/python3.11/dist-packages (from ultralytics) (0.13.2)\n",
            "Collecting ultralytics-thop>=2.0.0 (from ultralytics)\n",
            "  Downloading ultralytics_thop-2.0.14-py3-none-any.whl.metadata (9.4 kB)\n",
            "Requirement already satisfied: contourpy>=1.0.1 in /usr/local/lib/python3.11/dist-packages (from matplotlib) (1.3.1)\n",
            "Requirement already satisfied: cycler>=0.10 in /usr/local/lib/python3.11/dist-packages (from matplotlib) (0.12.1)\n",
            "Requirement already satisfied: fonttools>=4.22.0 in /usr/local/lib/python3.11/dist-packages (from matplotlib) (4.55.8)\n",
            "Requirement already satisfied: kiwisolver>=1.3.1 in /usr/local/lib/python3.11/dist-packages (from matplotlib) (1.4.8)\n",
            "Requirement already satisfied: packaging>=20.0 in /usr/local/lib/python3.11/dist-packages (from matplotlib) (24.2)\n",
            "Requirement already satisfied: pyparsing>=2.3.1 in /usr/local/lib/python3.11/dist-packages (from matplotlib) (3.2.1)\n",
            "Requirement already satisfied: python-dateutil>=2.7 in /usr/local/lib/python3.11/dist-packages (from matplotlib) (2.8.2)\n",
            "Requirement already satisfied: filelock in /usr/local/lib/python3.11/dist-packages (from torch) (3.17.0)\n",
            "Requirement already satisfied: typing-extensions>=4.8.0 in /usr/local/lib/python3.11/dist-packages (from torch) (4.12.2)\n",
            "Requirement already satisfied: networkx in /usr/local/lib/python3.11/dist-packages (from torch) (3.4.2)\n",
            "Requirement already satisfied: jinja2 in /usr/local/lib/python3.11/dist-packages (from torch) (3.1.5)\n",
            "Requirement already satisfied: fsspec in /usr/local/lib/python3.11/dist-packages (from torch) (2024.10.0)\n",
            "Collecting nvidia-cuda-nvrtc-cu12==12.4.127 (from torch)\n",
            "  Downloading nvidia_cuda_nvrtc_cu12-12.4.127-py3-none-manylinux2014_x86_64.whl.metadata (1.5 kB)\n",
            "Collecting nvidia-cuda-runtime-cu12==12.4.127 (from torch)\n",
            "  Downloading nvidia_cuda_runtime_cu12-12.4.127-py3-none-manylinux2014_x86_64.whl.metadata (1.5 kB)\n",
            "Collecting nvidia-cuda-cupti-cu12==12.4.127 (from torch)\n",
            "  Downloading nvidia_cuda_cupti_cu12-12.4.127-py3-none-manylinux2014_x86_64.whl.metadata (1.6 kB)\n",
            "Collecting nvidia-cudnn-cu12==9.1.0.70 (from torch)\n",
            "  Downloading nvidia_cudnn_cu12-9.1.0.70-py3-none-manylinux2014_x86_64.whl.metadata (1.6 kB)\n",
            "Collecting nvidia-cublas-cu12==12.4.5.8 (from torch)\n",
            "  Downloading nvidia_cublas_cu12-12.4.5.8-py3-none-manylinux2014_x86_64.whl.metadata (1.5 kB)\n",
            "Collecting nvidia-cufft-cu12==11.2.1.3 (from torch)\n",
            "  Downloading nvidia_cufft_cu12-11.2.1.3-py3-none-manylinux2014_x86_64.whl.metadata (1.5 kB)\n",
            "Collecting nvidia-curand-cu12==10.3.5.147 (from torch)\n",
            "  Downloading nvidia_curand_cu12-10.3.5.147-py3-none-manylinux2014_x86_64.whl.metadata (1.5 kB)\n",
            "Collecting nvidia-cusolver-cu12==11.6.1.9 (from torch)\n",
            "  Downloading nvidia_cusolver_cu12-11.6.1.9-py3-none-manylinux2014_x86_64.whl.metadata (1.6 kB)\n",
            "Collecting nvidia-cusparse-cu12==12.3.1.170 (from torch)\n",
            "  Downloading nvidia_cusparse_cu12-12.3.1.170-py3-none-manylinux2014_x86_64.whl.metadata (1.6 kB)\n",
            "Requirement already satisfied: nvidia-nccl-cu12==2.21.5 in /usr/local/lib/python3.11/dist-packages (from torch) (2.21.5)\n",
            "Requirement already satisfied: nvidia-nvtx-cu12==12.4.127 in /usr/local/lib/python3.11/dist-packages (from torch) (12.4.127)\n",
            "Collecting nvidia-nvjitlink-cu12==12.4.127 (from torch)\n",
            "  Downloading nvidia_nvjitlink_cu12-12.4.127-py3-none-manylinux2014_x86_64.whl.metadata (1.5 kB)\n",
            "Requirement already satisfied: triton==3.1.0 in /usr/local/lib/python3.11/dist-packages (from torch) (3.1.0)\n",
            "Requirement already satisfied: sympy==1.13.1 in /usr/local/lib/python3.11/dist-packages (from torch) (1.13.1)\n",
            "Requirement already satisfied: mpmath<1.4,>=1.1.0 in /usr/local/lib/python3.11/dist-packages (from sympy==1.13.1->torch) (1.3.0)\n",
            "Requirement already satisfied: setuptools>=18.5 in /usr/local/lib/python3.11/dist-packages (from ipython) (75.1.0)\n",
            "Collecting jedi>=0.16 (from ipython)\n",
            "  Downloading jedi-0.19.2-py2.py3-none-any.whl.metadata (22 kB)\n",
            "Requirement already satisfied: decorator in /usr/local/lib/python3.11/dist-packages (from ipython) (4.4.2)\n",
            "Requirement already satisfied: pickleshare in /usr/local/lib/python3.11/dist-packages (from ipython) (0.7.5)\n",
            "Requirement already satisfied: traitlets>=4.2 in /usr/local/lib/python3.11/dist-packages (from ipython) (5.7.1)\n",
            "Requirement already satisfied: prompt-toolkit!=3.0.0,!=3.0.1,<3.1.0,>=2.0.0 in /usr/local/lib/python3.11/dist-packages (from ipython) (3.0.50)\n",
            "Requirement already satisfied: pygments in /usr/local/lib/python3.11/dist-packages (from ipython) (2.18.0)\n",
            "Requirement already satisfied: backcall in /usr/local/lib/python3.11/dist-packages (from ipython) (0.2.0)\n",
            "Requirement already satisfied: matplotlib-inline in /usr/local/lib/python3.11/dist-packages (from ipython) (0.1.7)\n",
            "Requirement already satisfied: pexpect>4.3 in /usr/local/lib/python3.11/dist-packages (from ipython) (4.9.0)\n",
            "Requirement already satisfied: parso<0.9.0,>=0.8.4 in /usr/local/lib/python3.11/dist-packages (from jedi>=0.16->ipython) (0.8.4)\n",
            "Requirement already satisfied: pytz>=2020.1 in /usr/local/lib/python3.11/dist-packages (from pandas>=1.1.4->ultralytics) (2025.1)\n",
            "Requirement already satisfied: tzdata>=2022.7 in /usr/local/lib/python3.11/dist-packages (from pandas>=1.1.4->ultralytics) (2025.1)\n",
            "Requirement already satisfied: ptyprocess>=0.5 in /usr/local/lib/python3.11/dist-packages (from pexpect>4.3->ipython) (0.7.0)\n",
            "Requirement already satisfied: wcwidth in /usr/local/lib/python3.11/dist-packages (from prompt-toolkit!=3.0.0,!=3.0.1,<3.1.0,>=2.0.0->ipython) (0.2.13)\n",
            "Requirement already satisfied: six>=1.5 in /usr/local/lib/python3.11/dist-packages (from python-dateutil>=2.7->matplotlib) (1.17.0)\n",
            "Requirement already satisfied: charset-normalizer<4,>=2 in /usr/local/lib/python3.11/dist-packages (from requests>=2.23.0->ultralytics) (3.4.1)\n",
            "Requirement already satisfied: idna<4,>=2.5 in /usr/local/lib/python3.11/dist-packages (from requests>=2.23.0->ultralytics) (3.10)\n",
            "Requirement already satisfied: urllib3<3,>=1.21.1 in /usr/local/lib/python3.11/dist-packages (from requests>=2.23.0->ultralytics) (2.3.0)\n",
            "Requirement already satisfied: certifi>=2017.4.17 in /usr/local/lib/python3.11/dist-packages (from requests>=2.23.0->ultralytics) (2025.1.31)\n",
            "Requirement already satisfied: MarkupSafe>=2.0 in /usr/local/lib/python3.11/dist-packages (from jinja2->torch) (3.0.2)\n",
            "Downloading ultralytics-8.3.73-py3-none-any.whl (914 kB)\n",
            "\u001b[2K   \u001b[90m━━━━━━━━━━━━━━━━━━━━━━━━━━━━━━━━━━━━━━━━\u001b[0m \u001b[32m914.6/914.6 kB\u001b[0m \u001b[31m37.6 MB/s\u001b[0m eta \u001b[36m0:00:00\u001b[0m\n",
            "\u001b[?25hDownloading nvidia_cublas_cu12-12.4.5.8-py3-none-manylinux2014_x86_64.whl (363.4 MB)\n",
            "\u001b[2K   \u001b[90m━━━━━━━━━━━━━━━━━━━━━━━━━━━━━━━━━━━━━━━━\u001b[0m \u001b[32m363.4/363.4 MB\u001b[0m \u001b[31m3.6 MB/s\u001b[0m eta \u001b[36m0:00:00\u001b[0m\n",
            "\u001b[?25hDownloading nvidia_cuda_cupti_cu12-12.4.127-py3-none-manylinux2014_x86_64.whl (13.8 MB)\n",
            "\u001b[2K   \u001b[90m━━━━━━━━━━━━━━━━━━━━━━━━━━━━━━━━━━━━━━━━\u001b[0m \u001b[32m13.8/13.8 MB\u001b[0m \u001b[31m48.9 MB/s\u001b[0m eta \u001b[36m0:00:00\u001b[0m\n",
            "\u001b[?25hDownloading nvidia_cuda_nvrtc_cu12-12.4.127-py3-none-manylinux2014_x86_64.whl (24.6 MB)\n",
            "\u001b[2K   \u001b[90m━━━━━━━━━━━━━━━━━━━━━━━━━━━━━━━━━━━━━━━━\u001b[0m \u001b[32m24.6/24.6 MB\u001b[0m \u001b[31m30.6 MB/s\u001b[0m eta \u001b[36m0:00:00\u001b[0m\n",
            "\u001b[?25hDownloading nvidia_cuda_runtime_cu12-12.4.127-py3-none-manylinux2014_x86_64.whl (883 kB)\n",
            "\u001b[2K   \u001b[90m━━━━━━━━━━━━━━━━━━━━━━━━━━━━━━━━━━━━━━━━\u001b[0m \u001b[32m883.7/883.7 kB\u001b[0m \u001b[31m29.6 MB/s\u001b[0m eta \u001b[36m0:00:00\u001b[0m\n",
            "\u001b[?25hDownloading nvidia_cudnn_cu12-9.1.0.70-py3-none-manylinux2014_x86_64.whl (664.8 MB)\n",
            "\u001b[2K   \u001b[90m━━━━━━━━━━━━━━━━━━━━━━━━━━━━━━━━━━━━━━━━\u001b[0m \u001b[32m664.8/664.8 MB\u001b[0m \u001b[31m2.6 MB/s\u001b[0m eta \u001b[36m0:00:00\u001b[0m\n",
            "\u001b[?25hDownloading nvidia_cufft_cu12-11.2.1.3-py3-none-manylinux2014_x86_64.whl (211.5 MB)\n",
            "\u001b[2K   \u001b[90m━━━━━━━━━━━━━━━━━━━━━━━━━━━━━━━━━━━━━━━━\u001b[0m \u001b[32m211.5/211.5 MB\u001b[0m \u001b[31m5.3 MB/s\u001b[0m eta \u001b[36m0:00:00\u001b[0m\n",
            "\u001b[?25hDownloading nvidia_curand_cu12-10.3.5.147-py3-none-manylinux2014_x86_64.whl (56.3 MB)\n",
            "\u001b[2K   \u001b[90m━━━━━━━━━━━━━━━━━━━━━━━━━━━━━━━━━━━━━━━━\u001b[0m \u001b[32m56.3/56.3 MB\u001b[0m \u001b[31m11.7 MB/s\u001b[0m eta \u001b[36m0:00:00\u001b[0m\n",
            "\u001b[?25hDownloading nvidia_cusolver_cu12-11.6.1.9-py3-none-manylinux2014_x86_64.whl (127.9 MB)\n",
            "\u001b[2K   \u001b[90m━━━━━━━━━━━━━━━━━━━━━━━━━━━━━━━━━━━━━━━━\u001b[0m \u001b[32m127.9/127.9 MB\u001b[0m \u001b[31m7.5 MB/s\u001b[0m eta \u001b[36m0:00:00\u001b[0m\n",
            "\u001b[?25hDownloading nvidia_cusparse_cu12-12.3.1.170-py3-none-manylinux2014_x86_64.whl (207.5 MB)\n",
            "\u001b[2K   \u001b[90m━━━━━━━━━━━━━━━━━━━━━━━━━━━━━━━━━━━━━━━━\u001b[0m \u001b[32m207.5/207.5 MB\u001b[0m \u001b[31m5.6 MB/s\u001b[0m eta \u001b[36m0:00:00\u001b[0m\n",
            "\u001b[?25hDownloading nvidia_nvjitlink_cu12-12.4.127-py3-none-manylinux2014_x86_64.whl (21.1 MB)\n",
            "\u001b[2K   \u001b[90m━━━━━━━━━━━━━━━━━━━━━━━━━━━━━━━━━━━━━━━━\u001b[0m \u001b[32m21.1/21.1 MB\u001b[0m \u001b[31m89.8 MB/s\u001b[0m eta \u001b[36m0:00:00\u001b[0m\n",
            "\u001b[?25hDownloading jedi-0.19.2-py2.py3-none-any.whl (1.6 MB)\n",
            "\u001b[2K   \u001b[90m━━━━━━━━━━━━━━━━━━━━━━━━━━━━━━━━━━━━━━━━\u001b[0m \u001b[32m1.6/1.6 MB\u001b[0m \u001b[31m70.3 MB/s\u001b[0m eta \u001b[36m0:00:00\u001b[0m\n",
            "\u001b[?25hDownloading ultralytics_thop-2.0.14-py3-none-any.whl (26 kB)\n",
            "Installing collected packages: nvidia-nvjitlink-cu12, nvidia-curand-cu12, nvidia-cufft-cu12, nvidia-cuda-runtime-cu12, nvidia-cuda-nvrtc-cu12, nvidia-cuda-cupti-cu12, nvidia-cublas-cu12, jedi, nvidia-cusparse-cu12, nvidia-cudnn-cu12, nvidia-cusolver-cu12, ultralytics-thop, ultralytics\n",
            "  Attempting uninstall: nvidia-nvjitlink-cu12\n",
            "    Found existing installation: nvidia-nvjitlink-cu12 12.5.82\n",
            "    Uninstalling nvidia-nvjitlink-cu12-12.5.82:\n",
            "      Successfully uninstalled nvidia-nvjitlink-cu12-12.5.82\n",
            "  Attempting uninstall: nvidia-curand-cu12\n",
            "    Found existing installation: nvidia-curand-cu12 10.3.6.82\n",
            "    Uninstalling nvidia-curand-cu12-10.3.6.82:\n",
            "      Successfully uninstalled nvidia-curand-cu12-10.3.6.82\n",
            "  Attempting uninstall: nvidia-cufft-cu12\n",
            "    Found existing installation: nvidia-cufft-cu12 11.2.3.61\n",
            "    Uninstalling nvidia-cufft-cu12-11.2.3.61:\n",
            "      Successfully uninstalled nvidia-cufft-cu12-11.2.3.61\n",
            "  Attempting uninstall: nvidia-cuda-runtime-cu12\n",
            "    Found existing installation: nvidia-cuda-runtime-cu12 12.5.82\n",
            "    Uninstalling nvidia-cuda-runtime-cu12-12.5.82:\n",
            "      Successfully uninstalled nvidia-cuda-runtime-cu12-12.5.82\n",
            "  Attempting uninstall: nvidia-cuda-nvrtc-cu12\n",
            "    Found existing installation: nvidia-cuda-nvrtc-cu12 12.5.82\n",
            "    Uninstalling nvidia-cuda-nvrtc-cu12-12.5.82:\n",
            "      Successfully uninstalled nvidia-cuda-nvrtc-cu12-12.5.82\n",
            "  Attempting uninstall: nvidia-cuda-cupti-cu12\n",
            "    Found existing installation: nvidia-cuda-cupti-cu12 12.5.82\n",
            "    Uninstalling nvidia-cuda-cupti-cu12-12.5.82:\n",
            "      Successfully uninstalled nvidia-cuda-cupti-cu12-12.5.82\n",
            "  Attempting uninstall: nvidia-cublas-cu12\n",
            "    Found existing installation: nvidia-cublas-cu12 12.5.3.2\n",
            "    Uninstalling nvidia-cublas-cu12-12.5.3.2:\n",
            "      Successfully uninstalled nvidia-cublas-cu12-12.5.3.2\n",
            "  Attempting uninstall: nvidia-cusparse-cu12\n",
            "    Found existing installation: nvidia-cusparse-cu12 12.5.1.3\n",
            "    Uninstalling nvidia-cusparse-cu12-12.5.1.3:\n",
            "      Successfully uninstalled nvidia-cusparse-cu12-12.5.1.3\n",
            "  Attempting uninstall: nvidia-cudnn-cu12\n",
            "    Found existing installation: nvidia-cudnn-cu12 9.3.0.75\n",
            "    Uninstalling nvidia-cudnn-cu12-9.3.0.75:\n",
            "      Successfully uninstalled nvidia-cudnn-cu12-9.3.0.75\n",
            "  Attempting uninstall: nvidia-cusolver-cu12\n",
            "    Found existing installation: nvidia-cusolver-cu12 11.6.3.83\n",
            "    Uninstalling nvidia-cusolver-cu12-11.6.3.83:\n",
            "      Successfully uninstalled nvidia-cusolver-cu12-11.6.3.83\n",
            "Successfully installed jedi-0.19.2 nvidia-cublas-cu12-12.4.5.8 nvidia-cuda-cupti-cu12-12.4.127 nvidia-cuda-nvrtc-cu12-12.4.127 nvidia-cuda-runtime-cu12-12.4.127 nvidia-cudnn-cu12-9.1.0.70 nvidia-cufft-cu12-11.2.1.3 nvidia-curand-cu12-10.3.5.147 nvidia-cusolver-cu12-11.6.1.9 nvidia-cusparse-cu12-12.3.1.170 nvidia-nvjitlink-cu12-12.4.127 ultralytics-8.3.73 ultralytics-thop-2.0.14\n"
          ]
        }
      ],
      "source": [
        "!pip install ultralytics opencv-python pillow matplotlib torch ipython\n"
      ]
    },
    {
      "cell_type": "markdown",
      "metadata": {
        "id": "ueAZEqMLU8cL"
      },
      "source": [
        "--> Import required Libraries"
      ]
    },
    {
      "cell_type": "code",
      "execution_count": null,
      "metadata": {
        "colab": {
          "base_uri": "https://localhost:8080/"
        },
        "id": "6umShicjTKPS",
        "outputId": "5b4534d1-f020-420f-f160-ec73676f77b4"
      },
      "outputs": [
        {
          "name": "stdout",
          "output_type": "stream",
          "text": [
            "Ultralytics 8.3.73 🚀 Python-3.11.11 torch-2.5.1+cu124 CUDA:0 (Tesla T4, 15095MiB)\n",
            "Setup complete ✅ (2 CPUs, 12.7 GB RAM, 33.2/112.6 GB disk)\n"
          ]
        }
      ],
      "source": [
        "import ultralytics\n",
        "from ultralytics import YOLO\n",
        "import cv2\n",
        "from PIL import Image\n",
        "from IPython.display import Video\n",
        "import matplotlib.pyplot as plt\n",
        "from IPython.display import display\n",
        "import torch\n",
        "ultralytics.checks()"
      ]
    },
    {
      "cell_type": "markdown",
      "metadata": {
        "id": "VF4izkT7d4ig"
      },
      "source": [
        "--> unzip vehicle dataset"
      ]
    },
    {
      "cell_type": "code",
      "execution_count": null,
      "metadata": {
        "id": "Bl2LL4opdzD2"
      },
      "outputs": [],
      "source": [
        "import zipfile\n",
        "\n",
        "# Replace 'your_directory.zip' with the actual file name of your ZIP file\n",
        "zip_file_path = \"/content/data.zip\"\n",
        "\n",
        "# Extract the contents of the zip file to a target directory\n",
        "with zipfile.ZipFile(zip_file_path, 'r') as zip_ref:\n",
        "    zip_ref.extractall(\"/content/data/\")  # Path where you want the files to be extracted\n"
      ]
    },
    {
      "cell_type": "code",
      "execution_count": null,
      "metadata": {
        "colab": {
          "base_uri": "https://localhost:8080/"
        },
        "id": "tr6ipuCnTCK6",
        "outputId": "80ea4559-e1eb-4091-a4df-c111a88d5900"
      },
      "outputs": [
        {
          "name": "stdout",
          "output_type": "stream",
          "text": [
            "Downloading https://github.com/ultralytics/assets/releases/download/v8.3.0/yolov9s.pt to 'yolov9s.pt'...\n"
          ]
        },
        {
          "name": "stderr",
          "output_type": "stream",
          "text": [
            "100%|██████████| 14.7M/14.7M [00:00<00:00, 54.1MB/s]\n"
          ]
        }
      ],
      "source": [
        "model = YOLO(\"yolov8s.pt\")"
      ]
    },
    {
      "cell_type": "markdown",
      "metadata": {
        "id": "w6yLoz1qFDc8"
      },
      "source": [
        "***PRETRAINED YOLO MODEL TRAINED ON VEHICLE DATASET Which contain CAR, Auto, Bus, Truck, Tractor, Bikes Images and Labels ***"
      ]
    },
    {
      "cell_type": "code",
      "execution_count": null,
      "metadata": {
        "colab": {
          "base_uri": "https://localhost:8080/"
        },
        "id": "xTtMykN_e_ah",
        "outputId": "8c86e979-451e-4e53-8c4b-4da34b7cb38e"
      },
      "outputs": [
        {
          "name": "stdout",
          "output_type": "stream",
          "text": [
            "Ultralytics 8.3.73 🚀 Python-3.11.11 torch-2.5.1+cu124 CUDA:0 (Tesla T4, 15095MiB)\n",
            "\u001b[34m\u001b[1mengine/trainer: \u001b[0mtask=detect, mode=train, model=yolov9s.pt, data=/content/data/data/data.yaml, epochs=100, time=None, patience=100, batch=16, imgsz=1024, save=True, save_period=-1, cache=False, device=0, workers=8, project=None, name=train3, exist_ok=False, pretrained=True, optimizer=auto, verbose=True, seed=0, deterministic=True, single_cls=False, rect=False, cos_lr=False, close_mosaic=10, resume=False, amp=True, fraction=1.0, profile=False, freeze=None, multi_scale=False, overlap_mask=True, mask_ratio=4, dropout=0.0, val=True, split=val, save_json=False, save_hybrid=False, conf=None, iou=0.7, max_det=300, half=False, dnn=False, plots=True, source=None, vid_stride=1, stream_buffer=False, visualize=False, augment=False, agnostic_nms=False, classes=None, retina_masks=False, embed=None, show=False, save_frames=False, save_txt=False, save_conf=False, save_crop=False, show_labels=True, show_conf=True, show_boxes=True, line_width=None, format=torchscript, keras=False, optimize=False, int8=False, dynamic=False, simplify=True, opset=None, workspace=None, nms=False, lr0=0.01, lrf=0.01, momentum=0.937, weight_decay=0.0005, warmup_epochs=3.0, warmup_momentum=0.8, warmup_bias_lr=0.1, box=7.5, cls=0.5, dfl=1.5, pose=12.0, kobj=1.0, nbs=64, hsv_h=0.015, hsv_s=0.7, hsv_v=0.4, degrees=0.0, translate=0.1, scale=0.5, shear=0.0, perspective=0.0, flipud=0.0, fliplr=0.5, bgr=0.0, mosaic=1.0, mixup=0.0, copy_paste=0.0, copy_paste_mode=flip, auto_augment=randaugment, erasing=0.4, crop_fraction=1.0, cfg=None, tracker=botsort.yaml, save_dir=runs/detect/train3\n",
            "Downloading https://ultralytics.com/assets/Arial.ttf to '/root/.config/Ultralytics/Arial.ttf'...\n"
          ]
        },
        {
          "name": "stderr",
          "output_type": "stream",
          "text": [
            "100%|██████████| 755k/755k [00:00<00:00, 135MB/s]\n"
          ]
        },
        {
          "name": "stdout",
          "output_type": "stream",
          "text": [
            "Overriding model.yaml nc=80 with nc=7\n",
            "\n",
            "                   from  n    params  module                                       arguments                     \n",
            "  0                  -1  1       928  ultralytics.nn.modules.conv.Conv             [3, 32, 3, 2]                 \n",
            "  1                  -1  1     18560  ultralytics.nn.modules.conv.Conv             [32, 64, 3, 2]                \n",
            "  2                  -1  1     31104  ultralytics.nn.modules.block.ELAN1           [64, 64, 64, 32]              \n",
            "  3                  -1  1     73984  ultralytics.nn.modules.block.AConv           [64, 128]                     \n",
            "  4                  -1  1    258432  ultralytics.nn.modules.block.RepNCSPELAN4    [128, 128, 128, 64, 3]        \n",
            "  5                  -1  1    221568  ultralytics.nn.modules.block.AConv           [128, 192]                    \n",
            "  6                  -1  1    579648  ultralytics.nn.modules.block.RepNCSPELAN4    [192, 192, 192, 96, 3]        \n",
            "  7                  -1  1    442880  ultralytics.nn.modules.block.AConv           [192, 256]                    \n",
            "  8                  -1  1   1028864  ultralytics.nn.modules.block.RepNCSPELAN4    [256, 256, 256, 128, 3]       \n",
            "  9                  -1  1    164608  ultralytics.nn.modules.block.SPPELAN         [256, 256, 128]               \n",
            " 10                  -1  1         0  torch.nn.modules.upsampling.Upsample         [None, 2, 'nearest']          \n",
            " 11             [-1, 6]  1         0  ultralytics.nn.modules.conv.Concat           [1]                           \n",
            " 12                  -1  1    628800  ultralytics.nn.modules.block.RepNCSPELAN4    [448, 192, 192, 96, 3]        \n",
            " 13                  -1  1         0  torch.nn.modules.upsampling.Upsample         [None, 2, 'nearest']          \n",
            " 14             [-1, 4]  1         0  ultralytics.nn.modules.conv.Concat           [1]                           \n",
            " 15                  -1  1    283008  ultralytics.nn.modules.block.RepNCSPELAN4    [320, 128, 128, 64, 3]        \n",
            " 16                  -1  1    110784  ultralytics.nn.modules.block.AConv           [128, 96]                     \n",
            " 17            [-1, 12]  1         0  ultralytics.nn.modules.conv.Concat           [1]                           \n",
            " 18                  -1  1    598080  ultralytics.nn.modules.block.RepNCSPELAN4    [288, 192, 192, 96, 3]        \n",
            " 19                  -1  1    221440  ultralytics.nn.modules.block.AConv           [192, 128]                    \n",
            " 20             [-1, 9]  1         0  ultralytics.nn.modules.conv.Concat           [1]                           \n",
            " 21                  -1  1   1061632  ultralytics.nn.modules.block.RepNCSPELAN4    [384, 256, 256, 128, 3]       \n",
            " 22        [15, 18, 21]  1   1565797  ultralytics.nn.modules.head.Detect           [7, [128, 192, 256]]          \n",
            "YOLOv9s summary: 917 layers, 7,290,117 parameters, 7,290,101 gradients, 27.4 GFLOPs\n",
            "\n",
            "Transferred 1333/1339 items from pretrained weights\n",
            "\u001b[34m\u001b[1mTensorBoard: \u001b[0mStart with 'tensorboard --logdir runs/detect/train3', view at http://localhost:6006/\n",
            "Freezing layer 'model.22.dfl.conv.weight'\n",
            "\u001b[34m\u001b[1mAMP: \u001b[0mrunning Automatic Mixed Precision (AMP) checks...\n",
            "Downloading https://github.com/ultralytics/assets/releases/download/v8.3.0/yolo11n.pt to 'yolo11n.pt'...\n"
          ]
        },
        {
          "name": "stderr",
          "output_type": "stream",
          "text": [
            "100%|██████████| 5.35M/5.35M [00:00<00:00, 354MB/s]\n"
          ]
        },
        {
          "name": "stdout",
          "output_type": "stream",
          "text": [
            "\u001b[34m\u001b[1mAMP: \u001b[0mchecks passed ✅\n"
          ]
        },
        {
          "name": "stderr",
          "output_type": "stream",
          "text": [
            "\u001b[34m\u001b[1mtrain: \u001b[0mScanning /content/data/data/train/labels... 305 images, 13 backgrounds, 0 corrupt: 100%|██████████| 318/318 [00:00<00:00, 627.95it/s]"
          ]
        },
        {
          "name": "stdout",
          "output_type": "stream",
          "text": [
            "\u001b[34m\u001b[1mtrain: \u001b[0mWARNING ⚠️ /content/data/data/train/images/20210602T_12_46_43_000_ni89GhC73POtfgv4i07JwfT2INu2_T_3000_4000.jpg: corrupt JPEG restored and saved\n",
            "\u001b[34m\u001b[1mtrain: \u001b[0mNew cache created: /content/data/data/train/labels.cache\n"
          ]
        },
        {
          "name": "stderr",
          "output_type": "stream",
          "text": [
            "\n"
          ]
        },
        {
          "name": "stdout",
          "output_type": "stream",
          "text": [
            "\u001b[34m\u001b[1malbumentations: \u001b[0mBlur(p=0.01, blur_limit=(3, 7)), MedianBlur(p=0.01, blur_limit=(3, 7)), ToGray(p=0.01, num_output_channels=3, method='weighted_average'), CLAHE(p=0.01, clip_limit=(1.0, 4.0), tile_grid_size=(8, 8))\n"
          ]
        },
        {
          "name": "stderr",
          "output_type": "stream",
          "text": [
            "\u001b[34m\u001b[1mval: \u001b[0mScanning /content/data/data/valid/labels... 11 images, 0 backgrounds, 0 corrupt: 100%|██████████| 11/11 [00:00<00:00, 1219.08it/s]"
          ]
        },
        {
          "name": "stdout",
          "output_type": "stream",
          "text": [
            "\u001b[34m\u001b[1mval: \u001b[0mNew cache created: /content/data/data/valid/labels.cache\n"
          ]
        },
        {
          "name": "stderr",
          "output_type": "stream",
          "text": [
            "\n"
          ]
        },
        {
          "name": "stdout",
          "output_type": "stream",
          "text": [
            "Plotting labels to runs/detect/train3/labels.jpg... \n",
            "\u001b[34m\u001b[1moptimizer:\u001b[0m 'optimizer=auto' found, ignoring 'lr0=0.01' and 'momentum=0.937' and determining best 'optimizer', 'lr0' and 'momentum' automatically... \n",
            "\u001b[34m\u001b[1moptimizer:\u001b[0m AdamW(lr=0.000909, momentum=0.9) with parameter groups 221 weight(decay=0.0), 228 weight(decay=0.0005), 227 bias(decay=0.0)\n",
            "\u001b[34m\u001b[1mTensorBoard: \u001b[0mmodel graph visualization added ✅\n",
            "Image sizes 1024 train, 1024 val\n",
            "Using 2 dataloader workers\n",
            "Logging results to \u001b[1mruns/detect/train3\u001b[0m\n",
            "Starting training for 100 epochs...\n",
            "\n",
            "      Epoch    GPU_mem   box_loss   cls_loss   dfl_loss  Instances       Size\n"
          ]
        },
        {
          "name": "stderr",
          "output_type": "stream",
          "text": [
            "      1/100      12.7G        1.5      6.734      1.708         20       1024: 100%|██████████| 20/20 [00:21<00:00,  1.07s/it]\n",
            "                 Class     Images  Instances      Box(P          R      mAP50  mAP50-95): 100%|██████████| 1/1 [00:01<00:00,  1.83s/it]"
          ]
        },
        {
          "name": "stdout",
          "output_type": "stream",
          "text": [
            "                   all         11         33      0.882      0.138      0.222      0.167\n"
          ]
        },
        {
          "name": "stderr",
          "output_type": "stream",
          "text": [
            "\n"
          ]
        },
        {
          "name": "stdout",
          "output_type": "stream",
          "text": [
            "\n",
            "      Epoch    GPU_mem   box_loss   cls_loss   dfl_loss  Instances       Size\n"
          ]
        },
        {
          "name": "stderr",
          "output_type": "stream",
          "text": [
            "      2/100      12.6G      1.451      3.101      1.545         30       1024: 100%|██████████| 20/20 [00:20<00:00,  1.01s/it]\n",
            "                 Class     Images  Instances      Box(P          R      mAP50  mAP50-95): 100%|██████████| 1/1 [00:00<00:00,  2.20it/s]"
          ]
        },
        {
          "name": "stdout",
          "output_type": "stream",
          "text": [
            "                   all         11         33      0.981        0.1      0.145     0.0998\n"
          ]
        },
        {
          "name": "stderr",
          "output_type": "stream",
          "text": [
            "\n"
          ]
        },
        {
          "name": "stdout",
          "output_type": "stream",
          "text": [
            "\n",
            "      Epoch    GPU_mem   box_loss   cls_loss   dfl_loss  Instances       Size\n"
          ]
        },
        {
          "name": "stderr",
          "output_type": "stream",
          "text": [
            "      3/100      12.6G      1.485      2.528      1.594         18       1024: 100%|██████████| 20/20 [00:19<00:00,  1.04it/s]\n",
            "                 Class     Images  Instances      Box(P          R      mAP50  mAP50-95): 100%|██████████| 1/1 [00:00<00:00,  1.63it/s]"
          ]
        },
        {
          "name": "stdout",
          "output_type": "stream",
          "text": [
            "                   all         11         33      0.894        0.1      0.162     0.0868\n"
          ]
        },
        {
          "name": "stderr",
          "output_type": "stream",
          "text": [
            "\n"
          ]
        },
        {
          "name": "stdout",
          "output_type": "stream",
          "text": [
            "\n",
            "      Epoch    GPU_mem   box_loss   cls_loss   dfl_loss  Instances       Size\n"
          ]
        },
        {
          "name": "stderr",
          "output_type": "stream",
          "text": [
            "      4/100      12.6G      1.475      2.205      1.623         21       1024: 100%|██████████| 20/20 [00:19<00:00,  1.05it/s]\n",
            "                 Class     Images  Instances      Box(P          R      mAP50  mAP50-95): 100%|██████████| 1/1 [00:00<00:00,  2.92it/s]"
          ]
        },
        {
          "name": "stdout",
          "output_type": "stream",
          "text": [
            "                   all         11         33      0.658      0.396      0.433      0.302\n"
          ]
        },
        {
          "name": "stderr",
          "output_type": "stream",
          "text": [
            "\n"
          ]
        },
        {
          "name": "stdout",
          "output_type": "stream",
          "text": [
            "\n",
            "      Epoch    GPU_mem   box_loss   cls_loss   dfl_loss  Instances       Size\n"
          ]
        },
        {
          "name": "stderr",
          "output_type": "stream",
          "text": [
            "      5/100      12.6G      1.531      2.063      1.627         25       1024: 100%|██████████| 20/20 [00:19<00:00,  1.04it/s]\n",
            "                 Class     Images  Instances      Box(P          R      mAP50  mAP50-95): 100%|██████████| 1/1 [00:00<00:00,  1.93it/s]"
          ]
        },
        {
          "name": "stdout",
          "output_type": "stream",
          "text": [
            "                   all         11         33      0.667      0.377      0.389      0.205\n"
          ]
        },
        {
          "name": "stderr",
          "output_type": "stream",
          "text": [
            "\n"
          ]
        },
        {
          "name": "stdout",
          "output_type": "stream",
          "text": [
            "\n",
            "      Epoch    GPU_mem   box_loss   cls_loss   dfl_loss  Instances       Size\n"
          ]
        },
        {
          "name": "stderr",
          "output_type": "stream",
          "text": [
            "      6/100      12.6G      1.572      1.875      1.606         23       1024: 100%|██████████| 20/20 [00:19<00:00,  1.05it/s]\n",
            "                 Class     Images  Instances      Box(P          R      mAP50  mAP50-95): 100%|██████████| 1/1 [00:00<00:00,  2.61it/s]"
          ]
        },
        {
          "name": "stdout",
          "output_type": "stream",
          "text": [
            "                   all         11         33      0.195      0.769      0.482      0.211\n"
          ]
        },
        {
          "name": "stderr",
          "output_type": "stream",
          "text": [
            "\n"
          ]
        },
        {
          "name": "stdout",
          "output_type": "stream",
          "text": [
            "\n",
            "      Epoch    GPU_mem   box_loss   cls_loss   dfl_loss  Instances       Size\n"
          ]
        },
        {
          "name": "stderr",
          "output_type": "stream",
          "text": [
            "      7/100      12.6G       1.59       1.72      1.694         19       1024: 100%|██████████| 20/20 [00:20<00:00,  1.01s/it]\n",
            "                 Class     Images  Instances      Box(P          R      mAP50  mAP50-95): 100%|██████████| 1/1 [00:00<00:00,  2.80it/s]"
          ]
        },
        {
          "name": "stdout",
          "output_type": "stream",
          "text": [
            "                   all         11         33      0.613      0.454      0.341      0.172\n"
          ]
        },
        {
          "name": "stderr",
          "output_type": "stream",
          "text": [
            "\n"
          ]
        },
        {
          "name": "stdout",
          "output_type": "stream",
          "text": [
            "\n",
            "      Epoch    GPU_mem   box_loss   cls_loss   dfl_loss  Instances       Size\n"
          ]
        },
        {
          "name": "stderr",
          "output_type": "stream",
          "text": [
            "      8/100      12.6G      1.559      1.725      1.673         30       1024: 100%|██████████| 20/20 [00:18<00:00,  1.06it/s]\n",
            "                 Class     Images  Instances      Box(P          R      mAP50  mAP50-95): 100%|██████████| 1/1 [00:00<00:00,  2.30it/s]"
          ]
        },
        {
          "name": "stdout",
          "output_type": "stream",
          "text": [
            "                   all         11         33      0.977        0.1      0.144      0.091\n"
          ]
        },
        {
          "name": "stderr",
          "output_type": "stream",
          "text": [
            "\n"
          ]
        },
        {
          "name": "stdout",
          "output_type": "stream",
          "text": [
            "\n",
            "      Epoch    GPU_mem   box_loss   cls_loss   dfl_loss  Instances       Size\n"
          ]
        },
        {
          "name": "stderr",
          "output_type": "stream",
          "text": [
            "      9/100      12.9G      1.584      1.589      1.671         26       1024: 100%|██████████| 20/20 [00:19<00:00,  1.04it/s]\n",
            "                 Class     Images  Instances      Box(P          R      mAP50  mAP50-95): 100%|██████████| 1/1 [00:00<00:00,  1.73it/s]"
          ]
        },
        {
          "name": "stdout",
          "output_type": "stream",
          "text": [
            "                   all         11         33      0.951      0.141      0.305      0.137\n"
          ]
        },
        {
          "name": "stderr",
          "output_type": "stream",
          "text": [
            "\n"
          ]
        },
        {
          "name": "stdout",
          "output_type": "stream",
          "text": [
            "\n",
            "      Epoch    GPU_mem   box_loss   cls_loss   dfl_loss  Instances       Size\n"
          ]
        },
        {
          "name": "stderr",
          "output_type": "stream",
          "text": [
            "     10/100      12.6G       1.54      1.555      1.611         36       1024: 100%|██████████| 20/20 [00:18<00:00,  1.06it/s]\n",
            "                 Class     Images  Instances      Box(P          R      mAP50  mAP50-95): 100%|██████████| 1/1 [00:00<00:00,  2.56it/s]"
          ]
        },
        {
          "name": "stdout",
          "output_type": "stream",
          "text": [
            "                   all         11         33      0.725      0.354      0.265      0.119\n"
          ]
        },
        {
          "name": "stderr",
          "output_type": "stream",
          "text": [
            "\n"
          ]
        },
        {
          "name": "stdout",
          "output_type": "stream",
          "text": [
            "\n",
            "      Epoch    GPU_mem   box_loss   cls_loss   dfl_loss  Instances       Size\n"
          ]
        },
        {
          "name": "stderr",
          "output_type": "stream",
          "text": [
            "     11/100      12.6G       1.51      1.599      1.599         27       1024: 100%|██████████| 20/20 [00:19<00:00,  1.01it/s]\n",
            "                 Class     Images  Instances      Box(P          R      mAP50  mAP50-95): 100%|██████████| 1/1 [00:00<00:00,  3.66it/s]"
          ]
        },
        {
          "name": "stdout",
          "output_type": "stream",
          "text": [
            "                   all         11         33      0.492      0.338      0.193     0.0901\n"
          ]
        },
        {
          "name": "stderr",
          "output_type": "stream",
          "text": [
            "\n"
          ]
        },
        {
          "name": "stdout",
          "output_type": "stream",
          "text": [
            "\n",
            "      Epoch    GPU_mem   box_loss   cls_loss   dfl_loss  Instances       Size\n"
          ]
        },
        {
          "name": "stderr",
          "output_type": "stream",
          "text": [
            "     12/100      12.6G      1.507      1.415        1.6         19       1024: 100%|██████████| 20/20 [00:19<00:00,  1.04it/s]\n",
            "                 Class     Images  Instances      Box(P          R      mAP50  mAP50-95): 100%|██████████| 1/1 [00:00<00:00,  2.83it/s]"
          ]
        },
        {
          "name": "stdout",
          "output_type": "stream",
          "text": [
            "                   all         11         33      0.888      0.169      0.123     0.0646\n"
          ]
        },
        {
          "name": "stderr",
          "output_type": "stream",
          "text": [
            "\n"
          ]
        },
        {
          "name": "stdout",
          "output_type": "stream",
          "text": [
            "\n",
            "      Epoch    GPU_mem   box_loss   cls_loss   dfl_loss  Instances       Size\n"
          ]
        },
        {
          "name": "stderr",
          "output_type": "stream",
          "text": [
            "     13/100      12.6G      1.513      1.522      1.611         24       1024: 100%|██████████| 20/20 [00:22<00:00,  1.14s/it]\n",
            "                 Class     Images  Instances      Box(P          R      mAP50  mAP50-95): 100%|██████████| 1/1 [00:00<00:00,  3.00it/s]"
          ]
        },
        {
          "name": "stdout",
          "output_type": "stream",
          "text": [
            "                   all         11         33      0.981      0.115      0.264      0.116\n"
          ]
        },
        {
          "name": "stderr",
          "output_type": "stream",
          "text": [
            "\n"
          ]
        },
        {
          "name": "stdout",
          "output_type": "stream",
          "text": [
            "\n",
            "      Epoch    GPU_mem   box_loss   cls_loss   dfl_loss  Instances       Size\n"
          ]
        },
        {
          "name": "stderr",
          "output_type": "stream",
          "text": [
            "     14/100      12.6G      1.507      1.367      1.553         30       1024: 100%|██████████| 20/20 [00:19<00:00,  1.01it/s]\n",
            "                 Class     Images  Instances      Box(P          R      mAP50  mAP50-95): 100%|██████████| 1/1 [00:00<00:00,  2.97it/s]"
          ]
        },
        {
          "name": "stdout",
          "output_type": "stream",
          "text": [
            "                   all         11         33      0.134      0.185      0.257       0.12\n"
          ]
        },
        {
          "name": "stderr",
          "output_type": "stream",
          "text": [
            "\n"
          ]
        },
        {
          "name": "stdout",
          "output_type": "stream",
          "text": [
            "\n",
            "      Epoch    GPU_mem   box_loss   cls_loss   dfl_loss  Instances       Size\n"
          ]
        },
        {
          "name": "stderr",
          "output_type": "stream",
          "text": [
            "     15/100      12.6G      1.541      1.445      1.611         20       1024: 100%|██████████| 20/20 [00:19<00:00,  1.04it/s]\n",
            "                 Class     Images  Instances      Box(P          R      mAP50  mAP50-95): 100%|██████████| 1/1 [00:00<00:00,  2.67it/s]"
          ]
        },
        {
          "name": "stdout",
          "output_type": "stream",
          "text": [
            "                   all         11         33      0.819      0.356      0.359      0.157\n"
          ]
        },
        {
          "name": "stderr",
          "output_type": "stream",
          "text": [
            "\n"
          ]
        },
        {
          "name": "stdout",
          "output_type": "stream",
          "text": [
            "\n",
            "      Epoch    GPU_mem   box_loss   cls_loss   dfl_loss  Instances       Size\n"
          ]
        },
        {
          "name": "stderr",
          "output_type": "stream",
          "text": [
            "     16/100      12.6G      1.442      1.337      1.533         39       1024: 100%|██████████| 20/20 [00:19<00:00,  1.04it/s]\n",
            "                 Class     Images  Instances      Box(P          R      mAP50  mAP50-95): 100%|██████████| 1/1 [00:00<00:00,  2.06it/s]"
          ]
        },
        {
          "name": "stdout",
          "output_type": "stream",
          "text": [
            "                   all         11         33      0.648      0.416        0.3      0.167\n"
          ]
        },
        {
          "name": "stderr",
          "output_type": "stream",
          "text": [
            "\n"
          ]
        },
        {
          "name": "stdout",
          "output_type": "stream",
          "text": [
            "\n",
            "      Epoch    GPU_mem   box_loss   cls_loss   dfl_loss  Instances       Size\n"
          ]
        },
        {
          "name": "stderr",
          "output_type": "stream",
          "text": [
            "     17/100      12.6G       1.44      1.363      1.575         40       1024: 100%|██████████| 20/20 [00:18<00:00,  1.06it/s]\n",
            "                 Class     Images  Instances      Box(P          R      mAP50  mAP50-95): 100%|██████████| 1/1 [00:00<00:00,  2.94it/s]"
          ]
        },
        {
          "name": "stdout",
          "output_type": "stream",
          "text": [
            "                   all         11         33      0.723      0.136      0.332      0.171\n"
          ]
        },
        {
          "name": "stderr",
          "output_type": "stream",
          "text": [
            "\n"
          ]
        },
        {
          "name": "stdout",
          "output_type": "stream",
          "text": [
            "\n",
            "      Epoch    GPU_mem   box_loss   cls_loss   dfl_loss  Instances       Size\n"
          ]
        },
        {
          "name": "stderr",
          "output_type": "stream",
          "text": [
            "     18/100      12.6G       1.47      1.254      1.572         33       1024: 100%|██████████| 20/20 [00:19<00:00,  1.02it/s]\n",
            "                 Class     Images  Instances      Box(P          R      mAP50  mAP50-95): 100%|██████████| 1/1 [00:00<00:00,  3.00it/s]"
          ]
        },
        {
          "name": "stdout",
          "output_type": "stream",
          "text": [
            "                   all         11         33      0.471      0.446      0.526       0.33\n"
          ]
        },
        {
          "name": "stderr",
          "output_type": "stream",
          "text": [
            "\n"
          ]
        },
        {
          "name": "stdout",
          "output_type": "stream",
          "text": [
            "\n",
            "      Epoch    GPU_mem   box_loss   cls_loss   dfl_loss  Instances       Size\n"
          ]
        },
        {
          "name": "stderr",
          "output_type": "stream",
          "text": [
            "     19/100      12.6G      1.381      1.242      1.511         23       1024: 100%|██████████| 20/20 [00:19<00:00,  1.04it/s]\n",
            "                 Class     Images  Instances      Box(P          R      mAP50  mAP50-95): 100%|██████████| 1/1 [00:00<00:00,  2.15it/s]"
          ]
        },
        {
          "name": "stdout",
          "output_type": "stream",
          "text": [
            "                   all         11         33      0.263      0.669      0.356      0.198\n"
          ]
        },
        {
          "name": "stderr",
          "output_type": "stream",
          "text": [
            "\n"
          ]
        },
        {
          "name": "stdout",
          "output_type": "stream",
          "text": [
            "\n",
            "      Epoch    GPU_mem   box_loss   cls_loss   dfl_loss  Instances       Size\n"
          ]
        },
        {
          "name": "stderr",
          "output_type": "stream",
          "text": [
            "     20/100      12.6G      1.397      1.261      1.533         23       1024: 100%|██████████| 20/20 [00:19<00:00,  1.05it/s]\n",
            "                 Class     Images  Instances      Box(P          R      mAP50  mAP50-95): 100%|██████████| 1/1 [00:00<00:00,  1.80it/s]"
          ]
        },
        {
          "name": "stdout",
          "output_type": "stream",
          "text": [
            "                   all         11         33      0.609      0.546      0.454      0.247\n"
          ]
        },
        {
          "name": "stderr",
          "output_type": "stream",
          "text": [
            "\n"
          ]
        },
        {
          "name": "stdout",
          "output_type": "stream",
          "text": [
            "\n",
            "      Epoch    GPU_mem   box_loss   cls_loss   dfl_loss  Instances       Size\n"
          ]
        },
        {
          "name": "stderr",
          "output_type": "stream",
          "text": [
            "     21/100      12.6G      1.441      1.354      1.573         16       1024: 100%|██████████| 20/20 [00:18<00:00,  1.06it/s]\n",
            "                 Class     Images  Instances      Box(P          R      mAP50  mAP50-95): 100%|██████████| 1/1 [00:00<00:00,  3.09it/s]"
          ]
        },
        {
          "name": "stdout",
          "output_type": "stream",
          "text": [
            "                   all         11         33      0.329       0.47      0.393      0.224\n"
          ]
        },
        {
          "name": "stderr",
          "output_type": "stream",
          "text": [
            "\n"
          ]
        },
        {
          "name": "stdout",
          "output_type": "stream",
          "text": [
            "\n",
            "      Epoch    GPU_mem   box_loss   cls_loss   dfl_loss  Instances       Size\n"
          ]
        },
        {
          "name": "stderr",
          "output_type": "stream",
          "text": [
            "     22/100      12.6G      1.372      1.205      1.486         54       1024: 100%|██████████| 20/20 [00:22<00:00,  1.13s/it]\n",
            "                 Class     Images  Instances      Box(P          R      mAP50  mAP50-95): 100%|██████████| 1/1 [00:00<00:00,  1.79it/s]"
          ]
        },
        {
          "name": "stdout",
          "output_type": "stream",
          "text": [
            "                   all         11         33      0.509      0.437      0.417      0.259\n"
          ]
        },
        {
          "name": "stderr",
          "output_type": "stream",
          "text": [
            "\n"
          ]
        },
        {
          "name": "stdout",
          "output_type": "stream",
          "text": [
            "\n",
            "      Epoch    GPU_mem   box_loss   cls_loss   dfl_loss  Instances       Size\n"
          ]
        },
        {
          "name": "stderr",
          "output_type": "stream",
          "text": [
            "     23/100      12.6G      1.304      1.208      1.451         28       1024: 100%|██████████| 20/20 [00:18<00:00,  1.06it/s]\n",
            "                 Class     Images  Instances      Box(P          R      mAP50  mAP50-95): 100%|██████████| 1/1 [00:00<00:00,  2.72it/s]"
          ]
        },
        {
          "name": "stdout",
          "output_type": "stream",
          "text": [
            "                   all         11         33        0.5      0.394      0.527      0.324\n"
          ]
        },
        {
          "name": "stderr",
          "output_type": "stream",
          "text": [
            "\n"
          ]
        },
        {
          "name": "stdout",
          "output_type": "stream",
          "text": [
            "\n",
            "      Epoch    GPU_mem   box_loss   cls_loss   dfl_loss  Instances       Size\n"
          ]
        },
        {
          "name": "stderr",
          "output_type": "stream",
          "text": [
            "     24/100      12.5G      1.303      1.184      1.465         31       1024: 100%|██████████| 20/20 [00:18<00:00,  1.06it/s]\n",
            "                 Class     Images  Instances      Box(P          R      mAP50  mAP50-95): 100%|██████████| 1/1 [00:00<00:00,  2.84it/s]"
          ]
        },
        {
          "name": "stdout",
          "output_type": "stream",
          "text": [
            "                   all         11         33      0.288      0.757      0.755      0.429\n"
          ]
        },
        {
          "name": "stderr",
          "output_type": "stream",
          "text": [
            "\n"
          ]
        },
        {
          "name": "stdout",
          "output_type": "stream",
          "text": [
            "\n",
            "      Epoch    GPU_mem   box_loss   cls_loss   dfl_loss  Instances       Size\n"
          ]
        },
        {
          "name": "stderr",
          "output_type": "stream",
          "text": [
            "     25/100      12.5G      1.307      1.076      1.447         31       1024: 100%|██████████| 20/20 [00:19<00:00,  1.05it/s]\n",
            "                 Class     Images  Instances      Box(P          R      mAP50  mAP50-95): 100%|██████████| 1/1 [00:00<00:00,  2.52it/s]"
          ]
        },
        {
          "name": "stdout",
          "output_type": "stream",
          "text": [
            "                   all         11         33      0.212      0.334      0.398      0.213\n"
          ]
        },
        {
          "name": "stderr",
          "output_type": "stream",
          "text": [
            "\n"
          ]
        },
        {
          "name": "stdout",
          "output_type": "stream",
          "text": [
            "\n",
            "      Epoch    GPU_mem   box_loss   cls_loss   dfl_loss  Instances       Size\n"
          ]
        },
        {
          "name": "stderr",
          "output_type": "stream",
          "text": [
            "     26/100      12.6G      1.314      1.119       1.43         28       1024: 100%|██████████| 20/20 [00:19<00:00,  1.02it/s]\n",
            "                 Class     Images  Instances      Box(P          R      mAP50  mAP50-95): 100%|██████████| 1/1 [00:00<00:00,  1.67it/s]"
          ]
        },
        {
          "name": "stdout",
          "output_type": "stream",
          "text": [
            "                   all         11         33      0.423      0.685      0.697       0.46\n"
          ]
        },
        {
          "name": "stderr",
          "output_type": "stream",
          "text": [
            "\n"
          ]
        },
        {
          "name": "stdout",
          "output_type": "stream",
          "text": [
            "\n",
            "      Epoch    GPU_mem   box_loss   cls_loss   dfl_loss  Instances       Size\n"
          ]
        },
        {
          "name": "stderr",
          "output_type": "stream",
          "text": [
            "     27/100      12.5G      1.309      1.149      1.454         25       1024: 100%|██████████| 20/20 [00:18<00:00,  1.06it/s]\n",
            "                 Class     Images  Instances      Box(P          R      mAP50  mAP50-95): 100%|██████████| 1/1 [00:00<00:00,  2.99it/s]"
          ]
        },
        {
          "name": "stdout",
          "output_type": "stream",
          "text": [
            "                   all         11         33      0.502      0.442      0.424      0.254\n"
          ]
        },
        {
          "name": "stderr",
          "output_type": "stream",
          "text": [
            "\n"
          ]
        },
        {
          "name": "stdout",
          "output_type": "stream",
          "text": [
            "\n",
            "      Epoch    GPU_mem   box_loss   cls_loss   dfl_loss  Instances       Size\n"
          ]
        },
        {
          "name": "stderr",
          "output_type": "stream",
          "text": [
            "     28/100      12.5G      1.273      1.004      1.429         31       1024: 100%|██████████| 20/20 [00:19<00:00,  1.05it/s]\n",
            "                 Class     Images  Instances      Box(P          R      mAP50  mAP50-95): 100%|██████████| 1/1 [00:00<00:00,  3.79it/s]"
          ]
        },
        {
          "name": "stdout",
          "output_type": "stream",
          "text": [
            "                   all         11         33      0.372      0.637      0.524       0.32\n"
          ]
        },
        {
          "name": "stderr",
          "output_type": "stream",
          "text": [
            "\n"
          ]
        },
        {
          "name": "stdout",
          "output_type": "stream",
          "text": [
            "\n",
            "      Epoch    GPU_mem   box_loss   cls_loss   dfl_loss  Instances       Size\n"
          ]
        },
        {
          "name": "stderr",
          "output_type": "stream",
          "text": [
            "     29/100      12.6G      1.305      1.067      1.448         27       1024: 100%|██████████| 20/20 [00:19<00:00,  1.03it/s]\n",
            "                 Class     Images  Instances      Box(P          R      mAP50  mAP50-95): 100%|██████████| 1/1 [00:00<00:00,  2.28it/s]"
          ]
        },
        {
          "name": "stdout",
          "output_type": "stream",
          "text": [
            "                   all         11         33       0.31      0.635      0.644      0.498\n"
          ]
        },
        {
          "name": "stderr",
          "output_type": "stream",
          "text": [
            "\n"
          ]
        },
        {
          "name": "stdout",
          "output_type": "stream",
          "text": [
            "\n",
            "      Epoch    GPU_mem   box_loss   cls_loss   dfl_loss  Instances       Size\n"
          ]
        },
        {
          "name": "stderr",
          "output_type": "stream",
          "text": [
            "     30/100      12.6G      1.244      1.122      1.449         25       1024: 100%|██████████| 20/20 [00:19<00:00,  1.04it/s]\n",
            "                 Class     Images  Instances      Box(P          R      mAP50  mAP50-95): 100%|██████████| 1/1 [00:00<00:00,  2.84it/s]"
          ]
        },
        {
          "name": "stdout",
          "output_type": "stream",
          "text": [
            "                   all         11         33      0.423      0.727      0.615      0.382\n"
          ]
        },
        {
          "name": "stderr",
          "output_type": "stream",
          "text": [
            "\n"
          ]
        },
        {
          "name": "stdout",
          "output_type": "stream",
          "text": [
            "\n",
            "      Epoch    GPU_mem   box_loss   cls_loss   dfl_loss  Instances       Size\n"
          ]
        },
        {
          "name": "stderr",
          "output_type": "stream",
          "text": [
            "     31/100      12.6G      1.309      1.135      1.465         29       1024: 100%|██████████| 20/20 [00:19<00:00,  1.01it/s]\n",
            "                 Class     Images  Instances      Box(P          R      mAP50  mAP50-95): 100%|██████████| 1/1 [00:00<00:00,  2.24it/s]"
          ]
        },
        {
          "name": "stdout",
          "output_type": "stream",
          "text": [
            "                   all         11         33      0.792      0.457      0.577      0.342\n"
          ]
        },
        {
          "name": "stderr",
          "output_type": "stream",
          "text": [
            "\n"
          ]
        },
        {
          "name": "stdout",
          "output_type": "stream",
          "text": [
            "\n",
            "      Epoch    GPU_mem   box_loss   cls_loss   dfl_loss  Instances       Size\n"
          ]
        },
        {
          "name": "stderr",
          "output_type": "stream",
          "text": [
            "     32/100      12.6G      1.287      1.058       1.45         28       1024: 100%|██████████| 20/20 [00:19<00:00,  1.04it/s]\n",
            "                 Class     Images  Instances      Box(P          R      mAP50  mAP50-95): 100%|██████████| 1/1 [00:00<00:00,  1.71it/s]"
          ]
        },
        {
          "name": "stdout",
          "output_type": "stream",
          "text": [
            "                   all         11         33      0.854      0.523      0.643      0.363\n"
          ]
        },
        {
          "name": "stderr",
          "output_type": "stream",
          "text": [
            "\n"
          ]
        },
        {
          "name": "stdout",
          "output_type": "stream",
          "text": [
            "\n",
            "      Epoch    GPU_mem   box_loss   cls_loss   dfl_loss  Instances       Size\n"
          ]
        },
        {
          "name": "stderr",
          "output_type": "stream",
          "text": [
            "     33/100      12.6G      1.296      1.039      1.445         27       1024: 100%|██████████| 20/20 [00:19<00:00,  1.05it/s]\n",
            "                 Class     Images  Instances      Box(P          R      mAP50  mAP50-95): 100%|██████████| 1/1 [00:00<00:00,  2.39it/s]"
          ]
        },
        {
          "name": "stdout",
          "output_type": "stream",
          "text": [
            "                   all         11         33      0.597      0.569      0.578      0.437\n"
          ]
        },
        {
          "name": "stderr",
          "output_type": "stream",
          "text": [
            "\n"
          ]
        },
        {
          "name": "stdout",
          "output_type": "stream",
          "text": [
            "\n",
            "      Epoch    GPU_mem   box_loss   cls_loss   dfl_loss  Instances       Size\n"
          ]
        },
        {
          "name": "stderr",
          "output_type": "stream",
          "text": [
            "     34/100      12.6G      1.185      1.045      1.407         40       1024: 100%|██████████| 20/20 [00:19<00:00,  1.02it/s]\n",
            "                 Class     Images  Instances      Box(P          R      mAP50  mAP50-95): 100%|██████████| 1/1 [00:00<00:00,  3.73it/s]"
          ]
        },
        {
          "name": "stdout",
          "output_type": "stream",
          "text": [
            "                   all         11         33      0.793      0.457      0.577      0.447\n"
          ]
        },
        {
          "name": "stderr",
          "output_type": "stream",
          "text": [
            "\n"
          ]
        },
        {
          "name": "stdout",
          "output_type": "stream",
          "text": [
            "\n",
            "      Epoch    GPU_mem   box_loss   cls_loss   dfl_loss  Instances       Size\n"
          ]
        },
        {
          "name": "stderr",
          "output_type": "stream",
          "text": [
            "     35/100      12.5G      1.193      0.973      1.356         34       1024: 100%|██████████| 20/20 [00:19<00:00,  1.02it/s]\n",
            "                 Class     Images  Instances      Box(P          R      mAP50  mAP50-95): 100%|██████████| 1/1 [00:00<00:00,  3.05it/s]"
          ]
        },
        {
          "name": "stdout",
          "output_type": "stream",
          "text": [
            "                   all         11         33      0.836      0.369      0.393      0.223\n"
          ]
        },
        {
          "name": "stderr",
          "output_type": "stream",
          "text": [
            "\n"
          ]
        },
        {
          "name": "stdout",
          "output_type": "stream",
          "text": [
            "\n",
            "      Epoch    GPU_mem   box_loss   cls_loss   dfl_loss  Instances       Size\n"
          ]
        },
        {
          "name": "stderr",
          "output_type": "stream",
          "text": [
            "     36/100      12.5G      1.205     0.9921      1.431         31       1024: 100%|██████████| 20/20 [00:18<00:00,  1.05it/s]\n",
            "                 Class     Images  Instances      Box(P          R      mAP50  mAP50-95): 100%|██████████| 1/1 [00:00<00:00,  1.50it/s]"
          ]
        },
        {
          "name": "stdout",
          "output_type": "stream",
          "text": [
            "                   all         11         33      0.713      0.658      0.606      0.418\n"
          ]
        },
        {
          "name": "stderr",
          "output_type": "stream",
          "text": [
            "\n"
          ]
        },
        {
          "name": "stdout",
          "output_type": "stream",
          "text": [
            "\n",
            "      Epoch    GPU_mem   box_loss   cls_loss   dfl_loss  Instances       Size\n"
          ]
        },
        {
          "name": "stderr",
          "output_type": "stream",
          "text": [
            "     37/100      12.6G      1.234      1.018      1.391         25       1024: 100%|██████████| 20/20 [00:19<00:00,  1.04it/s]\n",
            "                 Class     Images  Instances      Box(P          R      mAP50  mAP50-95): 100%|██████████| 1/1 [00:00<00:00,  2.86it/s]"
          ]
        },
        {
          "name": "stdout",
          "output_type": "stream",
          "text": [
            "                   all         11         33      0.564      0.613      0.547      0.349\n"
          ]
        },
        {
          "name": "stderr",
          "output_type": "stream",
          "text": [
            "\n"
          ]
        },
        {
          "name": "stdout",
          "output_type": "stream",
          "text": [
            "\n",
            "      Epoch    GPU_mem   box_loss   cls_loss   dfl_loss  Instances       Size\n"
          ]
        },
        {
          "name": "stderr",
          "output_type": "stream",
          "text": [
            "     38/100      12.6G       1.21      1.017      1.401         29       1024: 100%|██████████| 20/20 [00:20<00:00,  1.01s/it]\n",
            "                 Class     Images  Instances      Box(P          R      mAP50  mAP50-95): 100%|██████████| 1/1 [00:00<00:00,  2.59it/s]"
          ]
        },
        {
          "name": "stdout",
          "output_type": "stream",
          "text": [
            "                   all         11         33      0.506      0.939      0.716       0.46\n"
          ]
        },
        {
          "name": "stderr",
          "output_type": "stream",
          "text": [
            "\n"
          ]
        },
        {
          "name": "stdout",
          "output_type": "stream",
          "text": [
            "\n",
            "      Epoch    GPU_mem   box_loss   cls_loss   dfl_loss  Instances       Size\n"
          ]
        },
        {
          "name": "stderr",
          "output_type": "stream",
          "text": [
            "     39/100      12.6G      1.165     0.9264      1.362         29       1024: 100%|██████████| 20/20 [00:19<00:00,  1.02it/s]\n",
            "                 Class     Images  Instances      Box(P          R      mAP50  mAP50-95): 100%|██████████| 1/1 [00:00<00:00,  2.26it/s]"
          ]
        },
        {
          "name": "stdout",
          "output_type": "stream",
          "text": [
            "                   all         11         33      0.797      0.738       0.92      0.512\n"
          ]
        },
        {
          "name": "stderr",
          "output_type": "stream",
          "text": [
            "\n"
          ]
        },
        {
          "name": "stdout",
          "output_type": "stream",
          "text": [
            "\n",
            "      Epoch    GPU_mem   box_loss   cls_loss   dfl_loss  Instances       Size\n"
          ]
        },
        {
          "name": "stderr",
          "output_type": "stream",
          "text": [
            "     40/100      12.6G      1.173     0.9369      1.373         24       1024: 100%|██████████| 20/20 [00:19<00:00,  1.03it/s]\n",
            "                 Class     Images  Instances      Box(P          R      mAP50  mAP50-95): 100%|██████████| 1/1 [00:00<00:00,  2.83it/s]"
          ]
        },
        {
          "name": "stdout",
          "output_type": "stream",
          "text": [
            "                   all         11         33      0.681      0.562      0.747      0.418\n"
          ]
        },
        {
          "name": "stderr",
          "output_type": "stream",
          "text": [
            "\n"
          ]
        },
        {
          "name": "stdout",
          "output_type": "stream",
          "text": [
            "\n",
            "      Epoch    GPU_mem   box_loss   cls_loss   dfl_loss  Instances       Size\n"
          ]
        },
        {
          "name": "stderr",
          "output_type": "stream",
          "text": [
            "     41/100      12.6G      1.178     0.9282      1.341         15       1024: 100%|██████████| 20/20 [00:20<00:00,  1.04s/it]\n",
            "                 Class     Images  Instances      Box(P          R      mAP50  mAP50-95): 100%|██████████| 1/1 [00:00<00:00,  2.97it/s]"
          ]
        },
        {
          "name": "stdout",
          "output_type": "stream",
          "text": [
            "                   all         11         33      0.221      0.285      0.368      0.249\n"
          ]
        },
        {
          "name": "stderr",
          "output_type": "stream",
          "text": [
            "\n"
          ]
        },
        {
          "name": "stdout",
          "output_type": "stream",
          "text": [
            "\n",
            "      Epoch    GPU_mem   box_loss   cls_loss   dfl_loss  Instances       Size\n"
          ]
        },
        {
          "name": "stderr",
          "output_type": "stream",
          "text": [
            "     42/100      12.6G      1.128     0.8638      1.333         26       1024: 100%|██████████| 20/20 [00:19<00:00,  1.03it/s]\n",
            "                 Class     Images  Instances      Box(P          R      mAP50  mAP50-95): 100%|██████████| 1/1 [00:00<00:00,  1.83it/s]"
          ]
        },
        {
          "name": "stdout",
          "output_type": "stream",
          "text": [
            "                   all         11         33      0.563      0.679      0.571      0.328\n"
          ]
        },
        {
          "name": "stderr",
          "output_type": "stream",
          "text": [
            "\n"
          ]
        },
        {
          "name": "stdout",
          "output_type": "stream",
          "text": [
            "\n",
            "      Epoch    GPU_mem   box_loss   cls_loss   dfl_loss  Instances       Size\n"
          ]
        },
        {
          "name": "stderr",
          "output_type": "stream",
          "text": [
            "     43/100      12.6G      1.195     0.9383      1.355         25       1024: 100%|██████████| 20/20 [00:20<00:00,  1.00s/it]\n",
            "                 Class     Images  Instances      Box(P          R      mAP50  mAP50-95): 100%|██████████| 1/1 [00:00<00:00,  2.74it/s]"
          ]
        },
        {
          "name": "stdout",
          "output_type": "stream",
          "text": [
            "                   all         11         33      0.711      0.675      0.686      0.369\n"
          ]
        },
        {
          "name": "stderr",
          "output_type": "stream",
          "text": [
            "\n"
          ]
        },
        {
          "name": "stdout",
          "output_type": "stream",
          "text": [
            "\n",
            "      Epoch    GPU_mem   box_loss   cls_loss   dfl_loss  Instances       Size\n"
          ]
        },
        {
          "name": "stderr",
          "output_type": "stream",
          "text": [
            "     44/100      12.6G       1.13     0.9213      1.343         21       1024: 100%|██████████| 20/20 [00:20<00:00,  1.02s/it]\n",
            "                 Class     Images  Instances      Box(P          R      mAP50  mAP50-95): 100%|██████████| 1/1 [00:00<00:00,  2.29it/s]"
          ]
        },
        {
          "name": "stdout",
          "output_type": "stream",
          "text": [
            "                   all         11         33      0.806       0.47      0.665      0.371\n"
          ]
        },
        {
          "name": "stderr",
          "output_type": "stream",
          "text": [
            "\n"
          ]
        },
        {
          "name": "stdout",
          "output_type": "stream",
          "text": [
            "\n",
            "      Epoch    GPU_mem   box_loss   cls_loss   dfl_loss  Instances       Size\n"
          ]
        },
        {
          "name": "stderr",
          "output_type": "stream",
          "text": [
            "     45/100      12.6G      1.096      0.916      1.309         19       1024: 100%|██████████| 20/20 [00:19<00:00,  1.01it/s]\n",
            "                 Class     Images  Instances      Box(P          R      mAP50  mAP50-95): 100%|██████████| 1/1 [00:00<00:00,  2.69it/s]"
          ]
        },
        {
          "name": "stdout",
          "output_type": "stream",
          "text": [
            "                   all         11         33      0.582      0.835      0.879      0.567\n"
          ]
        },
        {
          "name": "stderr",
          "output_type": "stream",
          "text": [
            "\n"
          ]
        },
        {
          "name": "stdout",
          "output_type": "stream",
          "text": [
            "\n",
            "      Epoch    GPU_mem   box_loss   cls_loss   dfl_loss  Instances       Size\n"
          ]
        },
        {
          "name": "stderr",
          "output_type": "stream",
          "text": [
            "     46/100      12.5G      1.152     0.8752      1.338         30       1024: 100%|██████████| 20/20 [00:19<00:00,  1.03it/s]\n",
            "                 Class     Images  Instances      Box(P          R      mAP50  mAP50-95): 100%|██████████| 1/1 [00:00<00:00,  1.65it/s]"
          ]
        },
        {
          "name": "stdout",
          "output_type": "stream",
          "text": [
            "                   all         11         33      0.703      0.402      0.462      0.286\n"
          ]
        },
        {
          "name": "stderr",
          "output_type": "stream",
          "text": [
            "\n"
          ]
        },
        {
          "name": "stdout",
          "output_type": "stream",
          "text": [
            "\n",
            "      Epoch    GPU_mem   box_loss   cls_loss   dfl_loss  Instances       Size\n"
          ]
        },
        {
          "name": "stderr",
          "output_type": "stream",
          "text": [
            "     47/100      12.6G      1.076     0.8227      1.299         32       1024: 100%|██████████| 20/20 [00:19<00:00,  1.04it/s]\n",
            "                 Class     Images  Instances      Box(P          R      mAP50  mAP50-95): 100%|██████████| 1/1 [00:00<00:00,  2.89it/s]"
          ]
        },
        {
          "name": "stdout",
          "output_type": "stream",
          "text": [
            "                   all         11         33      0.768      0.616      0.643      0.467\n"
          ]
        },
        {
          "name": "stderr",
          "output_type": "stream",
          "text": [
            "\n"
          ]
        },
        {
          "name": "stdout",
          "output_type": "stream",
          "text": [
            "\n",
            "      Epoch    GPU_mem   box_loss   cls_loss   dfl_loss  Instances       Size\n"
          ]
        },
        {
          "name": "stderr",
          "output_type": "stream",
          "text": [
            "     48/100      12.6G      1.067     0.8138      1.269         29       1024: 100%|██████████| 20/20 [00:19<00:00,  1.04it/s]\n",
            "                 Class     Images  Instances      Box(P          R      mAP50  mAP50-95): 100%|██████████| 1/1 [00:00<00:00,  3.22it/s]"
          ]
        },
        {
          "name": "stdout",
          "output_type": "stream",
          "text": [
            "                   all         11         33      0.698      0.691      0.721      0.457\n"
          ]
        },
        {
          "name": "stderr",
          "output_type": "stream",
          "text": [
            "\n"
          ]
        },
        {
          "name": "stdout",
          "output_type": "stream",
          "text": [
            "\n",
            "      Epoch    GPU_mem   box_loss   cls_loss   dfl_loss  Instances       Size\n"
          ]
        },
        {
          "name": "stderr",
          "output_type": "stream",
          "text": [
            "     49/100      12.6G       1.08     0.7804      1.307         21       1024: 100%|██████████| 20/20 [00:20<00:00,  1.01s/it]\n",
            "                 Class     Images  Instances      Box(P          R      mAP50  mAP50-95): 100%|██████████| 1/1 [00:00<00:00,  1.69it/s]"
          ]
        },
        {
          "name": "stdout",
          "output_type": "stream",
          "text": [
            "                   all         11         33      0.672      0.496      0.575      0.381\n"
          ]
        },
        {
          "name": "stderr",
          "output_type": "stream",
          "text": [
            "\n"
          ]
        },
        {
          "name": "stdout",
          "output_type": "stream",
          "text": [
            "\n",
            "      Epoch    GPU_mem   box_loss   cls_loss   dfl_loss  Instances       Size\n"
          ]
        },
        {
          "name": "stderr",
          "output_type": "stream",
          "text": [
            "     50/100      12.6G      1.077     0.7663      1.294         37       1024: 100%|██████████| 20/20 [00:22<00:00,  1.13s/it]\n",
            "                 Class     Images  Instances      Box(P          R      mAP50  mAP50-95): 100%|██████████| 1/1 [00:00<00:00,  2.66it/s]"
          ]
        },
        {
          "name": "stdout",
          "output_type": "stream",
          "text": [
            "                   all         11         33      0.447      0.675      0.598       0.43\n"
          ]
        },
        {
          "name": "stderr",
          "output_type": "stream",
          "text": [
            "\n"
          ]
        },
        {
          "name": "stdout",
          "output_type": "stream",
          "text": [
            "\n",
            "      Epoch    GPU_mem   box_loss   cls_loss   dfl_loss  Instances       Size\n"
          ]
        },
        {
          "name": "stderr",
          "output_type": "stream",
          "text": [
            "     51/100      12.5G      1.066     0.7236       1.25         30       1024: 100%|██████████| 20/20 [00:20<00:00,  1.00s/it]\n",
            "                 Class     Images  Instances      Box(P          R      mAP50  mAP50-95): 100%|██████████| 1/1 [00:00<00:00,  3.74it/s]"
          ]
        },
        {
          "name": "stdout",
          "output_type": "stream",
          "text": [
            "                   all         11         33      0.541      0.696      0.474        0.3\n"
          ]
        },
        {
          "name": "stderr",
          "output_type": "stream",
          "text": [
            "\n"
          ]
        },
        {
          "name": "stdout",
          "output_type": "stream",
          "text": [
            "\n",
            "      Epoch    GPU_mem   box_loss   cls_loss   dfl_loss  Instances       Size\n"
          ]
        },
        {
          "name": "stderr",
          "output_type": "stream",
          "text": [
            "     52/100      12.6G      1.105     0.7592      1.287         28       1024: 100%|██████████| 20/20 [00:20<00:00,  1.00s/it]\n",
            "                 Class     Images  Instances      Box(P          R      mAP50  mAP50-95): 100%|██████████| 1/1 [00:00<00:00,  2.14it/s]"
          ]
        },
        {
          "name": "stdout",
          "output_type": "stream",
          "text": [
            "                   all         11         33      0.788      0.588      0.788      0.494\n"
          ]
        },
        {
          "name": "stderr",
          "output_type": "stream",
          "text": [
            "\n"
          ]
        },
        {
          "name": "stdout",
          "output_type": "stream",
          "text": [
            "\n",
            "      Epoch    GPU_mem   box_loss   cls_loss   dfl_loss  Instances       Size\n"
          ]
        },
        {
          "name": "stderr",
          "output_type": "stream",
          "text": [
            "     53/100      12.5G     0.9964     0.6955      1.246         24       1024: 100%|██████████| 20/20 [00:19<00:00,  1.03it/s]\n",
            "                 Class     Images  Instances      Box(P          R      mAP50  mAP50-95): 100%|██████████| 1/1 [00:00<00:00,  1.74it/s]"
          ]
        },
        {
          "name": "stdout",
          "output_type": "stream",
          "text": [
            "                   all         11         33      0.543      0.923      0.927      0.609\n"
          ]
        },
        {
          "name": "stderr",
          "output_type": "stream",
          "text": [
            "\n"
          ]
        },
        {
          "name": "stdout",
          "output_type": "stream",
          "text": [
            "\n",
            "      Epoch    GPU_mem   box_loss   cls_loss   dfl_loss  Instances       Size\n"
          ]
        },
        {
          "name": "stderr",
          "output_type": "stream",
          "text": [
            "     54/100      12.6G      1.028      0.735      1.288         34       1024: 100%|██████████| 20/20 [00:19<00:00,  1.01it/s]\n",
            "                 Class     Images  Instances      Box(P          R      mAP50  mAP50-95): 100%|██████████| 1/1 [00:00<00:00,  3.54it/s]"
          ]
        },
        {
          "name": "stdout",
          "output_type": "stream",
          "text": [
            "                   all         11         33      0.797      0.677      0.909      0.602\n"
          ]
        },
        {
          "name": "stderr",
          "output_type": "stream",
          "text": [
            "\n"
          ]
        },
        {
          "name": "stdout",
          "output_type": "stream",
          "text": [
            "\n",
            "      Epoch    GPU_mem   box_loss   cls_loss   dfl_loss  Instances       Size\n"
          ]
        },
        {
          "name": "stderr",
          "output_type": "stream",
          "text": [
            "     55/100      12.6G      1.015     0.7096      1.255         25       1024: 100%|██████████| 20/20 [00:19<00:00,  1.05it/s]\n",
            "                 Class     Images  Instances      Box(P          R      mAP50  mAP50-95): 100%|██████████| 1/1 [00:00<00:00,  2.86it/s]"
          ]
        },
        {
          "name": "stdout",
          "output_type": "stream",
          "text": [
            "                   all         11         33      0.772      0.728      0.836      0.536\n"
          ]
        },
        {
          "name": "stderr",
          "output_type": "stream",
          "text": [
            "\n"
          ]
        },
        {
          "name": "stdout",
          "output_type": "stream",
          "text": [
            "\n",
            "      Epoch    GPU_mem   box_loss   cls_loss   dfl_loss  Instances       Size\n"
          ]
        },
        {
          "name": "stderr",
          "output_type": "stream",
          "text": [
            "     56/100      12.6G     0.9811      0.755      1.229         32       1024: 100%|██████████| 20/20 [00:20<00:00,  1.01s/it]\n",
            "                 Class     Images  Instances      Box(P          R      mAP50  mAP50-95): 100%|██████████| 1/1 [00:00<00:00,  1.95it/s]"
          ]
        },
        {
          "name": "stdout",
          "output_type": "stream",
          "text": [
            "                   all         11         33      0.769      0.491      0.638      0.479\n"
          ]
        },
        {
          "name": "stderr",
          "output_type": "stream",
          "text": [
            "\n"
          ]
        },
        {
          "name": "stdout",
          "output_type": "stream",
          "text": [
            "\n",
            "      Epoch    GPU_mem   box_loss   cls_loss   dfl_loss  Instances       Size\n"
          ]
        },
        {
          "name": "stderr",
          "output_type": "stream",
          "text": [
            "     57/100      12.5G      0.958     0.6967      1.207         30       1024: 100%|██████████| 20/20 [00:19<00:00,  1.03it/s]\n",
            "                 Class     Images  Instances      Box(P          R      mAP50  mAP50-95): 100%|██████████| 1/1 [00:00<00:00,  2.53it/s]"
          ]
        },
        {
          "name": "stdout",
          "output_type": "stream",
          "text": [
            "                   all         11         33      0.538      0.727      0.747      0.529\n"
          ]
        },
        {
          "name": "stderr",
          "output_type": "stream",
          "text": [
            "\n"
          ]
        },
        {
          "name": "stdout",
          "output_type": "stream",
          "text": [
            "\n",
            "      Epoch    GPU_mem   box_loss   cls_loss   dfl_loss  Instances       Size\n"
          ]
        },
        {
          "name": "stderr",
          "output_type": "stream",
          "text": [
            "     58/100      12.6G     0.9645     0.7233      1.255         28       1024: 100%|██████████| 20/20 [00:18<00:00,  1.06it/s]\n",
            "                 Class     Images  Instances      Box(P          R      mAP50  mAP50-95): 100%|██████████| 1/1 [00:00<00:00,  2.53it/s]"
          ]
        },
        {
          "name": "stdout",
          "output_type": "stream",
          "text": [
            "                   all         11         33      0.535      0.923       0.72      0.514\n"
          ]
        },
        {
          "name": "stderr",
          "output_type": "stream",
          "text": [
            "\n"
          ]
        },
        {
          "name": "stdout",
          "output_type": "stream",
          "text": [
            "\n",
            "      Epoch    GPU_mem   box_loss   cls_loss   dfl_loss  Instances       Size\n"
          ]
        },
        {
          "name": "stderr",
          "output_type": "stream",
          "text": [
            "     59/100      12.6G     0.9636     0.6746      1.207         33       1024: 100%|██████████| 20/20 [00:20<00:00,  1.04s/it]\n",
            "                 Class     Images  Instances      Box(P          R      mAP50  mAP50-95): 100%|██████████| 1/1 [00:00<00:00,  2.83it/s]"
          ]
        },
        {
          "name": "stdout",
          "output_type": "stream",
          "text": [
            "                   all         11         33      0.571      0.904      0.718      0.519\n"
          ]
        },
        {
          "name": "stderr",
          "output_type": "stream",
          "text": [
            "\n"
          ]
        },
        {
          "name": "stdout",
          "output_type": "stream",
          "text": [
            "\n",
            "      Epoch    GPU_mem   box_loss   cls_loss   dfl_loss  Instances       Size\n"
          ]
        },
        {
          "name": "stderr",
          "output_type": "stream",
          "text": [
            "     60/100      12.6G     0.9856      0.699       1.23         25       1024: 100%|██████████| 20/20 [00:19<00:00,  1.01it/s]\n",
            "                 Class     Images  Instances      Box(P          R      mAP50  mAP50-95): 100%|██████████| 1/1 [00:00<00:00,  2.72it/s]"
          ]
        },
        {
          "name": "stdout",
          "output_type": "stream",
          "text": [
            "                   all         11         33      0.512      0.935      0.816       0.62\n"
          ]
        },
        {
          "name": "stderr",
          "output_type": "stream",
          "text": [
            "\n"
          ]
        },
        {
          "name": "stdout",
          "output_type": "stream",
          "text": [
            "\n",
            "      Epoch    GPU_mem   box_loss   cls_loss   dfl_loss  Instances       Size\n"
          ]
        },
        {
          "name": "stderr",
          "output_type": "stream",
          "text": [
            "     61/100      12.6G     0.8799     0.6305      1.194         20       1024: 100%|██████████| 20/20 [00:19<00:00,  1.03it/s]\n",
            "                 Class     Images  Instances      Box(P          R      mAP50  mAP50-95): 100%|██████████| 1/1 [00:00<00:00,  2.83it/s]"
          ]
        },
        {
          "name": "stdout",
          "output_type": "stream",
          "text": [
            "                   all         11         33      0.557      0.941      0.915      0.648\n"
          ]
        },
        {
          "name": "stderr",
          "output_type": "stream",
          "text": [
            "\n"
          ]
        },
        {
          "name": "stdout",
          "output_type": "stream",
          "text": [
            "\n",
            "      Epoch    GPU_mem   box_loss   cls_loss   dfl_loss  Instances       Size\n"
          ]
        },
        {
          "name": "stderr",
          "output_type": "stream",
          "text": [
            "     62/100      12.6G     0.9294     0.6467      1.183         26       1024: 100%|██████████| 20/20 [00:19<00:00,  1.01it/s]\n",
            "                 Class     Images  Instances      Box(P          R      mAP50  mAP50-95): 100%|██████████| 1/1 [00:00<00:00,  3.22it/s]"
          ]
        },
        {
          "name": "stdout",
          "output_type": "stream",
          "text": [
            "                   all         11         33       0.59      0.882      0.809      0.643\n"
          ]
        },
        {
          "name": "stderr",
          "output_type": "stream",
          "text": [
            "\n"
          ]
        },
        {
          "name": "stdout",
          "output_type": "stream",
          "text": [
            "\n",
            "      Epoch    GPU_mem   box_loss   cls_loss   dfl_loss  Instances       Size\n"
          ]
        },
        {
          "name": "stderr",
          "output_type": "stream",
          "text": [
            "     63/100      12.5G     0.9107     0.6472      1.211         28       1024: 100%|██████████| 20/20 [00:19<00:00,  1.02it/s]\n",
            "                 Class     Images  Instances      Box(P          R      mAP50  mAP50-95): 100%|██████████| 1/1 [00:00<00:00,  1.88it/s]"
          ]
        },
        {
          "name": "stdout",
          "output_type": "stream",
          "text": [
            "                   all         11         33      0.596      0.927      0.811       0.62\n"
          ]
        },
        {
          "name": "stderr",
          "output_type": "stream",
          "text": [
            "\n"
          ]
        },
        {
          "name": "stdout",
          "output_type": "stream",
          "text": [
            "\n",
            "      Epoch    GPU_mem   box_loss   cls_loss   dfl_loss  Instances       Size\n"
          ]
        },
        {
          "name": "stderr",
          "output_type": "stream",
          "text": [
            "     64/100      12.5G     0.9081     0.6149      1.178         27       1024: 100%|██████████| 20/20 [00:19<00:00,  1.02it/s]\n",
            "                 Class     Images  Instances      Box(P          R      mAP50  mAP50-95): 100%|██████████| 1/1 [00:00<00:00,  2.92it/s]"
          ]
        },
        {
          "name": "stdout",
          "output_type": "stream",
          "text": [
            "                   all         11         33      0.594      0.835      0.726      0.481\n"
          ]
        },
        {
          "name": "stderr",
          "output_type": "stream",
          "text": [
            "\n"
          ]
        },
        {
          "name": "stdout",
          "output_type": "stream",
          "text": [
            "\n",
            "      Epoch    GPU_mem   box_loss   cls_loss   dfl_loss  Instances       Size\n"
          ]
        },
        {
          "name": "stderr",
          "output_type": "stream",
          "text": [
            "     65/100      12.5G     0.8809     0.6413       1.15         23       1024: 100%|██████████| 20/20 [00:19<00:00,  1.03it/s]\n",
            "                 Class     Images  Instances      Box(P          R      mAP50  mAP50-95): 100%|██████████| 1/1 [00:00<00:00,  3.05it/s]"
          ]
        },
        {
          "name": "stdout",
          "output_type": "stream",
          "text": [
            "                   all         11         33      0.701      0.912      0.916      0.589\n"
          ]
        },
        {
          "name": "stderr",
          "output_type": "stream",
          "text": [
            "\n"
          ]
        },
        {
          "name": "stdout",
          "output_type": "stream",
          "text": [
            "\n",
            "      Epoch    GPU_mem   box_loss   cls_loss   dfl_loss  Instances       Size\n"
          ]
        },
        {
          "name": "stderr",
          "output_type": "stream",
          "text": [
            "     66/100      12.5G     0.8686     0.6129      1.175         38       1024: 100%|██████████| 20/20 [00:19<00:00,  1.01it/s]\n",
            "                 Class     Images  Instances      Box(P          R      mAP50  mAP50-95): 100%|██████████| 1/1 [00:00<00:00,  3.16it/s]"
          ]
        },
        {
          "name": "stdout",
          "output_type": "stream",
          "text": [
            "                   all         11         33      0.592      0.909      0.885      0.693\n"
          ]
        },
        {
          "name": "stderr",
          "output_type": "stream",
          "text": [
            "\n"
          ]
        },
        {
          "name": "stdout",
          "output_type": "stream",
          "text": [
            "\n",
            "      Epoch    GPU_mem   box_loss   cls_loss   dfl_loss  Instances       Size\n"
          ]
        },
        {
          "name": "stderr",
          "output_type": "stream",
          "text": [
            "     67/100        13G     0.8237     0.6042      1.122         31       1024: 100%|██████████| 20/20 [00:19<00:00,  1.02it/s]\n",
            "                 Class     Images  Instances      Box(P          R      mAP50  mAP50-95): 100%|██████████| 1/1 [00:00<00:00,  1.37it/s]"
          ]
        },
        {
          "name": "stdout",
          "output_type": "stream",
          "text": [
            "                   all         11         33      0.621      0.901       0.89       0.59\n"
          ]
        },
        {
          "name": "stderr",
          "output_type": "stream",
          "text": [
            "\n"
          ]
        },
        {
          "name": "stdout",
          "output_type": "stream",
          "text": [
            "\n",
            "      Epoch    GPU_mem   box_loss   cls_loss   dfl_loss  Instances       Size\n"
          ]
        },
        {
          "name": "stderr",
          "output_type": "stream",
          "text": [
            "     68/100        13G     0.8517     0.6169      1.151         39       1024: 100%|██████████| 20/20 [00:20<00:00,  1.02s/it]\n",
            "                 Class     Images  Instances      Box(P          R      mAP50  mAP50-95): 100%|██████████| 1/1 [00:00<00:00,  3.07it/s]"
          ]
        },
        {
          "name": "stdout",
          "output_type": "stream",
          "text": [
            "                   all         11         33      0.564      0.912      0.801      0.588\n"
          ]
        },
        {
          "name": "stderr",
          "output_type": "stream",
          "text": [
            "\n"
          ]
        },
        {
          "name": "stdout",
          "output_type": "stream",
          "text": [
            "\n",
            "      Epoch    GPU_mem   box_loss   cls_loss   dfl_loss  Instances       Size\n"
          ]
        },
        {
          "name": "stderr",
          "output_type": "stream",
          "text": [
            "     69/100      12.6G     0.8721      0.586      1.131         18       1024: 100%|██████████| 20/20 [00:19<00:00,  1.02it/s]\n",
            "                 Class     Images  Instances      Box(P          R      mAP50  mAP50-95): 100%|██████████| 1/1 [00:00<00:00,  2.96it/s]"
          ]
        },
        {
          "name": "stdout",
          "output_type": "stream",
          "text": [
            "                   all         11         33      0.756      0.919      0.939      0.646\n"
          ]
        },
        {
          "name": "stderr",
          "output_type": "stream",
          "text": [
            "\n"
          ]
        },
        {
          "name": "stdout",
          "output_type": "stream",
          "text": [
            "\n",
            "      Epoch    GPU_mem   box_loss   cls_loss   dfl_loss  Instances       Size\n"
          ]
        },
        {
          "name": "stderr",
          "output_type": "stream",
          "text": [
            "     70/100      12.6G     0.8402     0.5874      1.132         23       1024: 100%|██████████| 20/20 [00:19<00:00,  1.03it/s]\n",
            "                 Class     Images  Instances      Box(P          R      mAP50  mAP50-95): 100%|██████████| 1/1 [00:00<00:00,  2.05it/s]"
          ]
        },
        {
          "name": "stdout",
          "output_type": "stream",
          "text": [
            "                   all         11         33      0.733      0.869      0.917      0.609\n"
          ]
        },
        {
          "name": "stderr",
          "output_type": "stream",
          "text": [
            "\n"
          ]
        },
        {
          "name": "stdout",
          "output_type": "stream",
          "text": [
            "\n",
            "      Epoch    GPU_mem   box_loss   cls_loss   dfl_loss  Instances       Size\n"
          ]
        },
        {
          "name": "stderr",
          "output_type": "stream",
          "text": [
            "     71/100      12.6G     0.8215     0.5662      1.113         43       1024: 100%|██████████| 20/20 [00:19<00:00,  1.04it/s]\n",
            "                 Class     Images  Instances      Box(P          R      mAP50  mAP50-95): 100%|██████████| 1/1 [00:00<00:00,  2.74it/s]"
          ]
        },
        {
          "name": "stdout",
          "output_type": "stream",
          "text": [
            "                   all         11         33      0.855      0.862      0.912      0.549\n"
          ]
        },
        {
          "name": "stderr",
          "output_type": "stream",
          "text": [
            "\n"
          ]
        },
        {
          "name": "stdout",
          "output_type": "stream",
          "text": [
            "\n",
            "      Epoch    GPU_mem   box_loss   cls_loss   dfl_loss  Instances       Size\n"
          ]
        },
        {
          "name": "stderr",
          "output_type": "stream",
          "text": [
            "     72/100      12.6G     0.8413     0.5577      1.124         23       1024: 100%|██████████| 20/20 [00:19<00:00,  1.03it/s]\n",
            "                 Class     Images  Instances      Box(P          R      mAP50  mAP50-95): 100%|██████████| 1/1 [00:00<00:00,  2.94it/s]"
          ]
        },
        {
          "name": "stdout",
          "output_type": "stream",
          "text": [
            "                   all         11         33      0.794      0.836      0.915      0.569\n"
          ]
        },
        {
          "name": "stderr",
          "output_type": "stream",
          "text": [
            "\n"
          ]
        },
        {
          "name": "stdout",
          "output_type": "stream",
          "text": [
            "\n",
            "      Epoch    GPU_mem   box_loss   cls_loss   dfl_loss  Instances       Size\n"
          ]
        },
        {
          "name": "stderr",
          "output_type": "stream",
          "text": [
            "     73/100      12.6G     0.7789     0.5547      1.085         37       1024: 100%|██████████| 20/20 [00:19<00:00,  1.04it/s]\n",
            "                 Class     Images  Instances      Box(P          R      mAP50  mAP50-95): 100%|██████████| 1/1 [00:00<00:00,  2.46it/s]"
          ]
        },
        {
          "name": "stdout",
          "output_type": "stream",
          "text": [
            "                   all         11         33      0.619      0.869      0.795      0.566\n"
          ]
        },
        {
          "name": "stderr",
          "output_type": "stream",
          "text": [
            "\n"
          ]
        },
        {
          "name": "stdout",
          "output_type": "stream",
          "text": [
            "\n",
            "      Epoch    GPU_mem   box_loss   cls_loss   dfl_loss  Instances       Size\n"
          ]
        },
        {
          "name": "stderr",
          "output_type": "stream",
          "text": [
            "     74/100      12.6G     0.7979     0.5464      1.092         36       1024: 100%|██████████| 20/20 [00:19<00:00,  1.02it/s]\n",
            "                 Class     Images  Instances      Box(P          R      mAP50  mAP50-95): 100%|██████████| 1/1 [00:00<00:00,  2.17it/s]"
          ]
        },
        {
          "name": "stdout",
          "output_type": "stream",
          "text": [
            "                   all         11         33      0.768      0.683      0.684      0.509\n"
          ]
        },
        {
          "name": "stderr",
          "output_type": "stream",
          "text": [
            "\n"
          ]
        },
        {
          "name": "stdout",
          "output_type": "stream",
          "text": [
            "\n",
            "      Epoch    GPU_mem   box_loss   cls_loss   dfl_loss  Instances       Size\n"
          ]
        },
        {
          "name": "stderr",
          "output_type": "stream",
          "text": [
            "     75/100      12.6G     0.7845     0.5634      1.082         21       1024: 100%|██████████| 20/20 [00:19<00:00,  1.04it/s]\n",
            "                 Class     Images  Instances      Box(P          R      mAP50  mAP50-95): 100%|██████████| 1/1 [00:00<00:00,  2.70it/s]"
          ]
        },
        {
          "name": "stdout",
          "output_type": "stream",
          "text": [
            "                   all         11         33      0.661      0.926      0.942      0.626\n"
          ]
        },
        {
          "name": "stderr",
          "output_type": "stream",
          "text": [
            "\n"
          ]
        },
        {
          "name": "stdout",
          "output_type": "stream",
          "text": [
            "\n",
            "      Epoch    GPU_mem   box_loss   cls_loss   dfl_loss  Instances       Size\n"
          ]
        },
        {
          "name": "stderr",
          "output_type": "stream",
          "text": [
            "     76/100      12.5G     0.8097     0.5205      1.111         36       1024: 100%|██████████| 20/20 [00:19<00:00,  1.03it/s]\n",
            "                 Class     Images  Instances      Box(P          R      mAP50  mAP50-95): 100%|██████████| 1/1 [00:00<00:00,  2.93it/s]"
          ]
        },
        {
          "name": "stdout",
          "output_type": "stream",
          "text": [
            "                   all         11         33      0.725      0.919      0.845      0.612\n"
          ]
        },
        {
          "name": "stderr",
          "output_type": "stream",
          "text": [
            "\n"
          ]
        },
        {
          "name": "stdout",
          "output_type": "stream",
          "text": [
            "\n",
            "      Epoch    GPU_mem   box_loss   cls_loss   dfl_loss  Instances       Size\n"
          ]
        },
        {
          "name": "stderr",
          "output_type": "stream",
          "text": [
            "     77/100      12.6G     0.7947     0.5532      1.109         27       1024: 100%|██████████| 20/20 [00:20<00:00,  1.02s/it]\n",
            "                 Class     Images  Instances      Box(P          R      mAP50  mAP50-95): 100%|██████████| 1/1 [00:00<00:00,  2.60it/s]"
          ]
        },
        {
          "name": "stdout",
          "output_type": "stream",
          "text": [
            "                   all         11         33      0.675      0.923      0.844      0.608\n"
          ]
        },
        {
          "name": "stderr",
          "output_type": "stream",
          "text": [
            "\n"
          ]
        },
        {
          "name": "stdout",
          "output_type": "stream",
          "text": [
            "\n",
            "      Epoch    GPU_mem   box_loss   cls_loss   dfl_loss  Instances       Size\n"
          ]
        },
        {
          "name": "stderr",
          "output_type": "stream",
          "text": [
            "     78/100      12.5G     0.7824      0.533      1.104         24       1024: 100%|██████████| 20/20 [00:19<00:00,  1.03it/s]\n",
            "                 Class     Images  Instances      Box(P          R      mAP50  mAP50-95): 100%|██████████| 1/1 [00:00<00:00,  1.47it/s]"
          ]
        },
        {
          "name": "stdout",
          "output_type": "stream",
          "text": [
            "                   all         11         33      0.659      0.926      0.848      0.615\n"
          ]
        },
        {
          "name": "stderr",
          "output_type": "stream",
          "text": [
            "\n"
          ]
        },
        {
          "name": "stdout",
          "output_type": "stream",
          "text": [
            "\n",
            "      Epoch    GPU_mem   box_loss   cls_loss   dfl_loss  Instances       Size\n"
          ]
        },
        {
          "name": "stderr",
          "output_type": "stream",
          "text": [
            "     79/100      12.6G     0.7417     0.5178      1.075         28       1024: 100%|██████████| 20/20 [00:19<00:00,  1.01it/s]\n",
            "                 Class     Images  Instances      Box(P          R      mAP50  mAP50-95): 100%|██████████| 1/1 [00:00<00:00,  3.17it/s]"
          ]
        },
        {
          "name": "stdout",
          "output_type": "stream",
          "text": [
            "                   all         11         33      0.625      0.914      0.814      0.599\n"
          ]
        },
        {
          "name": "stderr",
          "output_type": "stream",
          "text": [
            "\n"
          ]
        },
        {
          "name": "stdout",
          "output_type": "stream",
          "text": [
            "\n",
            "      Epoch    GPU_mem   box_loss   cls_loss   dfl_loss  Instances       Size\n"
          ]
        },
        {
          "name": "stderr",
          "output_type": "stream",
          "text": [
            "     80/100      12.6G     0.7392     0.5174      1.074         17       1024: 100%|██████████| 20/20 [00:18<00:00,  1.05it/s]\n",
            "                 Class     Images  Instances      Box(P          R      mAP50  mAP50-95): 100%|██████████| 1/1 [00:00<00:00,  3.27it/s]"
          ]
        },
        {
          "name": "stdout",
          "output_type": "stream",
          "text": [
            "                   all         11         33      0.675      0.674      0.793      0.572\n"
          ]
        },
        {
          "name": "stderr",
          "output_type": "stream",
          "text": [
            "\n"
          ]
        },
        {
          "name": "stdout",
          "output_type": "stream",
          "text": [
            "\n",
            "      Epoch    GPU_mem   box_loss   cls_loss   dfl_loss  Instances       Size\n"
          ]
        },
        {
          "name": "stderr",
          "output_type": "stream",
          "text": [
            "     81/100      12.5G     0.7617     0.5509      1.099         35       1024: 100%|██████████| 20/20 [00:19<00:00,  1.03it/s]\n",
            "                 Class     Images  Instances      Box(P          R      mAP50  mAP50-95): 100%|██████████| 1/1 [00:00<00:00,  2.24it/s]"
          ]
        },
        {
          "name": "stdout",
          "output_type": "stream",
          "text": [
            "                   all         11         33      0.938      0.636      0.785      0.577\n"
          ]
        },
        {
          "name": "stderr",
          "output_type": "stream",
          "text": [
            "\n"
          ]
        },
        {
          "name": "stdout",
          "output_type": "stream",
          "text": [
            "\n",
            "      Epoch    GPU_mem   box_loss   cls_loss   dfl_loss  Instances       Size\n"
          ]
        },
        {
          "name": "stderr",
          "output_type": "stream",
          "text": [
            "     82/100      12.5G     0.7187     0.5522      1.067         34       1024: 100%|██████████| 20/20 [00:19<00:00,  1.05it/s]\n",
            "                 Class     Images  Instances      Box(P          R      mAP50  mAP50-95): 100%|██████████| 1/1 [00:00<00:00,  2.82it/s]"
          ]
        },
        {
          "name": "stdout",
          "output_type": "stream",
          "text": [
            "                   all         11         33      0.873      0.634      0.764       0.57\n"
          ]
        },
        {
          "name": "stderr",
          "output_type": "stream",
          "text": [
            "\n"
          ]
        },
        {
          "name": "stdout",
          "output_type": "stream",
          "text": [
            "\n",
            "      Epoch    GPU_mem   box_loss   cls_loss   dfl_loss  Instances       Size\n"
          ]
        },
        {
          "name": "stderr",
          "output_type": "stream",
          "text": [
            "     83/100      12.6G     0.7291     0.5332      1.082         38       1024: 100%|██████████| 20/20 [00:19<00:00,  1.04it/s]\n",
            "                 Class     Images  Instances      Box(P          R      mAP50  mAP50-95): 100%|██████████| 1/1 [00:00<00:00,  2.93it/s]"
          ]
        },
        {
          "name": "stdout",
          "output_type": "stream",
          "text": [
            "                   all         11         33      0.774      0.905      0.836      0.591\n"
          ]
        },
        {
          "name": "stderr",
          "output_type": "stream",
          "text": [
            "\n"
          ]
        },
        {
          "name": "stdout",
          "output_type": "stream",
          "text": [
            "\n",
            "      Epoch    GPU_mem   box_loss   cls_loss   dfl_loss  Instances       Size\n"
          ]
        },
        {
          "name": "stderr",
          "output_type": "stream",
          "text": [
            "     84/100      12.5G     0.6887     0.4688      1.038         29       1024: 100%|██████████| 20/20 [00:19<00:00,  1.03it/s]\n",
            "                 Class     Images  Instances      Box(P          R      mAP50  mAP50-95): 100%|██████████| 1/1 [00:00<00:00,  2.87it/s]"
          ]
        },
        {
          "name": "stdout",
          "output_type": "stream",
          "text": [
            "                   all         11         33      0.795      0.865       0.84      0.594\n"
          ]
        },
        {
          "name": "stderr",
          "output_type": "stream",
          "text": [
            "\n"
          ]
        },
        {
          "name": "stdout",
          "output_type": "stream",
          "text": [
            "\n",
            "      Epoch    GPU_mem   box_loss   cls_loss   dfl_loss  Instances       Size\n"
          ]
        },
        {
          "name": "stderr",
          "output_type": "stream",
          "text": [
            "     85/100      12.5G     0.7288     0.4879      1.053         28       1024: 100%|██████████| 20/20 [00:19<00:00,  1.04it/s]\n",
            "                 Class     Images  Instances      Box(P          R      mAP50  mAP50-95): 100%|██████████| 1/1 [00:00<00:00,  1.76it/s]"
          ]
        },
        {
          "name": "stdout",
          "output_type": "stream",
          "text": [
            "                   all         11         33       0.77      0.918      0.906      0.596\n"
          ]
        },
        {
          "name": "stderr",
          "output_type": "stream",
          "text": [
            "\n"
          ]
        },
        {
          "name": "stdout",
          "output_type": "stream",
          "text": [
            "\n",
            "      Epoch    GPU_mem   box_loss   cls_loss   dfl_loss  Instances       Size\n"
          ]
        },
        {
          "name": "stderr",
          "output_type": "stream",
          "text": [
            "     86/100      12.6G     0.7209     0.4787      1.049         18       1024: 100%|██████████| 20/20 [00:19<00:00,  1.02it/s]\n",
            "                 Class     Images  Instances      Box(P          R      mAP50  mAP50-95): 100%|██████████| 1/1 [00:00<00:00,  3.15it/s]"
          ]
        },
        {
          "name": "stdout",
          "output_type": "stream",
          "text": [
            "                   all         11         33      0.868      0.704      0.776      0.554\n"
          ]
        },
        {
          "name": "stderr",
          "output_type": "stream",
          "text": [
            "\n"
          ]
        },
        {
          "name": "stdout",
          "output_type": "stream",
          "text": [
            "\n",
            "      Epoch    GPU_mem   box_loss   cls_loss   dfl_loss  Instances       Size\n"
          ]
        },
        {
          "name": "stderr",
          "output_type": "stream",
          "text": [
            "     87/100      12.6G     0.6818     0.4581      1.038         25       1024: 100%|██████████| 20/20 [00:19<00:00,  1.03it/s]\n",
            "                 Class     Images  Instances      Box(P          R      mAP50  mAP50-95): 100%|██████████| 1/1 [00:00<00:00,  3.14it/s]"
          ]
        },
        {
          "name": "stdout",
          "output_type": "stream",
          "text": [
            "                   all         11         33      0.888      0.684      0.772      0.553\n"
          ]
        },
        {
          "name": "stderr",
          "output_type": "stream",
          "text": [
            "\n"
          ]
        },
        {
          "name": "stdout",
          "output_type": "stream",
          "text": [
            "\n",
            "      Epoch    GPU_mem   box_loss   cls_loss   dfl_loss  Instances       Size\n"
          ]
        },
        {
          "name": "stderr",
          "output_type": "stream",
          "text": [
            "     88/100      12.5G     0.6498     0.4826      1.011         30       1024: 100%|██████████| 20/20 [00:19<00:00,  1.02it/s]\n",
            "                 Class     Images  Instances      Box(P          R      mAP50  mAP50-95): 100%|██████████| 1/1 [00:00<00:00,  2.61it/s]"
          ]
        },
        {
          "name": "stdout",
          "output_type": "stream",
          "text": [
            "                   all         11         33      0.968      0.667      0.781      0.543\n"
          ]
        },
        {
          "name": "stderr",
          "output_type": "stream",
          "text": [
            "\n"
          ]
        },
        {
          "name": "stdout",
          "output_type": "stream",
          "text": [
            "\n",
            "      Epoch    GPU_mem   box_loss   cls_loss   dfl_loss  Instances       Size\n"
          ]
        },
        {
          "name": "stderr",
          "output_type": "stream",
          "text": [
            "     89/100      12.6G     0.6658     0.4849      1.028         19       1024: 100%|██████████| 20/20 [00:19<00:00,  1.04it/s]\n",
            "                 Class     Images  Instances      Box(P          R      mAP50  mAP50-95): 100%|██████████| 1/1 [00:00<00:00,  2.88it/s]"
          ]
        },
        {
          "name": "stdout",
          "output_type": "stream",
          "text": [
            "                   all         11         33      0.659      0.688      0.784      0.576\n"
          ]
        },
        {
          "name": "stderr",
          "output_type": "stream",
          "text": [
            "\n"
          ]
        },
        {
          "name": "stdout",
          "output_type": "stream",
          "text": [
            "\n",
            "      Epoch    GPU_mem   box_loss   cls_loss   dfl_loss  Instances       Size\n"
          ]
        },
        {
          "name": "stderr",
          "output_type": "stream",
          "text": [
            "     90/100      12.6G     0.6967     0.4866      1.036         32       1024: 100%|██████████| 20/20 [00:20<00:00,  1.01s/it]\n",
            "                 Class     Images  Instances      Box(P          R      mAP50  mAP50-95): 100%|██████████| 1/1 [00:00<00:00,  3.05it/s]"
          ]
        },
        {
          "name": "stdout",
          "output_type": "stream",
          "text": [
            "                   all         11         33      0.591      0.919      0.782      0.577\n"
          ]
        },
        {
          "name": "stderr",
          "output_type": "stream",
          "text": [
            "\n"
          ]
        },
        {
          "name": "stdout",
          "output_type": "stream",
          "text": [
            "Closing dataloader mosaic\n",
            "\u001b[34m\u001b[1malbumentations: \u001b[0mBlur(p=0.01, blur_limit=(3, 7)), MedianBlur(p=0.01, blur_limit=(3, 7)), ToGray(p=0.01, num_output_channels=3, method='weighted_average'), CLAHE(p=0.01, clip_limit=(1.0, 4.0), tile_grid_size=(8, 8))\n",
            "\n",
            "      Epoch    GPU_mem   box_loss   cls_loss   dfl_loss  Instances       Size\n"
          ]
        },
        {
          "name": "stderr",
          "output_type": "stream",
          "text": [
            "     91/100      12.5G     0.6375     0.4188      1.004         14       1024: 100%|██████████| 20/20 [00:25<00:00,  1.27s/it]\n",
            "                 Class     Images  Instances      Box(P          R      mAP50  mAP50-95): 100%|██████████| 1/1 [00:00<00:00,  1.51it/s]"
          ]
        },
        {
          "name": "stdout",
          "output_type": "stream",
          "text": [
            "                   all         11         33      0.812       0.68       0.73      0.515\n"
          ]
        },
        {
          "name": "stderr",
          "output_type": "stream",
          "text": [
            "\n"
          ]
        },
        {
          "name": "stdout",
          "output_type": "stream",
          "text": [
            "\n",
            "      Epoch    GPU_mem   box_loss   cls_loss   dfl_loss  Instances       Size\n"
          ]
        },
        {
          "name": "stderr",
          "output_type": "stream",
          "text": [
            "     92/100      12.5G     0.6448     0.4134      1.014         12       1024: 100%|██████████| 20/20 [00:19<00:00,  1.02it/s]\n",
            "                 Class     Images  Instances      Box(P          R      mAP50  mAP50-95): 100%|██████████| 1/1 [00:00<00:00,  2.75it/s]"
          ]
        },
        {
          "name": "stdout",
          "output_type": "stream",
          "text": [
            "                   all         11         33      0.885      0.678      0.829      0.559\n"
          ]
        },
        {
          "name": "stderr",
          "output_type": "stream",
          "text": [
            "\n"
          ]
        },
        {
          "name": "stdout",
          "output_type": "stream",
          "text": [
            "\n",
            "      Epoch    GPU_mem   box_loss   cls_loss   dfl_loss  Instances       Size\n"
          ]
        },
        {
          "name": "stderr",
          "output_type": "stream",
          "text": [
            "     93/100      12.5G     0.6024     0.3738     0.9718         13       1024: 100%|██████████| 20/20 [00:18<00:00,  1.07it/s]\n",
            "                 Class     Images  Instances      Box(P          R      mAP50  mAP50-95): 100%|██████████| 1/1 [00:00<00:00,  3.74it/s]"
          ]
        },
        {
          "name": "stdout",
          "output_type": "stream",
          "text": [
            "                   all         11         33       0.86      0.704      0.933      0.664\n"
          ]
        },
        {
          "name": "stderr",
          "output_type": "stream",
          "text": [
            "\n"
          ]
        },
        {
          "name": "stdout",
          "output_type": "stream",
          "text": [
            "\n",
            "      Epoch    GPU_mem   box_loss   cls_loss   dfl_loss  Instances       Size\n"
          ]
        },
        {
          "name": "stderr",
          "output_type": "stream",
          "text": [
            "     94/100      12.9G     0.5896     0.3901     0.9818         14       1024: 100%|██████████| 20/20 [00:20<00:00,  1.03s/it]\n",
            "                 Class     Images  Instances      Box(P          R      mAP50  mAP50-95): 100%|██████████| 1/1 [00:00<00:00,  1.80it/s]"
          ]
        },
        {
          "name": "stdout",
          "output_type": "stream",
          "text": [
            "                   all         11         33      0.815       0.71      0.941      0.666\n"
          ]
        },
        {
          "name": "stderr",
          "output_type": "stream",
          "text": [
            "\n"
          ]
        },
        {
          "name": "stdout",
          "output_type": "stream",
          "text": [
            "\n",
            "      Epoch    GPU_mem   box_loss   cls_loss   dfl_loss  Instances       Size\n"
          ]
        },
        {
          "name": "stderr",
          "output_type": "stream",
          "text": [
            "     95/100      12.6G     0.6265     0.3975     0.9868         24       1024: 100%|██████████| 20/20 [00:19<00:00,  1.04it/s]\n",
            "                 Class     Images  Instances      Box(P          R      mAP50  mAP50-95): 100%|██████████| 1/1 [00:00<00:00,  1.72it/s]"
          ]
        },
        {
          "name": "stdout",
          "output_type": "stream",
          "text": [
            "                   all         11         33       0.82      0.711      0.942      0.642\n"
          ]
        },
        {
          "name": "stderr",
          "output_type": "stream",
          "text": [
            "\n"
          ]
        },
        {
          "name": "stdout",
          "output_type": "stream",
          "text": [
            "\n",
            "      Epoch    GPU_mem   box_loss   cls_loss   dfl_loss  Instances       Size\n"
          ]
        },
        {
          "name": "stderr",
          "output_type": "stream",
          "text": [
            "     96/100      12.6G     0.5623     0.3786     0.9626         17       1024: 100%|██████████| 20/20 [00:19<00:00,  1.04it/s]\n",
            "                 Class     Images  Instances      Box(P          R      mAP50  mAP50-95): 100%|██████████| 1/1 [00:00<00:00,  2.76it/s]"
          ]
        },
        {
          "name": "stdout",
          "output_type": "stream",
          "text": [
            "                   all         11         33      0.801      0.709      0.939      0.638\n"
          ]
        },
        {
          "name": "stderr",
          "output_type": "stream",
          "text": [
            "\n"
          ]
        },
        {
          "name": "stdout",
          "output_type": "stream",
          "text": [
            "\n",
            "      Epoch    GPU_mem   box_loss   cls_loss   dfl_loss  Instances       Size\n"
          ]
        },
        {
          "name": "stderr",
          "output_type": "stream",
          "text": [
            "     97/100      12.6G     0.5853     0.3794     0.9636         18       1024: 100%|██████████| 20/20 [00:18<00:00,  1.07it/s]\n",
            "                 Class     Images  Instances      Box(P          R      mAP50  mAP50-95): 100%|██████████| 1/1 [00:00<00:00,  3.64it/s]"
          ]
        },
        {
          "name": "stdout",
          "output_type": "stream",
          "text": [
            "                   all         11         33      0.705      0.727       0.94      0.636\n"
          ]
        },
        {
          "name": "stderr",
          "output_type": "stream",
          "text": [
            "\n"
          ]
        },
        {
          "name": "stdout",
          "output_type": "stream",
          "text": [
            "\n",
            "      Epoch    GPU_mem   box_loss   cls_loss   dfl_loss  Instances       Size\n"
          ]
        },
        {
          "name": "stderr",
          "output_type": "stream",
          "text": [
            "     98/100      12.5G     0.5897     0.3644     0.9711         14       1024: 100%|██████████| 20/20 [00:19<00:00,  1.03it/s]\n",
            "                 Class     Images  Instances      Box(P          R      mAP50  mAP50-95): 100%|██████████| 1/1 [00:00<00:00,  2.66it/s]"
          ]
        },
        {
          "name": "stdout",
          "output_type": "stream",
          "text": [
            "                   all         11         33      0.699      0.727      0.942      0.611\n"
          ]
        },
        {
          "name": "stderr",
          "output_type": "stream",
          "text": [
            "\n"
          ]
        },
        {
          "name": "stdout",
          "output_type": "stream",
          "text": [
            "\n",
            "      Epoch    GPU_mem   box_loss   cls_loss   dfl_loss  Instances       Size\n"
          ]
        },
        {
          "name": "stderr",
          "output_type": "stream",
          "text": [
            "     99/100      12.5G     0.5833     0.3769     0.9809         16       1024: 100%|██████████| 20/20 [00:19<00:00,  1.04it/s]\n",
            "                 Class     Images  Instances      Box(P          R      mAP50  mAP50-95): 100%|██████████| 1/1 [00:00<00:00,  2.54it/s]"
          ]
        },
        {
          "name": "stdout",
          "output_type": "stream",
          "text": [
            "                   all         11         33      0.685      0.927      0.841       0.59\n"
          ]
        },
        {
          "name": "stderr",
          "output_type": "stream",
          "text": [
            "\n"
          ]
        },
        {
          "name": "stdout",
          "output_type": "stream",
          "text": [
            "\n",
            "      Epoch    GPU_mem   box_loss   cls_loss   dfl_loss  Instances       Size\n"
          ]
        },
        {
          "name": "stderr",
          "output_type": "stream",
          "text": [
            "    100/100      12.6G     0.5679     0.3501     0.9554         18       1024: 100%|██████████| 20/20 [00:19<00:00,  1.05it/s]\n",
            "                 Class     Images  Instances      Box(P          R      mAP50  mAP50-95): 100%|██████████| 1/1 [00:00<00:00,  3.11it/s]"
          ]
        },
        {
          "name": "stdout",
          "output_type": "stream",
          "text": [
            "                   all         11         33      0.654      0.927      0.942      0.611\n"
          ]
        },
        {
          "name": "stderr",
          "output_type": "stream",
          "text": [
            "\n"
          ]
        },
        {
          "name": "stdout",
          "output_type": "stream",
          "text": [
            "\n",
            "100 epochs completed in 0.643 hours.\n",
            "Optimizer stripped from runs/detect/train3/weights/last.pt, 15.3MB\n",
            "Optimizer stripped from runs/detect/train3/weights/best.pt, 15.3MB\n",
            "\n",
            "Validating runs/detect/train3/weights/best.pt...\n",
            "Ultralytics 8.3.73 🚀 Python-3.11.11 torch-2.5.1+cu124 CUDA:0 (Tesla T4, 15095MiB)\n",
            "YOLOv9s summary (fused): 486 layers, 7,169,797 parameters, 0 gradients, 26.7 GFLOPs\n"
          ]
        },
        {
          "name": "stderr",
          "output_type": "stream",
          "text": [
            "                 Class     Images  Instances      Box(P          R      mAP50  mAP50-95): 100%|██████████| 1/1 [00:00<00:00,  4.05it/s]\n"
          ]
        },
        {
          "name": "stdout",
          "output_type": "stream",
          "text": [
            "                   all         11         33      0.592      0.909      0.885      0.693\n",
            "          number_plate         11         26      0.747      0.795      0.848      0.544\n",
            "                   car          1          1      0.526          1      0.995      0.796\n",
            "                  auto          1          1      0.298          1      0.995      0.895\n",
            "                   bus          1          1      0.807          1      0.995      0.796\n",
            "                 truck          4          4      0.582       0.75      0.592      0.436\n",
            "Speed: 0.5ms preprocess, 15.0ms inference, 0.0ms loss, 0.9ms postprocess per image\n",
            "Results saved to \u001b[1mruns/detect/train3\u001b[0m\n"
          ]
        }
      ],
      "source": [
        "from ultralytics import YOLO\n",
        "\n",
        "# Build a YOLOv9c model from pretrained weights and train\n",
        "#model = YOLO(\"/content/VNPR_SM/VNPR_SM/yolov8c.pt\")\n",
        "results = model.train(data=\"/content/data/data/data.yaml\", epochs=100, imgsz=1024, device =0)"
      ]
    },
    {
      "cell_type": "code",
      "execution_count": null,
      "metadata": {
        "colab": {
          "base_uri": "https://localhost:8080/",
          "height": 17
        },
        "id": "9-XThPnp-1Lc",
        "outputId": "ac81d9a5-7a37-42a7-8253-9c6bb022de34"
      },
      "outputs": [
        {
          "data": {
            "application/javascript": "\n    async function download(id, filename, size) {\n      if (!google.colab.kernel.accessAllowed) {\n        return;\n      }\n      const div = document.createElement('div');\n      const label = document.createElement('label');\n      label.textContent = `Downloading \"${filename}\": `;\n      div.appendChild(label);\n      const progress = document.createElement('progress');\n      progress.max = size;\n      div.appendChild(progress);\n      document.body.appendChild(div);\n\n      const buffers = [];\n      let downloaded = 0;\n\n      const channel = await google.colab.kernel.comms.open(id);\n      // Send a message to notify the kernel that we're ready.\n      channel.send({})\n\n      for await (const message of channel.messages) {\n        // Send a message to notify the kernel that we're ready.\n        channel.send({})\n        if (message.buffers) {\n          for (const buffer of message.buffers) {\n            buffers.push(buffer);\n            downloaded += buffer.byteLength;\n            progress.value = downloaded;\n          }\n        }\n      }\n      const blob = new Blob(buffers, {type: 'application/binary'});\n      const a = document.createElement('a');\n      a.href = window.URL.createObjectURL(blob);\n      a.download = filename;\n      div.appendChild(a);\n      a.click();\n      div.remove();\n    }\n  ",
            "text/plain": [
              "<IPython.core.display.Javascript object>"
            ]
          },
          "metadata": {},
          "output_type": "display_data"
        },
        {
          "data": {
            "application/javascript": "download(\"download_bdff08e7-b17f-4a97-8cba-a2d1a742b517\", \"last.pt\", 15320706)",
            "text/plain": [
              "<IPython.core.display.Javascript object>"
            ]
          },
          "metadata": {},
          "output_type": "display_data"
        }
      ],
      "source": [
        "# prompt: download best.pt from this path /content/runs/detect/train3/weights/best.pt\n",
        "\n",
        "from google.colab import files\n",
        "files.download(\"/content/runs/detect/train3/weights/last.pt\")\n"
      ]
    },
    {
      "cell_type": "code",
      "execution_count": null,
      "metadata": {
        "id": "xLAc8G1rh2Ke"
      },
      "outputs": [],
      "source": []
    },
    {
      "cell_type": "code",
      "execution_count": null,
      "metadata": {
        "colab": {
          "base_uri": "https://localhost:8080/",
          "height": 32878
        },
        "id": "Bee2rs24V1OG",
        "outputId": "2f8f280b-cfe3-496d-b4b9-b5455a2d86f8"
      },
      "outputs": [
        {
          "name": "stdout",
          "output_type": "stream",
          "text": [
            "\n",
            "0: 672x1024 1 number_plate, 64.3ms\n",
            "Speed: 5.7ms preprocess, 64.3ms inference, 1.6ms postprocess per image at shape (1, 3, 672, 1024)\n",
            "\n",
            "0: 672x1024 1 number_plate, 30.0ms\n",
            "Speed: 7.5ms preprocess, 30.0ms inference, 1.5ms postprocess per image at shape (1, 3, 672, 1024)\n",
            "\n",
            "0: 672x1024 1 number_plate, 30.0ms\n",
            "Speed: 7.1ms preprocess, 30.0ms inference, 5.6ms postprocess per image at shape (1, 3, 672, 1024)\n",
            "\n",
            "0: 672x1024 1 number_plate, 1 car, 27.6ms\n",
            "Speed: 5.1ms preprocess, 27.6ms inference, 1.7ms postprocess per image at shape (1, 3, 672, 1024)\n",
            "\n",
            "0: 672x1024 1 number_plate, 1 car, 26.7ms\n",
            "Speed: 6.7ms preprocess, 26.7ms inference, 1.5ms postprocess per image at shape (1, 3, 672, 1024)\n",
            "\n",
            "0: 672x1024 1 number_plate, 1 car, 26.4ms\n",
            "Speed: 7.2ms preprocess, 26.4ms inference, 1.4ms postprocess per image at shape (1, 3, 672, 1024)\n",
            "\n",
            "0: 672x1024 1 number_plate, 26.3ms\n",
            "Speed: 6.6ms preprocess, 26.3ms inference, 1.6ms postprocess per image at shape (1, 3, 672, 1024)\n",
            "\n",
            "0: 672x1024 1 number_plate, 21.9ms\n",
            "Speed: 5.3ms preprocess, 21.9ms inference, 1.5ms postprocess per image at shape (1, 3, 672, 1024)\n",
            "\n",
            "0: 672x1024 1 number_plate, 24.9ms\n",
            "Speed: 6.3ms preprocess, 24.9ms inference, 1.5ms postprocess per image at shape (1, 3, 672, 1024)\n",
            "\n",
            "0: 672x1024 1 number_plate, 37.9ms\n",
            "Speed: 6.5ms preprocess, 37.9ms inference, 1.9ms postprocess per image at shape (1, 3, 672, 1024)\n",
            "\n",
            "0: 672x1024 1 number_plate, 32.9ms\n",
            "Speed: 7.0ms preprocess, 32.9ms inference, 1.9ms postprocess per image at shape (1, 3, 672, 1024)\n",
            "\n",
            "0: 672x1024 1 number_plate, 20.2ms\n",
            "Speed: 6.3ms preprocess, 20.2ms inference, 1.5ms postprocess per image at shape (1, 3, 672, 1024)\n",
            "\n",
            "0: 672x1024 1 number_plate, 20.2ms\n",
            "Speed: 6.4ms preprocess, 20.2ms inference, 1.4ms postprocess per image at shape (1, 3, 672, 1024)\n",
            "\n",
            "0: 672x1024 1 number_plate, 27.5ms\n",
            "Speed: 6.2ms preprocess, 27.5ms inference, 1.5ms postprocess per image at shape (1, 3, 672, 1024)\n",
            "\n",
            "0: 672x1024 1 number_plate, 19.7ms\n",
            "Speed: 7.2ms preprocess, 19.7ms inference, 1.4ms postprocess per image at shape (1, 3, 672, 1024)\n",
            "\n",
            "0: 672x1024 1 number_plate, 19.7ms\n",
            "Speed: 6.1ms preprocess, 19.7ms inference, 1.4ms postprocess per image at shape (1, 3, 672, 1024)\n",
            "\n",
            "0: 672x1024 1 number_plate, 19.7ms\n",
            "Speed: 6.8ms preprocess, 19.7ms inference, 1.5ms postprocess per image at shape (1, 3, 672, 1024)\n",
            "\n",
            "0: 672x1024 1 number_plate, 19.7ms\n",
            "Speed: 5.9ms preprocess, 19.7ms inference, 1.5ms postprocess per image at shape (1, 3, 672, 1024)\n",
            "\n",
            "0: 672x1024 1 number_plate, 19.3ms\n",
            "Speed: 7.0ms preprocess, 19.3ms inference, 1.5ms postprocess per image at shape (1, 3, 672, 1024)\n",
            "\n",
            "0: 672x1024 1 number_plate, 29.5ms\n",
            "Speed: 6.5ms preprocess, 29.5ms inference, 2.1ms postprocess per image at shape (1, 3, 672, 1024)\n",
            "\n",
            "0: 672x1024 1 number_plate, 18.0ms\n",
            "Speed: 7.2ms preprocess, 18.0ms inference, 1.5ms postprocess per image at shape (1, 3, 672, 1024)\n",
            "\n",
            "0: 672x1024 1 number_plate, 19.1ms\n",
            "Speed: 6.4ms preprocess, 19.1ms inference, 1.5ms postprocess per image at shape (1, 3, 672, 1024)\n",
            "\n",
            "0: 672x1024 1 number_plate, 17.8ms\n",
            "Speed: 6.4ms preprocess, 17.8ms inference, 1.5ms postprocess per image at shape (1, 3, 672, 1024)\n",
            "\n",
            "0: 672x1024 1 number_plate, 17.9ms\n",
            "Speed: 6.2ms preprocess, 17.9ms inference, 1.4ms postprocess per image at shape (1, 3, 672, 1024)\n",
            "\n",
            "0: 672x1024 1 number_plate, 19.7ms\n",
            "Speed: 5.3ms preprocess, 19.7ms inference, 1.6ms postprocess per image at shape (1, 3, 672, 1024)\n",
            "\n",
            "0: 672x1024 1 number_plate, 18.8ms\n",
            "Speed: 6.9ms preprocess, 18.8ms inference, 1.5ms postprocess per image at shape (1, 3, 672, 1024)\n",
            "\n",
            "0: 672x1024 1 number_plate, 20.4ms\n",
            "Speed: 7.1ms preprocess, 20.4ms inference, 1.6ms postprocess per image at shape (1, 3, 672, 1024)\n",
            "\n",
            "0: 672x1024 1 number_plate, 20.4ms\n",
            "Speed: 6.7ms preprocess, 20.4ms inference, 2.8ms postprocess per image at shape (1, 3, 672, 1024)\n",
            "\n",
            "0: 672x1024 1 number_plate, 20.4ms\n",
            "Speed: 8.5ms preprocess, 20.4ms inference, 1.7ms postprocess per image at shape (1, 3, 672, 1024)\n",
            "\n",
            "0: 672x1024 1 number_plate, 18.5ms\n",
            "Speed: 5.6ms preprocess, 18.5ms inference, 1.4ms postprocess per image at shape (1, 3, 672, 1024)\n",
            "\n",
            "0: 672x1024 1 number_plate, 20.4ms\n",
            "Speed: 6.7ms preprocess, 20.4ms inference, 1.8ms postprocess per image at shape (1, 3, 672, 1024)\n",
            "\n",
            "0: 672x1024 1 number_plate, 26.6ms\n",
            "Speed: 8.0ms preprocess, 26.6ms inference, 2.0ms postprocess per image at shape (1, 3, 672, 1024)\n",
            "\n",
            "0: 672x1024 1 number_plate, 26.1ms\n",
            "Speed: 8.1ms preprocess, 26.1ms inference, 1.9ms postprocess per image at shape (1, 3, 672, 1024)\n",
            "\n",
            "0: 672x1024 1 number_plate, 26.4ms\n",
            "Speed: 6.6ms preprocess, 26.4ms inference, 1.9ms postprocess per image at shape (1, 3, 672, 1024)\n",
            "\n",
            "0: 672x1024 1 number_plate, 24.9ms\n",
            "Speed: 7.9ms preprocess, 24.9ms inference, 1.6ms postprocess per image at shape (1, 3, 672, 1024)\n",
            "\n",
            "0: 672x1024 1 number_plate, 18.6ms\n",
            "Speed: 6.7ms preprocess, 18.6ms inference, 1.4ms postprocess per image at shape (1, 3, 672, 1024)\n",
            "\n",
            "0: 672x1024 1 number_plate, 18.2ms\n",
            "Speed: 5.7ms preprocess, 18.2ms inference, 1.4ms postprocess per image at shape (1, 3, 672, 1024)\n",
            "\n",
            "0: 672x1024 1 number_plate, 17.6ms\n",
            "Speed: 6.0ms preprocess, 17.6ms inference, 1.4ms postprocess per image at shape (1, 3, 672, 1024)\n",
            "\n",
            "0: 672x1024 1 number_plate, 19.3ms\n",
            "Speed: 6.3ms preprocess, 19.3ms inference, 1.4ms postprocess per image at shape (1, 3, 672, 1024)\n",
            "\n",
            "0: 672x1024 1 number_plate, 22.2ms\n",
            "Speed: 6.2ms preprocess, 22.2ms inference, 1.4ms postprocess per image at shape (1, 3, 672, 1024)\n",
            "\n",
            "0: 672x1024 1 number_plate, 20.1ms\n",
            "Speed: 5.5ms preprocess, 20.1ms inference, 1.5ms postprocess per image at shape (1, 3, 672, 1024)\n",
            "\n",
            "0: 672x1024 1 number_plate, 19.3ms\n",
            "Speed: 5.5ms preprocess, 19.3ms inference, 1.4ms postprocess per image at shape (1, 3, 672, 1024)\n",
            "\n",
            "0: 672x1024 1 number_plate, 18.9ms\n",
            "Speed: 7.9ms preprocess, 18.9ms inference, 1.4ms postprocess per image at shape (1, 3, 672, 1024)\n",
            "\n",
            "0: 672x1024 1 number_plate, 18.0ms\n",
            "Speed: 6.5ms preprocess, 18.0ms inference, 1.4ms postprocess per image at shape (1, 3, 672, 1024)\n",
            "\n",
            "0: 672x1024 1 number_plate, 18.4ms\n",
            "Speed: 5.6ms preprocess, 18.4ms inference, 1.4ms postprocess per image at shape (1, 3, 672, 1024)\n",
            "\n",
            "0: 672x1024 1 number_plate, 18.9ms\n",
            "Speed: 6.8ms preprocess, 18.9ms inference, 1.5ms postprocess per image at shape (1, 3, 672, 1024)\n",
            "\n",
            "0: 672x1024 1 number_plate, 18.7ms\n",
            "Speed: 5.5ms preprocess, 18.7ms inference, 1.7ms postprocess per image at shape (1, 3, 672, 1024)\n",
            "\n",
            "0: 672x1024 1 number_plate, 18.8ms\n",
            "Speed: 5.3ms preprocess, 18.8ms inference, 1.4ms postprocess per image at shape (1, 3, 672, 1024)\n",
            "\n",
            "0: 672x1024 1 number_plate, 18.1ms\n",
            "Speed: 6.1ms preprocess, 18.1ms inference, 1.4ms postprocess per image at shape (1, 3, 672, 1024)\n",
            "\n",
            "0: 672x1024 1 number_plate, 19.0ms\n",
            "Speed: 4.9ms preprocess, 19.0ms inference, 1.4ms postprocess per image at shape (1, 3, 672, 1024)\n",
            "\n",
            "0: 672x1024 1 number_plate, 18.5ms\n",
            "Speed: 7.8ms preprocess, 18.5ms inference, 1.4ms postprocess per image at shape (1, 3, 672, 1024)\n",
            "\n",
            "0: 672x1024 1 number_plate, 18.2ms\n",
            "Speed: 6.4ms preprocess, 18.2ms inference, 1.4ms postprocess per image at shape (1, 3, 672, 1024)\n",
            "\n",
            "0: 672x1024 1 number_plate, 19.6ms\n",
            "Speed: 6.4ms preprocess, 19.6ms inference, 1.5ms postprocess per image at shape (1, 3, 672, 1024)\n",
            "\n",
            "0: 672x1024 1 number_plate, 25.5ms\n",
            "Speed: 7.3ms preprocess, 25.5ms inference, 1.8ms postprocess per image at shape (1, 3, 672, 1024)\n",
            "\n",
            "0: 672x1024 1 number_plate, 25.6ms\n",
            "Speed: 7.2ms preprocess, 25.6ms inference, 1.9ms postprocess per image at shape (1, 3, 672, 1024)\n",
            "\n",
            "0: 672x1024 1 number_plate, 20.8ms\n",
            "Speed: 6.3ms preprocess, 20.8ms inference, 1.4ms postprocess per image at shape (1, 3, 672, 1024)\n",
            "\n",
            "0: 672x1024 2 number_plates, 17.7ms\n",
            "Speed: 6.2ms preprocess, 17.7ms inference, 1.4ms postprocess per image at shape (1, 3, 672, 1024)\n",
            "\n",
            "0: 672x1024 1 number_plate, 18.1ms\n",
            "Speed: 8.3ms preprocess, 18.1ms inference, 1.4ms postprocess per image at shape (1, 3, 672, 1024)\n",
            "\n",
            "0: 672x1024 1 number_plate, 4 cars, 17.9ms\n",
            "Speed: 5.5ms preprocess, 17.9ms inference, 1.3ms postprocess per image at shape (1, 3, 672, 1024)\n",
            "\n",
            "0: 672x1024 1 number_plate, 1 car, 18.1ms\n",
            "Speed: 6.7ms preprocess, 18.1ms inference, 2.7ms postprocess per image at shape (1, 3, 672, 1024)\n",
            "\n",
            "0: 672x1024 1 number_plate, 1 car, 18.1ms\n",
            "Speed: 6.5ms preprocess, 18.1ms inference, 1.8ms postprocess per image at shape (1, 3, 672, 1024)\n",
            "\n",
            "0: 672x1024 1 number_plate, 1 car, 18.0ms\n",
            "Speed: 6.8ms preprocess, 18.0ms inference, 1.4ms postprocess per image at shape (1, 3, 672, 1024)\n",
            "\n",
            "0: 672x1024 1 number_plate, 2 cars, 18.6ms\n",
            "Speed: 6.7ms preprocess, 18.6ms inference, 1.6ms postprocess per image at shape (1, 3, 672, 1024)\n",
            "\n",
            "0: 672x1024 1 number_plate, 1 car, 18.3ms\n",
            "Speed: 6.6ms preprocess, 18.3ms inference, 1.4ms postprocess per image at shape (1, 3, 672, 1024)\n",
            "\n",
            "0: 672x1024 1 number_plate, 18.3ms\n",
            "Speed: 6.5ms preprocess, 18.3ms inference, 1.5ms postprocess per image at shape (1, 3, 672, 1024)\n",
            "\n",
            "0: 672x1024 1 number_plate, 1 car, 28.4ms\n",
            "Speed: 7.7ms preprocess, 28.4ms inference, 1.6ms postprocess per image at shape (1, 3, 672, 1024)\n",
            "\n",
            "0: 672x1024 1 number_plate, 2 cars, 18.3ms\n",
            "Speed: 6.9ms preprocess, 18.3ms inference, 1.4ms postprocess per image at shape (1, 3, 672, 1024)\n",
            "\n",
            "0: 672x1024 1 number_plate, 1 car, 18.4ms\n",
            "Speed: 6.8ms preprocess, 18.4ms inference, 1.5ms postprocess per image at shape (1, 3, 672, 1024)\n",
            "\n",
            "0: 672x1024 1 number_plate, 1 car, 18.5ms\n",
            "Speed: 6.5ms preprocess, 18.5ms inference, 1.4ms postprocess per image at shape (1, 3, 672, 1024)\n",
            "\n",
            "0: 672x1024 1 number_plate, 1 car, 18.4ms\n",
            "Speed: 5.2ms preprocess, 18.4ms inference, 1.5ms postprocess per image at shape (1, 3, 672, 1024)\n",
            "\n",
            "0: 672x1024 1 number_plate, 1 car, 18.8ms\n",
            "Speed: 7.0ms preprocess, 18.8ms inference, 1.4ms postprocess per image at shape (1, 3, 672, 1024)\n",
            "\n",
            "0: 672x1024 1 number_plate, 1 car, 18.1ms\n",
            "Speed: 7.3ms preprocess, 18.1ms inference, 1.4ms postprocess per image at shape (1, 3, 672, 1024)\n",
            "\n",
            "0: 672x1024 1 number_plate, 1 car, 18.3ms\n",
            "Speed: 6.3ms preprocess, 18.3ms inference, 1.4ms postprocess per image at shape (1, 3, 672, 1024)\n",
            "\n",
            "0: 672x1024 1 number_plate, 1 car, 19.3ms\n",
            "Speed: 6.8ms preprocess, 19.3ms inference, 1.7ms postprocess per image at shape (1, 3, 672, 1024)\n",
            "\n",
            "0: 672x1024 1 number_plate, 1 car, 18.8ms\n",
            "Speed: 6.2ms preprocess, 18.8ms inference, 1.4ms postprocess per image at shape (1, 3, 672, 1024)\n",
            "\n",
            "0: 672x1024 1 number_plate, 1 car, 24.7ms\n",
            "Speed: 8.1ms preprocess, 24.7ms inference, 1.7ms postprocess per image at shape (1, 3, 672, 1024)\n",
            "\n",
            "0: 672x1024 1 number_plate, 1 car, 25.9ms\n",
            "Speed: 7.4ms preprocess, 25.9ms inference, 1.8ms postprocess per image at shape (1, 3, 672, 1024)\n",
            "\n",
            "0: 672x1024 1 number_plate, 2 cars, 26.0ms\n",
            "Speed: 7.7ms preprocess, 26.0ms inference, 1.9ms postprocess per image at shape (1, 3, 672, 1024)\n",
            "\n",
            "0: 672x1024 1 number_plate, 2 cars, 19.1ms\n",
            "Speed: 6.7ms preprocess, 19.1ms inference, 1.4ms postprocess per image at shape (1, 3, 672, 1024)\n",
            "\n",
            "0: 672x1024 1 number_plate, 2 cars, 20.4ms\n",
            "Speed: 6.9ms preprocess, 20.4ms inference, 1.4ms postprocess per image at shape (1, 3, 672, 1024)\n",
            "\n",
            "0: 672x1024 1 number_plate, 2 cars, 19.7ms\n",
            "Speed: 6.1ms preprocess, 19.7ms inference, 1.4ms postprocess per image at shape (1, 3, 672, 1024)\n",
            "\n",
            "0: 672x1024 1 number_plate, 2 cars, 18.2ms\n",
            "Speed: 6.7ms preprocess, 18.2ms inference, 1.4ms postprocess per image at shape (1, 3, 672, 1024)\n",
            "\n",
            "0: 672x1024 1 number_plate, 2 cars, 17.3ms\n",
            "Speed: 6.2ms preprocess, 17.3ms inference, 1.4ms postprocess per image at shape (1, 3, 672, 1024)\n",
            "\n",
            "0: 672x1024 1 number_plate, 2 cars, 17.8ms\n",
            "Speed: 6.5ms preprocess, 17.8ms inference, 1.4ms postprocess per image at shape (1, 3, 672, 1024)\n",
            "\n",
            "0: 672x1024 1 number_plate, 2 cars, 18.6ms\n",
            "Speed: 6.6ms preprocess, 18.6ms inference, 1.4ms postprocess per image at shape (1, 3, 672, 1024)\n",
            "\n",
            "0: 672x1024 1 number_plate, 1 car, 20.4ms\n",
            "Speed: 5.5ms preprocess, 20.4ms inference, 1.5ms postprocess per image at shape (1, 3, 672, 1024)\n",
            "\n",
            "0: 672x1024 1 number_plate, 1 car, 18.4ms\n",
            "Speed: 5.0ms preprocess, 18.4ms inference, 1.5ms postprocess per image at shape (1, 3, 672, 1024)\n",
            "\n",
            "0: 672x1024 2 number_plates, 1 car, 19.2ms\n",
            "Speed: 6.6ms preprocess, 19.2ms inference, 1.4ms postprocess per image at shape (1, 3, 672, 1024)\n",
            "\n",
            "0: 672x1024 1 number_plate, 2 cars, 23.0ms\n",
            "Speed: 8.8ms preprocess, 23.0ms inference, 1.4ms postprocess per image at shape (1, 3, 672, 1024)\n",
            "\n",
            "0: 672x1024 1 number_plate, 1 car, 18.3ms\n",
            "Speed: 5.5ms preprocess, 18.3ms inference, 1.4ms postprocess per image at shape (1, 3, 672, 1024)\n",
            "\n",
            "0: 672x1024 1 number_plate, 1 car, 18.2ms\n",
            "Speed: 6.5ms preprocess, 18.2ms inference, 2.2ms postprocess per image at shape (1, 3, 672, 1024)\n",
            "\n",
            "0: 672x1024 1 number_plate, 1 car, 18.5ms\n",
            "Speed: 7.9ms preprocess, 18.5ms inference, 1.4ms postprocess per image at shape (1, 3, 672, 1024)\n",
            "\n",
            "0: 672x1024 1 number_plate, 1 car, 18.1ms\n",
            "Speed: 5.4ms preprocess, 18.1ms inference, 1.4ms postprocess per image at shape (1, 3, 672, 1024)\n",
            "\n",
            "0: 672x1024 1 number_plate, 1 car, 32.2ms\n",
            "Speed: 6.8ms preprocess, 32.2ms inference, 2.3ms postprocess per image at shape (1, 3, 672, 1024)\n",
            "\n",
            "0: 672x1024 1 number_plate, 1 car, 33.1ms\n",
            "Speed: 7.9ms preprocess, 33.1ms inference, 2.1ms postprocess per image at shape (1, 3, 672, 1024)\n",
            "\n",
            "0: 672x1024 1 number_plate, 1 car, 30.9ms\n",
            "Speed: 8.2ms preprocess, 30.9ms inference, 2.1ms postprocess per image at shape (1, 3, 672, 1024)\n",
            "\n",
            "0: 672x1024 1 number_plate, 1 car, 27.7ms\n",
            "Speed: 9.9ms preprocess, 27.7ms inference, 2.0ms postprocess per image at shape (1, 3, 672, 1024)\n",
            "\n",
            "0: 672x1024 1 number_plate, 1 car, 30.0ms\n",
            "Speed: 7.1ms preprocess, 30.0ms inference, 1.8ms postprocess per image at shape (1, 3, 672, 1024)\n",
            "\n",
            "0: 672x1024 1 number_plate, 1 car, 30.3ms\n",
            "Speed: 8.9ms preprocess, 30.3ms inference, 1.8ms postprocess per image at shape (1, 3, 672, 1024)\n",
            "\n",
            "0: 672x1024 1 number_plate, 1 car, 25.7ms\n",
            "Speed: 9.1ms preprocess, 25.7ms inference, 2.2ms postprocess per image at shape (1, 3, 672, 1024)\n",
            "\n",
            "0: 672x1024 1 number_plate, 1 car, 22.7ms\n",
            "Speed: 8.0ms preprocess, 22.7ms inference, 1.7ms postprocess per image at shape (1, 3, 672, 1024)\n",
            "\n",
            "0: 672x1024 1 number_plate, 1 car, 24.9ms\n",
            "Speed: 7.9ms preprocess, 24.9ms inference, 2.1ms postprocess per image at shape (1, 3, 672, 1024)\n",
            "\n",
            "0: 672x1024 1 number_plate, 1 car, 22.5ms\n",
            "Speed: 7.1ms preprocess, 22.5ms inference, 3.6ms postprocess per image at shape (1, 3, 672, 1024)\n",
            "\n",
            "0: 672x1024 1 number_plate, 1 car, 26.4ms\n",
            "Speed: 7.5ms preprocess, 26.4ms inference, 1.7ms postprocess per image at shape (1, 3, 672, 1024)\n",
            "\n",
            "0: 672x1024 1 number_plate, 1 car, 24.9ms\n",
            "Speed: 7.3ms preprocess, 24.9ms inference, 1.7ms postprocess per image at shape (1, 3, 672, 1024)\n",
            "\n",
            "0: 672x1024 1 number_plate, 2 cars, 23.2ms\n",
            "Speed: 7.4ms preprocess, 23.2ms inference, 1.8ms postprocess per image at shape (1, 3, 672, 1024)\n",
            "\n",
            "0: 672x1024 1 number_plate, 2 cars, 27.2ms\n",
            "Speed: 7.8ms preprocess, 27.2ms inference, 2.0ms postprocess per image at shape (1, 3, 672, 1024)\n",
            "\n",
            "0: 672x1024 1 number_plate, 1 car, 26.7ms\n",
            "Speed: 7.6ms preprocess, 26.7ms inference, 1.8ms postprocess per image at shape (1, 3, 672, 1024)\n",
            "\n",
            "0: 672x1024 1 number_plate, 1 car, 25.0ms\n",
            "Speed: 9.4ms preprocess, 25.0ms inference, 1.9ms postprocess per image at shape (1, 3, 672, 1024)\n",
            "\n",
            "0: 672x1024 1 number_plate, 24.2ms\n",
            "Speed: 7.2ms preprocess, 24.2ms inference, 1.7ms postprocess per image at shape (1, 3, 672, 1024)\n",
            "\n",
            "0: 672x1024 1 number_plate, 1 car, 23.8ms\n",
            "Speed: 7.7ms preprocess, 23.8ms inference, 1.8ms postprocess per image at shape (1, 3, 672, 1024)\n",
            "\n",
            "0: 672x1024 1 number_plate, 2 cars, 22.5ms\n",
            "Speed: 15.5ms preprocess, 22.5ms inference, 1.8ms postprocess per image at shape (1, 3, 672, 1024)\n",
            "\n",
            "0: 672x1024 1 number_plate, 1 car, 28.2ms\n",
            "Speed: 11.5ms preprocess, 28.2ms inference, 1.7ms postprocess per image at shape (1, 3, 672, 1024)\n",
            "\n",
            "0: 672x1024 2 number_plates, 32.8ms\n",
            "Speed: 9.0ms preprocess, 32.8ms inference, 2.1ms postprocess per image at shape (1, 3, 672, 1024)\n",
            "\n",
            "0: 672x1024 1 number_plate, 21.7ms\n",
            "Speed: 7.9ms preprocess, 21.7ms inference, 1.8ms postprocess per image at shape (1, 3, 672, 1024)\n",
            "\n",
            "0: 672x1024 1 number_plate, 21.6ms\n",
            "Speed: 7.7ms preprocess, 21.6ms inference, 1.7ms postprocess per image at shape (1, 3, 672, 1024)\n",
            "\n",
            "0: 672x1024 1 number_plate, 21.9ms\n",
            "Speed: 7.6ms preprocess, 21.9ms inference, 1.7ms postprocess per image at shape (1, 3, 672, 1024)\n",
            "\n",
            "0: 672x1024 1 number_plate, 22.1ms\n",
            "Speed: 7.9ms preprocess, 22.1ms inference, 1.8ms postprocess per image at shape (1, 3, 672, 1024)\n",
            "\n",
            "0: 672x1024 1 number_plate, 22.0ms\n",
            "Speed: 7.4ms preprocess, 22.0ms inference, 3.8ms postprocess per image at shape (1, 3, 672, 1024)\n",
            "\n",
            "0: 672x1024 1 number_plate, 40.4ms\n",
            "Speed: 8.0ms preprocess, 40.4ms inference, 2.4ms postprocess per image at shape (1, 3, 672, 1024)\n",
            "\n",
            "0: 672x1024 1 number_plate, 36.4ms\n",
            "Speed: 7.5ms preprocess, 36.4ms inference, 2.2ms postprocess per image at shape (1, 3, 672, 1024)\n",
            "\n",
            "0: 672x1024 1 number_plate, 31.7ms\n",
            "Speed: 7.5ms preprocess, 31.7ms inference, 1.9ms postprocess per image at shape (1, 3, 672, 1024)\n",
            "\n",
            "0: 672x1024 1 number_plate, 30.2ms\n",
            "Speed: 7.8ms preprocess, 30.2ms inference, 1.8ms postprocess per image at shape (1, 3, 672, 1024)\n",
            "\n",
            "0: 672x1024 1 number_plate, 32.8ms\n",
            "Speed: 7.7ms preprocess, 32.8ms inference, 3.5ms postprocess per image at shape (1, 3, 672, 1024)\n",
            "\n",
            "0: 672x1024 1 number_plate, 1 car, 29.2ms\n",
            "Speed: 8.8ms preprocess, 29.2ms inference, 2.0ms postprocess per image at shape (1, 3, 672, 1024)\n",
            "\n",
            "0: 672x1024 2 number_plates, 33.2ms\n",
            "Speed: 8.4ms preprocess, 33.2ms inference, 1.8ms postprocess per image at shape (1, 3, 672, 1024)\n",
            "\n",
            "0: 672x1024 1 number_plate, 1 car, 28.7ms\n",
            "Speed: 7.6ms preprocess, 28.7ms inference, 1.7ms postprocess per image at shape (1, 3, 672, 1024)\n",
            "\n",
            "0: 672x1024 1 number_plate, 1 car, 22.5ms\n",
            "Speed: 10.5ms preprocess, 22.5ms inference, 1.7ms postprocess per image at shape (1, 3, 672, 1024)\n",
            "\n",
            "0: 672x1024 1 number_plate, 2 cars, 35.6ms\n",
            "Speed: 12.2ms preprocess, 35.6ms inference, 2.5ms postprocess per image at shape (1, 3, 672, 1024)\n",
            "\n",
            "0: 672x1024 1 number_plate, 2 cars, 34.0ms\n",
            "Speed: 9.6ms preprocess, 34.0ms inference, 3.0ms postprocess per image at shape (1, 3, 672, 1024)\n",
            "\n",
            "0: 672x1024 1 number_plate, 1 car, 30.4ms\n",
            "Speed: 8.2ms preprocess, 30.4ms inference, 2.3ms postprocess per image at shape (1, 3, 672, 1024)\n",
            "\n",
            "0: 672x1024 1 number_plate, 1 car, 27.8ms\n",
            "Speed: 12.2ms preprocess, 27.8ms inference, 2.4ms postprocess per image at shape (1, 3, 672, 1024)\n",
            "\n",
            "0: 672x1024 1 number_plate, 1 car, 34.9ms\n",
            "Speed: 7.8ms preprocess, 34.9ms inference, 2.3ms postprocess per image at shape (1, 3, 672, 1024)\n",
            "\n",
            "0: 672x1024 1 number_plate, 1 car, 32.2ms\n",
            "Speed: 8.6ms preprocess, 32.2ms inference, 2.0ms postprocess per image at shape (1, 3, 672, 1024)\n",
            "\n",
            "0: 672x1024 1 number_plate, 34.6ms\n",
            "Speed: 9.6ms preprocess, 34.6ms inference, 2.3ms postprocess per image at shape (1, 3, 672, 1024)\n",
            "\n",
            "0: 672x1024 1 number_plate, 26.6ms\n",
            "Speed: 7.9ms preprocess, 26.6ms inference, 1.9ms postprocess per image at shape (1, 3, 672, 1024)\n",
            "\n",
            "0: 672x1024 1 number_plate, 1 car, 30.9ms\n",
            "Speed: 7.5ms preprocess, 30.9ms inference, 2.0ms postprocess per image at shape (1, 3, 672, 1024)\n",
            "\n",
            "0: 672x1024 1 number_plate, 1 car, 31.2ms\n",
            "Speed: 7.5ms preprocess, 31.2ms inference, 1.9ms postprocess per image at shape (1, 3, 672, 1024)\n",
            "\n",
            "0: 672x1024 1 number_plate, 1 car, 40.5ms\n",
            "Speed: 9.5ms preprocess, 40.5ms inference, 2.0ms postprocess per image at shape (1, 3, 672, 1024)\n",
            "\n",
            "0: 672x1024 1 number_plate, 1 car, 32.2ms\n",
            "Speed: 8.1ms preprocess, 32.2ms inference, 2.0ms postprocess per image at shape (1, 3, 672, 1024)\n",
            "\n",
            "0: 672x1024 1 number_plate, 1 car, 29.1ms\n",
            "Speed: 7.4ms preprocess, 29.1ms inference, 2.0ms postprocess per image at shape (1, 3, 672, 1024)\n",
            "\n",
            "0: 672x1024 1 number_plate, 1 car, 28.3ms\n",
            "Speed: 7.6ms preprocess, 28.3ms inference, 1.9ms postprocess per image at shape (1, 3, 672, 1024)\n",
            "\n",
            "0: 672x1024 1 number_plate, 1 car, 25.1ms\n",
            "Speed: 7.4ms preprocess, 25.1ms inference, 1.9ms postprocess per image at shape (1, 3, 672, 1024)\n",
            "\n",
            "0: 672x1024 1 number_plate, 1 car, 29.6ms\n",
            "Speed: 7.5ms preprocess, 29.6ms inference, 2.0ms postprocess per image at shape (1, 3, 672, 1024)\n",
            "\n",
            "0: 672x1024 1 number_plate, 1 car, 30.5ms\n",
            "Speed: 7.3ms preprocess, 30.5ms inference, 1.9ms postprocess per image at shape (1, 3, 672, 1024)\n",
            "\n",
            "0: 672x1024 1 number_plate, 1 car, 34.8ms\n",
            "Speed: 8.7ms preprocess, 34.8ms inference, 1.8ms postprocess per image at shape (1, 3, 672, 1024)\n",
            "\n",
            "0: 672x1024 1 number_plate, 1 car, 33.1ms\n",
            "Speed: 8.2ms preprocess, 33.1ms inference, 2.4ms postprocess per image at shape (1, 3, 672, 1024)\n",
            "\n",
            "0: 672x1024 1 number_plate, 1 car, 27.3ms\n",
            "Speed: 9.4ms preprocess, 27.3ms inference, 1.9ms postprocess per image at shape (1, 3, 672, 1024)\n",
            "\n",
            "0: 672x1024 1 number_plate, 1 car, 26.7ms\n",
            "Speed: 8.2ms preprocess, 26.7ms inference, 1.9ms postprocess per image at shape (1, 3, 672, 1024)\n",
            "\n",
            "0: 672x1024 1 number_plate, 1 car, 25.7ms\n",
            "Speed: 7.6ms preprocess, 25.7ms inference, 1.8ms postprocess per image at shape (1, 3, 672, 1024)\n",
            "\n",
            "0: 672x1024 1 number_plate, 1 car, 25.4ms\n",
            "Speed: 10.5ms preprocess, 25.4ms inference, 1.8ms postprocess per image at shape (1, 3, 672, 1024)\n",
            "\n",
            "0: 672x1024 1 number_plate, 1 car, 26.6ms\n",
            "Speed: 7.7ms preprocess, 26.6ms inference, 1.9ms postprocess per image at shape (1, 3, 672, 1024)\n",
            "\n",
            "0: 672x1024 1 number_plate, 1 car, 25.4ms\n",
            "Speed: 7.6ms preprocess, 25.4ms inference, 1.9ms postprocess per image at shape (1, 3, 672, 1024)\n",
            "\n",
            "0: 672x1024 1 number_plate, 25.8ms\n",
            "Speed: 7.8ms preprocess, 25.8ms inference, 1.9ms postprocess per image at shape (1, 3, 672, 1024)\n",
            "\n",
            "0: 672x1024 1 number_plate, 1 car, 26.6ms\n",
            "Speed: 7.9ms preprocess, 26.6ms inference, 1.9ms postprocess per image at shape (1, 3, 672, 1024)\n",
            "\n",
            "0: 672x1024 1 number_plate, 26.3ms\n",
            "Speed: 7.8ms preprocess, 26.3ms inference, 2.1ms postprocess per image at shape (1, 3, 672, 1024)\n",
            "\n",
            "0: 672x1024 1 number_plate, 1 car, 36.7ms\n",
            "Speed: 8.9ms preprocess, 36.7ms inference, 1.9ms postprocess per image at shape (1, 3, 672, 1024)\n",
            "\n",
            "0: 672x1024 1 number_plate, 1 car, 26.3ms\n",
            "Speed: 7.6ms preprocess, 26.3ms inference, 1.9ms postprocess per image at shape (1, 3, 672, 1024)\n",
            "\n",
            "0: 672x1024 1 number_plate, 1 car, 26.3ms\n",
            "Speed: 7.5ms preprocess, 26.3ms inference, 1.9ms postprocess per image at shape (1, 3, 672, 1024)\n",
            "\n",
            "0: 672x1024 1 number_plate, 1 car, 32.3ms\n",
            "Speed: 7.2ms preprocess, 32.3ms inference, 2.1ms postprocess per image at shape (1, 3, 672, 1024)\n",
            "\n",
            "0: 672x1024 1 number_plate, 1 car, 40.0ms\n",
            "Speed: 7.5ms preprocess, 40.0ms inference, 2.3ms postprocess per image at shape (1, 3, 672, 1024)\n",
            "\n",
            "0: 672x1024 1 number_plate, 28.5ms\n",
            "Speed: 8.1ms preprocess, 28.5ms inference, 2.1ms postprocess per image at shape (1, 3, 672, 1024)\n",
            "\n",
            "0: 672x1024 1 number_plate, 25.9ms\n",
            "Speed: 7.3ms preprocess, 25.9ms inference, 1.8ms postprocess per image at shape (1, 3, 672, 1024)\n",
            "\n",
            "0: 672x1024 1 number_plate, 26.2ms\n",
            "Speed: 7.5ms preprocess, 26.2ms inference, 1.9ms postprocess per image at shape (1, 3, 672, 1024)\n",
            "\n",
            "0: 672x1024 1 number_plate, 25.8ms\n",
            "Speed: 7.3ms preprocess, 25.8ms inference, 4.4ms postprocess per image at shape (1, 3, 672, 1024)\n",
            "\n",
            "0: 672x1024 1 number_plate, 2 cars, 26.7ms\n",
            "Speed: 8.1ms preprocess, 26.7ms inference, 2.0ms postprocess per image at shape (1, 3, 672, 1024)\n",
            "\n",
            "0: 672x1024 1 number_plate, 1 car, 26.9ms\n",
            "Speed: 11.8ms preprocess, 26.9ms inference, 2.4ms postprocess per image at shape (1, 3, 672, 1024)\n",
            "\n",
            "0: 672x1024 1 number_plate, 25.6ms\n",
            "Speed: 7.5ms preprocess, 25.6ms inference, 1.9ms postprocess per image at shape (1, 3, 672, 1024)\n",
            "\n",
            "0: 672x1024 1 number_plate, 1 car, 25.7ms\n",
            "Speed: 7.7ms preprocess, 25.7ms inference, 2.1ms postprocess per image at shape (1, 3, 672, 1024)\n",
            "\n",
            "0: 672x1024 1 number_plate, 25.3ms\n",
            "Speed: 7.4ms preprocess, 25.3ms inference, 1.8ms postprocess per image at shape (1, 3, 672, 1024)\n",
            "\n",
            "0: 672x1024 1 number_plate, 25.7ms\n",
            "Speed: 7.7ms preprocess, 25.7ms inference, 1.9ms postprocess per image at shape (1, 3, 672, 1024)\n",
            "\n",
            "0: 672x1024 1 number_plate, 25.7ms\n",
            "Speed: 7.6ms preprocess, 25.7ms inference, 1.8ms postprocess per image at shape (1, 3, 672, 1024)\n",
            "\n",
            "0: 672x1024 1 number_plate, 35.7ms\n",
            "Speed: 7.5ms preprocess, 35.7ms inference, 2.0ms postprocess per image at shape (1, 3, 672, 1024)\n",
            "\n",
            "0: 672x1024 1 number_plate, 27.4ms\n",
            "Speed: 7.4ms preprocess, 27.4ms inference, 2.0ms postprocess per image at shape (1, 3, 672, 1024)\n",
            "\n",
            "0: 672x1024 1 number_plate, 25.6ms\n",
            "Speed: 7.3ms preprocess, 25.6ms inference, 1.8ms postprocess per image at shape (1, 3, 672, 1024)\n",
            "\n",
            "0: 672x1024 1 number_plate, 30.3ms\n",
            "Speed: 7.7ms preprocess, 30.3ms inference, 2.1ms postprocess per image at shape (1, 3, 672, 1024)\n",
            "\n",
            "0: 672x1024 1 number_plate, 27.6ms\n",
            "Speed: 8.1ms preprocess, 27.6ms inference, 2.0ms postprocess per image at shape (1, 3, 672, 1024)\n",
            "\n",
            "0: 672x1024 1 number_plate, 1 car, 26.6ms\n",
            "Speed: 7.8ms preprocess, 26.6ms inference, 2.1ms postprocess per image at shape (1, 3, 672, 1024)\n",
            "\n",
            "0: 672x1024 1 number_plate, 1 car, 28.3ms\n",
            "Speed: 8.6ms preprocess, 28.3ms inference, 1.9ms postprocess per image at shape (1, 3, 672, 1024)\n",
            "\n",
            "0: 672x1024 1 number_plate, 1 car, 31.1ms\n",
            "Speed: 7.9ms preprocess, 31.1ms inference, 1.9ms postprocess per image at shape (1, 3, 672, 1024)\n",
            "\n",
            "0: 672x1024 1 number_plate, 1 car, 28.2ms\n",
            "Speed: 7.6ms preprocess, 28.2ms inference, 2.1ms postprocess per image at shape (1, 3, 672, 1024)\n",
            "\n",
            "0: 672x1024 1 number_plate, 1 car, 26.3ms\n",
            "Speed: 7.9ms preprocess, 26.3ms inference, 2.0ms postprocess per image at shape (1, 3, 672, 1024)\n",
            "\n",
            "0: 672x1024 1 number_plate, 1 car, 26.6ms\n",
            "Speed: 7.8ms preprocess, 26.6ms inference, 1.9ms postprocess per image at shape (1, 3, 672, 1024)\n",
            "\n",
            "0: 672x1024 1 number_plate, 1 car, 28.4ms\n",
            "Speed: 7.9ms preprocess, 28.4ms inference, 1.9ms postprocess per image at shape (1, 3, 672, 1024)\n",
            "\n",
            "0: 672x1024 1 number_plate, 1 car, 25.9ms\n",
            "Speed: 7.6ms preprocess, 25.9ms inference, 1.9ms postprocess per image at shape (1, 3, 672, 1024)\n",
            "\n",
            "0: 672x1024 1 number_plate, 26.2ms\n",
            "Speed: 7.6ms preprocess, 26.2ms inference, 1.9ms postprocess per image at shape (1, 3, 672, 1024)\n",
            "\n",
            "0: 672x1024 1 number_plate, 1 car, 28.1ms\n",
            "Speed: 7.9ms preprocess, 28.1ms inference, 1.8ms postprocess per image at shape (1, 3, 672, 1024)\n",
            "\n",
            "0: 672x1024 1 number_plate, 1 car, 25.9ms\n",
            "Speed: 7.5ms preprocess, 25.9ms inference, 1.9ms postprocess per image at shape (1, 3, 672, 1024)\n",
            "\n",
            "0: 672x1024 1 number_plate, 25.1ms\n",
            "Speed: 7.6ms preprocess, 25.1ms inference, 1.8ms postprocess per image at shape (1, 3, 672, 1024)\n",
            "\n",
            "0: 672x1024 1 number_plate, 25.6ms\n",
            "Speed: 7.5ms preprocess, 25.6ms inference, 1.9ms postprocess per image at shape (1, 3, 672, 1024)\n",
            "\n",
            "0: 672x1024 1 number_plate, 33.3ms\n",
            "Speed: 10.3ms preprocess, 33.3ms inference, 1.9ms postprocess per image at shape (1, 3, 672, 1024)\n",
            "\n",
            "0: 672x1024 1 number_plate, 30.8ms\n",
            "Speed: 7.5ms preprocess, 30.8ms inference, 2.0ms postprocess per image at shape (1, 3, 672, 1024)\n",
            "\n",
            "0: 672x1024 1 number_plate, 28.6ms\n",
            "Speed: 6.9ms preprocess, 28.6ms inference, 2.0ms postprocess per image at shape (1, 3, 672, 1024)\n",
            "\n",
            "0: 672x1024 1 number_plate, 31.3ms\n",
            "Speed: 7.4ms preprocess, 31.3ms inference, 2.1ms postprocess per image at shape (1, 3, 672, 1024)\n",
            "\n",
            "0: 672x1024 1 number_plate, 30.1ms\n",
            "Speed: 7.5ms preprocess, 30.1ms inference, 1.9ms postprocess per image at shape (1, 3, 672, 1024)\n",
            "\n",
            "0: 672x1024 1 number_plate, 29.4ms\n",
            "Speed: 7.5ms preprocess, 29.4ms inference, 2.0ms postprocess per image at shape (1, 3, 672, 1024)\n",
            "\n",
            "0: 672x1024 1 number_plate, 1 car, 27.2ms\n",
            "Speed: 8.5ms preprocess, 27.2ms inference, 1.9ms postprocess per image at shape (1, 3, 672, 1024)\n",
            "\n",
            "0: 672x1024 1 number_plate, 27.7ms\n",
            "Speed: 8.6ms preprocess, 27.7ms inference, 2.0ms postprocess per image at shape (1, 3, 672, 1024)\n",
            "\n",
            "0: 672x1024 1 number_plate, 29.9ms\n",
            "Speed: 8.3ms preprocess, 29.9ms inference, 2.0ms postprocess per image at shape (1, 3, 672, 1024)\n",
            "\n",
            "0: 672x1024 1 number_plate, 28.5ms\n",
            "Speed: 11.5ms preprocess, 28.5ms inference, 2.2ms postprocess per image at shape (1, 3, 672, 1024)\n",
            "\n",
            "0: 672x1024 1 number_plate, 27.8ms\n",
            "Speed: 7.6ms preprocess, 27.8ms inference, 2.1ms postprocess per image at shape (1, 3, 672, 1024)\n",
            "\n",
            "0: 672x1024 1 number_plate, 29.8ms\n",
            "Speed: 7.4ms preprocess, 29.8ms inference, 2.1ms postprocess per image at shape (1, 3, 672, 1024)\n",
            "\n",
            "0: 672x1024 1 number_plate, 31.0ms\n",
            "Speed: 7.3ms preprocess, 31.0ms inference, 3.8ms postprocess per image at shape (1, 3, 672, 1024)\n",
            "\n",
            "0: 672x1024 1 number_plate, 32.9ms\n",
            "Speed: 8.0ms preprocess, 32.9ms inference, 2.4ms postprocess per image at shape (1, 3, 672, 1024)\n",
            "\n",
            "0: 672x1024 1 number_plate, 29.7ms\n",
            "Speed: 7.9ms preprocess, 29.7ms inference, 2.0ms postprocess per image at shape (1, 3, 672, 1024)\n",
            "\n",
            "0: 672x1024 1 number_plate, 34.2ms\n",
            "Speed: 9.4ms preprocess, 34.2ms inference, 2.4ms postprocess per image at shape (1, 3, 672, 1024)\n",
            "\n",
            "0: 672x1024 1 number_plate, 30.7ms\n",
            "Speed: 11.8ms preprocess, 30.7ms inference, 1.5ms postprocess per image at shape (1, 3, 672, 1024)\n",
            "\n",
            "0: 672x1024 1 number_plate, 1 car, 37.6ms\n",
            "Speed: 7.8ms preprocess, 37.6ms inference, 1.9ms postprocess per image at shape (1, 3, 672, 1024)\n",
            "\n",
            "0: 672x1024 1 number_plate, 1 car, 28.0ms\n",
            "Speed: 6.7ms preprocess, 28.0ms inference, 1.9ms postprocess per image at shape (1, 3, 672, 1024)\n",
            "\n",
            "0: 672x1024 1 number_plate, 1 car, 26.7ms\n",
            "Speed: 7.4ms preprocess, 26.7ms inference, 1.9ms postprocess per image at shape (1, 3, 672, 1024)\n",
            "\n",
            "0: 672x1024 1 number_plate, 1 car, 20.6ms\n",
            "Speed: 6.3ms preprocess, 20.6ms inference, 1.3ms postprocess per image at shape (1, 3, 672, 1024)\n",
            "\n",
            "0: 672x1024 1 number_plate, 20.6ms\n",
            "Speed: 6.0ms preprocess, 20.6ms inference, 1.3ms postprocess per image at shape (1, 3, 672, 1024)\n",
            "\n",
            "0: 672x1024 1 number_plate, 20.1ms\n",
            "Speed: 7.6ms preprocess, 20.1ms inference, 1.4ms postprocess per image at shape (1, 3, 672, 1024)\n",
            "\n",
            "0: 672x1024 1 number_plate, 2 cars, 20.1ms\n",
            "Speed: 6.3ms preprocess, 20.1ms inference, 1.3ms postprocess per image at shape (1, 3, 672, 1024)\n",
            "\n",
            "0: 672x1024 1 number_plate, 2 cars, 20.0ms\n",
            "Speed: 6.1ms preprocess, 20.0ms inference, 1.4ms postprocess per image at shape (1, 3, 672, 1024)\n",
            "\n",
            "0: 672x1024 1 number_plate, 2 cars, 20.1ms\n",
            "Speed: 6.6ms preprocess, 20.1ms inference, 1.3ms postprocess per image at shape (1, 3, 672, 1024)\n",
            "\n",
            "0: 672x1024 1 number_plate, 2 cars, 20.1ms\n",
            "Speed: 4.7ms preprocess, 20.1ms inference, 1.4ms postprocess per image at shape (1, 3, 672, 1024)\n",
            "\n",
            "0: 672x1024 1 number_plate, 2 cars, 19.5ms\n",
            "Speed: 6.6ms preprocess, 19.5ms inference, 1.4ms postprocess per image at shape (1, 3, 672, 1024)\n",
            "\n",
            "0: 672x1024 1 number_plate, 1 car, 19.5ms\n",
            "Speed: 6.5ms preprocess, 19.5ms inference, 1.5ms postprocess per image at shape (1, 3, 672, 1024)\n",
            "\n",
            "0: 672x1024 1 number_plate, 1 car, 18.7ms\n",
            "Speed: 6.7ms preprocess, 18.7ms inference, 1.6ms postprocess per image at shape (1, 3, 672, 1024)\n",
            "\n",
            "0: 672x1024 1 number_plate, 1 car, 18.2ms\n",
            "Speed: 7.0ms preprocess, 18.2ms inference, 1.4ms postprocess per image at shape (1, 3, 672, 1024)\n",
            "\n",
            "0: 672x1024 1 number_plate, 1 car, 18.4ms\n",
            "Speed: 7.1ms preprocess, 18.4ms inference, 1.5ms postprocess per image at shape (1, 3, 672, 1024)\n",
            "\n",
            "0: 672x1024 1 number_plate, 1 car, 20.7ms\n",
            "Speed: 6.6ms preprocess, 20.7ms inference, 1.4ms postprocess per image at shape (1, 3, 672, 1024)\n",
            "\n",
            "0: 672x1024 1 number_plate, 1 car, 19.0ms\n",
            "Speed: 6.8ms preprocess, 19.0ms inference, 1.4ms postprocess per image at shape (1, 3, 672, 1024)\n",
            "\n",
            "0: 672x1024 1 number_plate, 1 car, 17.8ms\n",
            "Speed: 5.9ms preprocess, 17.8ms inference, 1.4ms postprocess per image at shape (1, 3, 672, 1024)\n",
            "\n",
            "0: 672x1024 1 number_plate, 1 car, 18.3ms\n",
            "Speed: 6.8ms preprocess, 18.3ms inference, 1.5ms postprocess per image at shape (1, 3, 672, 1024)\n",
            "\n",
            "0: 672x1024 1 number_plate, 1 car, 18.4ms\n",
            "Speed: 6.3ms preprocess, 18.4ms inference, 1.4ms postprocess per image at shape (1, 3, 672, 1024)\n",
            "\n",
            "0: 672x1024 1 number_plate, 1 car, 18.4ms\n",
            "Speed: 7.6ms preprocess, 18.4ms inference, 1.6ms postprocess per image at shape (1, 3, 672, 1024)\n",
            "\n",
            "0: 672x1024 1 number_plate, 1 car, 18.4ms\n",
            "Speed: 6.6ms preprocess, 18.4ms inference, 1.5ms postprocess per image at shape (1, 3, 672, 1024)\n",
            "\n",
            "0: 672x1024 1 number_plate, 1 car, 31.6ms\n",
            "Speed: 8.6ms preprocess, 31.6ms inference, 2.4ms postprocess per image at shape (1, 3, 672, 1024)\n",
            "\n",
            "0: 672x1024 1 number_plate, 1 car, 25.3ms\n",
            "Speed: 6.7ms preprocess, 25.3ms inference, 2.0ms postprocess per image at shape (1, 3, 672, 1024)\n",
            "\n",
            "0: 672x1024 1 number_plate, 1 car, 24.6ms\n",
            "Speed: 7.7ms preprocess, 24.6ms inference, 1.5ms postprocess per image at shape (1, 3, 672, 1024)\n",
            "\n",
            "0: 672x1024 1 number_plate, 1 car, 18.4ms\n",
            "Speed: 7.6ms preprocess, 18.4ms inference, 1.6ms postprocess per image at shape (1, 3, 672, 1024)\n",
            "\n",
            "0: 672x1024 1 number_plate, 1 car, 20.0ms\n",
            "Speed: 6.3ms preprocess, 20.0ms inference, 1.4ms postprocess per image at shape (1, 3, 672, 1024)\n",
            "\n",
            "0: 672x1024 1 number_plate, 1 car, 19.7ms\n",
            "Speed: 6.1ms preprocess, 19.7ms inference, 1.4ms postprocess per image at shape (1, 3, 672, 1024)\n",
            "\n",
            "0: 672x1024 1 number_plate, 1 car, 18.6ms\n",
            "Speed: 6.5ms preprocess, 18.6ms inference, 1.4ms postprocess per image at shape (1, 3, 672, 1024)\n",
            "\n",
            "0: 672x1024 1 number_plate, 1 car, 17.9ms\n",
            "Speed: 6.9ms preprocess, 17.9ms inference, 1.4ms postprocess per image at shape (1, 3, 672, 1024)\n",
            "\n",
            "0: 672x1024 1 number_plate, 1 car, 18.4ms\n",
            "Speed: 6.9ms preprocess, 18.4ms inference, 1.5ms postprocess per image at shape (1, 3, 672, 1024)\n",
            "\n",
            "0: 672x1024 1 number_plate, 2 cars, 19.1ms\n",
            "Speed: 6.2ms preprocess, 19.1ms inference, 1.8ms postprocess per image at shape (1, 3, 672, 1024)\n",
            "\n",
            "0: 672x1024 1 number_plate, 21.4ms\n",
            "Speed: 7.2ms preprocess, 21.4ms inference, 1.6ms postprocess per image at shape (1, 3, 672, 1024)\n",
            "\n",
            "0: 672x1024 1 number_plate, 1 car, 19.7ms\n",
            "Speed: 7.0ms preprocess, 19.7ms inference, 1.3ms postprocess per image at shape (1, 3, 672, 1024)\n",
            "\n",
            "0: 672x1024 1 number_plate, 1 car, 17.6ms\n",
            "Speed: 6.2ms preprocess, 17.6ms inference, 1.3ms postprocess per image at shape (1, 3, 672, 1024)\n",
            "\n",
            "0: 672x1024 1 number_plate, 1 car, 17.5ms\n",
            "Speed: 6.3ms preprocess, 17.5ms inference, 1.4ms postprocess per image at shape (1, 3, 672, 1024)\n",
            "\n",
            "0: 672x1024 1 number_plate, 18.0ms\n",
            "Speed: 6.2ms preprocess, 18.0ms inference, 1.4ms postprocess per image at shape (1, 3, 672, 1024)\n",
            "\n",
            "0: 672x1024 1 number_plate, 19.6ms\n",
            "Speed: 6.1ms preprocess, 19.6ms inference, 1.4ms postprocess per image at shape (1, 3, 672, 1024)\n",
            "\n",
            "0: 672x1024 1 number_plate, 17.3ms\n",
            "Speed: 5.6ms preprocess, 17.3ms inference, 1.5ms postprocess per image at shape (1, 3, 672, 1024)\n",
            "\n",
            "0: 672x1024 1 number_plate, 18.4ms\n",
            "Speed: 6.2ms preprocess, 18.4ms inference, 1.3ms postprocess per image at shape (1, 3, 672, 1024)\n",
            "\n",
            "0: 672x1024 1 number_plate, 17.7ms\n",
            "Speed: 5.6ms preprocess, 17.7ms inference, 1.6ms postprocess per image at shape (1, 3, 672, 1024)\n",
            "\n",
            "0: 672x1024 1 number_plate, 1 car, 17.4ms\n",
            "Speed: 6.2ms preprocess, 17.4ms inference, 1.4ms postprocess per image at shape (1, 3, 672, 1024)\n",
            "\n",
            "0: 672x1024 1 number_plate, 1 car, 18.3ms\n",
            "Speed: 5.8ms preprocess, 18.3ms inference, 1.4ms postprocess per image at shape (1, 3, 672, 1024)\n",
            "\n",
            "0: 672x1024 1 number_plate, 18.8ms\n",
            "Speed: 6.4ms preprocess, 18.8ms inference, 2.0ms postprocess per image at shape (1, 3, 672, 1024)\n",
            "\n",
            "0: 672x1024 1 number_plate, 25.2ms\n",
            "Speed: 7.0ms preprocess, 25.2ms inference, 1.7ms postprocess per image at shape (1, 3, 672, 1024)\n",
            "\n",
            "0: 672x1024 1 number_plate, 25.8ms\n",
            "Speed: 7.5ms preprocess, 25.8ms inference, 1.7ms postprocess per image at shape (1, 3, 672, 1024)\n",
            "\n",
            "0: 672x1024 1 number_plate, 30.5ms\n",
            "Speed: 9.4ms preprocess, 30.5ms inference, 1.8ms postprocess per image at shape (1, 3, 672, 1024)\n",
            "\n",
            "0: 672x1024 1 number_plate, 19.9ms\n",
            "Speed: 8.3ms preprocess, 19.9ms inference, 1.4ms postprocess per image at shape (1, 3, 672, 1024)\n",
            "\n",
            "0: 672x1024 1 number_plate, 18.5ms\n",
            "Speed: 7.4ms preprocess, 18.5ms inference, 1.4ms postprocess per image at shape (1, 3, 672, 1024)\n",
            "\n",
            "0: 672x1024 1 number_plate, 17.1ms\n",
            "Speed: 5.9ms preprocess, 17.1ms inference, 1.3ms postprocess per image at shape (1, 3, 672, 1024)\n",
            "\n",
            "0: 672x1024 1 number_plate, 18.3ms\n",
            "Speed: 5.8ms preprocess, 18.3ms inference, 1.4ms postprocess per image at shape (1, 3, 672, 1024)\n",
            "\n",
            "0: 672x1024 1 number_plate, 17.5ms\n",
            "Speed: 5.5ms preprocess, 17.5ms inference, 1.3ms postprocess per image at shape (1, 3, 672, 1024)\n",
            "\n",
            "0: 672x1024 1 number_plate, 17.3ms\n",
            "Speed: 5.8ms preprocess, 17.3ms inference, 1.4ms postprocess per image at shape (1, 3, 672, 1024)\n",
            "\n",
            "0: 672x1024 1 number_plate, 17.7ms\n",
            "Speed: 6.2ms preprocess, 17.7ms inference, 1.4ms postprocess per image at shape (1, 3, 672, 1024)\n",
            "\n",
            "0: 672x1024 1 number_plate, 17.2ms\n",
            "Speed: 6.4ms preprocess, 17.2ms inference, 1.3ms postprocess per image at shape (1, 3, 672, 1024)\n",
            "\n",
            "0: 672x1024 1 number_plate, 18.2ms\n",
            "Speed: 5.6ms preprocess, 18.2ms inference, 1.4ms postprocess per image at shape (1, 3, 672, 1024)\n",
            "\n",
            "0: 672x1024 1 number_plate, 17.9ms\n",
            "Speed: 6.4ms preprocess, 17.9ms inference, 1.4ms postprocess per image at shape (1, 3, 672, 1024)\n",
            "\n",
            "0: 672x1024 1 number_plate, 17.8ms\n",
            "Speed: 6.6ms preprocess, 17.8ms inference, 1.4ms postprocess per image at shape (1, 3, 672, 1024)\n",
            "\n",
            "0: 672x1024 1 number_plate, 18.1ms\n",
            "Speed: 6.7ms preprocess, 18.1ms inference, 1.4ms postprocess per image at shape (1, 3, 672, 1024)\n",
            "\n",
            "0: 672x1024 1 number_plate, 18.2ms\n",
            "Speed: 7.5ms preprocess, 18.2ms inference, 1.5ms postprocess per image at shape (1, 3, 672, 1024)\n",
            "\n",
            "0: 672x1024 1 number_plate, 18.4ms\n",
            "Speed: 8.1ms preprocess, 18.4ms inference, 1.7ms postprocess per image at shape (1, 3, 672, 1024)\n",
            "\n",
            "0: 672x1024 1 number_plate, 18.2ms\n",
            "Speed: 6.6ms preprocess, 18.2ms inference, 1.4ms postprocess per image at shape (1, 3, 672, 1024)\n",
            "\n",
            "0: 672x1024 1 number_plate, 18.1ms\n",
            "Speed: 7.1ms preprocess, 18.1ms inference, 1.4ms postprocess per image at shape (1, 3, 672, 1024)\n",
            "\n",
            "0: 672x1024 1 number_plate, 18.0ms\n",
            "Speed: 7.1ms preprocess, 18.0ms inference, 1.5ms postprocess per image at shape (1, 3, 672, 1024)\n",
            "\n",
            "0: 672x1024 1 number_plate, 17.7ms\n",
            "Speed: 6.7ms preprocess, 17.7ms inference, 1.3ms postprocess per image at shape (1, 3, 672, 1024)\n",
            "\n",
            "0: 672x1024 1 number_plate, 18.0ms\n",
            "Speed: 6.5ms preprocess, 18.0ms inference, 1.4ms postprocess per image at shape (1, 3, 672, 1024)\n",
            "\n",
            "0: 672x1024 1 number_plate, 21.0ms\n",
            "Speed: 6.9ms preprocess, 21.0ms inference, 1.8ms postprocess per image at shape (1, 3, 672, 1024)\n",
            "\n",
            "0: 672x1024 1 number_plate, 25.7ms\n",
            "Speed: 8.6ms preprocess, 25.7ms inference, 2.0ms postprocess per image at shape (1, 3, 672, 1024)\n",
            "\n",
            "0: 672x1024 1 number_plate, 24.6ms\n",
            "Speed: 8.8ms preprocess, 24.6ms inference, 1.8ms postprocess per image at shape (1, 3, 672, 1024)\n",
            "\n",
            "0: 672x1024 1 number_plate, 30.2ms\n",
            "Speed: 10.1ms preprocess, 30.2ms inference, 1.6ms postprocess per image at shape (1, 3, 672, 1024)\n",
            "\n",
            "0: 672x1024 1 number_plate, 17.9ms\n",
            "Speed: 6.5ms preprocess, 17.9ms inference, 1.3ms postprocess per image at shape (1, 3, 672, 1024)\n",
            "\n",
            "0: 672x1024 1 number_plate, 17.3ms\n",
            "Speed: 6.5ms preprocess, 17.3ms inference, 1.3ms postprocess per image at shape (1, 3, 672, 1024)\n",
            "\n",
            "0: 672x1024 1 number_plate, 17.4ms\n",
            "Speed: 8.0ms preprocess, 17.4ms inference, 1.4ms postprocess per image at shape (1, 3, 672, 1024)\n",
            "\n",
            "0: 672x1024 1 number_plate, 17.5ms\n",
            "Speed: 6.7ms preprocess, 17.5ms inference, 1.3ms postprocess per image at shape (1, 3, 672, 1024)\n",
            "\n",
            "0: 672x1024 1 number_plate, 18.4ms\n",
            "Speed: 6.6ms preprocess, 18.4ms inference, 1.5ms postprocess per image at shape (1, 3, 672, 1024)\n",
            "\n",
            "0: 672x1024 1 number_plate, 19.0ms\n",
            "Speed: 9.4ms preprocess, 19.0ms inference, 1.3ms postprocess per image at shape (1, 3, 672, 1024)\n",
            "\n",
            "0: 672x1024 1 number_plate, 17.6ms\n",
            "Speed: 6.4ms preprocess, 17.6ms inference, 1.3ms postprocess per image at shape (1, 3, 672, 1024)\n",
            "\n",
            "0: 672x1024 1 number_plate, 18.6ms\n",
            "Speed: 7.6ms preprocess, 18.6ms inference, 1.3ms postprocess per image at shape (1, 3, 672, 1024)\n",
            "\n",
            "0: 672x1024 1 number_plate, 17.9ms\n",
            "Speed: 7.1ms preprocess, 17.9ms inference, 1.6ms postprocess per image at shape (1, 3, 672, 1024)\n",
            "\n",
            "0: 672x1024 1 number_plate, 18.2ms\n",
            "Speed: 7.5ms preprocess, 18.2ms inference, 1.4ms postprocess per image at shape (1, 3, 672, 1024)\n",
            "\n",
            "0: 672x1024 1 number_plate, 18.3ms\n",
            "Speed: 7.2ms preprocess, 18.3ms inference, 1.5ms postprocess per image at shape (1, 3, 672, 1024)\n",
            "\n",
            "0: 672x1024 1 number_plate, 18.6ms\n",
            "Speed: 7.4ms preprocess, 18.6ms inference, 1.4ms postprocess per image at shape (1, 3, 672, 1024)\n",
            "\n",
            "0: 672x1024 1 number_plate, 21.0ms\n",
            "Speed: 6.0ms preprocess, 21.0ms inference, 1.5ms postprocess per image at shape (1, 3, 672, 1024)\n",
            "\n",
            "0: 672x1024 1 number_plate, 18.6ms\n",
            "Speed: 7.5ms preprocess, 18.6ms inference, 1.5ms postprocess per image at shape (1, 3, 672, 1024)\n",
            "\n",
            "0: 672x1024 1 number_plate, 18.7ms\n",
            "Speed: 7.2ms preprocess, 18.7ms inference, 1.4ms postprocess per image at shape (1, 3, 672, 1024)\n",
            "\n",
            "0: 672x1024 1 number_plate, 18.6ms\n",
            "Speed: 5.7ms preprocess, 18.6ms inference, 1.4ms postprocess per image at shape (1, 3, 672, 1024)\n",
            "\n",
            "0: 672x1024 1 number_plate, 18.4ms\n",
            "Speed: 7.4ms preprocess, 18.4ms inference, 1.4ms postprocess per image at shape (1, 3, 672, 1024)\n",
            "\n",
            "0: 672x1024 1 number_plate, 19.1ms\n",
            "Speed: 7.2ms preprocess, 19.1ms inference, 1.4ms postprocess per image at shape (1, 3, 672, 1024)\n",
            "\n",
            "0: 672x1024 1 number_plate, 1 car, 18.2ms\n",
            "Speed: 7.3ms preprocess, 18.2ms inference, 2.1ms postprocess per image at shape (1, 3, 672, 1024)\n",
            "\n",
            "0: 672x1024 1 number_plate, 1 car, 25.1ms\n",
            "Speed: 8.7ms preprocess, 25.1ms inference, 1.8ms postprocess per image at shape (1, 3, 672, 1024)\n",
            "\n",
            "0: 672x1024 1 number_plate, 1 car, 25.4ms\n",
            "Speed: 7.2ms preprocess, 25.4ms inference, 1.8ms postprocess per image at shape (1, 3, 672, 1024)\n",
            "\n",
            "0: 672x1024 1 number_plate, 1 car, 27.2ms\n",
            "Speed: 8.4ms preprocess, 27.2ms inference, 1.8ms postprocess per image at shape (1, 3, 672, 1024)\n",
            "\n",
            "0: 672x1024 1 number_plate, 1 car, 22.6ms\n",
            "Speed: 10.1ms preprocess, 22.6ms inference, 1.5ms postprocess per image at shape (1, 3, 672, 1024)\n",
            "\n",
            "0: 672x1024 1 number_plate, 1 car, 18.2ms\n",
            "Speed: 4.9ms preprocess, 18.2ms inference, 1.5ms postprocess per image at shape (1, 3, 672, 1024)\n",
            "\n",
            "0: 672x1024 1 number_plate, 1 car, 17.6ms\n",
            "Speed: 8.0ms preprocess, 17.6ms inference, 1.4ms postprocess per image at shape (1, 3, 672, 1024)\n",
            "\n",
            "0: 672x1024 1 number_plate, 1 car, 17.6ms\n",
            "Speed: 6.6ms preprocess, 17.6ms inference, 1.4ms postprocess per image at shape (1, 3, 672, 1024)\n",
            "\n",
            "0: 672x1024 1 number_plate, 1 car, 17.7ms\n",
            "Speed: 7.5ms preprocess, 17.7ms inference, 1.4ms postprocess per image at shape (1, 3, 672, 1024)\n",
            "\n",
            "0: 672x1024 1 number_plate, 18.1ms\n",
            "Speed: 6.5ms preprocess, 18.1ms inference, 1.5ms postprocess per image at shape (1, 3, 672, 1024)\n",
            "\n",
            "0: 672x1024 1 number_plate, 17.9ms\n",
            "Speed: 6.5ms preprocess, 17.9ms inference, 1.5ms postprocess per image at shape (1, 3, 672, 1024)\n",
            "\n",
            "0: 672x1024 1 number_plate, 18.5ms\n",
            "Speed: 6.7ms preprocess, 18.5ms inference, 1.5ms postprocess per image at shape (1, 3, 672, 1024)\n",
            "\n",
            "0: 672x1024 1 number_plate, 18.0ms\n",
            "Speed: 6.6ms preprocess, 18.0ms inference, 1.4ms postprocess per image at shape (1, 3, 672, 1024)\n",
            "\n",
            "0: 672x1024 1 number_plate, 17.6ms\n",
            "Speed: 7.4ms preprocess, 17.6ms inference, 1.3ms postprocess per image at shape (1, 3, 672, 1024)\n",
            "\n",
            "0: 672x1024 1 number_plate, 17.7ms\n",
            "Speed: 7.2ms preprocess, 17.7ms inference, 1.3ms postprocess per image at shape (1, 3, 672, 1024)\n",
            "\n",
            "0: 672x1024 1 number_plate, 17.4ms\n",
            "Speed: 4.5ms preprocess, 17.4ms inference, 1.3ms postprocess per image at shape (1, 3, 672, 1024)\n",
            "\n",
            "0: 672x1024 1 number_plate, 16.9ms\n",
            "Speed: 5.0ms preprocess, 16.9ms inference, 2.1ms postprocess per image at shape (1, 3, 672, 1024)\n",
            "\n",
            "0: 672x1024 1 number_plate, 17.2ms\n",
            "Speed: 5.0ms preprocess, 17.2ms inference, 1.4ms postprocess per image at shape (1, 3, 672, 1024)\n",
            "\n",
            "0: 672x1024 1 number_plate, 18.8ms\n",
            "Speed: 5.1ms preprocess, 18.8ms inference, 1.3ms postprocess per image at shape (1, 3, 672, 1024)\n",
            "\n",
            "0: 672x1024 1 number_plate, 16.8ms\n",
            "Speed: 6.5ms preprocess, 16.8ms inference, 1.5ms postprocess per image at shape (1, 3, 672, 1024)\n",
            "\n",
            "0: 672x1024 1 number_plate, 18.4ms\n",
            "Speed: 7.4ms preprocess, 18.4ms inference, 1.4ms postprocess per image at shape (1, 3, 672, 1024)\n",
            "\n",
            "0: 672x1024 1 number_plate, 17.8ms\n",
            "Speed: 4.8ms preprocess, 17.8ms inference, 1.3ms postprocess per image at shape (1, 3, 672, 1024)\n",
            "\n",
            "0: 672x1024 1 number_plate, 18.4ms\n",
            "Speed: 6.8ms preprocess, 18.4ms inference, 1.3ms postprocess per image at shape (1, 3, 672, 1024)\n",
            "\n",
            "0: 672x1024 1 number_plate, 25.0ms\n",
            "Speed: 8.3ms preprocess, 25.0ms inference, 1.9ms postprocess per image at shape (1, 3, 672, 1024)\n",
            "\n",
            "0: 672x1024 1 number_plate, 24.6ms\n",
            "Speed: 6.2ms preprocess, 24.6ms inference, 1.7ms postprocess per image at shape (1, 3, 672, 1024)\n",
            "\n",
            "0: 672x1024 1 number_plate, 26.7ms\n",
            "Speed: 7.2ms preprocess, 26.7ms inference, 1.7ms postprocess per image at shape (1, 3, 672, 1024)\n",
            "\n",
            "0: 672x1024 1 number_plate, 19.7ms\n",
            "Speed: 7.5ms preprocess, 19.7ms inference, 1.4ms postprocess per image at shape (1, 3, 672, 1024)\n",
            "\n",
            "0: 672x1024 1 number_plate, 29.2ms\n",
            "Speed: 7.4ms preprocess, 29.2ms inference, 1.4ms postprocess per image at shape (1, 3, 672, 1024)\n",
            "\n",
            "0: 672x1024 1 number_plate, 2 cars, 17.6ms\n",
            "Speed: 7.1ms preprocess, 17.6ms inference, 1.4ms postprocess per image at shape (1, 3, 672, 1024)\n",
            "\n",
            "0: 672x1024 1 number_plate, 3 cars, 17.7ms\n",
            "Speed: 6.8ms preprocess, 17.7ms inference, 1.5ms postprocess per image at shape (1, 3, 672, 1024)\n",
            "\n",
            "0: 672x1024 1 number_plate, 3 cars, 18.2ms\n",
            "Speed: 7.2ms preprocess, 18.2ms inference, 1.4ms postprocess per image at shape (1, 3, 672, 1024)\n",
            "\n",
            "0: 672x1024 1 number_plate, 1 car, 18.0ms\n",
            "Speed: 6.6ms preprocess, 18.0ms inference, 1.3ms postprocess per image at shape (1, 3, 672, 1024)\n",
            "\n",
            "0: 672x1024 1 number_plate, 1 car, 18.1ms\n",
            "Speed: 7.0ms preprocess, 18.1ms inference, 1.4ms postprocess per image at shape (1, 3, 672, 1024)\n",
            "\n",
            "0: 672x1024 1 number_plate, 1 car, 17.8ms\n",
            "Speed: 7.8ms preprocess, 17.8ms inference, 1.5ms postprocess per image at shape (1, 3, 672, 1024)\n",
            "\n",
            "0: 672x1024 1 number_plate, 1 car, 21.2ms\n",
            "Speed: 7.6ms preprocess, 21.2ms inference, 1.4ms postprocess per image at shape (1, 3, 672, 1024)\n",
            "\n",
            "0: 672x1024 1 number_plate, 1 car, 17.9ms\n",
            "Speed: 6.6ms preprocess, 17.9ms inference, 1.5ms postprocess per image at shape (1, 3, 672, 1024)\n",
            "\n",
            "0: 672x1024 1 number_plate, 1 car, 18.4ms\n",
            "Speed: 7.2ms preprocess, 18.4ms inference, 1.4ms postprocess per image at shape (1, 3, 672, 1024)\n",
            "\n",
            "0: 672x1024 1 number_plate, 1 car, 18.8ms\n",
            "Speed: 7.3ms preprocess, 18.8ms inference, 1.6ms postprocess per image at shape (1, 3, 672, 1024)\n",
            "\n",
            "0: 672x1024 1 number_plate, 1 car, 18.0ms\n",
            "Speed: 6.8ms preprocess, 18.0ms inference, 1.6ms postprocess per image at shape (1, 3, 672, 1024)\n",
            "\n",
            "0: 672x1024 1 number_plate, 1 car, 18.0ms\n",
            "Speed: 7.4ms preprocess, 18.0ms inference, 1.4ms postprocess per image at shape (1, 3, 672, 1024)\n",
            "\n",
            "0: 672x1024 1 number_plate, 1 car, 18.2ms\n",
            "Speed: 7.1ms preprocess, 18.2ms inference, 1.4ms postprocess per image at shape (1, 3, 672, 1024)\n",
            "\n",
            "0: 672x1024 1 number_plate, 1 car, 17.8ms\n",
            "Speed: 7.1ms preprocess, 17.8ms inference, 1.5ms postprocess per image at shape (1, 3, 672, 1024)\n",
            "\n",
            "0: 672x1024 1 number_plate, 1 car, 19.6ms\n",
            "Speed: 7.1ms preprocess, 19.6ms inference, 1.6ms postprocess per image at shape (1, 3, 672, 1024)\n",
            "\n",
            "0: 672x1024 1 number_plate, 1 car, 18.2ms\n",
            "Speed: 6.6ms preprocess, 18.2ms inference, 1.4ms postprocess per image at shape (1, 3, 672, 1024)\n",
            "\n",
            "0: 672x1024 1 number_plate, 1 car, 18.2ms\n",
            "Speed: 6.8ms preprocess, 18.2ms inference, 1.6ms postprocess per image at shape (1, 3, 672, 1024)\n",
            "\n",
            "0: 672x1024 1 number_plate, 1 car, 25.3ms\n",
            "Speed: 7.9ms preprocess, 25.3ms inference, 1.8ms postprocess per image at shape (1, 3, 672, 1024)\n",
            "\n",
            "0: 672x1024 1 number_plate, 1 car, 25.5ms\n",
            "Speed: 7.2ms preprocess, 25.5ms inference, 1.8ms postprocess per image at shape (1, 3, 672, 1024)\n",
            "\n",
            "0: 672x1024 2 number_plates, 1 car, 27.8ms\n",
            "Speed: 8.1ms preprocess, 27.8ms inference, 1.9ms postprocess per image at shape (1, 3, 672, 1024)\n",
            "\n",
            "0: 672x1024 2 number_plates, 1 car, 18.3ms\n",
            "Speed: 7.2ms preprocess, 18.3ms inference, 1.5ms postprocess per image at shape (1, 3, 672, 1024)\n",
            "\n",
            "0: 672x1024 2 number_plates, 1 car, 25.8ms\n",
            "Speed: 7.9ms preprocess, 25.8ms inference, 2.2ms postprocess per image at shape (1, 3, 672, 1024)\n",
            "\n",
            "0: 672x1024 2 number_plates, 1 car, 17.5ms\n",
            "Speed: 7.5ms preprocess, 17.5ms inference, 1.4ms postprocess per image at shape (1, 3, 672, 1024)\n",
            "\n",
            "0: 672x1024 2 number_plates, 1 car, 17.8ms\n",
            "Speed: 6.3ms preprocess, 17.8ms inference, 1.4ms postprocess per image at shape (1, 3, 672, 1024)\n",
            "\n",
            "0: 672x1024 2 number_plates, 1 car, 21.1ms\n",
            "Speed: 5.7ms preprocess, 21.1ms inference, 1.4ms postprocess per image at shape (1, 3, 672, 1024)\n",
            "\n",
            "0: 672x1024 1 number_plate, 1 car, 20.0ms\n",
            "Speed: 6.8ms preprocess, 20.0ms inference, 1.5ms postprocess per image at shape (1, 3, 672, 1024)\n",
            "\n",
            "0: 672x1024 1 number_plate, 2 cars, 18.0ms\n",
            "Speed: 5.7ms preprocess, 18.0ms inference, 1.4ms postprocess per image at shape (1, 3, 672, 1024)\n",
            "\n",
            "0: 672x1024 1 number_plate, 1 car, 18.1ms\n",
            "Speed: 7.5ms preprocess, 18.1ms inference, 1.4ms postprocess per image at shape (1, 3, 672, 1024)\n",
            "\n",
            "0: 672x1024 2 number_plates, 1 car, 18.4ms\n",
            "Speed: 6.7ms preprocess, 18.4ms inference, 1.5ms postprocess per image at shape (1, 3, 672, 1024)\n",
            "\n",
            "0: 672x1024 1 number_plate, 1 car, 18.6ms\n",
            "Speed: 7.3ms preprocess, 18.6ms inference, 1.4ms postprocess per image at shape (1, 3, 672, 1024)\n",
            "\n",
            "0: 672x1024 1 number_plate, 1 car, 18.3ms\n",
            "Speed: 7.3ms preprocess, 18.3ms inference, 1.4ms postprocess per image at shape (1, 3, 672, 1024)\n",
            "\n",
            "0: 672x1024 1 number_plate, 1 car, 18.0ms\n",
            "Speed: 7.2ms preprocess, 18.0ms inference, 1.3ms postprocess per image at shape (1, 3, 672, 1024)\n",
            "\n",
            "0: 672x1024 1 number_plate, 1 car, 20.9ms\n",
            "Speed: 7.5ms preprocess, 20.9ms inference, 1.6ms postprocess per image at shape (1, 3, 672, 1024)\n",
            "\n",
            "0: 672x1024 1 number_plate, 2 cars, 18.4ms\n",
            "Speed: 6.9ms preprocess, 18.4ms inference, 1.7ms postprocess per image at shape (1, 3, 672, 1024)\n",
            "\n",
            "0: 672x1024 1 number_plate, 2 cars, 18.8ms\n",
            "Speed: 5.5ms preprocess, 18.8ms inference, 1.4ms postprocess per image at shape (1, 3, 672, 1024)\n",
            "\n",
            "0: 672x1024 1 number_plate, 2 cars, 18.2ms\n",
            "Speed: 7.4ms preprocess, 18.2ms inference, 1.5ms postprocess per image at shape (1, 3, 672, 1024)\n",
            "\n",
            "0: 672x1024 1 number_plate, 1 car, 21.5ms\n",
            "Speed: 7.4ms preprocess, 21.5ms inference, 1.4ms postprocess per image at shape (1, 3, 672, 1024)\n",
            "\n",
            "0: 672x1024 1 number_plate, 1 car, 18.0ms\n",
            "Speed: 9.9ms preprocess, 18.0ms inference, 1.4ms postprocess per image at shape (1, 3, 672, 1024)\n",
            "\n",
            "0: 672x1024 1 number_plate, 2 cars, 19.1ms\n",
            "Speed: 7.5ms preprocess, 19.1ms inference, 1.8ms postprocess per image at shape (1, 3, 672, 1024)\n",
            "\n",
            "0: 672x1024 1 number_plate, 1 car, 29.6ms\n",
            "Speed: 7.7ms preprocess, 29.6ms inference, 1.8ms postprocess per image at shape (1, 3, 672, 1024)\n",
            "\n",
            "0: 672x1024 1 number_plate, 1 car, 27.2ms\n",
            "Speed: 6.6ms preprocess, 27.2ms inference, 1.8ms postprocess per image at shape (1, 3, 672, 1024)\n",
            "\n",
            "0: 672x1024 1 number_plate, 2 cars, 18.4ms\n",
            "Speed: 6.6ms preprocess, 18.4ms inference, 1.4ms postprocess per image at shape (1, 3, 672, 1024)\n",
            "\n",
            "0: 672x1024 1 number_plate, 2 cars, 17.9ms\n",
            "Speed: 6.9ms preprocess, 17.9ms inference, 1.3ms postprocess per image at shape (1, 3, 672, 1024)\n",
            "\n",
            "0: 672x1024 1 number_plate, 2 cars, 27.1ms\n",
            "Speed: 5.7ms preprocess, 27.1ms inference, 3.6ms postprocess per image at shape (1, 3, 672, 1024)\n",
            "\n",
            "0: 672x1024 1 number_plate, 3 cars, 18.6ms\n",
            "Speed: 5.3ms preprocess, 18.6ms inference, 1.3ms postprocess per image at shape (1, 3, 672, 1024)\n",
            "\n",
            "0: 672x1024 1 number_plate, 2 cars, 19.1ms\n",
            "Speed: 7.3ms preprocess, 19.1ms inference, 1.4ms postprocess per image at shape (1, 3, 672, 1024)\n",
            "\n",
            "0: 672x1024 1 number_plate, 1 car, 18.0ms\n",
            "Speed: 7.2ms preprocess, 18.0ms inference, 1.4ms postprocess per image at shape (1, 3, 672, 1024)\n",
            "\n",
            "0: 672x1024 1 number_plate, 1 car, 17.9ms\n",
            "Speed: 4.9ms preprocess, 17.9ms inference, 1.4ms postprocess per image at shape (1, 3, 672, 1024)\n",
            "\n",
            "0: 672x1024 1 number_plate, 1 car, 18.0ms\n",
            "Speed: 7.4ms preprocess, 18.0ms inference, 1.4ms postprocess per image at shape (1, 3, 672, 1024)\n",
            "\n",
            "0: 672x1024 1 number_plate, 18.0ms\n",
            "Speed: 7.0ms preprocess, 18.0ms inference, 1.4ms postprocess per image at shape (1, 3, 672, 1024)\n",
            "\n",
            "0: 672x1024 1 number_plate, 18.3ms\n",
            "Speed: 7.3ms preprocess, 18.3ms inference, 1.3ms postprocess per image at shape (1, 3, 672, 1024)\n",
            "\n",
            "0: 672x1024 1 number_plate, 1 car, 18.1ms\n",
            "Speed: 7.2ms preprocess, 18.1ms inference, 1.4ms postprocess per image at shape (1, 3, 672, 1024)\n",
            "\n",
            "0: 672x1024 2 number_plates, 1 car, 19.2ms\n",
            "Speed: 7.3ms preprocess, 19.2ms inference, 1.4ms postprocess per image at shape (1, 3, 672, 1024)\n",
            "\n",
            "0: 672x1024 2 number_plates, 1 car, 18.5ms\n",
            "Speed: 6.9ms preprocess, 18.5ms inference, 1.4ms postprocess per image at shape (1, 3, 672, 1024)\n",
            "\n",
            "0: 672x1024 2 number_plates, 1 car, 18.1ms\n",
            "Speed: 7.7ms preprocess, 18.1ms inference, 1.4ms postprocess per image at shape (1, 3, 672, 1024)\n",
            "\n",
            "0: 672x1024 2 number_plates, 1 car, 18.3ms\n",
            "Speed: 7.3ms preprocess, 18.3ms inference, 1.4ms postprocess per image at shape (1, 3, 672, 1024)\n",
            "\n",
            "0: 672x1024 2 number_plates, 1 car, 18.2ms\n",
            "Speed: 7.3ms preprocess, 18.2ms inference, 1.4ms postprocess per image at shape (1, 3, 672, 1024)\n",
            "\n",
            "0: 672x1024 2 number_plates, 1 car, 18.2ms\n",
            "Speed: 8.2ms preprocess, 18.2ms inference, 1.4ms postprocess per image at shape (1, 3, 672, 1024)\n",
            "\n",
            "0: 672x1024 2 number_plates, 1 car, 18.7ms\n",
            "Speed: 6.7ms preprocess, 18.7ms inference, 1.4ms postprocess per image at shape (1, 3, 672, 1024)\n",
            "\n",
            "0: 672x1024 1 number_plate, 1 car, 17.9ms\n",
            "Speed: 6.2ms preprocess, 17.9ms inference, 1.5ms postprocess per image at shape (1, 3, 672, 1024)\n",
            "\n",
            "0: 672x1024 1 number_plate, 1 car, 26.4ms\n",
            "Speed: 8.3ms preprocess, 26.4ms inference, 2.0ms postprocess per image at shape (1, 3, 672, 1024)\n",
            "\n",
            "0: 672x1024 1 number_plate, 1 car, 26.1ms\n",
            "Speed: 8.4ms preprocess, 26.1ms inference, 1.8ms postprocess per image at shape (1, 3, 672, 1024)\n",
            "\n",
            "0: 672x1024 1 number_plate, 1 car, 24.0ms\n",
            "Speed: 7.7ms preprocess, 24.0ms inference, 1.5ms postprocess per image at shape (1, 3, 672, 1024)\n",
            "\n",
            "0: 672x1024 1 number_plate, 1 car, 18.7ms\n",
            "Speed: 5.6ms preprocess, 18.7ms inference, 1.4ms postprocess per image at shape (1, 3, 672, 1024)\n",
            "\n",
            "0: 672x1024 1 number_plate, 1 car, 17.4ms\n",
            "Speed: 6.3ms preprocess, 17.4ms inference, 1.4ms postprocess per image at shape (1, 3, 672, 1024)\n",
            "\n",
            "0: 672x1024 1 number_plate, 1 car, 29.8ms\n",
            "Speed: 5.3ms preprocess, 29.8ms inference, 1.4ms postprocess per image at shape (1, 3, 672, 1024)\n",
            "\n",
            "0: 672x1024 1 number_plate, 2 cars, 17.8ms\n",
            "Speed: 7.2ms preprocess, 17.8ms inference, 1.4ms postprocess per image at shape (1, 3, 672, 1024)\n",
            "\n",
            "0: 672x1024 1 number_plate, 1 car, 18.0ms\n",
            "Speed: 7.3ms preprocess, 18.0ms inference, 1.3ms postprocess per image at shape (1, 3, 672, 1024)\n",
            "\n",
            "0: 672x1024 1 number_plate, 1 car, 20.0ms\n",
            "Speed: 4.9ms preprocess, 20.0ms inference, 1.6ms postprocess per image at shape (1, 3, 672, 1024)\n",
            "\n",
            "0: 672x1024 1 number_plate, 2 cars, 21.6ms\n",
            "Speed: 7.2ms preprocess, 21.6ms inference, 1.4ms postprocess per image at shape (1, 3, 672, 1024)\n",
            "\n",
            "0: 672x1024 1 number_plate, 3 cars, 21.3ms\n",
            "Speed: 5.7ms preprocess, 21.3ms inference, 1.4ms postprocess per image at shape (1, 3, 672, 1024)\n",
            "\n",
            "0: 672x1024 1 number_plate, 2 cars, 17.8ms\n",
            "Speed: 4.9ms preprocess, 17.8ms inference, 1.4ms postprocess per image at shape (1, 3, 672, 1024)\n",
            "\n",
            "0: 672x1024 1 number_plate, 3 cars, 18.1ms\n",
            "Speed: 6.7ms preprocess, 18.1ms inference, 1.3ms postprocess per image at shape (1, 3, 672, 1024)\n",
            "\n",
            "0: 672x1024 1 number_plate, 1 car, 18.0ms\n",
            "Speed: 7.8ms preprocess, 18.0ms inference, 1.5ms postprocess per image at shape (1, 3, 672, 1024)\n",
            "\n",
            "0: 672x1024 1 number_plate, 1 car, 17.7ms\n",
            "Speed: 5.0ms preprocess, 17.7ms inference, 1.4ms postprocess per image at shape (1, 3, 672, 1024)\n",
            "\n",
            "0: 672x1024 1 number_plate, 2 cars, 18.2ms\n",
            "Speed: 4.8ms preprocess, 18.2ms inference, 1.3ms postprocess per image at shape (1, 3, 672, 1024)\n",
            "\n",
            "0: 672x1024 1 number_plate, 1 car, 18.4ms\n",
            "Speed: 6.7ms preprocess, 18.4ms inference, 1.6ms postprocess per image at shape (1, 3, 672, 1024)\n",
            "\n",
            "0: 672x1024 1 number_plate, 1 car, 17.8ms\n",
            "Speed: 6.8ms preprocess, 17.8ms inference, 1.4ms postprocess per image at shape (1, 3, 672, 1024)\n",
            "\n",
            "0: 672x1024 1 number_plate, 2 cars, 17.5ms\n",
            "Speed: 7.2ms preprocess, 17.5ms inference, 1.5ms postprocess per image at shape (1, 3, 672, 1024)\n",
            "\n",
            "0: 672x1024 1 number_plate, 18.0ms\n",
            "Speed: 6.1ms preprocess, 18.0ms inference, 1.4ms postprocess per image at shape (1, 3, 672, 1024)\n",
            "\n",
            "0: 672x1024 1 number_plate, 17.6ms\n",
            "Speed: 7.0ms preprocess, 17.6ms inference, 1.4ms postprocess per image at shape (1, 3, 672, 1024)\n",
            "\n",
            "0: 672x1024 1 number_plate, 1 car, 24.7ms\n",
            "Speed: 5.6ms preprocess, 24.7ms inference, 1.5ms postprocess per image at shape (1, 3, 672, 1024)\n",
            "\n",
            "0: 672x1024 1 number_plate, 1 car, 28.4ms\n",
            "Speed: 8.3ms preprocess, 28.4ms inference, 1.9ms postprocess per image at shape (1, 3, 672, 1024)\n",
            "\n",
            "0: 672x1024 1 number_plate, 1 car, 25.6ms\n",
            "Speed: 7.9ms preprocess, 25.6ms inference, 1.7ms postprocess per image at shape (1, 3, 672, 1024)\n",
            "\n",
            "0: 672x1024 1 number_plate, 1 car, 23.7ms\n",
            "Speed: 6.5ms preprocess, 23.7ms inference, 1.4ms postprocess per image at shape (1, 3, 672, 1024)\n",
            "\n",
            "0: 672x1024 1 number_plate, 1 car, 17.4ms\n",
            "Speed: 6.6ms preprocess, 17.4ms inference, 1.6ms postprocess per image at shape (1, 3, 672, 1024)\n",
            "\n",
            "0: 672x1024 1 number_plate, 1 car, 17.6ms\n",
            "Speed: 7.3ms preprocess, 17.6ms inference, 1.4ms postprocess per image at shape (1, 3, 672, 1024)\n",
            "\n",
            "0: 672x1024 1 number_plate, 1 car, 27.5ms\n",
            "Speed: 6.4ms preprocess, 27.5ms inference, 1.5ms postprocess per image at shape (1, 3, 672, 1024)\n",
            "\n",
            "0: 672x1024 1 number_plate, 19.1ms\n",
            "Speed: 7.7ms preprocess, 19.1ms inference, 1.4ms postprocess per image at shape (1, 3, 672, 1024)\n",
            "\n",
            "0: 672x1024 1 number_plate, 1 car, 17.8ms\n",
            "Speed: 7.3ms preprocess, 17.8ms inference, 1.4ms postprocess per image at shape (1, 3, 672, 1024)\n",
            "\n",
            "0: 672x1024 1 number_plate, 1 car, 17.7ms\n",
            "Speed: 6.3ms preprocess, 17.7ms inference, 1.4ms postprocess per image at shape (1, 3, 672, 1024)\n",
            "\n",
            "0: 672x1024 1 number_plate, 1 car, 26.1ms\n",
            "Speed: 8.6ms preprocess, 26.1ms inference, 1.5ms postprocess per image at shape (1, 3, 672, 1024)\n",
            "\n",
            "0: 672x1024 1 number_plate, 1 car, 17.8ms\n",
            "Speed: 6.7ms preprocess, 17.8ms inference, 1.4ms postprocess per image at shape (1, 3, 672, 1024)\n",
            "\n",
            "0: 672x1024 1 number_plate, 1 car, 18.4ms\n",
            "Speed: 7.2ms preprocess, 18.4ms inference, 1.5ms postprocess per image at shape (1, 3, 672, 1024)\n",
            "\n",
            "0: 672x1024 1 number_plate, 1 car, 17.9ms\n",
            "Speed: 6.3ms preprocess, 17.9ms inference, 1.4ms postprocess per image at shape (1, 3, 672, 1024)\n",
            "\n",
            "0: 672x1024 1 number_plate, 1 car, 18.3ms\n",
            "Speed: 6.3ms preprocess, 18.3ms inference, 1.5ms postprocess per image at shape (1, 3, 672, 1024)\n",
            "\n",
            "0: 672x1024 1 number_plate, 18.8ms\n",
            "Speed: 7.9ms preprocess, 18.8ms inference, 1.4ms postprocess per image at shape (1, 3, 672, 1024)\n",
            "\n",
            "0: 672x1024 1 number_plate, 18.9ms\n",
            "Speed: 7.0ms preprocess, 18.9ms inference, 1.4ms postprocess per image at shape (1, 3, 672, 1024)\n",
            "\n",
            "0: 672x1024 1 number_plate, 1 car, 18.4ms\n",
            "Speed: 7.5ms preprocess, 18.4ms inference, 1.4ms postprocess per image at shape (1, 3, 672, 1024)\n",
            "\n",
            "0: 672x1024 1 number_plate, 1 car, 18.5ms\n",
            "Speed: 6.5ms preprocess, 18.5ms inference, 1.4ms postprocess per image at shape (1, 3, 672, 1024)\n",
            "\n",
            "0: 672x1024 1 number_plate, 18.6ms\n",
            "Speed: 7.4ms preprocess, 18.6ms inference, 1.5ms postprocess per image at shape (1, 3, 672, 1024)\n",
            "\n",
            "0: 672x1024 1 number_plate, 1 car, 19.0ms\n",
            "Speed: 7.2ms preprocess, 19.0ms inference, 1.5ms postprocess per image at shape (1, 3, 672, 1024)\n",
            "\n",
            "0: 672x1024 1 number_plate, 1 car, 31.3ms\n",
            "Speed: 11.8ms preprocess, 31.3ms inference, 2.6ms postprocess per image at shape (1, 3, 672, 1024)\n",
            "\n",
            "0: 672x1024 1 number_plate, 40.1ms\n",
            "Speed: 7.6ms preprocess, 40.1ms inference, 2.5ms postprocess per image at shape (1, 3, 672, 1024)\n",
            "\n",
            "0: 672x1024 1 number_plate, 39.4ms\n",
            "Speed: 8.7ms preprocess, 39.4ms inference, 2.5ms postprocess per image at shape (1, 3, 672, 1024)\n",
            "\n",
            "0: 672x1024 1 number_plate, 27.3ms\n",
            "Speed: 7.3ms preprocess, 27.3ms inference, 2.0ms postprocess per image at shape (1, 3, 672, 1024)\n",
            "\n",
            "0: 672x1024 1 number_plate, 32.0ms\n",
            "Speed: 7.7ms preprocess, 32.0ms inference, 1.5ms postprocess per image at shape (1, 3, 672, 1024)\n",
            "\n",
            "0: 672x1024 1 number_plate, 31.0ms\n",
            "Speed: 8.7ms preprocess, 31.0ms inference, 1.9ms postprocess per image at shape (1, 3, 672, 1024)\n",
            "\n",
            "0: 672x1024 1 number_plate, 1 car, 28.0ms\n",
            "Speed: 7.8ms preprocess, 28.0ms inference, 1.7ms postprocess per image at shape (1, 3, 672, 1024)\n",
            "\n",
            "0: 672x1024 1 number_plate, 2 cars, 36.3ms\n",
            "Speed: 7.3ms preprocess, 36.3ms inference, 5.3ms postprocess per image at shape (1, 3, 672, 1024)\n",
            "\n",
            "0: 672x1024 1 number_plate, 2 cars, 21.4ms\n",
            "Speed: 7.7ms preprocess, 21.4ms inference, 1.7ms postprocess per image at shape (1, 3, 672, 1024)\n",
            "\n",
            "0: 672x1024 (no detections), 26.9ms\n",
            "Speed: 7.7ms preprocess, 26.9ms inference, 0.8ms postprocess per image at shape (1, 3, 672, 1024)\n",
            "\n",
            "0: 672x1024 (no detections), 24.7ms\n",
            "Speed: 7.8ms preprocess, 24.7ms inference, 0.8ms postprocess per image at shape (1, 3, 672, 1024)\n",
            "\n",
            "0: 672x1024 1 bike, 26.3ms\n",
            "Speed: 7.9ms preprocess, 26.3ms inference, 1.8ms postprocess per image at shape (1, 3, 672, 1024)\n",
            "\n",
            "0: 672x1024 1 bike, 24.6ms\n",
            "Speed: 8.4ms preprocess, 24.6ms inference, 1.9ms postprocess per image at shape (1, 3, 672, 1024)\n",
            "\n",
            "0: 672x1024 (no detections), 24.8ms\n",
            "Speed: 7.6ms preprocess, 24.8ms inference, 1.3ms postprocess per image at shape (1, 3, 672, 1024)\n",
            "\n",
            "0: 672x1024 (no detections), 23.1ms\n",
            "Speed: 7.7ms preprocess, 23.1ms inference, 0.8ms postprocess per image at shape (1, 3, 672, 1024)\n",
            "\n",
            "0: 672x1024 (no detections), 24.7ms\n",
            "Speed: 7.5ms preprocess, 24.7ms inference, 0.8ms postprocess per image at shape (1, 3, 672, 1024)\n",
            "\n",
            "0: 672x1024 (no detections), 28.9ms\n",
            "Speed: 8.5ms preprocess, 28.9ms inference, 0.8ms postprocess per image at shape (1, 3, 672, 1024)\n",
            "\n",
            "0: 672x1024 (no detections), 28.1ms\n",
            "Speed: 12.4ms preprocess, 28.1ms inference, 0.8ms postprocess per image at shape (1, 3, 672, 1024)\n",
            "\n",
            "0: 672x1024 (no detections), 24.0ms\n",
            "Speed: 9.6ms preprocess, 24.0ms inference, 0.7ms postprocess per image at shape (1, 3, 672, 1024)\n",
            "\n",
            "0: 672x1024 (no detections), 23.5ms\n",
            "Speed: 8.4ms preprocess, 23.5ms inference, 0.8ms postprocess per image at shape (1, 3, 672, 1024)\n",
            "\n",
            "0: 672x1024 (no detections), 21.6ms\n",
            "Speed: 8.0ms preprocess, 21.6ms inference, 0.8ms postprocess per image at shape (1, 3, 672, 1024)\n",
            "\n",
            "0: 672x1024 (no detections), 21.5ms\n",
            "Speed: 7.7ms preprocess, 21.5ms inference, 0.7ms postprocess per image at shape (1, 3, 672, 1024)\n",
            "\n",
            "0: 672x1024 (no detections), 29.3ms\n",
            "Speed: 10.1ms preprocess, 29.3ms inference, 0.8ms postprocess per image at shape (1, 3, 672, 1024)\n",
            "\n",
            "0: 672x1024 (no detections), 27.9ms\n",
            "Speed: 10.9ms preprocess, 27.9ms inference, 0.8ms postprocess per image at shape (1, 3, 672, 1024)\n",
            "\n",
            "0: 672x1024 (no detections), 24.6ms\n",
            "Speed: 8.8ms preprocess, 24.6ms inference, 0.8ms postprocess per image at shape (1, 3, 672, 1024)\n",
            "\n",
            "0: 672x1024 (no detections), 22.5ms\n",
            "Speed: 7.5ms preprocess, 22.5ms inference, 0.8ms postprocess per image at shape (1, 3, 672, 1024)\n",
            "\n",
            "0: 672x1024 (no detections), 23.5ms\n",
            "Speed: 8.2ms preprocess, 23.5ms inference, 0.8ms postprocess per image at shape (1, 3, 672, 1024)\n",
            "\n",
            "0: 672x1024 (no detections), 24.0ms\n",
            "Speed: 8.1ms preprocess, 24.0ms inference, 0.8ms postprocess per image at shape (1, 3, 672, 1024)\n",
            "\n",
            "0: 672x1024 (no detections), 25.2ms\n",
            "Speed: 8.5ms preprocess, 25.2ms inference, 0.8ms postprocess per image at shape (1, 3, 672, 1024)\n",
            "\n",
            "0: 672x1024 (no detections), 25.7ms\n",
            "Speed: 9.0ms preprocess, 25.7ms inference, 1.0ms postprocess per image at shape (1, 3, 672, 1024)\n",
            "\n",
            "0: 672x1024 (no detections), 33.9ms\n",
            "Speed: 10.8ms preprocess, 33.9ms inference, 1.1ms postprocess per image at shape (1, 3, 672, 1024)\n",
            "\n",
            "0: 672x1024 (no detections), 35.5ms\n",
            "Speed: 12.0ms preprocess, 35.5ms inference, 1.1ms postprocess per image at shape (1, 3, 672, 1024)\n",
            "\n",
            "0: 672x1024 (no detections), 25.5ms\n",
            "Speed: 7.5ms preprocess, 25.5ms inference, 0.9ms postprocess per image at shape (1, 3, 672, 1024)\n",
            "\n",
            "0: 672x1024 (no detections), 43.8ms\n",
            "Speed: 13.2ms preprocess, 43.8ms inference, 0.9ms postprocess per image at shape (1, 3, 672, 1024)\n",
            "\n",
            "0: 672x1024 (no detections), 34.7ms\n",
            "Speed: 9.3ms preprocess, 34.7ms inference, 1.0ms postprocess per image at shape (1, 3, 672, 1024)\n",
            "\n",
            "0: 672x1024 (no detections), 39.6ms\n",
            "Speed: 13.3ms preprocess, 39.6ms inference, 0.9ms postprocess per image at shape (1, 3, 672, 1024)\n",
            "\n",
            "0: 672x1024 (no detections), 22.4ms\n",
            "Speed: 9.8ms preprocess, 22.4ms inference, 0.8ms postprocess per image at shape (1, 3, 672, 1024)\n",
            "\n",
            "0: 672x1024 (no detections), 26.4ms\n",
            "Speed: 7.7ms preprocess, 26.4ms inference, 0.9ms postprocess per image at shape (1, 3, 672, 1024)\n",
            "\n",
            "0: 672x1024 (no detections), 33.6ms\n",
            "Speed: 11.5ms preprocess, 33.6ms inference, 0.9ms postprocess per image at shape (1, 3, 672, 1024)\n",
            "\n",
            "0: 672x1024 (no detections), 39.1ms\n",
            "Speed: 7.9ms preprocess, 39.1ms inference, 0.9ms postprocess per image at shape (1, 3, 672, 1024)\n",
            "\n",
            "0: 672x1024 (no detections), 33.7ms\n",
            "Speed: 11.6ms preprocess, 33.7ms inference, 0.9ms postprocess per image at shape (1, 3, 672, 1024)\n",
            "\n",
            "0: 672x1024 (no detections), 32.2ms\n",
            "Speed: 8.5ms preprocess, 32.2ms inference, 1.0ms postprocess per image at shape (1, 3, 672, 1024)\n",
            "\n",
            "0: 672x1024 (no detections), 30.5ms\n",
            "Speed: 9.2ms preprocess, 30.5ms inference, 0.9ms postprocess per image at shape (1, 3, 672, 1024)\n",
            "\n",
            "0: 672x1024 1 car, 29.7ms\n",
            "Speed: 8.1ms preprocess, 29.7ms inference, 2.1ms postprocess per image at shape (1, 3, 672, 1024)\n",
            "\n",
            "0: 672x1024 2 cars, 25.9ms\n",
            "Speed: 8.5ms preprocess, 25.9ms inference, 1.9ms postprocess per image at shape (1, 3, 672, 1024)\n",
            "\n",
            "0: 672x1024 1 number_plate, 2 cars, 27.8ms\n",
            "Speed: 9.5ms preprocess, 27.8ms inference, 2.1ms postprocess per image at shape (1, 3, 672, 1024)\n",
            "\n",
            "0: 672x1024 1 number_plate, 1 car, 25.9ms\n",
            "Speed: 9.3ms preprocess, 25.9ms inference, 1.9ms postprocess per image at shape (1, 3, 672, 1024)\n",
            "\n",
            "0: 672x1024 1 number_plate, 33.3ms\n",
            "Speed: 9.0ms preprocess, 33.3ms inference, 3.0ms postprocess per image at shape (1, 3, 672, 1024)\n",
            "\n",
            "0: 672x1024 1 number_plate, 32.1ms\n",
            "Speed: 10.5ms preprocess, 32.1ms inference, 2.0ms postprocess per image at shape (1, 3, 672, 1024)\n",
            "\n",
            "0: 672x1024 1 number_plate, 2 cars, 26.1ms\n",
            "Speed: 8.7ms preprocess, 26.1ms inference, 2.0ms postprocess per image at shape (1, 3, 672, 1024)\n",
            "\n",
            "0: 672x1024 1 number_plate, 2 cars, 26.6ms\n",
            "Speed: 10.1ms preprocess, 26.6ms inference, 2.9ms postprocess per image at shape (1, 3, 672, 1024)\n",
            "\n",
            "0: 672x1024 1 number_plate, 31.6ms\n",
            "Speed: 7.6ms preprocess, 31.6ms inference, 2.1ms postprocess per image at shape (1, 3, 672, 1024)\n",
            "\n",
            "0: 672x1024 1 number_plate, 2 cars, 26.4ms\n",
            "Speed: 7.5ms preprocess, 26.4ms inference, 1.9ms postprocess per image at shape (1, 3, 672, 1024)\n",
            "\n",
            "0: 672x1024 1 number_plate, 28.4ms\n",
            "Speed: 8.2ms preprocess, 28.4ms inference, 2.1ms postprocess per image at shape (1, 3, 672, 1024)\n",
            "\n",
            "0: 672x1024 1 number_plate, 36.1ms\n",
            "Speed: 8.1ms preprocess, 36.1ms inference, 2.1ms postprocess per image at shape (1, 3, 672, 1024)\n",
            "\n",
            "0: 672x1024 1 number_plate, 1 car, 1 truck, 29.8ms\n",
            "Speed: 10.7ms preprocess, 29.8ms inference, 2.1ms postprocess per image at shape (1, 3, 672, 1024)\n",
            "\n",
            "0: 672x1024 1 number_plate, 1 car, 1 truck, 27.3ms\n",
            "Speed: 8.0ms preprocess, 27.3ms inference, 2.0ms postprocess per image at shape (1, 3, 672, 1024)\n",
            "\n",
            "0: 672x1024 1 number_plate, 1 truck, 29.9ms\n",
            "Speed: 7.5ms preprocess, 29.9ms inference, 3.5ms postprocess per image at shape (1, 3, 672, 1024)\n",
            "\n",
            "0: 672x1024 1 number_plate, 1 car, 1 truck, 26.5ms\n",
            "Speed: 10.0ms preprocess, 26.5ms inference, 2.0ms postprocess per image at shape (1, 3, 672, 1024)\n",
            "\n",
            "0: 672x1024 1 number_plate, 1 car, 1 truck, 26.8ms\n",
            "Speed: 8.1ms preprocess, 26.8ms inference, 2.0ms postprocess per image at shape (1, 3, 672, 1024)\n",
            "\n",
            "0: 672x1024 1 number_plate, 1 car, 28.8ms\n",
            "Speed: 8.8ms preprocess, 28.8ms inference, 2.0ms postprocess per image at shape (1, 3, 672, 1024)\n",
            "\n",
            "0: 672x1024 1 number_plate, 1 car, 39.4ms\n",
            "Speed: 8.1ms preprocess, 39.4ms inference, 3.7ms postprocess per image at shape (1, 3, 672, 1024)\n",
            "\n",
            "0: 672x1024 1 number_plate, 1 car, 32.5ms\n",
            "Speed: 7.5ms preprocess, 32.5ms inference, 1.9ms postprocess per image at shape (1, 3, 672, 1024)\n",
            "\n",
            "0: 672x1024 1 number_plate, 1 car, 31.3ms\n",
            "Speed: 8.6ms preprocess, 31.3ms inference, 2.0ms postprocess per image at shape (1, 3, 672, 1024)\n",
            "\n",
            "0: 672x1024 1 number_plate, 2 cars, 33.3ms\n",
            "Speed: 8.4ms preprocess, 33.3ms inference, 2.1ms postprocess per image at shape (1, 3, 672, 1024)\n",
            "\n",
            "0: 672x1024 1 number_plate, 2 cars, 26.7ms\n",
            "Speed: 8.5ms preprocess, 26.7ms inference, 2.0ms postprocess per image at shape (1, 3, 672, 1024)\n",
            "\n",
            "0: 672x1024 1 number_plate, 1 car, 27.1ms\n",
            "Speed: 7.8ms preprocess, 27.1ms inference, 2.0ms postprocess per image at shape (1, 3, 672, 1024)\n",
            "\n",
            "0: 672x1024 1 number_plate, 1 car, 33.4ms\n",
            "Speed: 9.2ms preprocess, 33.4ms inference, 2.3ms postprocess per image at shape (1, 3, 672, 1024)\n",
            "\n",
            "0: 672x1024 1 number_plate, 1 car, 33.1ms\n",
            "Speed: 10.1ms preprocess, 33.1ms inference, 2.0ms postprocess per image at shape (1, 3, 672, 1024)\n",
            "\n",
            "0: 672x1024 1 number_plate, 1 car, 36.0ms\n",
            "Speed: 8.3ms preprocess, 36.0ms inference, 6.0ms postprocess per image at shape (1, 3, 672, 1024)\n",
            "\n",
            "0: 672x1024 1 number_plate, 1 car, 33.1ms\n",
            "Speed: 9.5ms preprocess, 33.1ms inference, 2.0ms postprocess per image at shape (1, 3, 672, 1024)\n",
            "\n",
            "0: 672x1024 1 number_plate, 1 car, 29.6ms\n",
            "Speed: 7.6ms preprocess, 29.6ms inference, 2.0ms postprocess per image at shape (1, 3, 672, 1024)\n",
            "\n",
            "0: 672x1024 1 number_plate, 1 car, 26.7ms\n",
            "Speed: 7.6ms preprocess, 26.7ms inference, 1.9ms postprocess per image at shape (1, 3, 672, 1024)\n",
            "\n",
            "0: 672x1024 1 number_plate, 1 car, 28.5ms\n",
            "Speed: 8.5ms preprocess, 28.5ms inference, 2.0ms postprocess per image at shape (1, 3, 672, 1024)\n",
            "\n",
            "0: 672x1024 1 number_plate, 1 car, 28.6ms\n",
            "Speed: 8.2ms preprocess, 28.6ms inference, 2.1ms postprocess per image at shape (1, 3, 672, 1024)\n",
            "\n",
            "0: 672x1024 1 number_plate, 1 car, 27.2ms\n",
            "Speed: 7.8ms preprocess, 27.2ms inference, 2.4ms postprocess per image at shape (1, 3, 672, 1024)\n",
            "\n",
            "0: 672x1024 1 number_plate, 1 car, 43.1ms\n",
            "Speed: 10.8ms preprocess, 43.1ms inference, 4.4ms postprocess per image at shape (1, 3, 672, 1024)\n",
            "\n",
            "0: 672x1024 1 number_plate, 1 car, 43.4ms\n",
            "Speed: 8.6ms preprocess, 43.4ms inference, 1.9ms postprocess per image at shape (1, 3, 672, 1024)\n",
            "\n",
            "0: 672x1024 1 number_plate, 26.8ms\n",
            "Speed: 8.8ms preprocess, 26.8ms inference, 1.9ms postprocess per image at shape (1, 3, 672, 1024)\n",
            "\n",
            "0: 672x1024 1 number_plate, 2 cars, 26.0ms\n",
            "Speed: 8.3ms preprocess, 26.0ms inference, 2.0ms postprocess per image at shape (1, 3, 672, 1024)\n",
            "\n",
            "0: 672x1024 1 number_plate, 2 cars, 26.7ms\n",
            "Speed: 8.4ms preprocess, 26.7ms inference, 1.8ms postprocess per image at shape (1, 3, 672, 1024)\n",
            "\n",
            "0: 672x1024 1 number_plate, 1 car, 26.8ms\n",
            "Speed: 7.5ms preprocess, 26.8ms inference, 1.8ms postprocess per image at shape (1, 3, 672, 1024)\n",
            "\n",
            "0: 672x1024 1 number_plate, 1 car, 32.7ms\n",
            "Speed: 7.9ms preprocess, 32.7ms inference, 2.1ms postprocess per image at shape (1, 3, 672, 1024)\n",
            "\n",
            "0: 672x1024 1 number_plate, 1 car, 28.9ms\n",
            "Speed: 8.5ms preprocess, 28.9ms inference, 2.0ms postprocess per image at shape (1, 3, 672, 1024)\n",
            "\n",
            "0: 672x1024 1 number_plate, 1 car, 26.7ms\n",
            "Speed: 8.7ms preprocess, 26.7ms inference, 2.0ms postprocess per image at shape (1, 3, 672, 1024)\n",
            "\n",
            "0: 672x1024 1 number_plate, 1 car, 26.7ms\n",
            "Speed: 7.7ms preprocess, 26.7ms inference, 2.0ms postprocess per image at shape (1, 3, 672, 1024)\n",
            "\n",
            "0: 672x1024 1 number_plate, 1 car, 29.3ms\n",
            "Speed: 8.5ms preprocess, 29.3ms inference, 2.0ms postprocess per image at shape (1, 3, 672, 1024)\n",
            "\n",
            "0: 672x1024 1 number_plate, 1 car, 28.1ms\n",
            "Speed: 10.3ms preprocess, 28.1ms inference, 2.0ms postprocess per image at shape (1, 3, 672, 1024)\n",
            "\n",
            "0: 672x1024 1 number_plate, 1 car, 27.5ms\n",
            "Speed: 10.7ms preprocess, 27.5ms inference, 2.1ms postprocess per image at shape (1, 3, 672, 1024)\n",
            "\n",
            "0: 672x1024 1 number_plate, 1 car, 27.7ms\n",
            "Speed: 7.9ms preprocess, 27.7ms inference, 1.9ms postprocess per image at shape (1, 3, 672, 1024)\n",
            "\n",
            "0: 672x1024 1 number_plate, 1 car, 26.0ms\n",
            "Speed: 8.3ms preprocess, 26.0ms inference, 1.9ms postprocess per image at shape (1, 3, 672, 1024)\n",
            "\n",
            "0: 672x1024 1 number_plate, 1 car, 37.4ms\n",
            "Speed: 11.8ms preprocess, 37.4ms inference, 2.6ms postprocess per image at shape (1, 3, 672, 1024)\n",
            "\n",
            "0: 672x1024 1 number_plate, 1 car, 36.6ms\n",
            "Speed: 9.5ms preprocess, 36.6ms inference, 3.0ms postprocess per image at shape (1, 3, 672, 1024)\n",
            "\n",
            "0: 672x1024 1 number_plate, 1 car, 27.0ms\n",
            "Speed: 8.2ms preprocess, 27.0ms inference, 1.9ms postprocess per image at shape (1, 3, 672, 1024)\n",
            "\n",
            "0: 672x1024 1 number_plate, 1 car, 25.9ms\n",
            "Speed: 8.5ms preprocess, 25.9ms inference, 1.9ms postprocess per image at shape (1, 3, 672, 1024)\n",
            "\n",
            "0: 672x1024 1 number_plate, 28.2ms\n",
            "Speed: 7.9ms preprocess, 28.2ms inference, 1.9ms postprocess per image at shape (1, 3, 672, 1024)\n",
            "\n",
            "0: 672x1024 1 number_plate, 1 car, 26.6ms\n",
            "Speed: 11.1ms preprocess, 26.6ms inference, 1.9ms postprocess per image at shape (1, 3, 672, 1024)\n",
            "\n",
            "0: 672x1024 1 number_plate, 26.1ms\n",
            "Speed: 7.3ms preprocess, 26.1ms inference, 1.9ms postprocess per image at shape (1, 3, 672, 1024)\n",
            "\n",
            "0: 672x1024 1 number_plate, 25.9ms\n",
            "Speed: 8.7ms preprocess, 25.9ms inference, 1.9ms postprocess per image at shape (1, 3, 672, 1024)\n",
            "\n",
            "0: 672x1024 1 number_plate, 25.8ms\n",
            "Speed: 7.5ms preprocess, 25.8ms inference, 1.8ms postprocess per image at shape (1, 3, 672, 1024)\n",
            "\n",
            "0: 672x1024 1 number_plate, 27.0ms\n",
            "Speed: 8.7ms preprocess, 27.0ms inference, 1.9ms postprocess per image at shape (1, 3, 672, 1024)\n",
            "\n",
            "0: 672x1024 1 number_plate, 26.4ms\n",
            "Speed: 8.6ms preprocess, 26.4ms inference, 2.0ms postprocess per image at shape (1, 3, 672, 1024)\n",
            "\n",
            "0: 672x1024 1 number_plate, 33.2ms\n",
            "Speed: 8.9ms preprocess, 33.2ms inference, 5.6ms postprocess per image at shape (1, 3, 672, 1024)\n",
            "\n",
            "0: 672x1024 1 number_plate, 29.4ms\n",
            "Speed: 10.1ms preprocess, 29.4ms inference, 1.9ms postprocess per image at shape (1, 3, 672, 1024)\n",
            "\n",
            "0: 672x1024 1 number_plate, 27.5ms\n",
            "Speed: 8.4ms preprocess, 27.5ms inference, 2.0ms postprocess per image at shape (1, 3, 672, 1024)\n",
            "\n",
            "0: 672x1024 1 number_plate, 26.3ms\n",
            "Speed: 8.4ms preprocess, 26.3ms inference, 1.9ms postprocess per image at shape (1, 3, 672, 1024)\n",
            "\n",
            "0: 672x1024 1 number_plate, 27.8ms\n",
            "Speed: 8.9ms preprocess, 27.8ms inference, 2.2ms postprocess per image at shape (1, 3, 672, 1024)\n",
            "\n",
            "0: 672x1024 1 number_plate, 36.2ms\n",
            "Speed: 8.8ms preprocess, 36.2ms inference, 2.4ms postprocess per image at shape (1, 3, 672, 1024)\n",
            "\n",
            "0: 672x1024 1 number_plate, 28.9ms\n",
            "Speed: 8.7ms preprocess, 28.9ms inference, 1.9ms postprocess per image at shape (1, 3, 672, 1024)\n",
            "\n",
            "0: 672x1024 1 number_plate, 26.3ms\n",
            "Speed: 8.5ms preprocess, 26.3ms inference, 1.9ms postprocess per image at shape (1, 3, 672, 1024)\n",
            "\n",
            "0: 672x1024 1 number_plate, 25.9ms\n",
            "Speed: 8.3ms preprocess, 25.9ms inference, 1.9ms postprocess per image at shape (1, 3, 672, 1024)\n",
            "\n",
            "0: 672x1024 1 number_plate, 27.7ms\n",
            "Speed: 7.9ms preprocess, 27.7ms inference, 2.2ms postprocess per image at shape (1, 3, 672, 1024)\n",
            "\n",
            "0: 672x1024 1 number_plate, 28.5ms\n",
            "Speed: 9.7ms preprocess, 28.5ms inference, 2.0ms postprocess per image at shape (1, 3, 672, 1024)\n",
            "\n",
            "0: 672x1024 1 number_plate, 27.9ms\n",
            "Speed: 8.1ms preprocess, 27.9ms inference, 2.0ms postprocess per image at shape (1, 3, 672, 1024)\n",
            "\n",
            "0: 672x1024 1 number_plate, 28.9ms\n",
            "Speed: 9.9ms preprocess, 28.9ms inference, 2.0ms postprocess per image at shape (1, 3, 672, 1024)\n",
            "\n",
            "0: 672x1024 1 number_plate, 30.1ms\n",
            "Speed: 8.4ms preprocess, 30.1ms inference, 2.0ms postprocess per image at shape (1, 3, 672, 1024)\n",
            "\n",
            "0: 672x1024 1 number_plate, 26.0ms\n",
            "Speed: 9.1ms preprocess, 26.0ms inference, 1.9ms postprocess per image at shape (1, 3, 672, 1024)\n",
            "\n",
            "0: 672x1024 1 number_plate, 26.1ms\n",
            "Speed: 8.6ms preprocess, 26.1ms inference, 1.9ms postprocess per image at shape (1, 3, 672, 1024)\n",
            "\n",
            "0: 672x1024 1 number_plate, 29.0ms\n",
            "Speed: 8.6ms preprocess, 29.0ms inference, 1.9ms postprocess per image at shape (1, 3, 672, 1024)\n",
            "\n",
            "0: 672x1024 1 number_plate, 33.1ms\n",
            "Speed: 8.1ms preprocess, 33.1ms inference, 2.0ms postprocess per image at shape (1, 3, 672, 1024)\n",
            "\n",
            "0: 672x1024 1 number_plate, 34.4ms\n",
            "Speed: 11.3ms preprocess, 34.4ms inference, 2.2ms postprocess per image at shape (1, 3, 672, 1024)\n",
            "\n",
            "0: 672x1024 1 number_plate, 27.2ms\n",
            "Speed: 7.4ms preprocess, 27.2ms inference, 2.0ms postprocess per image at shape (1, 3, 672, 1024)\n",
            "\n",
            "0: 672x1024 1 number_plate, 25.9ms\n",
            "Speed: 7.9ms preprocess, 25.9ms inference, 2.3ms postprocess per image at shape (1, 3, 672, 1024)\n",
            "\n",
            "0: 672x1024 1 number_plate, 36.4ms\n",
            "Speed: 8.4ms preprocess, 36.4ms inference, 2.6ms postprocess per image at shape (1, 3, 672, 1024)\n",
            "\n",
            "0: 672x1024 1 number_plate, 29.3ms\n",
            "Speed: 8.4ms preprocess, 29.3ms inference, 1.9ms postprocess per image at shape (1, 3, 672, 1024)\n",
            "\n",
            "0: 672x1024 1 number_plate, 28.8ms\n",
            "Speed: 8.4ms preprocess, 28.8ms inference, 2.1ms postprocess per image at shape (1, 3, 672, 1024)\n",
            "\n",
            "0: 672x1024 1 number_plate, 29.2ms\n",
            "Speed: 7.8ms preprocess, 29.2ms inference, 2.1ms postprocess per image at shape (1, 3, 672, 1024)\n",
            "\n",
            "0: 672x1024 1 number_plate, 31.4ms\n",
            "Speed: 7.9ms preprocess, 31.4ms inference, 2.1ms postprocess per image at shape (1, 3, 672, 1024)\n",
            "\n",
            "0: 672x1024 1 number_plate, 30.6ms\n",
            "Speed: 8.9ms preprocess, 30.6ms inference, 2.1ms postprocess per image at shape (1, 3, 672, 1024)\n",
            "\n",
            "0: 672x1024 1 number_plate, 33.3ms\n",
            "Speed: 7.5ms preprocess, 33.3ms inference, 4.0ms postprocess per image at shape (1, 3, 672, 1024)\n",
            "\n",
            "0: 672x1024 1 number_plate, 39.8ms\n",
            "Speed: 7.6ms preprocess, 39.8ms inference, 2.2ms postprocess per image at shape (1, 3, 672, 1024)\n",
            "\n",
            "0: 672x1024 1 number_plate, 36.6ms\n",
            "Speed: 8.6ms preprocess, 36.6ms inference, 2.1ms postprocess per image at shape (1, 3, 672, 1024)\n",
            "\n",
            "0: 672x1024 1 number_plate, 22.7ms\n",
            "Speed: 6.9ms preprocess, 22.7ms inference, 1.6ms postprocess per image at shape (1, 3, 672, 1024)\n",
            "\n",
            "0: 672x1024 1 number_plate, 22.7ms\n",
            "Speed: 7.2ms preprocess, 22.7ms inference, 1.4ms postprocess per image at shape (1, 3, 672, 1024)\n",
            "\n",
            "0: 672x1024 1 number_plate, 22.7ms\n",
            "Speed: 6.3ms preprocess, 22.7ms inference, 1.5ms postprocess per image at shape (1, 3, 672, 1024)\n",
            "\n",
            "0: 672x1024 1 number_plate, 22.7ms\n",
            "Speed: 7.6ms preprocess, 22.7ms inference, 1.4ms postprocess per image at shape (1, 3, 672, 1024)\n",
            "\n",
            "0: 672x1024 1 number_plate, 22.7ms\n",
            "Speed: 8.1ms preprocess, 22.7ms inference, 1.4ms postprocess per image at shape (1, 3, 672, 1024)\n",
            "\n",
            "0: 672x1024 1 number_plate, 27.7ms\n",
            "Speed: 8.6ms preprocess, 27.7ms inference, 1.4ms postprocess per image at shape (1, 3, 672, 1024)\n",
            "\n",
            "0: 672x1024 1 number_plate, 19.7ms\n",
            "Speed: 7.2ms preprocess, 19.7ms inference, 1.4ms postprocess per image at shape (1, 3, 672, 1024)\n",
            "\n",
            "0: 672x1024 1 number_plate, 19.3ms\n",
            "Speed: 7.7ms preprocess, 19.3ms inference, 1.4ms postprocess per image at shape (1, 3, 672, 1024)\n",
            "\n",
            "0: 672x1024 1 number_plate, 27.8ms\n",
            "Speed: 7.6ms preprocess, 27.8ms inference, 1.9ms postprocess per image at shape (1, 3, 672, 1024)\n",
            "\n",
            "0: 672x1024 1 number_plate, 26.6ms\n",
            "Speed: 8.7ms preprocess, 26.6ms inference, 1.8ms postprocess per image at shape (1, 3, 672, 1024)\n",
            "\n",
            "0: 672x1024 1 number_plate, 1 car, 20.8ms\n",
            "Speed: 9.4ms preprocess, 20.8ms inference, 1.4ms postprocess per image at shape (1, 3, 672, 1024)\n",
            "\n",
            "0: 672x1024 1 number_plate, 1 car, 19.3ms\n",
            "Speed: 8.2ms preprocess, 19.3ms inference, 1.4ms postprocess per image at shape (1, 3, 672, 1024)\n",
            "\n",
            "0: 672x1024 1 number_plate, 19.2ms\n",
            "Speed: 7.4ms preprocess, 19.2ms inference, 1.4ms postprocess per image at shape (1, 3, 672, 1024)\n",
            "\n",
            "0: 672x1024 1 number_plate, 1 car, 19.2ms\n",
            "Speed: 6.7ms preprocess, 19.2ms inference, 1.4ms postprocess per image at shape (1, 3, 672, 1024)\n",
            "\n",
            "0: 672x1024 1 number_plate, 19.3ms\n",
            "Speed: 6.8ms preprocess, 19.3ms inference, 1.4ms postprocess per image at shape (1, 3, 672, 1024)\n",
            "\n",
            "0: 672x1024 1 number_plate, 19.6ms\n",
            "Speed: 9.4ms preprocess, 19.6ms inference, 1.4ms postprocess per image at shape (1, 3, 672, 1024)\n",
            "\n",
            "0: 672x1024 1 number_plate, 19.2ms\n",
            "Speed: 7.0ms preprocess, 19.2ms inference, 1.4ms postprocess per image at shape (1, 3, 672, 1024)\n",
            "\n",
            "0: 672x1024 1 number_plate, 19.2ms\n",
            "Speed: 8.6ms preprocess, 19.2ms inference, 1.5ms postprocess per image at shape (1, 3, 672, 1024)\n",
            "\n",
            "0: 672x1024 2 number_plates, 1 car, 19.2ms\n",
            "Speed: 6.5ms preprocess, 19.2ms inference, 1.5ms postprocess per image at shape (1, 3, 672, 1024)\n",
            "\n",
            "0: 672x1024 2 number_plates, 1 car, 19.2ms\n",
            "Speed: 6.8ms preprocess, 19.2ms inference, 1.4ms postprocess per image at shape (1, 3, 672, 1024)\n",
            "\n",
            "0: 672x1024 1 number_plate, 1 car, 19.3ms\n",
            "Speed: 6.8ms preprocess, 19.3ms inference, 1.4ms postprocess per image at shape (1, 3, 672, 1024)\n",
            "\n",
            "0: 672x1024 1 number_plate, 1 car, 20.6ms\n",
            "Speed: 8.5ms preprocess, 20.6ms inference, 1.5ms postprocess per image at shape (1, 3, 672, 1024)\n",
            "\n",
            "0: 672x1024 1 number_plate, 1 car, 18.7ms\n",
            "Speed: 7.4ms preprocess, 18.7ms inference, 1.4ms postprocess per image at shape (1, 3, 672, 1024)\n",
            "\n",
            "0: 672x1024 1 number_plate, 1 car, 17.9ms\n",
            "Speed: 9.3ms preprocess, 17.9ms inference, 1.3ms postprocess per image at shape (1, 3, 672, 1024)\n",
            "\n",
            "0: 672x1024 1 number_plate, 1 car, 18.7ms\n",
            "Speed: 7.4ms preprocess, 18.7ms inference, 1.5ms postprocess per image at shape (1, 3, 672, 1024)\n",
            "\n",
            "0: 672x1024 1 number_plate, 19.0ms\n",
            "Speed: 7.0ms preprocess, 19.0ms inference, 1.4ms postprocess per image at shape (1, 3, 672, 1024)\n",
            "\n",
            "0: 672x1024 1 number_plate, 1 car, 18.6ms\n",
            "Speed: 7.0ms preprocess, 18.6ms inference, 1.4ms postprocess per image at shape (1, 3, 672, 1024)\n",
            "\n",
            "0: 672x1024 1 number_plate, 25.2ms\n",
            "Speed: 10.1ms preprocess, 25.2ms inference, 1.4ms postprocess per image at shape (1, 3, 672, 1024)\n",
            "\n",
            "0: 672x1024 1 number_plate, 1 car, 18.5ms\n",
            "Speed: 7.0ms preprocess, 18.5ms inference, 1.5ms postprocess per image at shape (1, 3, 672, 1024)\n",
            "\n",
            "0: 672x1024 1 number_plate, 1 car, 27.7ms\n",
            "Speed: 6.7ms preprocess, 27.7ms inference, 1.9ms postprocess per image at shape (1, 3, 672, 1024)\n",
            "\n",
            "0: 672x1024 1 number_plate, 1 car, 31.2ms\n",
            "Speed: 9.5ms preprocess, 31.2ms inference, 2.1ms postprocess per image at shape (1, 3, 672, 1024)\n",
            "\n",
            "0: 672x1024 1 car, 23.9ms\n",
            "Speed: 7.9ms preprocess, 23.9ms inference, 1.8ms postprocess per image at shape (1, 3, 672, 1024)\n",
            "\n",
            "0: 672x1024 (no detections), 18.4ms\n",
            "Speed: 9.3ms preprocess, 18.4ms inference, 0.6ms postprocess per image at shape (1, 3, 672, 1024)\n",
            "\n",
            "0: 672x1024 1 car, 18.3ms\n",
            "Speed: 7.4ms preprocess, 18.3ms inference, 1.4ms postprocess per image at shape (1, 3, 672, 1024)\n",
            "\n",
            "0: 672x1024 1 car, 18.3ms\n",
            "Speed: 7.2ms preprocess, 18.3ms inference, 1.4ms postprocess per image at shape (1, 3, 672, 1024)\n",
            "\n",
            "0: 672x1024 (no detections), 19.8ms\n",
            "Speed: 8.7ms preprocess, 19.8ms inference, 0.6ms postprocess per image at shape (1, 3, 672, 1024)\n",
            "\n",
            "0: 672x1024 (no detections), 18.4ms\n",
            "Speed: 5.0ms preprocess, 18.4ms inference, 0.6ms postprocess per image at shape (1, 3, 672, 1024)\n",
            "\n",
            "0: 672x1024 1 bike, 18.4ms\n",
            "Speed: 7.6ms preprocess, 18.4ms inference, 1.4ms postprocess per image at shape (1, 3, 672, 1024)\n",
            "\n",
            "0: 672x1024 1 bike, 18.9ms\n",
            "Speed: 7.6ms preprocess, 18.9ms inference, 1.4ms postprocess per image at shape (1, 3, 672, 1024)\n",
            "\n",
            "0: 672x1024 1 bike, 18.0ms\n",
            "Speed: 5.8ms preprocess, 18.0ms inference, 1.4ms postprocess per image at shape (1, 3, 672, 1024)\n",
            "\n",
            "0: 672x1024 (no detections), 23.0ms\n",
            "Speed: 5.3ms preprocess, 23.0ms inference, 0.6ms postprocess per image at shape (1, 3, 672, 1024)\n",
            "\n",
            "0: 672x1024 1 car, 18.1ms\n",
            "Speed: 7.3ms preprocess, 18.1ms inference, 1.4ms postprocess per image at shape (1, 3, 672, 1024)\n",
            "\n",
            "0: 672x1024 1 car, 18.3ms\n",
            "Speed: 7.2ms preprocess, 18.3ms inference, 1.4ms postprocess per image at shape (1, 3, 672, 1024)\n",
            "\n",
            "0: 672x1024 1 car, 20.9ms\n",
            "Speed: 7.5ms preprocess, 20.9ms inference, 1.4ms postprocess per image at shape (1, 3, 672, 1024)\n",
            "\n",
            "0: 672x1024 1 car, 19.2ms\n",
            "Speed: 7.7ms preprocess, 19.2ms inference, 1.4ms postprocess per image at shape (1, 3, 672, 1024)\n",
            "\n",
            "0: 672x1024 (no detections), 18.9ms\n",
            "Speed: 7.5ms preprocess, 18.9ms inference, 0.6ms postprocess per image at shape (1, 3, 672, 1024)\n",
            "\n",
            "0: 672x1024 (no detections), 20.0ms\n",
            "Speed: 7.5ms preprocess, 20.0ms inference, 0.6ms postprocess per image at shape (1, 3, 672, 1024)\n",
            "\n",
            "0: 672x1024 (no detections), 18.6ms\n",
            "Speed: 7.8ms preprocess, 18.6ms inference, 0.6ms postprocess per image at shape (1, 3, 672, 1024)\n",
            "\n",
            "0: 672x1024 (no detections), 31.2ms\n",
            "Speed: 7.4ms preprocess, 31.2ms inference, 0.7ms postprocess per image at shape (1, 3, 672, 1024)\n",
            "\n",
            "0: 672x1024 (no detections), 23.8ms\n",
            "Speed: 9.0ms preprocess, 23.8ms inference, 0.8ms postprocess per image at shape (1, 3, 672, 1024)\n",
            "\n",
            "0: 672x1024 (no detections), 25.6ms\n",
            "Speed: 10.7ms preprocess, 25.6ms inference, 0.8ms postprocess per image at shape (1, 3, 672, 1024)\n",
            "\n",
            "0: 672x1024 (no detections), 27.2ms\n",
            "Speed: 8.3ms preprocess, 27.2ms inference, 0.9ms postprocess per image at shape (1, 3, 672, 1024)\n",
            "\n",
            "0: 672x1024 (no detections), 22.9ms\n",
            "Speed: 8.1ms preprocess, 22.9ms inference, 0.6ms postprocess per image at shape (1, 3, 672, 1024)\n",
            "\n",
            "0: 672x1024 (no detections), 18.0ms\n",
            "Speed: 5.2ms preprocess, 18.0ms inference, 0.6ms postprocess per image at shape (1, 3, 672, 1024)\n",
            "\n",
            "0: 672x1024 (no detections), 17.5ms\n",
            "Speed: 7.5ms preprocess, 17.5ms inference, 0.8ms postprocess per image at shape (1, 3, 672, 1024)\n",
            "\n",
            "0: 672x1024 (no detections), 18.9ms\n",
            "Speed: 7.2ms preprocess, 18.9ms inference, 0.6ms postprocess per image at shape (1, 3, 672, 1024)\n",
            "\n",
            "0: 672x1024 (no detections), 18.5ms\n",
            "Speed: 6.6ms preprocess, 18.5ms inference, 0.6ms postprocess per image at shape (1, 3, 672, 1024)\n",
            "\n",
            "0: 672x1024 (no detections), 18.2ms\n",
            "Speed: 8.5ms preprocess, 18.2ms inference, 0.6ms postprocess per image at shape (1, 3, 672, 1024)\n",
            "\n",
            "0: 672x1024 (no detections), 19.3ms\n",
            "Speed: 8.8ms preprocess, 19.3ms inference, 0.7ms postprocess per image at shape (1, 3, 672, 1024)\n",
            "\n",
            "0: 672x1024 (no detections), 18.6ms\n",
            "Speed: 7.8ms preprocess, 18.6ms inference, 0.6ms postprocess per image at shape (1, 3, 672, 1024)\n",
            "\n",
            "0: 672x1024 (no detections), 17.8ms\n",
            "Speed: 5.3ms preprocess, 17.8ms inference, 0.6ms postprocess per image at shape (1, 3, 672, 1024)\n",
            "\n",
            "0: 672x1024 (no detections), 27.6ms\n",
            "Speed: 7.9ms preprocess, 27.6ms inference, 0.6ms postprocess per image at shape (1, 3, 672, 1024)\n",
            "\n",
            "0: 672x1024 (no detections), 18.0ms\n",
            "Speed: 7.6ms preprocess, 18.0ms inference, 0.7ms postprocess per image at shape (1, 3, 672, 1024)\n",
            "\n",
            "0: 672x1024 (no detections), 18.7ms\n",
            "Speed: 7.5ms preprocess, 18.7ms inference, 0.6ms postprocess per image at shape (1, 3, 672, 1024)\n",
            "\n",
            "0: 672x1024 (no detections), 19.5ms\n",
            "Speed: 7.5ms preprocess, 19.5ms inference, 0.6ms postprocess per image at shape (1, 3, 672, 1024)\n",
            "\n",
            "0: 672x1024 (no detections), 18.1ms\n",
            "Speed: 7.3ms preprocess, 18.1ms inference, 0.6ms postprocess per image at shape (1, 3, 672, 1024)\n",
            "\n",
            "0: 672x1024 (no detections), 18.0ms\n",
            "Speed: 7.3ms preprocess, 18.0ms inference, 0.6ms postprocess per image at shape (1, 3, 672, 1024)\n",
            "\n",
            "0: 672x1024 1 car, 18.2ms\n",
            "Speed: 7.2ms preprocess, 18.2ms inference, 1.4ms postprocess per image at shape (1, 3, 672, 1024)\n",
            "\n",
            "0: 672x1024 (no detections), 18.9ms\n",
            "Speed: 7.2ms preprocess, 18.9ms inference, 0.8ms postprocess per image at shape (1, 3, 672, 1024)\n",
            "\n",
            "0: 672x1024 (no detections), 18.5ms\n",
            "Speed: 7.6ms preprocess, 18.5ms inference, 0.6ms postprocess per image at shape (1, 3, 672, 1024)\n",
            "\n",
            "0: 672x1024 1 number_plate, 24.6ms\n",
            "Speed: 10.7ms preprocess, 24.6ms inference, 1.9ms postprocess per image at shape (1, 3, 672, 1024)\n",
            "\n",
            "0: 672x1024 1 number_plate, 1 car, 27.7ms\n",
            "Speed: 7.6ms preprocess, 27.7ms inference, 1.9ms postprocess per image at shape (1, 3, 672, 1024)\n",
            "\n",
            "0: 672x1024 1 number_plate, 24.8ms\n",
            "Speed: 9.7ms preprocess, 24.8ms inference, 1.8ms postprocess per image at shape (1, 3, 672, 1024)\n",
            "\n",
            "0: 672x1024 1 number_plate, 27.2ms\n",
            "Speed: 6.5ms preprocess, 27.2ms inference, 1.4ms postprocess per image at shape (1, 3, 672, 1024)\n"
          ]
        },
        {
          "data": {
            "application/javascript": "\n    async function download(id, filename, size) {\n      if (!google.colab.kernel.accessAllowed) {\n        return;\n      }\n      const div = document.createElement('div');\n      const label = document.createElement('label');\n      label.textContent = `Downloading \"${filename}\": `;\n      div.appendChild(label);\n      const progress = document.createElement('progress');\n      progress.max = size;\n      div.appendChild(progress);\n      document.body.appendChild(div);\n\n      const buffers = [];\n      let downloaded = 0;\n\n      const channel = await google.colab.kernel.comms.open(id);\n      // Send a message to notify the kernel that we're ready.\n      channel.send({})\n\n      for await (const message of channel.messages) {\n        // Send a message to notify the kernel that we're ready.\n        channel.send({})\n        if (message.buffers) {\n          for (const buffer of message.buffers) {\n            buffers.push(buffer);\n            downloaded += buffer.byteLength;\n            progress.value = downloaded;\n          }\n        }\n      }\n      const blob = new Blob(buffers, {type: 'application/binary'});\n      const a = document.createElement('a');\n      a.href = window.URL.createObjectURL(blob);\n      a.download = filename;\n      div.appendChild(a);\n      a.click();\n      div.remove();\n    }\n  ",
            "text/plain": [
              "<IPython.core.display.Javascript object>"
            ]
          },
          "metadata": {},
          "output_type": "display_data"
        },
        {
          "data": {
            "application/javascript": "download(\"download_7c2bea3a-8c68-4986-82bc-5fc26db02777\", \"output.mp4\", 19776839)",
            "text/plain": [
              "<IPython.core.display.Javascript object>"
            ]
          },
          "metadata": {},
          "output_type": "display_data"
        }
      ],
      "source": [
        "import cv2\n",
        "import torch\n",
        "from ultralytics import YOLO\n",
        "\n",
        "# Load a pretrained YOLOv9s model\n",
        "model = YOLO(\"/content/runs/detect/train3/weights/best.pt\")\n",
        "\n",
        "# Open the input video\n",
        "video_path = \"/content/carLicence4.mp4\"\n",
        "cap = cv2.VideoCapture(video_path)\n",
        "\n",
        "# Get video properties\n",
        "frame_width = int(cap.get(3))\n",
        "frame_height = int(cap.get(4))\n",
        "fps = int(cap.get(cv2.CAP_PROP_FPS))\n",
        "\n",
        "# Define codec and create VideoWriter object\n",
        "output_path = \"/content/output.mp4\"\n",
        "fourcc = cv2.VideoWriter_fourcc(*'mp4v')  # Codec for .mp4 format\n",
        "out = cv2.VideoWriter(output_path, fourcc, fps, (frame_width, frame_height))\n",
        "\n",
        "# Process each frame\n",
        "while cap.isOpened():\n",
        "    ret, frame = cap.read()\n",
        "    if not ret:\n",
        "        break\n",
        "\n",
        "    # Perform YOLO prediction\n",
        "    results = model(frame)\n",
        "\n",
        "    # Draw bounding boxes on the frame\n",
        "    for result in results:\n",
        "        for box in result.boxes.data:\n",
        "            x1, y1, x2, y2, conf, cls = map(int, box[:6])\n",
        "            label = f\"{model.names[cls]} {conf:.2f}\"\n",
        "\n",
        "            # Draw rectangle and label\n",
        "            cv2.rectangle(frame, (x1, y1), (x2, y2), (0, 255, 0), 2)\n",
        "            cv2.putText(frame, label, (x1, y1 - 10), cv2.FONT_HERSHEY_SIMPLEX, 0.5, (0, 255, 255), 2)\n",
        "\n",
        "    # Write the frame to output video\n",
        "    out.write(frame)\n",
        "\n",
        "    # Optional: Display the frame (for debugging)\n",
        "    # cv2.imshow(\"Frame\", frame)\n",
        "    # if cv2.waitKey(1) & 0xFF == ord('q'):\n",
        "    #     break\n",
        "\n",
        "# Release resources\n",
        "cap.release()\n",
        "out.release()\n",
        "cv2.destroyAllWindows()\n",
        "\n",
        "# If running in Google Colab, allow file download\n",
        "from google.colab import files\n",
        "files.download(output_path)\n"
      ]
    },
    {
      "cell_type": "code",
      "execution_count": null,
      "metadata": {
        "id": "VoxoIZjA-41D"
      },
      "outputs": [],
      "source": []
    },
    {
      "cell_type": "code",
      "execution_count": null,
      "metadata": {
        "colab": {
          "base_uri": "https://localhost:8080/",
          "height": 33486
        },
        "id": "IBQ62hGkCsBo",
        "outputId": "ea14b9fa-b268-4672-d8d6-c03ab8089acc"
      },
      "outputs": [
        {
          "name": "stdout",
          "output_type": "stream",
          "text": [
            "\n",
            "🔍 Processing Images...\n",
            "⚠️ Could not read image: /content/.config. Skipping...\n",
            "\n",
            "0: 1024x768 2 number_plates, 32.7ms\n",
            "Speed: 5.3ms preprocess, 32.7ms inference, 1.4ms postprocess per image at shape (1, 3, 1024, 768)\n",
            "✅ Processed: t0.jpg -> Saved to /content/output/t0.jpg\n",
            "⚠️ Could not read image: /content/Traffic Flow In The Highway - 4K Stock Videos _ NoCopyright _ AllVideoFree.mp4. Skipping...\n",
            "⚠️ Could not read image: /content/data. Skipping...\n",
            "\n",
            "0: 704x1024 1 number_plate, 2 cars, 63.7ms\n",
            "Speed: 7.4ms preprocess, 63.7ms inference, 1.5ms postprocess per image at shape (1, 3, 704, 1024)\n",
            "✅ Processed: 12.jpg -> Saved to /content/output/12.jpg\n",
            "⚠️ Could not read image: /content/data.zip. Skipping...\n",
            "⚠️ Could not read image: /content/output.mp4. Skipping...\n",
            "⚠️ Could not read image: /content/yolov9s.pt. Skipping...\n",
            "⚠️ Could not read image: /content/output. Skipping...\n",
            "\n",
            "0: 1024x832 1 number_plate, 1 car, 96.1ms\n",
            "Speed: 14.4ms preprocess, 96.1ms inference, 1.4ms postprocess per image at shape (1, 3, 1024, 832)\n",
            "✅ Processed: 9.jpg -> Saved to /content/output/9.jpg\n",
            "⚠️ Could not read image: /content/runs. Skipping...\n",
            "⚠️ Could not read image: /content/yolo11n.pt. Skipping...\n",
            "\n",
            "0: 1024x832 1 number_plate, 34.0ms\n",
            "Speed: 5.5ms preprocess, 34.0ms inference, 1.5ms postprocess per image at shape (1, 3, 1024, 832)\n",
            "✅ Processed: 11.jpg -> Saved to /content/output/11.jpg\n",
            "\n",
            "0: 1024x832 1 number_plate, 34.1ms\n",
            "Speed: 13.2ms preprocess, 34.1ms inference, 1.5ms postprocess per image at shape (1, 3, 1024, 832)\n",
            "✅ Processed: 10.jpg -> Saved to /content/output/10.jpg\n",
            "⚠️ Could not read image: /content/carLicence4.mp4. Skipping...\n",
            "\n",
            "🎥 Processing Video...\n",
            "\n",
            "0: 672x1024 1 number_plate, 31.7ms\n",
            "Speed: 6.4ms preprocess, 31.7ms inference, 1.6ms postprocess per image at shape (1, 3, 672, 1024)\n",
            "\n",
            "0: 672x1024 1 number_plate, 30.6ms\n",
            "Speed: 6.9ms preprocess, 30.6ms inference, 1.4ms postprocess per image at shape (1, 3, 672, 1024)\n",
            "\n",
            "0: 672x1024 1 number_plate, 30.6ms\n",
            "Speed: 6.5ms preprocess, 30.6ms inference, 1.4ms postprocess per image at shape (1, 3, 672, 1024)\n",
            "\n",
            "0: 672x1024 1 number_plate, 1 car, 26.7ms\n",
            "Speed: 6.0ms preprocess, 26.7ms inference, 1.4ms postprocess per image at shape (1, 3, 672, 1024)\n",
            "\n",
            "0: 672x1024 1 number_plate, 1 car, 26.7ms\n",
            "Speed: 6.2ms preprocess, 26.7ms inference, 1.4ms postprocess per image at shape (1, 3, 672, 1024)\n",
            "\n",
            "0: 672x1024 1 number_plate, 1 car, 26.7ms\n",
            "Speed: 6.5ms preprocess, 26.7ms inference, 1.4ms postprocess per image at shape (1, 3, 672, 1024)\n",
            "\n",
            "0: 672x1024 1 number_plate, 26.7ms\n",
            "Speed: 6.3ms preprocess, 26.7ms inference, 1.4ms postprocess per image at shape (1, 3, 672, 1024)\n",
            "\n",
            "0: 672x1024 1 number_plate, 21.9ms\n",
            "Speed: 6.7ms preprocess, 21.9ms inference, 1.5ms postprocess per image at shape (1, 3, 672, 1024)\n",
            "\n",
            "0: 672x1024 1 number_plate, 21.5ms\n",
            "Speed: 6.2ms preprocess, 21.5ms inference, 1.4ms postprocess per image at shape (1, 3, 672, 1024)\n",
            "\n",
            "0: 672x1024 1 number_plate, 21.4ms\n",
            "Speed: 4.8ms preprocess, 21.4ms inference, 1.4ms postprocess per image at shape (1, 3, 672, 1024)\n",
            "\n",
            "0: 672x1024 1 number_plate, 21.2ms\n",
            "Speed: 7.1ms preprocess, 21.2ms inference, 1.9ms postprocess per image at shape (1, 3, 672, 1024)\n",
            "\n",
            "0: 672x1024 1 number_plate, 26.6ms\n",
            "Speed: 6.3ms preprocess, 26.6ms inference, 1.8ms postprocess per image at shape (1, 3, 672, 1024)\n",
            "\n",
            "0: 672x1024 1 number_plate, 19.6ms\n",
            "Speed: 7.3ms preprocess, 19.6ms inference, 1.3ms postprocess per image at shape (1, 3, 672, 1024)\n",
            "\n",
            "0: 672x1024 1 number_plate, 18.4ms\n",
            "Speed: 5.6ms preprocess, 18.4ms inference, 1.4ms postprocess per image at shape (1, 3, 672, 1024)\n",
            "\n",
            "0: 672x1024 1 number_plate, 18.0ms\n",
            "Speed: 6.0ms preprocess, 18.0ms inference, 1.3ms postprocess per image at shape (1, 3, 672, 1024)\n",
            "\n",
            "0: 672x1024 1 number_plate, 18.0ms\n",
            "Speed: 5.2ms preprocess, 18.0ms inference, 1.3ms postprocess per image at shape (1, 3, 672, 1024)\n",
            "\n",
            "0: 672x1024 1 number_plate, 18.0ms\n",
            "Speed: 6.3ms preprocess, 18.0ms inference, 1.3ms postprocess per image at shape (1, 3, 672, 1024)\n",
            "\n",
            "0: 672x1024 1 number_plate, 18.6ms\n",
            "Speed: 8.0ms preprocess, 18.6ms inference, 1.4ms postprocess per image at shape (1, 3, 672, 1024)\n",
            "\n",
            "0: 672x1024 1 number_plate, 27.3ms\n",
            "Speed: 7.4ms preprocess, 27.3ms inference, 1.5ms postprocess per image at shape (1, 3, 672, 1024)\n",
            "\n",
            "0: 672x1024 1 number_plate, 18.5ms\n",
            "Speed: 6.5ms preprocess, 18.5ms inference, 1.5ms postprocess per image at shape (1, 3, 672, 1024)\n",
            "\n",
            "0: 672x1024 1 number_plate, 17.5ms\n",
            "Speed: 6.4ms preprocess, 17.5ms inference, 1.3ms postprocess per image at shape (1, 3, 672, 1024)\n",
            "\n",
            "0: 672x1024 1 number_plate, 17.5ms\n",
            "Speed: 5.6ms preprocess, 17.5ms inference, 1.3ms postprocess per image at shape (1, 3, 672, 1024)\n",
            "\n",
            "0: 672x1024 1 number_plate, 18.5ms\n",
            "Speed: 5.6ms preprocess, 18.5ms inference, 1.3ms postprocess per image at shape (1, 3, 672, 1024)\n",
            "\n",
            "0: 672x1024 1 number_plate, 18.4ms\n",
            "Speed: 7.4ms preprocess, 18.4ms inference, 1.4ms postprocess per image at shape (1, 3, 672, 1024)\n",
            "\n",
            "0: 672x1024 1 number_plate, 18.0ms\n",
            "Speed: 6.6ms preprocess, 18.0ms inference, 1.3ms postprocess per image at shape (1, 3, 672, 1024)\n",
            "\n",
            "0: 672x1024 1 number_plate, 17.9ms\n",
            "Speed: 5.1ms preprocess, 17.9ms inference, 1.3ms postprocess per image at shape (1, 3, 672, 1024)\n",
            "\n",
            "0: 672x1024 1 number_plate, 17.3ms\n",
            "Speed: 6.1ms preprocess, 17.3ms inference, 1.3ms postprocess per image at shape (1, 3, 672, 1024)\n",
            "\n",
            "0: 672x1024 1 number_plate, 17.5ms\n",
            "Speed: 6.1ms preprocess, 17.5ms inference, 1.6ms postprocess per image at shape (1, 3, 672, 1024)\n",
            "\n",
            "0: 672x1024 1 number_plate, 18.1ms\n",
            "Speed: 5.9ms preprocess, 18.1ms inference, 1.4ms postprocess per image at shape (1, 3, 672, 1024)\n",
            "\n",
            "0: 672x1024 1 number_plate, 17.3ms\n",
            "Speed: 6.1ms preprocess, 17.3ms inference, 1.5ms postprocess per image at shape (1, 3, 672, 1024)\n",
            "\n",
            "0: 672x1024 1 number_plate, 17.4ms\n",
            "Speed: 5.0ms preprocess, 17.4ms inference, 1.7ms postprocess per image at shape (1, 3, 672, 1024)\n",
            "\n",
            "0: 672x1024 1 number_plate, 17.2ms\n",
            "Speed: 6.4ms preprocess, 17.2ms inference, 1.3ms postprocess per image at shape (1, 3, 672, 1024)\n",
            "\n",
            "0: 672x1024 1 number_plate, 17.6ms\n",
            "Speed: 6.6ms preprocess, 17.6ms inference, 1.3ms postprocess per image at shape (1, 3, 672, 1024)\n",
            "\n",
            "0: 672x1024 1 number_plate, 17.1ms\n",
            "Speed: 6.1ms preprocess, 17.1ms inference, 1.6ms postprocess per image at shape (1, 3, 672, 1024)\n",
            "\n",
            "0: 672x1024 1 number_plate, 25.6ms\n",
            "Speed: 6.1ms preprocess, 25.6ms inference, 2.0ms postprocess per image at shape (1, 3, 672, 1024)\n",
            "\n",
            "0: 672x1024 1 number_plate, 26.3ms\n",
            "Speed: 6.8ms preprocess, 26.3ms inference, 1.7ms postprocess per image at shape (1, 3, 672, 1024)\n",
            "\n",
            "0: 672x1024 1 number_plate, 26.6ms\n",
            "Speed: 8.1ms preprocess, 26.6ms inference, 1.8ms postprocess per image at shape (1, 3, 672, 1024)\n",
            "\n",
            "0: 672x1024 1 number_plate, 23.5ms\n",
            "Speed: 7.6ms preprocess, 23.5ms inference, 1.4ms postprocess per image at shape (1, 3, 672, 1024)\n",
            "\n",
            "0: 672x1024 1 number_plate, 17.5ms\n",
            "Speed: 6.5ms preprocess, 17.5ms inference, 1.4ms postprocess per image at shape (1, 3, 672, 1024)\n",
            "\n",
            "0: 672x1024 1 number_plate, 17.2ms\n",
            "Speed: 6.6ms preprocess, 17.2ms inference, 1.4ms postprocess per image at shape (1, 3, 672, 1024)\n",
            "\n",
            "0: 672x1024 1 number_plate, 17.5ms\n",
            "Speed: 6.5ms preprocess, 17.5ms inference, 1.4ms postprocess per image at shape (1, 3, 672, 1024)\n",
            "\n",
            "0: 672x1024 1 number_plate, 17.3ms\n",
            "Speed: 5.6ms preprocess, 17.3ms inference, 1.4ms postprocess per image at shape (1, 3, 672, 1024)\n",
            "\n",
            "0: 672x1024 1 number_plate, 23.4ms\n",
            "Speed: 7.7ms preprocess, 23.4ms inference, 1.4ms postprocess per image at shape (1, 3, 672, 1024)\n",
            "\n",
            "0: 672x1024 1 number_plate, 18.2ms\n",
            "Speed: 10.6ms preprocess, 18.2ms inference, 1.4ms postprocess per image at shape (1, 3, 672, 1024)\n",
            "\n",
            "0: 672x1024 1 number_plate, 17.7ms\n",
            "Speed: 6.3ms preprocess, 17.7ms inference, 1.4ms postprocess per image at shape (1, 3, 672, 1024)\n",
            "\n",
            "0: 672x1024 1 number_plate, 18.6ms\n",
            "Speed: 7.1ms preprocess, 18.6ms inference, 1.5ms postprocess per image at shape (1, 3, 672, 1024)\n",
            "\n",
            "0: 672x1024 1 number_plate, 19.1ms\n",
            "Speed: 6.7ms preprocess, 19.1ms inference, 1.3ms postprocess per image at shape (1, 3, 672, 1024)\n",
            "\n",
            "0: 672x1024 1 number_plate, 17.4ms\n",
            "Speed: 4.8ms preprocess, 17.4ms inference, 1.6ms postprocess per image at shape (1, 3, 672, 1024)\n",
            "\n",
            "0: 672x1024 1 number_plate, 16.7ms\n",
            "Speed: 5.8ms preprocess, 16.7ms inference, 1.3ms postprocess per image at shape (1, 3, 672, 1024)\n",
            "\n",
            "0: 672x1024 1 number_plate, 17.1ms\n",
            "Speed: 5.8ms preprocess, 17.1ms inference, 1.3ms postprocess per image at shape (1, 3, 672, 1024)\n",
            "\n",
            "0: 672x1024 1 number_plate, 18.8ms\n",
            "Speed: 6.4ms preprocess, 18.8ms inference, 1.3ms postprocess per image at shape (1, 3, 672, 1024)\n",
            "\n",
            "0: 672x1024 1 number_plate, 17.1ms\n",
            "Speed: 4.8ms preprocess, 17.1ms inference, 1.3ms postprocess per image at shape (1, 3, 672, 1024)\n",
            "\n",
            "0: 672x1024 1 number_plate, 17.5ms\n",
            "Speed: 6.2ms preprocess, 17.5ms inference, 1.3ms postprocess per image at shape (1, 3, 672, 1024)\n",
            "\n",
            "0: 672x1024 1 number_plate, 17.1ms\n",
            "Speed: 6.1ms preprocess, 17.1ms inference, 1.4ms postprocess per image at shape (1, 3, 672, 1024)\n",
            "\n",
            "0: 672x1024 1 number_plate, 16.9ms\n",
            "Speed: 6.7ms preprocess, 16.9ms inference, 1.3ms postprocess per image at shape (1, 3, 672, 1024)\n",
            "\n",
            "0: 672x1024 1 number_plate, 17.4ms\n",
            "Speed: 6.1ms preprocess, 17.4ms inference, 1.6ms postprocess per image at shape (1, 3, 672, 1024)\n",
            "\n",
            "0: 672x1024 2 number_plates, 17.5ms\n",
            "Speed: 6.1ms preprocess, 17.5ms inference, 1.3ms postprocess per image at shape (1, 3, 672, 1024)\n",
            "\n",
            "0: 672x1024 1 number_plate, 20.7ms\n",
            "Speed: 7.6ms preprocess, 20.7ms inference, 2.1ms postprocess per image at shape (1, 3, 672, 1024)\n",
            "\n",
            "0: 672x1024 1 number_plate, 4 cars, 25.9ms\n",
            "Speed: 7.8ms preprocess, 25.9ms inference, 1.5ms postprocess per image at shape (1, 3, 672, 1024)\n",
            "\n",
            "0: 672x1024 1 number_plate, 1 car, 25.2ms\n",
            "Speed: 7.0ms preprocess, 25.2ms inference, 1.8ms postprocess per image at shape (1, 3, 672, 1024)\n",
            "\n",
            "0: 672x1024 1 number_plate, 1 car, 21.4ms\n",
            "Speed: 7.4ms preprocess, 21.4ms inference, 1.6ms postprocess per image at shape (1, 3, 672, 1024)\n",
            "\n",
            "0: 672x1024 1 number_plate, 1 car, 17.9ms\n",
            "Speed: 6.4ms preprocess, 17.9ms inference, 1.3ms postprocess per image at shape (1, 3, 672, 1024)\n",
            "\n",
            "0: 672x1024 1 number_plate, 2 cars, 17.2ms\n",
            "Speed: 6.5ms preprocess, 17.2ms inference, 1.3ms postprocess per image at shape (1, 3, 672, 1024)\n",
            "\n",
            "0: 672x1024 1 number_plate, 1 car, 18.4ms\n",
            "Speed: 6.8ms preprocess, 18.4ms inference, 1.4ms postprocess per image at shape (1, 3, 672, 1024)\n",
            "\n",
            "0: 672x1024 1 number_plate, 18.6ms\n",
            "Speed: 6.0ms preprocess, 18.6ms inference, 1.4ms postprocess per image at shape (1, 3, 672, 1024)\n",
            "\n",
            "0: 672x1024 1 number_plate, 1 car, 17.7ms\n",
            "Speed: 6.0ms preprocess, 17.7ms inference, 1.3ms postprocess per image at shape (1, 3, 672, 1024)\n",
            "\n",
            "0: 672x1024 1 number_plate, 2 cars, 23.2ms\n",
            "Speed: 8.1ms preprocess, 23.2ms inference, 1.9ms postprocess per image at shape (1, 3, 672, 1024)\n",
            "\n",
            "0: 672x1024 1 number_plate, 1 car, 17.5ms\n",
            "Speed: 6.8ms preprocess, 17.5ms inference, 1.3ms postprocess per image at shape (1, 3, 672, 1024)\n",
            "\n",
            "0: 672x1024 1 number_plate, 1 car, 17.4ms\n",
            "Speed: 5.7ms preprocess, 17.4ms inference, 1.3ms postprocess per image at shape (1, 3, 672, 1024)\n",
            "\n",
            "0: 672x1024 1 number_plate, 1 car, 17.3ms\n",
            "Speed: 5.9ms preprocess, 17.3ms inference, 1.3ms postprocess per image at shape (1, 3, 672, 1024)\n",
            "\n",
            "0: 672x1024 1 number_plate, 1 car, 17.3ms\n",
            "Speed: 5.8ms preprocess, 17.3ms inference, 1.3ms postprocess per image at shape (1, 3, 672, 1024)\n",
            "\n",
            "0: 672x1024 1 number_plate, 1 car, 17.3ms\n",
            "Speed: 7.4ms preprocess, 17.3ms inference, 1.3ms postprocess per image at shape (1, 3, 672, 1024)\n",
            "\n",
            "0: 672x1024 1 number_plate, 1 car, 17.7ms\n",
            "Speed: 7.3ms preprocess, 17.7ms inference, 1.3ms postprocess per image at shape (1, 3, 672, 1024)\n",
            "\n",
            "0: 672x1024 1 number_plate, 1 car, 19.8ms\n",
            "Speed: 6.8ms preprocess, 19.8ms inference, 1.5ms postprocess per image at shape (1, 3, 672, 1024)\n",
            "\n",
            "0: 672x1024 1 number_plate, 1 car, 17.9ms\n",
            "Speed: 5.5ms preprocess, 17.9ms inference, 1.4ms postprocess per image at shape (1, 3, 672, 1024)\n",
            "\n",
            "0: 672x1024 1 number_plate, 1 car, 17.4ms\n",
            "Speed: 6.2ms preprocess, 17.4ms inference, 1.4ms postprocess per image at shape (1, 3, 672, 1024)\n",
            "\n",
            "0: 672x1024 1 number_plate, 1 car, 17.4ms\n",
            "Speed: 5.5ms preprocess, 17.4ms inference, 1.3ms postprocess per image at shape (1, 3, 672, 1024)\n",
            "\n",
            "0: 672x1024 1 number_plate, 2 cars, 18.1ms\n",
            "Speed: 7.0ms preprocess, 18.1ms inference, 1.4ms postprocess per image at shape (1, 3, 672, 1024)\n",
            "\n",
            "0: 672x1024 1 number_plate, 2 cars, 18.5ms\n",
            "Speed: 6.3ms preprocess, 18.5ms inference, 1.4ms postprocess per image at shape (1, 3, 672, 1024)\n",
            "\n",
            "0: 672x1024 1 number_plate, 2 cars, 17.7ms\n",
            "Speed: 6.3ms preprocess, 17.7ms inference, 1.4ms postprocess per image at shape (1, 3, 672, 1024)\n",
            "\n",
            "0: 672x1024 1 number_plate, 2 cars, 25.8ms\n",
            "Speed: 6.4ms preprocess, 25.8ms inference, 1.8ms postprocess per image at shape (1, 3, 672, 1024)\n",
            "\n",
            "0: 672x1024 1 number_plate, 2 cars, 27.0ms\n",
            "Speed: 7.6ms preprocess, 27.0ms inference, 1.9ms postprocess per image at shape (1, 3, 672, 1024)\n",
            "\n",
            "0: 672x1024 1 number_plate, 2 cars, 26.2ms\n",
            "Speed: 8.4ms preprocess, 26.2ms inference, 1.7ms postprocess per image at shape (1, 3, 672, 1024)\n",
            "\n",
            "0: 672x1024 1 number_plate, 2 cars, 20.3ms\n",
            "Speed: 7.7ms preprocess, 20.3ms inference, 1.7ms postprocess per image at shape (1, 3, 672, 1024)\n",
            "\n",
            "0: 672x1024 1 number_plate, 2 cars, 17.8ms\n",
            "Speed: 7.4ms preprocess, 17.8ms inference, 1.4ms postprocess per image at shape (1, 3, 672, 1024)\n",
            "\n",
            "0: 672x1024 1 number_plate, 1 car, 17.2ms\n",
            "Speed: 5.9ms preprocess, 17.2ms inference, 1.3ms postprocess per image at shape (1, 3, 672, 1024)\n",
            "\n",
            "0: 672x1024 1 number_plate, 1 car, 17.5ms\n",
            "Speed: 6.5ms preprocess, 17.5ms inference, 1.4ms postprocess per image at shape (1, 3, 672, 1024)\n",
            "\n",
            "0: 672x1024 2 number_plates, 1 car, 17.7ms\n",
            "Speed: 6.6ms preprocess, 17.7ms inference, 1.5ms postprocess per image at shape (1, 3, 672, 1024)\n",
            "\n",
            "0: 672x1024 1 number_plate, 2 cars, 17.7ms\n",
            "Speed: 5.2ms preprocess, 17.7ms inference, 1.4ms postprocess per image at shape (1, 3, 672, 1024)\n",
            "\n",
            "0: 672x1024 1 number_plate, 1 car, 26.7ms\n",
            "Speed: 7.5ms preprocess, 26.7ms inference, 1.4ms postprocess per image at shape (1, 3, 672, 1024)\n",
            "\n",
            "0: 672x1024 1 number_plate, 1 car, 17.6ms\n",
            "Speed: 5.9ms preprocess, 17.6ms inference, 1.3ms postprocess per image at shape (1, 3, 672, 1024)\n",
            "\n",
            "0: 672x1024 1 number_plate, 1 car, 17.6ms\n",
            "Speed: 7.3ms preprocess, 17.6ms inference, 1.3ms postprocess per image at shape (1, 3, 672, 1024)\n",
            "\n",
            "0: 672x1024 1 number_plate, 1 car, 18.9ms\n",
            "Speed: 6.7ms preprocess, 18.9ms inference, 1.3ms postprocess per image at shape (1, 3, 672, 1024)\n",
            "\n",
            "0: 672x1024 1 number_plate, 1 car, 17.6ms\n",
            "Speed: 6.6ms preprocess, 17.6ms inference, 1.5ms postprocess per image at shape (1, 3, 672, 1024)\n",
            "\n",
            "0: 672x1024 1 number_plate, 1 car, 18.4ms\n",
            "Speed: 6.3ms preprocess, 18.4ms inference, 1.4ms postprocess per image at shape (1, 3, 672, 1024)\n",
            "\n",
            "0: 672x1024 1 number_plate, 1 car, 18.3ms\n",
            "Speed: 6.1ms preprocess, 18.3ms inference, 1.4ms postprocess per image at shape (1, 3, 672, 1024)\n",
            "\n",
            "0: 672x1024 1 number_plate, 1 car, 18.1ms\n",
            "Speed: 6.4ms preprocess, 18.1ms inference, 1.4ms postprocess per image at shape (1, 3, 672, 1024)\n",
            "\n",
            "0: 672x1024 1 number_plate, 1 car, 18.1ms\n",
            "Speed: 6.0ms preprocess, 18.1ms inference, 1.3ms postprocess per image at shape (1, 3, 672, 1024)\n",
            "\n",
            "0: 672x1024 1 number_plate, 1 car, 17.2ms\n",
            "Speed: 6.2ms preprocess, 17.2ms inference, 1.3ms postprocess per image at shape (1, 3, 672, 1024)\n",
            "\n",
            "0: 672x1024 1 number_plate, 1 car, 17.5ms\n",
            "Speed: 6.1ms preprocess, 17.5ms inference, 1.3ms postprocess per image at shape (1, 3, 672, 1024)\n",
            "\n",
            "0: 672x1024 1 number_plate, 1 car, 17.4ms\n",
            "Speed: 6.7ms preprocess, 17.4ms inference, 1.3ms postprocess per image at shape (1, 3, 672, 1024)\n",
            "\n",
            "0: 672x1024 1 number_plate, 1 car, 17.4ms\n",
            "Speed: 6.3ms preprocess, 17.4ms inference, 1.4ms postprocess per image at shape (1, 3, 672, 1024)\n",
            "\n",
            "0: 672x1024 1 number_plate, 1 car, 17.6ms\n",
            "Speed: 7.6ms preprocess, 17.6ms inference, 1.3ms postprocess per image at shape (1, 3, 672, 1024)\n",
            "\n",
            "0: 672x1024 1 number_plate, 1 car, 26.8ms\n",
            "Speed: 8.1ms preprocess, 26.8ms inference, 1.9ms postprocess per image at shape (1, 3, 672, 1024)\n",
            "\n",
            "0: 672x1024 1 number_plate, 1 car, 24.9ms\n",
            "Speed: 7.7ms preprocess, 24.9ms inference, 1.5ms postprocess per image at shape (1, 3, 672, 1024)\n",
            "\n",
            "0: 672x1024 1 number_plate, 2 cars, 23.5ms\n",
            "Speed: 6.8ms preprocess, 23.5ms inference, 1.4ms postprocess per image at shape (1, 3, 672, 1024)\n",
            "\n",
            "0: 672x1024 1 number_plate, 2 cars, 17.3ms\n",
            "Speed: 6.6ms preprocess, 17.3ms inference, 1.4ms postprocess per image at shape (1, 3, 672, 1024)\n",
            "\n",
            "0: 672x1024 1 number_plate, 1 car, 17.4ms\n",
            "Speed: 6.1ms preprocess, 17.4ms inference, 1.3ms postprocess per image at shape (1, 3, 672, 1024)\n",
            "\n",
            "0: 672x1024 1 number_plate, 1 car, 18.1ms\n",
            "Speed: 6.7ms preprocess, 18.1ms inference, 1.4ms postprocess per image at shape (1, 3, 672, 1024)\n",
            "\n",
            "0: 672x1024 1 number_plate, 17.6ms\n",
            "Speed: 4.7ms preprocess, 17.6ms inference, 1.3ms postprocess per image at shape (1, 3, 672, 1024)\n",
            "\n",
            "0: 672x1024 1 number_plate, 1 car, 18.2ms\n",
            "Speed: 9.1ms preprocess, 18.2ms inference, 1.4ms postprocess per image at shape (1, 3, 672, 1024)\n",
            "\n",
            "0: 672x1024 1 number_plate, 2 cars, 18.4ms\n",
            "Speed: 7.1ms preprocess, 18.4ms inference, 1.4ms postprocess per image at shape (1, 3, 672, 1024)\n",
            "\n",
            "0: 672x1024 1 number_plate, 1 car, 18.6ms\n",
            "Speed: 7.9ms preprocess, 18.6ms inference, 1.3ms postprocess per image at shape (1, 3, 672, 1024)\n",
            "\n",
            "0: 672x1024 2 number_plates, 22.1ms\n",
            "Speed: 8.0ms preprocess, 22.1ms inference, 1.6ms postprocess per image at shape (1, 3, 672, 1024)\n",
            "\n",
            "0: 672x1024 1 number_plate, 17.9ms\n",
            "Speed: 5.8ms preprocess, 17.9ms inference, 1.4ms postprocess per image at shape (1, 3, 672, 1024)\n",
            "\n",
            "0: 672x1024 1 number_plate, 19.5ms\n",
            "Speed: 6.3ms preprocess, 19.5ms inference, 1.4ms postprocess per image at shape (1, 3, 672, 1024)\n",
            "\n",
            "0: 672x1024 1 number_plate, 18.0ms\n",
            "Speed: 5.1ms preprocess, 18.0ms inference, 1.4ms postprocess per image at shape (1, 3, 672, 1024)\n",
            "\n",
            "0: 672x1024 1 number_plate, 17.6ms\n",
            "Speed: 6.7ms preprocess, 17.6ms inference, 1.4ms postprocess per image at shape (1, 3, 672, 1024)\n",
            "\n",
            "0: 672x1024 1 number_plate, 17.4ms\n",
            "Speed: 6.3ms preprocess, 17.4ms inference, 1.4ms postprocess per image at shape (1, 3, 672, 1024)\n",
            "\n",
            "0: 672x1024 1 number_plate, 18.1ms\n",
            "Speed: 6.9ms preprocess, 18.1ms inference, 1.4ms postprocess per image at shape (1, 3, 672, 1024)\n",
            "\n",
            "0: 672x1024 1 number_plate, 18.0ms\n",
            "Speed: 6.3ms preprocess, 18.0ms inference, 1.4ms postprocess per image at shape (1, 3, 672, 1024)\n",
            "\n",
            "0: 672x1024 1 number_plate, 17.2ms\n",
            "Speed: 6.2ms preprocess, 17.2ms inference, 1.4ms postprocess per image at shape (1, 3, 672, 1024)\n",
            "\n",
            "0: 672x1024 1 number_plate, 17.3ms\n",
            "Speed: 5.0ms preprocess, 17.3ms inference, 1.5ms postprocess per image at shape (1, 3, 672, 1024)\n",
            "\n",
            "0: 672x1024 1 number_plate, 17.3ms\n",
            "Speed: 5.1ms preprocess, 17.3ms inference, 1.4ms postprocess per image at shape (1, 3, 672, 1024)\n",
            "\n",
            "0: 672x1024 1 number_plate, 1 car, 17.2ms\n",
            "Speed: 7.5ms preprocess, 17.2ms inference, 1.5ms postprocess per image at shape (1, 3, 672, 1024)\n",
            "\n",
            "0: 672x1024 2 number_plates, 17.5ms\n",
            "Speed: 6.3ms preprocess, 17.5ms inference, 1.8ms postprocess per image at shape (1, 3, 672, 1024)\n",
            "\n",
            "0: 672x1024 1 number_plate, 1 car, 23.4ms\n",
            "Speed: 7.1ms preprocess, 23.4ms inference, 1.8ms postprocess per image at shape (1, 3, 672, 1024)\n",
            "\n",
            "0: 672x1024 1 number_plate, 1 car, 26.3ms\n",
            "Speed: 8.3ms preprocess, 26.3ms inference, 1.8ms postprocess per image at shape (1, 3, 672, 1024)\n",
            "\n",
            "0: 672x1024 1 number_plate, 2 cars, 24.8ms\n",
            "Speed: 7.9ms preprocess, 24.8ms inference, 2.2ms postprocess per image at shape (1, 3, 672, 1024)\n",
            "\n",
            "0: 672x1024 1 number_plate, 2 cars, 17.0ms\n",
            "Speed: 6.4ms preprocess, 17.0ms inference, 1.4ms postprocess per image at shape (1, 3, 672, 1024)\n",
            "\n",
            "0: 672x1024 1 number_plate, 1 car, 17.5ms\n",
            "Speed: 8.0ms preprocess, 17.5ms inference, 1.3ms postprocess per image at shape (1, 3, 672, 1024)\n",
            "\n",
            "0: 672x1024 1 number_plate, 1 car, 20.3ms\n",
            "Speed: 5.6ms preprocess, 20.3ms inference, 1.4ms postprocess per image at shape (1, 3, 672, 1024)\n",
            "\n",
            "0: 672x1024 1 number_plate, 1 car, 18.1ms\n",
            "Speed: 6.4ms preprocess, 18.1ms inference, 1.7ms postprocess per image at shape (1, 3, 672, 1024)\n",
            "\n",
            "0: 672x1024 1 number_plate, 1 car, 18.2ms\n",
            "Speed: 6.4ms preprocess, 18.2ms inference, 1.3ms postprocess per image at shape (1, 3, 672, 1024)\n",
            "\n",
            "0: 672x1024 1 number_plate, 17.9ms\n",
            "Speed: 6.3ms preprocess, 17.9ms inference, 1.3ms postprocess per image at shape (1, 3, 672, 1024)\n",
            "\n",
            "0: 672x1024 1 number_plate, 17.5ms\n",
            "Speed: 6.8ms preprocess, 17.5ms inference, 2.0ms postprocess per image at shape (1, 3, 672, 1024)\n",
            "\n",
            "0: 672x1024 1 number_plate, 1 car, 27.7ms\n",
            "Speed: 6.4ms preprocess, 27.7ms inference, 1.9ms postprocess per image at shape (1, 3, 672, 1024)\n",
            "\n",
            "0: 672x1024 1 number_plate, 1 car, 17.5ms\n",
            "Speed: 6.4ms preprocess, 17.5ms inference, 1.5ms postprocess per image at shape (1, 3, 672, 1024)\n",
            "\n",
            "0: 672x1024 1 number_plate, 1 car, 20.0ms\n",
            "Speed: 6.5ms preprocess, 20.0ms inference, 1.4ms postprocess per image at shape (1, 3, 672, 1024)\n",
            "\n",
            "0: 672x1024 1 number_plate, 1 car, 17.9ms\n",
            "Speed: 5.2ms preprocess, 17.9ms inference, 1.4ms postprocess per image at shape (1, 3, 672, 1024)\n",
            "\n",
            "0: 672x1024 1 number_plate, 1 car, 18.0ms\n",
            "Speed: 6.8ms preprocess, 18.0ms inference, 1.3ms postprocess per image at shape (1, 3, 672, 1024)\n",
            "\n",
            "0: 672x1024 1 number_plate, 1 car, 17.4ms\n",
            "Speed: 6.1ms preprocess, 17.4ms inference, 1.3ms postprocess per image at shape (1, 3, 672, 1024)\n",
            "\n",
            "0: 672x1024 1 number_plate, 1 car, 18.0ms\n",
            "Speed: 5.3ms preprocess, 18.0ms inference, 1.4ms postprocess per image at shape (1, 3, 672, 1024)\n",
            "\n",
            "0: 672x1024 1 number_plate, 1 car, 17.8ms\n",
            "Speed: 4.8ms preprocess, 17.8ms inference, 1.4ms postprocess per image at shape (1, 3, 672, 1024)\n",
            "\n",
            "0: 672x1024 1 number_plate, 1 car, 18.4ms\n",
            "Speed: 6.9ms preprocess, 18.4ms inference, 1.5ms postprocess per image at shape (1, 3, 672, 1024)\n",
            "\n",
            "0: 672x1024 1 number_plate, 1 car, 34.0ms\n",
            "Speed: 9.6ms preprocess, 34.0ms inference, 1.8ms postprocess per image at shape (1, 3, 672, 1024)\n",
            "\n",
            "0: 672x1024 1 number_plate, 1 car, 29.1ms\n",
            "Speed: 9.1ms preprocess, 29.1ms inference, 2.1ms postprocess per image at shape (1, 3, 672, 1024)\n",
            "\n",
            "0: 672x1024 1 number_plate, 1 car, 36.0ms\n",
            "Speed: 7.0ms preprocess, 36.0ms inference, 2.1ms postprocess per image at shape (1, 3, 672, 1024)\n",
            "\n",
            "0: 672x1024 1 number_plate, 1 car, 29.0ms\n",
            "Speed: 7.3ms preprocess, 29.0ms inference, 2.9ms postprocess per image at shape (1, 3, 672, 1024)\n",
            "\n",
            "0: 672x1024 1 number_plate, 1 car, 27.6ms\n",
            "Speed: 7.5ms preprocess, 27.6ms inference, 1.8ms postprocess per image at shape (1, 3, 672, 1024)\n",
            "\n",
            "0: 672x1024 1 number_plate, 1 car, 32.3ms\n",
            "Speed: 8.8ms preprocess, 32.3ms inference, 2.2ms postprocess per image at shape (1, 3, 672, 1024)\n",
            "\n",
            "0: 672x1024 1 number_plate, 1 car, 23.8ms\n",
            "Speed: 8.1ms preprocess, 23.8ms inference, 1.8ms postprocess per image at shape (1, 3, 672, 1024)\n",
            "\n",
            "0: 672x1024 1 number_plate, 1 car, 24.3ms\n",
            "Speed: 7.3ms preprocess, 24.3ms inference, 1.9ms postprocess per image at shape (1, 3, 672, 1024)\n",
            "\n",
            "0: 672x1024 1 number_plate, 21.1ms\n",
            "Speed: 7.5ms preprocess, 21.1ms inference, 1.7ms postprocess per image at shape (1, 3, 672, 1024)\n",
            "\n",
            "0: 672x1024 1 number_plate, 1 car, 25.6ms\n",
            "Speed: 7.1ms preprocess, 25.6ms inference, 1.8ms postprocess per image at shape (1, 3, 672, 1024)\n",
            "\n",
            "0: 672x1024 1 number_plate, 24.6ms\n",
            "Speed: 8.6ms preprocess, 24.6ms inference, 1.7ms postprocess per image at shape (1, 3, 672, 1024)\n",
            "\n",
            "0: 672x1024 1 number_plate, 1 car, 27.9ms\n",
            "Speed: 7.2ms preprocess, 27.9ms inference, 1.7ms postprocess per image at shape (1, 3, 672, 1024)\n",
            "\n",
            "0: 672x1024 1 number_plate, 1 car, 23.7ms\n",
            "Speed: 8.2ms preprocess, 23.7ms inference, 1.7ms postprocess per image at shape (1, 3, 672, 1024)\n",
            "\n",
            "0: 672x1024 1 number_plate, 1 car, 22.5ms\n",
            "Speed: 7.3ms preprocess, 22.5ms inference, 1.7ms postprocess per image at shape (1, 3, 672, 1024)\n",
            "\n",
            "0: 672x1024 1 number_plate, 1 car, 25.0ms\n",
            "Speed: 9.5ms preprocess, 25.0ms inference, 1.8ms postprocess per image at shape (1, 3, 672, 1024)\n",
            "\n",
            "0: 672x1024 1 number_plate, 1 car, 21.7ms\n",
            "Speed: 9.0ms preprocess, 21.7ms inference, 1.7ms postprocess per image at shape (1, 3, 672, 1024)\n",
            "\n",
            "0: 672x1024 1 number_plate, 21.7ms\n",
            "Speed: 7.1ms preprocess, 21.7ms inference, 1.6ms postprocess per image at shape (1, 3, 672, 1024)\n",
            "\n",
            "0: 672x1024 1 number_plate, 26.3ms\n",
            "Speed: 9.3ms preprocess, 26.3ms inference, 1.8ms postprocess per image at shape (1, 3, 672, 1024)\n",
            "\n",
            "0: 672x1024 1 number_plate, 21.0ms\n",
            "Speed: 7.5ms preprocess, 21.0ms inference, 1.6ms postprocess per image at shape (1, 3, 672, 1024)\n",
            "\n",
            "0: 672x1024 1 number_plate, 32.1ms\n",
            "Speed: 10.2ms preprocess, 32.1ms inference, 1.9ms postprocess per image at shape (1, 3, 672, 1024)\n",
            "\n",
            "0: 672x1024 1 number_plate, 2 cars, 39.0ms\n",
            "Speed: 10.9ms preprocess, 39.0ms inference, 2.6ms postprocess per image at shape (1, 3, 672, 1024)\n",
            "\n",
            "0: 672x1024 1 number_plate, 1 car, 21.4ms\n",
            "Speed: 7.9ms preprocess, 21.4ms inference, 1.7ms postprocess per image at shape (1, 3, 672, 1024)\n",
            "\n",
            "0: 672x1024 1 number_plate, 22.0ms\n",
            "Speed: 8.4ms preprocess, 22.0ms inference, 1.7ms postprocess per image at shape (1, 3, 672, 1024)\n",
            "\n",
            "0: 672x1024 1 number_plate, 1 car, 22.1ms\n",
            "Speed: 8.7ms preprocess, 22.1ms inference, 1.8ms postprocess per image at shape (1, 3, 672, 1024)\n",
            "\n",
            "0: 672x1024 1 number_plate, 23.0ms\n",
            "Speed: 8.6ms preprocess, 23.0ms inference, 1.7ms postprocess per image at shape (1, 3, 672, 1024)\n",
            "\n",
            "0: 672x1024 1 number_plate, 23.5ms\n",
            "Speed: 8.2ms preprocess, 23.5ms inference, 1.8ms postprocess per image at shape (1, 3, 672, 1024)\n",
            "\n",
            "0: 672x1024 1 number_plate, 23.6ms\n",
            "Speed: 8.6ms preprocess, 23.6ms inference, 1.9ms postprocess per image at shape (1, 3, 672, 1024)\n",
            "\n",
            "0: 672x1024 1 number_plate, 34.8ms\n",
            "Speed: 9.8ms preprocess, 34.8ms inference, 2.1ms postprocess per image at shape (1, 3, 672, 1024)\n",
            "\n",
            "0: 672x1024 1 number_plate, 34.7ms\n",
            "Speed: 8.3ms preprocess, 34.7ms inference, 1.8ms postprocess per image at shape (1, 3, 672, 1024)\n",
            "\n",
            "0: 672x1024 1 number_plate, 32.2ms\n",
            "Speed: 8.1ms preprocess, 32.2ms inference, 2.0ms postprocess per image at shape (1, 3, 672, 1024)\n",
            "\n",
            "0: 672x1024 1 number_plate, 27.8ms\n",
            "Speed: 7.3ms preprocess, 27.8ms inference, 1.9ms postprocess per image at shape (1, 3, 672, 1024)\n",
            "\n",
            "0: 672x1024 1 number_plate, 34.1ms\n",
            "Speed: 8.5ms preprocess, 34.1ms inference, 1.7ms postprocess per image at shape (1, 3, 672, 1024)\n",
            "\n",
            "0: 672x1024 1 number_plate, 1 car, 26.2ms\n",
            "Speed: 7.3ms preprocess, 26.2ms inference, 2.0ms postprocess per image at shape (1, 3, 672, 1024)\n",
            "\n",
            "0: 672x1024 1 number_plate, 1 car, 21.9ms\n",
            "Speed: 7.5ms preprocess, 21.9ms inference, 1.7ms postprocess per image at shape (1, 3, 672, 1024)\n",
            "\n",
            "0: 672x1024 1 number_plate, 1 car, 32.9ms\n",
            "Speed: 7.3ms preprocess, 32.9ms inference, 1.6ms postprocess per image at shape (1, 3, 672, 1024)\n",
            "\n",
            "0: 672x1024 1 number_plate, 1 car, 34.5ms\n",
            "Speed: 7.3ms preprocess, 34.5ms inference, 2.1ms postprocess per image at shape (1, 3, 672, 1024)\n",
            "\n",
            "0: 672x1024 1 number_plate, 1 car, 41.9ms\n",
            "Speed: 7.4ms preprocess, 41.9ms inference, 2.4ms postprocess per image at shape (1, 3, 672, 1024)\n",
            "\n",
            "0: 672x1024 1 number_plate, 1 car, 34.0ms\n",
            "Speed: 10.1ms preprocess, 34.0ms inference, 1.7ms postprocess per image at shape (1, 3, 672, 1024)\n",
            "\n",
            "0: 672x1024 1 number_plate, 1 car, 30.5ms\n",
            "Speed: 8.0ms preprocess, 30.5ms inference, 2.0ms postprocess per image at shape (1, 3, 672, 1024)\n",
            "\n",
            "0: 672x1024 1 number_plate, 1 car, 31.8ms\n",
            "Speed: 8.3ms preprocess, 31.8ms inference, 2.1ms postprocess per image at shape (1, 3, 672, 1024)\n",
            "\n",
            "0: 672x1024 1 number_plate, 28.3ms\n",
            "Speed: 8.2ms preprocess, 28.3ms inference, 1.9ms postprocess per image at shape (1, 3, 672, 1024)\n",
            "\n",
            "0: 672x1024 1 number_plate, 1 car, 26.8ms\n",
            "Speed: 7.7ms preprocess, 26.8ms inference, 2.0ms postprocess per image at shape (1, 3, 672, 1024)\n",
            "\n",
            "0: 672x1024 1 number_plate, 1 car, 26.4ms\n",
            "Speed: 8.8ms preprocess, 26.4ms inference, 1.9ms postprocess per image at shape (1, 3, 672, 1024)\n",
            "\n",
            "0: 672x1024 1 number_plate, 25.7ms\n",
            "Speed: 8.5ms preprocess, 25.7ms inference, 1.8ms postprocess per image at shape (1, 3, 672, 1024)\n",
            "\n",
            "0: 672x1024 1 number_plate, 25.5ms\n",
            "Speed: 7.5ms preprocess, 25.5ms inference, 1.9ms postprocess per image at shape (1, 3, 672, 1024)\n",
            "\n",
            "0: 672x1024 1 number_plate, 28.6ms\n",
            "Speed: 10.4ms preprocess, 28.6ms inference, 1.9ms postprocess per image at shape (1, 3, 672, 1024)\n",
            "\n",
            "0: 672x1024 1 number_plate, 29.0ms\n",
            "Speed: 8.0ms preprocess, 29.0ms inference, 1.9ms postprocess per image at shape (1, 3, 672, 1024)\n",
            "\n",
            "0: 672x1024 1 number_plate, 32.0ms\n",
            "Speed: 11.5ms preprocess, 32.0ms inference, 1.9ms postprocess per image at shape (1, 3, 672, 1024)\n",
            "\n",
            "0: 672x1024 1 number_plate, 25.0ms\n",
            "Speed: 7.4ms preprocess, 25.0ms inference, 1.8ms postprocess per image at shape (1, 3, 672, 1024)\n",
            "\n",
            "0: 672x1024 1 number_plate, 25.6ms\n",
            "Speed: 7.7ms preprocess, 25.6ms inference, 1.8ms postprocess per image at shape (1, 3, 672, 1024)\n",
            "\n",
            "0: 672x1024 1 number_plate, 26.7ms\n",
            "Speed: 7.8ms preprocess, 26.7ms inference, 1.9ms postprocess per image at shape (1, 3, 672, 1024)\n",
            "\n",
            "0: 672x1024 1 number_plate, 1 car, 32.9ms\n",
            "Speed: 8.5ms preprocess, 32.9ms inference, 3.3ms postprocess per image at shape (1, 3, 672, 1024)\n",
            "\n",
            "0: 672x1024 1 number_plate, 45.8ms\n",
            "Speed: 9.7ms preprocess, 45.8ms inference, 3.2ms postprocess per image at shape (1, 3, 672, 1024)\n",
            "\n",
            "0: 672x1024 1 number_plate, 27.0ms\n",
            "Speed: 8.1ms preprocess, 27.0ms inference, 2.0ms postprocess per image at shape (1, 3, 672, 1024)\n",
            "\n",
            "0: 672x1024 1 number_plate, 27.8ms\n",
            "Speed: 7.6ms preprocess, 27.8ms inference, 1.9ms postprocess per image at shape (1, 3, 672, 1024)\n",
            "\n",
            "0: 672x1024 1 number_plate, 28.2ms\n",
            "Speed: 8.1ms preprocess, 28.2ms inference, 2.0ms postprocess per image at shape (1, 3, 672, 1024)\n",
            "\n",
            "0: 672x1024 1 number_plate, 27.3ms\n",
            "Speed: 7.2ms preprocess, 27.3ms inference, 1.9ms postprocess per image at shape (1, 3, 672, 1024)\n",
            "\n",
            "0: 672x1024 1 number_plate, 27.0ms\n",
            "Speed: 8.2ms preprocess, 27.0ms inference, 2.1ms postprocess per image at shape (1, 3, 672, 1024)\n",
            "\n",
            "0: 672x1024 1 number_plate, 32.1ms\n",
            "Speed: 8.0ms preprocess, 32.1ms inference, 2.1ms postprocess per image at shape (1, 3, 672, 1024)\n",
            "\n",
            "0: 672x1024 1 number_plate, 26.9ms\n",
            "Speed: 14.3ms preprocess, 26.9ms inference, 2.1ms postprocess per image at shape (1, 3, 672, 1024)\n",
            "\n",
            "0: 672x1024 1 number_plate, 27.0ms\n",
            "Speed: 8.0ms preprocess, 27.0ms inference, 2.0ms postprocess per image at shape (1, 3, 672, 1024)\n",
            "\n",
            "0: 672x1024 1 number_plate, 39.2ms\n",
            "Speed: 9.6ms preprocess, 39.2ms inference, 2.1ms postprocess per image at shape (1, 3, 672, 1024)\n",
            "\n",
            "0: 672x1024 1 number_plate, 1 car, 25.9ms\n",
            "Speed: 7.3ms preprocess, 25.9ms inference, 1.9ms postprocess per image at shape (1, 3, 672, 1024)\n",
            "\n",
            "0: 672x1024 1 number_plate, 1 car, 27.2ms\n",
            "Speed: 8.4ms preprocess, 27.2ms inference, 1.8ms postprocess per image at shape (1, 3, 672, 1024)\n",
            "\n",
            "0: 672x1024 1 number_plate, 1 car, 25.1ms\n",
            "Speed: 7.5ms preprocess, 25.1ms inference, 1.9ms postprocess per image at shape (1, 3, 672, 1024)\n",
            "\n",
            "0: 672x1024 1 number_plate, 1 car, 26.2ms\n",
            "Speed: 7.9ms preprocess, 26.2ms inference, 1.8ms postprocess per image at shape (1, 3, 672, 1024)\n",
            "\n",
            "0: 672x1024 1 number_plate, 28.4ms\n",
            "Speed: 7.2ms preprocess, 28.4ms inference, 2.3ms postprocess per image at shape (1, 3, 672, 1024)\n",
            "\n",
            "0: 672x1024 1 number_plate, 33.9ms\n",
            "Speed: 9.2ms preprocess, 33.9ms inference, 2.2ms postprocess per image at shape (1, 3, 672, 1024)\n",
            "\n",
            "0: 672x1024 1 number_plate, 2 cars, 31.3ms\n",
            "Speed: 7.5ms preprocess, 31.3ms inference, 2.8ms postprocess per image at shape (1, 3, 672, 1024)\n",
            "\n",
            "0: 672x1024 1 number_plate, 2 cars, 26.8ms\n",
            "Speed: 7.5ms preprocess, 26.8ms inference, 2.1ms postprocess per image at shape (1, 3, 672, 1024)\n",
            "\n",
            "0: 672x1024 1 number_plate, 2 cars, 25.5ms\n",
            "Speed: 7.4ms preprocess, 25.5ms inference, 1.8ms postprocess per image at shape (1, 3, 672, 1024)\n",
            "\n",
            "0: 672x1024 1 number_plate, 2 cars, 25.3ms\n",
            "Speed: 7.6ms preprocess, 25.3ms inference, 1.8ms postprocess per image at shape (1, 3, 672, 1024)\n",
            "\n",
            "0: 672x1024 1 number_plate, 2 cars, 26.6ms\n",
            "Speed: 8.1ms preprocess, 26.6ms inference, 1.9ms postprocess per image at shape (1, 3, 672, 1024)\n",
            "\n",
            "0: 672x1024 1 number_plate, 1 car, 28.3ms\n",
            "Speed: 7.8ms preprocess, 28.3ms inference, 2.4ms postprocess per image at shape (1, 3, 672, 1024)\n",
            "\n",
            "0: 672x1024 1 number_plate, 1 car, 30.5ms\n",
            "Speed: 7.9ms preprocess, 30.5ms inference, 2.0ms postprocess per image at shape (1, 3, 672, 1024)\n",
            "\n",
            "0: 672x1024 1 number_plate, 1 car, 26.8ms\n",
            "Speed: 7.9ms preprocess, 26.8ms inference, 1.9ms postprocess per image at shape (1, 3, 672, 1024)\n",
            "\n",
            "0: 672x1024 1 number_plate, 1 car, 25.8ms\n",
            "Speed: 7.3ms preprocess, 25.8ms inference, 1.9ms postprocess per image at shape (1, 3, 672, 1024)\n",
            "\n",
            "0: 672x1024 1 number_plate, 1 car, 26.3ms\n",
            "Speed: 7.3ms preprocess, 26.3ms inference, 1.9ms postprocess per image at shape (1, 3, 672, 1024)\n",
            "\n",
            "0: 672x1024 1 number_plate, 1 car, 29.6ms\n",
            "Speed: 7.7ms preprocess, 29.6ms inference, 2.0ms postprocess per image at shape (1, 3, 672, 1024)\n",
            "\n",
            "0: 672x1024 1 number_plate, 1 car, 25.4ms\n",
            "Speed: 9.6ms preprocess, 25.4ms inference, 1.9ms postprocess per image at shape (1, 3, 672, 1024)\n",
            "\n",
            "0: 672x1024 1 number_plate, 1 car, 25.4ms\n",
            "Speed: 7.4ms preprocess, 25.4ms inference, 1.8ms postprocess per image at shape (1, 3, 672, 1024)\n",
            "\n",
            "0: 672x1024 1 number_plate, 1 car, 25.7ms\n",
            "Speed: 7.3ms preprocess, 25.7ms inference, 1.8ms postprocess per image at shape (1, 3, 672, 1024)\n",
            "\n",
            "0: 672x1024 1 number_plate, 1 car, 31.7ms\n",
            "Speed: 8.0ms preprocess, 31.7ms inference, 2.3ms postprocess per image at shape (1, 3, 672, 1024)\n",
            "\n",
            "0: 672x1024 1 number_plate, 1 car, 28.7ms\n",
            "Speed: 8.1ms preprocess, 28.7ms inference, 2.3ms postprocess per image at shape (1, 3, 672, 1024)\n",
            "\n",
            "0: 672x1024 1 number_plate, 1 car, 26.8ms\n",
            "Speed: 7.8ms preprocess, 26.8ms inference, 1.9ms postprocess per image at shape (1, 3, 672, 1024)\n",
            "\n",
            "0: 672x1024 1 number_plate, 1 car, 26.9ms\n",
            "Speed: 7.7ms preprocess, 26.9ms inference, 2.0ms postprocess per image at shape (1, 3, 672, 1024)\n",
            "\n",
            "0: 672x1024 1 number_plate, 1 car, 26.5ms\n",
            "Speed: 8.7ms preprocess, 26.5ms inference, 1.9ms postprocess per image at shape (1, 3, 672, 1024)\n",
            "\n",
            "0: 672x1024 1 number_plate, 1 car, 28.9ms\n",
            "Speed: 7.8ms preprocess, 28.9ms inference, 1.9ms postprocess per image at shape (1, 3, 672, 1024)\n",
            "\n",
            "0: 672x1024 1 number_plate, 1 car, 27.9ms\n",
            "Speed: 7.4ms preprocess, 27.9ms inference, 1.9ms postprocess per image at shape (1, 3, 672, 1024)\n",
            "\n",
            "0: 672x1024 1 number_plate, 1 car, 26.8ms\n",
            "Speed: 7.5ms preprocess, 26.8ms inference, 2.0ms postprocess per image at shape (1, 3, 672, 1024)\n",
            "\n",
            "0: 672x1024 1 number_plate, 1 car, 27.7ms\n",
            "Speed: 7.7ms preprocess, 27.7ms inference, 1.9ms postprocess per image at shape (1, 3, 672, 1024)\n",
            "\n",
            "0: 672x1024 1 number_plate, 1 car, 29.3ms\n",
            "Speed: 8.2ms preprocess, 29.3ms inference, 1.9ms postprocess per image at shape (1, 3, 672, 1024)\n",
            "\n",
            "0: 672x1024 1 number_plate, 1 car, 27.2ms\n",
            "Speed: 7.9ms preprocess, 27.2ms inference, 2.0ms postprocess per image at shape (1, 3, 672, 1024)\n",
            "\n",
            "0: 672x1024 1 number_plate, 2 cars, 36.3ms\n",
            "Speed: 7.7ms preprocess, 36.3ms inference, 2.1ms postprocess per image at shape (1, 3, 672, 1024)\n",
            "\n",
            "0: 672x1024 1 number_plate, 28.3ms\n",
            "Speed: 7.7ms preprocess, 28.3ms inference, 2.1ms postprocess per image at shape (1, 3, 672, 1024)\n",
            "\n",
            "0: 672x1024 1 number_plate, 1 car, 29.2ms\n",
            "Speed: 7.2ms preprocess, 29.2ms inference, 1.9ms postprocess per image at shape (1, 3, 672, 1024)\n",
            "\n",
            "0: 672x1024 1 number_plate, 1 car, 29.2ms\n",
            "Speed: 7.9ms preprocess, 29.2ms inference, 1.9ms postprocess per image at shape (1, 3, 672, 1024)\n",
            "\n",
            "0: 672x1024 1 number_plate, 1 car, 27.3ms\n",
            "Speed: 7.1ms preprocess, 27.3ms inference, 2.1ms postprocess per image at shape (1, 3, 672, 1024)\n",
            "\n",
            "0: 672x1024 1 number_plate, 34.0ms\n",
            "Speed: 9.4ms preprocess, 34.0ms inference, 2.1ms postprocess per image at shape (1, 3, 672, 1024)\n",
            "\n",
            "0: 672x1024 1 number_plate, 28.2ms\n",
            "Speed: 8.6ms preprocess, 28.2ms inference, 1.9ms postprocess per image at shape (1, 3, 672, 1024)\n",
            "\n",
            "0: 672x1024 1 number_plate, 25.2ms\n",
            "Speed: 7.7ms preprocess, 25.2ms inference, 1.8ms postprocess per image at shape (1, 3, 672, 1024)\n",
            "\n",
            "0: 672x1024 1 number_plate, 25.3ms\n",
            "Speed: 9.0ms preprocess, 25.3ms inference, 1.8ms postprocess per image at shape (1, 3, 672, 1024)\n",
            "\n",
            "0: 672x1024 1 number_plate, 25.5ms\n",
            "Speed: 7.4ms preprocess, 25.5ms inference, 1.8ms postprocess per image at shape (1, 3, 672, 1024)\n",
            "\n",
            "0: 672x1024 1 number_plate, 1 car, 26.3ms\n",
            "Speed: 8.4ms preprocess, 26.3ms inference, 1.8ms postprocess per image at shape (1, 3, 672, 1024)\n",
            "\n",
            "0: 672x1024 1 number_plate, 1 car, 25.7ms\n",
            "Speed: 7.2ms preprocess, 25.7ms inference, 1.8ms postprocess per image at shape (1, 3, 672, 1024)\n",
            "\n",
            "0: 672x1024 1 number_plate, 25.3ms\n",
            "Speed: 8.0ms preprocess, 25.3ms inference, 2.1ms postprocess per image at shape (1, 3, 672, 1024)\n",
            "\n",
            "0: 672x1024 1 number_plate, 30.8ms\n",
            "Speed: 8.6ms preprocess, 30.8ms inference, 1.9ms postprocess per image at shape (1, 3, 672, 1024)\n",
            "\n",
            "0: 672x1024 1 number_plate, 30.8ms\n",
            "Speed: 10.0ms preprocess, 30.8ms inference, 2.0ms postprocess per image at shape (1, 3, 672, 1024)\n",
            "\n",
            "0: 672x1024 1 number_plate, 26.0ms\n",
            "Speed: 7.8ms preprocess, 26.0ms inference, 1.9ms postprocess per image at shape (1, 3, 672, 1024)\n",
            "\n",
            "0: 672x1024 1 number_plate, 31.0ms\n",
            "Speed: 9.4ms preprocess, 31.0ms inference, 2.7ms postprocess per image at shape (1, 3, 672, 1024)\n",
            "\n",
            "0: 672x1024 1 number_plate, 26.6ms\n",
            "Speed: 7.7ms preprocess, 26.6ms inference, 1.9ms postprocess per image at shape (1, 3, 672, 1024)\n",
            "\n",
            "0: 672x1024 1 number_plate, 26.4ms\n",
            "Speed: 9.9ms preprocess, 26.4ms inference, 1.8ms postprocess per image at shape (1, 3, 672, 1024)\n",
            "\n",
            "0: 672x1024 1 number_plate, 38.2ms\n",
            "Speed: 11.4ms preprocess, 38.2ms inference, 1.8ms postprocess per image at shape (1, 3, 672, 1024)\n",
            "\n",
            "0: 672x1024 1 number_plate, 32.5ms\n",
            "Speed: 7.5ms preprocess, 32.5ms inference, 2.8ms postprocess per image at shape (1, 3, 672, 1024)\n",
            "\n",
            "0: 672x1024 1 number_plate, 49.8ms\n",
            "Speed: 9.2ms preprocess, 49.8ms inference, 2.1ms postprocess per image at shape (1, 3, 672, 1024)\n",
            "\n",
            "0: 672x1024 1 number_plate, 35.1ms\n",
            "Speed: 9.8ms preprocess, 35.1ms inference, 2.2ms postprocess per image at shape (1, 3, 672, 1024)\n",
            "\n",
            "0: 672x1024 1 number_plate, 28.9ms\n",
            "Speed: 7.3ms preprocess, 28.9ms inference, 1.8ms postprocess per image at shape (1, 3, 672, 1024)\n",
            "\n",
            "0: 672x1024 1 number_plate, 20.6ms\n",
            "Speed: 6.5ms preprocess, 20.6ms inference, 1.4ms postprocess per image at shape (1, 3, 672, 1024)\n",
            "\n",
            "0: 672x1024 1 number_plate, 20.6ms\n",
            "Speed: 5.9ms preprocess, 20.6ms inference, 1.3ms postprocess per image at shape (1, 3, 672, 1024)\n",
            "\n",
            "0: 672x1024 1 number_plate, 20.6ms\n",
            "Speed: 6.0ms preprocess, 20.6ms inference, 1.3ms postprocess per image at shape (1, 3, 672, 1024)\n",
            "\n",
            "0: 672x1024 1 number_plate, 21.0ms\n",
            "Speed: 6.2ms preprocess, 21.0ms inference, 1.3ms postprocess per image at shape (1, 3, 672, 1024)\n",
            "\n",
            "0: 672x1024 1 number_plate, 20.8ms\n",
            "Speed: 6.0ms preprocess, 20.8ms inference, 1.3ms postprocess per image at shape (1, 3, 672, 1024)\n",
            "\n",
            "0: 672x1024 1 number_plate, 22.5ms\n",
            "Speed: 7.0ms preprocess, 22.5ms inference, 1.6ms postprocess per image at shape (1, 3, 672, 1024)\n",
            "\n",
            "0: 672x1024 1 number_plate, 20.1ms\n",
            "Speed: 6.4ms preprocess, 20.1ms inference, 1.3ms postprocess per image at shape (1, 3, 672, 1024)\n",
            "\n",
            "0: 672x1024 1 number_plate, 18.5ms\n",
            "Speed: 6.3ms preprocess, 18.5ms inference, 1.4ms postprocess per image at shape (1, 3, 672, 1024)\n",
            "\n",
            "0: 672x1024 1 number_plate, 17.9ms\n",
            "Speed: 7.6ms preprocess, 17.9ms inference, 1.4ms postprocess per image at shape (1, 3, 672, 1024)\n",
            "\n",
            "0: 672x1024 1 number_plate, 20.4ms\n",
            "Speed: 6.6ms preprocess, 20.4ms inference, 1.7ms postprocess per image at shape (1, 3, 672, 1024)\n",
            "\n",
            "0: 672x1024 1 number_plate, 19.8ms\n",
            "Speed: 6.4ms preprocess, 19.8ms inference, 1.4ms postprocess per image at shape (1, 3, 672, 1024)\n",
            "\n",
            "0: 672x1024 1 number_plate, 18.2ms\n",
            "Speed: 6.2ms preprocess, 18.2ms inference, 1.4ms postprocess per image at shape (1, 3, 672, 1024)\n",
            "\n",
            "0: 672x1024 1 number_plate, 17.6ms\n",
            "Speed: 6.3ms preprocess, 17.6ms inference, 1.3ms postprocess per image at shape (1, 3, 672, 1024)\n",
            "\n",
            "0: 672x1024 1 number_plate, 20.1ms\n",
            "Speed: 6.3ms preprocess, 20.1ms inference, 1.9ms postprocess per image at shape (1, 3, 672, 1024)\n",
            "\n",
            "0: 672x1024 1 number_plate, 18.0ms\n",
            "Speed: 6.8ms preprocess, 18.0ms inference, 1.4ms postprocess per image at shape (1, 3, 672, 1024)\n",
            "\n",
            "0: 672x1024 1 number_plate, 17.9ms\n",
            "Speed: 4.8ms preprocess, 17.9ms inference, 1.6ms postprocess per image at shape (1, 3, 672, 1024)\n",
            "\n",
            "0: 672x1024 1 number_plate, 30.7ms\n",
            "Speed: 6.9ms preprocess, 30.7ms inference, 3.2ms postprocess per image at shape (1, 3, 672, 1024)\n",
            "\n",
            "0: 672x1024 1 number_plate, 24.8ms\n",
            "Speed: 10.7ms preprocess, 24.8ms inference, 1.7ms postprocess per image at shape (1, 3, 672, 1024)\n",
            "\n",
            "0: 672x1024 1 number_plate, 30.7ms\n",
            "Speed: 7.5ms preprocess, 30.7ms inference, 2.1ms postprocess per image at shape (1, 3, 672, 1024)\n",
            "\n",
            "0: 672x1024 1 number_plate, 27.5ms\n",
            "Speed: 7.1ms preprocess, 27.5ms inference, 2.1ms postprocess per image at shape (1, 3, 672, 1024)\n",
            "\n",
            "0: 672x1024 1 number_plate, 19.3ms\n",
            "Speed: 8.1ms preprocess, 19.3ms inference, 1.4ms postprocess per image at shape (1, 3, 672, 1024)\n",
            "\n",
            "0: 672x1024 1 number_plate, 18.0ms\n",
            "Speed: 4.7ms preprocess, 18.0ms inference, 1.3ms postprocess per image at shape (1, 3, 672, 1024)\n",
            "\n",
            "0: 672x1024 1 number_plate, 17.9ms\n",
            "Speed: 7.3ms preprocess, 17.9ms inference, 1.3ms postprocess per image at shape (1, 3, 672, 1024)\n",
            "\n",
            "0: 672x1024 1 number_plate, 17.1ms\n",
            "Speed: 5.3ms preprocess, 17.1ms inference, 1.3ms postprocess per image at shape (1, 3, 672, 1024)\n",
            "\n",
            "0: 672x1024 1 number_plate, 17.2ms\n",
            "Speed: 6.3ms preprocess, 17.2ms inference, 1.4ms postprocess per image at shape (1, 3, 672, 1024)\n",
            "\n",
            "0: 672x1024 1 number_plate, 17.7ms\n",
            "Speed: 6.6ms preprocess, 17.7ms inference, 1.4ms postprocess per image at shape (1, 3, 672, 1024)\n",
            "\n",
            "0: 672x1024 1 number_plate, 17.7ms\n",
            "Speed: 6.0ms preprocess, 17.7ms inference, 1.7ms postprocess per image at shape (1, 3, 672, 1024)\n",
            "\n",
            "0: 672x1024 1 number_plate, 18.1ms\n",
            "Speed: 5.9ms preprocess, 18.1ms inference, 1.8ms postprocess per image at shape (1, 3, 672, 1024)\n",
            "\n",
            "0: 672x1024 1 number_plate, 19.4ms\n",
            "Speed: 5.5ms preprocess, 19.4ms inference, 1.4ms postprocess per image at shape (1, 3, 672, 1024)\n",
            "\n",
            "0: 672x1024 1 number_plate, 17.4ms\n",
            "Speed: 5.2ms preprocess, 17.4ms inference, 1.4ms postprocess per image at shape (1, 3, 672, 1024)\n",
            "\n",
            "0: 672x1024 1 number_plate, 17.7ms\n",
            "Speed: 6.8ms preprocess, 17.7ms inference, 1.3ms postprocess per image at shape (1, 3, 672, 1024)\n",
            "\n",
            "0: 672x1024 1 number_plate, 18.5ms\n",
            "Speed: 8.2ms preprocess, 18.5ms inference, 1.4ms postprocess per image at shape (1, 3, 672, 1024)\n",
            "\n",
            "0: 672x1024 1 number_plate, 18.4ms\n",
            "Speed: 6.7ms preprocess, 18.4ms inference, 1.7ms postprocess per image at shape (1, 3, 672, 1024)\n",
            "\n",
            "0: 672x1024 1 number_plate, 1 car, 17.9ms\n",
            "Speed: 6.0ms preprocess, 17.9ms inference, 1.3ms postprocess per image at shape (1, 3, 672, 1024)\n",
            "\n",
            "0: 672x1024 1 number_plate, 1 car, 18.5ms\n",
            "Speed: 6.5ms preprocess, 18.5ms inference, 1.5ms postprocess per image at shape (1, 3, 672, 1024)\n",
            "\n",
            "0: 672x1024 1 number_plate, 1 car, 17.6ms\n",
            "Speed: 6.2ms preprocess, 17.6ms inference, 1.4ms postprocess per image at shape (1, 3, 672, 1024)\n",
            "\n",
            "0: 672x1024 1 number_plate, 1 car, 18.0ms\n",
            "Speed: 6.1ms preprocess, 18.0ms inference, 1.4ms postprocess per image at shape (1, 3, 672, 1024)\n",
            "\n",
            "0: 672x1024 1 number_plate, 1 car, 19.2ms\n",
            "Speed: 7.1ms preprocess, 19.2ms inference, 1.4ms postprocess per image at shape (1, 3, 672, 1024)\n",
            "\n",
            "0: 672x1024 1 number_plate, 1 car, 21.2ms\n",
            "Speed: 6.2ms preprocess, 21.2ms inference, 2.2ms postprocess per image at shape (1, 3, 672, 1024)\n",
            "\n",
            "0: 672x1024 1 number_plate, 1 car, 25.7ms\n",
            "Speed: 6.7ms preprocess, 25.7ms inference, 1.8ms postprocess per image at shape (1, 3, 672, 1024)\n",
            "\n",
            "0: 672x1024 1 number_plate, 1 car, 26.3ms\n",
            "Speed: 7.8ms preprocess, 26.3ms inference, 1.8ms postprocess per image at shape (1, 3, 672, 1024)\n",
            "\n",
            "0: 672x1024 1 number_plate, 1 car, 24.4ms\n",
            "Speed: 7.0ms preprocess, 24.4ms inference, 1.5ms postprocess per image at shape (1, 3, 672, 1024)\n",
            "\n",
            "0: 672x1024 1 number_plate, 17.9ms\n",
            "Speed: 6.8ms preprocess, 17.9ms inference, 1.4ms postprocess per image at shape (1, 3, 672, 1024)\n",
            "\n",
            "0: 672x1024 1 number_plate, 17.5ms\n",
            "Speed: 7.6ms preprocess, 17.5ms inference, 1.4ms postprocess per image at shape (1, 3, 672, 1024)\n",
            "\n",
            "0: 672x1024 1 number_plate, 17.3ms\n",
            "Speed: 6.7ms preprocess, 17.3ms inference, 1.5ms postprocess per image at shape (1, 3, 672, 1024)\n",
            "\n",
            "0: 672x1024 1 number_plate, 17.3ms\n",
            "Speed: 6.3ms preprocess, 17.3ms inference, 1.4ms postprocess per image at shape (1, 3, 672, 1024)\n",
            "\n",
            "0: 672x1024 1 number_plate, 18.3ms\n",
            "Speed: 7.3ms preprocess, 18.3ms inference, 1.4ms postprocess per image at shape (1, 3, 672, 1024)\n",
            "\n",
            "0: 672x1024 1 number_plate, 17.7ms\n",
            "Speed: 6.7ms preprocess, 17.7ms inference, 1.3ms postprocess per image at shape (1, 3, 672, 1024)\n",
            "\n",
            "0: 672x1024 1 number_plate, 17.3ms\n",
            "Speed: 6.6ms preprocess, 17.3ms inference, 1.4ms postprocess per image at shape (1, 3, 672, 1024)\n",
            "\n",
            "0: 672x1024 1 number_plate, 17.5ms\n",
            "Speed: 7.9ms preprocess, 17.5ms inference, 1.4ms postprocess per image at shape (1, 3, 672, 1024)\n",
            "\n",
            "0: 672x1024 1 number_plate, 17.7ms\n",
            "Speed: 5.7ms preprocess, 17.7ms inference, 1.4ms postprocess per image at shape (1, 3, 672, 1024)\n",
            "\n",
            "0: 672x1024 1 number_plate, 18.5ms\n",
            "Speed: 7.5ms preprocess, 18.5ms inference, 1.4ms postprocess per image at shape (1, 3, 672, 1024)\n",
            "\n",
            "0: 672x1024 1 number_plate, 18.8ms\n",
            "Speed: 6.1ms preprocess, 18.8ms inference, 1.3ms postprocess per image at shape (1, 3, 672, 1024)\n",
            "\n",
            "0: 672x1024 1 number_plate, 17.5ms\n",
            "Speed: 5.2ms preprocess, 17.5ms inference, 1.4ms postprocess per image at shape (1, 3, 672, 1024)\n",
            "\n",
            "0: 672x1024 1 number_plate, 17.6ms\n",
            "Speed: 4.7ms preprocess, 17.6ms inference, 1.4ms postprocess per image at shape (1, 3, 672, 1024)\n",
            "\n",
            "0: 672x1024 1 number_plate, 17.8ms\n",
            "Speed: 11.0ms preprocess, 17.8ms inference, 1.5ms postprocess per image at shape (1, 3, 672, 1024)\n",
            "\n",
            "0: 672x1024 1 number_plate, 17.5ms\n",
            "Speed: 6.5ms preprocess, 17.5ms inference, 1.5ms postprocess per image at shape (1, 3, 672, 1024)\n",
            "\n",
            "0: 672x1024 1 number_plate, 18.6ms\n",
            "Speed: 5.8ms preprocess, 18.6ms inference, 1.3ms postprocess per image at shape (1, 3, 672, 1024)\n",
            "\n",
            "0: 672x1024 1 number_plate, 18.5ms\n",
            "Speed: 6.4ms preprocess, 18.5ms inference, 1.3ms postprocess per image at shape (1, 3, 672, 1024)\n",
            "\n",
            "0: 672x1024 1 number_plate, 18.1ms\n",
            "Speed: 6.8ms preprocess, 18.1ms inference, 1.4ms postprocess per image at shape (1, 3, 672, 1024)\n",
            "\n",
            "0: 672x1024 1 number_plate, 18.0ms\n",
            "Speed: 6.2ms preprocess, 18.0ms inference, 1.3ms postprocess per image at shape (1, 3, 672, 1024)\n",
            "\n",
            "0: 672x1024 1 number_plate, 2 cars, 19.3ms\n",
            "Speed: 5.2ms preprocess, 19.3ms inference, 2.0ms postprocess per image at shape (1, 3, 672, 1024)\n",
            "\n",
            "0: 672x1024 1 number_plate, 3 cars, 27.6ms\n",
            "Speed: 8.9ms preprocess, 27.6ms inference, 1.8ms postprocess per image at shape (1, 3, 672, 1024)\n",
            "\n",
            "0: 672x1024 1 number_plate, 3 cars, 26.8ms\n",
            "Speed: 6.8ms preprocess, 26.8ms inference, 1.7ms postprocess per image at shape (1, 3, 672, 1024)\n",
            "\n",
            "0: 672x1024 1 number_plate, 1 car, 17.7ms\n",
            "Speed: 6.1ms preprocess, 17.7ms inference, 1.3ms postprocess per image at shape (1, 3, 672, 1024)\n",
            "\n",
            "0: 672x1024 1 number_plate, 1 car, 17.7ms\n",
            "Speed: 6.9ms preprocess, 17.7ms inference, 1.3ms postprocess per image at shape (1, 3, 672, 1024)\n",
            "\n",
            "0: 672x1024 1 number_plate, 1 car, 17.2ms\n",
            "Speed: 8.7ms preprocess, 17.2ms inference, 1.3ms postprocess per image at shape (1, 3, 672, 1024)\n",
            "\n",
            "0: 672x1024 1 number_plate, 1 car, 17.4ms\n",
            "Speed: 7.3ms preprocess, 17.4ms inference, 1.3ms postprocess per image at shape (1, 3, 672, 1024)\n",
            "\n",
            "0: 672x1024 1 number_plate, 1 car, 17.7ms\n",
            "Speed: 6.2ms preprocess, 17.7ms inference, 1.4ms postprocess per image at shape (1, 3, 672, 1024)\n",
            "\n",
            "0: 672x1024 1 number_plate, 1 car, 18.3ms\n",
            "Speed: 6.3ms preprocess, 18.3ms inference, 1.4ms postprocess per image at shape (1, 3, 672, 1024)\n",
            "\n",
            "0: 672x1024 1 number_plate, 1 car, 18.1ms\n",
            "Speed: 6.2ms preprocess, 18.1ms inference, 1.3ms postprocess per image at shape (1, 3, 672, 1024)\n",
            "\n",
            "0: 672x1024 1 number_plate, 1 car, 17.3ms\n",
            "Speed: 5.9ms preprocess, 17.3ms inference, 1.4ms postprocess per image at shape (1, 3, 672, 1024)\n",
            "\n",
            "0: 672x1024 1 number_plate, 1 car, 17.5ms\n",
            "Speed: 7.1ms preprocess, 17.5ms inference, 1.3ms postprocess per image at shape (1, 3, 672, 1024)\n",
            "\n",
            "0: 672x1024 1 number_plate, 1 car, 18.1ms\n",
            "Speed: 7.9ms preprocess, 18.1ms inference, 1.4ms postprocess per image at shape (1, 3, 672, 1024)\n",
            "\n",
            "0: 672x1024 1 number_plate, 1 car, 19.4ms\n",
            "Speed: 7.4ms preprocess, 19.4ms inference, 1.4ms postprocess per image at shape (1, 3, 672, 1024)\n",
            "\n",
            "0: 672x1024 1 number_plate, 1 car, 17.9ms\n",
            "Speed: 6.0ms preprocess, 17.9ms inference, 1.4ms postprocess per image at shape (1, 3, 672, 1024)\n",
            "\n",
            "0: 672x1024 1 number_plate, 1 car, 18.0ms\n",
            "Speed: 7.5ms preprocess, 18.0ms inference, 1.4ms postprocess per image at shape (1, 3, 672, 1024)\n",
            "\n",
            "0: 672x1024 1 number_plate, 1 car, 17.4ms\n",
            "Speed: 7.4ms preprocess, 17.4ms inference, 1.4ms postprocess per image at shape (1, 3, 672, 1024)\n",
            "\n",
            "0: 672x1024 1 number_plate, 1 car, 17.9ms\n",
            "Speed: 6.1ms preprocess, 17.9ms inference, 1.5ms postprocess per image at shape (1, 3, 672, 1024)\n",
            "\n",
            "0: 672x1024 1 number_plate, 1 car, 17.7ms\n",
            "Speed: 7.7ms preprocess, 17.7ms inference, 1.4ms postprocess per image at shape (1, 3, 672, 1024)\n",
            "\n",
            "0: 672x1024 2 number_plates, 1 car, 19.1ms\n",
            "Speed: 8.4ms preprocess, 19.1ms inference, 1.4ms postprocess per image at shape (1, 3, 672, 1024)\n",
            "\n",
            "0: 672x1024 2 number_plates, 1 car, 19.4ms\n",
            "Speed: 7.7ms preprocess, 19.4ms inference, 1.4ms postprocess per image at shape (1, 3, 672, 1024)\n",
            "\n",
            "0: 672x1024 2 number_plates, 1 car, 17.1ms\n",
            "Speed: 5.4ms preprocess, 17.1ms inference, 1.4ms postprocess per image at shape (1, 3, 672, 1024)\n",
            "\n",
            "0: 672x1024 2 number_plates, 1 car, 27.1ms\n",
            "Speed: 8.9ms preprocess, 27.1ms inference, 4.4ms postprocess per image at shape (1, 3, 672, 1024)\n",
            "\n",
            "0: 672x1024 2 number_plates, 1 car, 25.3ms\n",
            "Speed: 8.0ms preprocess, 25.3ms inference, 1.7ms postprocess per image at shape (1, 3, 672, 1024)\n",
            "\n",
            "0: 672x1024 2 number_plates, 1 car, 26.1ms\n",
            "Speed: 7.4ms preprocess, 26.1ms inference, 1.9ms postprocess per image at shape (1, 3, 672, 1024)\n",
            "\n",
            "0: 672x1024 1 number_plate, 1 car, 17.9ms\n",
            "Speed: 7.8ms preprocess, 17.9ms inference, 1.3ms postprocess per image at shape (1, 3, 672, 1024)\n",
            "\n",
            "0: 672x1024 1 number_plate, 2 cars, 18.0ms\n",
            "Speed: 7.7ms preprocess, 18.0ms inference, 1.4ms postprocess per image at shape (1, 3, 672, 1024)\n",
            "\n",
            "0: 672x1024 1 number_plate, 1 car, 17.1ms\n",
            "Speed: 7.2ms preprocess, 17.1ms inference, 1.4ms postprocess per image at shape (1, 3, 672, 1024)\n",
            "\n",
            "0: 672x1024 2 number_plates, 1 car, 17.3ms\n",
            "Speed: 8.5ms preprocess, 17.3ms inference, 1.4ms postprocess per image at shape (1, 3, 672, 1024)\n",
            "\n",
            "0: 672x1024 1 number_plate, 1 car, 20.5ms\n",
            "Speed: 7.8ms preprocess, 20.5ms inference, 1.3ms postprocess per image at shape (1, 3, 672, 1024)\n",
            "\n",
            "0: 672x1024 1 number_plate, 1 car, 18.5ms\n",
            "Speed: 7.5ms preprocess, 18.5ms inference, 1.6ms postprocess per image at shape (1, 3, 672, 1024)\n",
            "\n",
            "0: 672x1024 1 number_plate, 1 car, 17.5ms\n",
            "Speed: 7.2ms preprocess, 17.5ms inference, 1.3ms postprocess per image at shape (1, 3, 672, 1024)\n",
            "\n",
            "0: 672x1024 1 number_plate, 1 car, 17.3ms\n",
            "Speed: 6.9ms preprocess, 17.3ms inference, 1.5ms postprocess per image at shape (1, 3, 672, 1024)\n",
            "\n",
            "0: 672x1024 1 number_plate, 2 cars, 19.5ms\n",
            "Speed: 6.5ms preprocess, 19.5ms inference, 1.6ms postprocess per image at shape (1, 3, 672, 1024)\n",
            "\n",
            "0: 672x1024 1 number_plate, 2 cars, 18.6ms\n",
            "Speed: 6.7ms preprocess, 18.6ms inference, 1.4ms postprocess per image at shape (1, 3, 672, 1024)\n",
            "\n",
            "0: 672x1024 1 number_plate, 2 cars, 17.4ms\n",
            "Speed: 7.0ms preprocess, 17.4ms inference, 1.4ms postprocess per image at shape (1, 3, 672, 1024)\n",
            "\n",
            "0: 672x1024 1 number_plate, 1 car, 17.5ms\n",
            "Speed: 7.0ms preprocess, 17.5ms inference, 1.4ms postprocess per image at shape (1, 3, 672, 1024)\n",
            "\n",
            "0: 672x1024 1 number_plate, 1 car, 17.8ms\n",
            "Speed: 7.8ms preprocess, 17.8ms inference, 1.4ms postprocess per image at shape (1, 3, 672, 1024)\n",
            "\n",
            "0: 672x1024 1 number_plate, 2 cars, 17.8ms\n",
            "Speed: 7.6ms preprocess, 17.8ms inference, 1.3ms postprocess per image at shape (1, 3, 672, 1024)\n",
            "\n",
            "0: 672x1024 1 number_plate, 1 car, 17.7ms\n",
            "Speed: 7.0ms preprocess, 17.7ms inference, 1.3ms postprocess per image at shape (1, 3, 672, 1024)\n",
            "\n",
            "0: 672x1024 1 number_plate, 1 car, 18.3ms\n",
            "Speed: 5.6ms preprocess, 18.3ms inference, 1.4ms postprocess per image at shape (1, 3, 672, 1024)\n",
            "\n",
            "0: 672x1024 1 number_plate, 2 cars, 18.1ms\n",
            "Speed: 7.8ms preprocess, 18.1ms inference, 1.3ms postprocess per image at shape (1, 3, 672, 1024)\n",
            "\n",
            "0: 672x1024 1 number_plate, 2 cars, 17.6ms\n",
            "Speed: 6.4ms preprocess, 17.6ms inference, 1.5ms postprocess per image at shape (1, 3, 672, 1024)\n",
            "\n",
            "0: 672x1024 1 number_plate, 2 cars, 18.1ms\n",
            "Speed: 6.8ms preprocess, 18.1ms inference, 1.7ms postprocess per image at shape (1, 3, 672, 1024)\n",
            "\n",
            "0: 672x1024 1 number_plate, 3 cars, 26.5ms\n",
            "Speed: 8.1ms preprocess, 26.5ms inference, 1.8ms postprocess per image at shape (1, 3, 672, 1024)\n",
            "\n",
            "0: 672x1024 1 number_plate, 2 cars, 33.8ms\n",
            "Speed: 12.9ms preprocess, 33.8ms inference, 1.8ms postprocess per image at shape (1, 3, 672, 1024)\n",
            "\n",
            "0: 672x1024 1 number_plate, 1 car, 18.3ms\n",
            "Speed: 8.6ms preprocess, 18.3ms inference, 1.5ms postprocess per image at shape (1, 3, 672, 1024)\n",
            "\n",
            "0: 672x1024 1 number_plate, 1 car, 18.9ms\n",
            "Speed: 8.1ms preprocess, 18.9ms inference, 1.7ms postprocess per image at shape (1, 3, 672, 1024)\n",
            "\n",
            "0: 672x1024 1 number_plate, 1 car, 17.7ms\n",
            "Speed: 5.8ms preprocess, 17.7ms inference, 1.4ms postprocess per image at shape (1, 3, 672, 1024)\n",
            "\n",
            "0: 672x1024 1 number_plate, 17.2ms\n",
            "Speed: 6.1ms preprocess, 17.2ms inference, 1.4ms postprocess per image at shape (1, 3, 672, 1024)\n",
            "\n",
            "0: 672x1024 1 number_plate, 17.2ms\n",
            "Speed: 7.9ms preprocess, 17.2ms inference, 1.3ms postprocess per image at shape (1, 3, 672, 1024)\n",
            "\n",
            "0: 672x1024 1 number_plate, 1 car, 17.1ms\n",
            "Speed: 7.0ms preprocess, 17.1ms inference, 1.5ms postprocess per image at shape (1, 3, 672, 1024)\n",
            "\n",
            "0: 672x1024 2 number_plates, 1 car, 17.8ms\n",
            "Speed: 4.6ms preprocess, 17.8ms inference, 1.3ms postprocess per image at shape (1, 3, 672, 1024)\n",
            "\n",
            "0: 672x1024 2 number_plates, 1 car, 17.8ms\n",
            "Speed: 5.7ms preprocess, 17.8ms inference, 1.4ms postprocess per image at shape (1, 3, 672, 1024)\n",
            "\n",
            "0: 672x1024 2 number_plates, 1 car, 17.5ms\n",
            "Speed: 6.9ms preprocess, 17.5ms inference, 1.3ms postprocess per image at shape (1, 3, 672, 1024)\n",
            "\n",
            "0: 672x1024 2 number_plates, 1 car, 19.3ms\n",
            "Speed: 7.1ms preprocess, 19.3ms inference, 1.4ms postprocess per image at shape (1, 3, 672, 1024)\n",
            "\n",
            "0: 672x1024 2 number_plates, 1 car, 17.8ms\n",
            "Speed: 5.4ms preprocess, 17.8ms inference, 1.3ms postprocess per image at shape (1, 3, 672, 1024)\n",
            "\n",
            "0: 672x1024 2 number_plates, 1 car, 17.8ms\n",
            "Speed: 5.4ms preprocess, 17.8ms inference, 1.4ms postprocess per image at shape (1, 3, 672, 1024)\n",
            "\n",
            "0: 672x1024 2 number_plates, 1 car, 18.1ms\n",
            "Speed: 7.0ms preprocess, 18.1ms inference, 1.4ms postprocess per image at shape (1, 3, 672, 1024)\n",
            "\n",
            "0: 672x1024 1 number_plate, 1 car, 17.3ms\n",
            "Speed: 8.3ms preprocess, 17.3ms inference, 1.4ms postprocess per image at shape (1, 3, 672, 1024)\n",
            "\n",
            "0: 672x1024 1 number_plate, 1 car, 18.5ms\n",
            "Speed: 7.3ms preprocess, 18.5ms inference, 1.3ms postprocess per image at shape (1, 3, 672, 1024)\n",
            "\n",
            "0: 672x1024 1 number_plate, 1 car, 19.5ms\n",
            "Speed: 7.4ms preprocess, 19.5ms inference, 1.4ms postprocess per image at shape (1, 3, 672, 1024)\n",
            "\n",
            "0: 672x1024 1 number_plate, 1 car, 18.0ms\n",
            "Speed: 7.3ms preprocess, 18.0ms inference, 1.5ms postprocess per image at shape (1, 3, 672, 1024)\n",
            "\n",
            "0: 672x1024 1 number_plate, 1 car, 18.2ms\n",
            "Speed: 7.2ms preprocess, 18.2ms inference, 1.6ms postprocess per image at shape (1, 3, 672, 1024)\n",
            "\n",
            "0: 672x1024 1 number_plate, 1 car, 18.1ms\n",
            "Speed: 6.8ms preprocess, 18.1ms inference, 1.3ms postprocess per image at shape (1, 3, 672, 1024)\n",
            "\n",
            "0: 672x1024 1 number_plate, 1 car, 20.5ms\n",
            "Speed: 6.9ms preprocess, 20.5ms inference, 1.7ms postprocess per image at shape (1, 3, 672, 1024)\n",
            "\n",
            "0: 672x1024 1 number_plate, 2 cars, 26.0ms\n",
            "Speed: 7.3ms preprocess, 26.0ms inference, 1.8ms postprocess per image at shape (1, 3, 672, 1024)\n",
            "\n",
            "0: 672x1024 1 number_plate, 1 car, 26.2ms\n",
            "Speed: 7.0ms preprocess, 26.2ms inference, 2.0ms postprocess per image at shape (1, 3, 672, 1024)\n",
            "\n",
            "0: 672x1024 1 number_plate, 1 car, 24.9ms\n",
            "Speed: 14.9ms preprocess, 24.9ms inference, 1.7ms postprocess per image at shape (1, 3, 672, 1024)\n",
            "\n",
            "0: 672x1024 1 number_plate, 2 cars, 19.3ms\n",
            "Speed: 7.8ms preprocess, 19.3ms inference, 1.4ms postprocess per image at shape (1, 3, 672, 1024)\n",
            "\n",
            "0: 672x1024 1 number_plate, 3 cars, 18.3ms\n",
            "Speed: 4.9ms preprocess, 18.3ms inference, 1.3ms postprocess per image at shape (1, 3, 672, 1024)\n",
            "\n",
            "0: 672x1024 1 number_plate, 2 cars, 17.3ms\n",
            "Speed: 7.7ms preprocess, 17.3ms inference, 1.5ms postprocess per image at shape (1, 3, 672, 1024)\n",
            "\n",
            "0: 672x1024 1 number_plate, 3 cars, 17.5ms\n",
            "Speed: 7.0ms preprocess, 17.5ms inference, 1.4ms postprocess per image at shape (1, 3, 672, 1024)\n",
            "\n",
            "0: 672x1024 1 number_plate, 1 car, 18.0ms\n",
            "Speed: 7.3ms preprocess, 18.0ms inference, 1.4ms postprocess per image at shape (1, 3, 672, 1024)\n",
            "\n",
            "0: 672x1024 1 number_plate, 1 car, 17.7ms\n",
            "Speed: 7.1ms preprocess, 17.7ms inference, 1.3ms postprocess per image at shape (1, 3, 672, 1024)\n",
            "\n",
            "0: 672x1024 1 number_plate, 2 cars, 18.7ms\n",
            "Speed: 7.8ms preprocess, 18.7ms inference, 1.5ms postprocess per image at shape (1, 3, 672, 1024)\n",
            "\n",
            "0: 672x1024 1 number_plate, 1 car, 18.1ms\n",
            "Speed: 7.3ms preprocess, 18.1ms inference, 1.3ms postprocess per image at shape (1, 3, 672, 1024)\n",
            "\n",
            "0: 672x1024 1 number_plate, 1 car, 19.6ms\n",
            "Speed: 7.6ms preprocess, 19.6ms inference, 1.4ms postprocess per image at shape (1, 3, 672, 1024)\n",
            "\n",
            "0: 672x1024 1 number_plate, 2 cars, 19.8ms\n",
            "Speed: 7.9ms preprocess, 19.8ms inference, 1.4ms postprocess per image at shape (1, 3, 672, 1024)\n",
            "\n",
            "0: 672x1024 1 number_plate, 17.5ms\n",
            "Speed: 5.8ms preprocess, 17.5ms inference, 1.3ms postprocess per image at shape (1, 3, 672, 1024)\n",
            "\n",
            "0: 672x1024 1 number_plate, 17.9ms\n",
            "Speed: 6.4ms preprocess, 17.9ms inference, 1.8ms postprocess per image at shape (1, 3, 672, 1024)\n",
            "\n",
            "0: 672x1024 1 number_plate, 1 car, 17.5ms\n",
            "Speed: 6.7ms preprocess, 17.5ms inference, 1.4ms postprocess per image at shape (1, 3, 672, 1024)\n",
            "\n",
            "0: 672x1024 1 number_plate, 1 car, 17.6ms\n",
            "Speed: 6.5ms preprocess, 17.6ms inference, 1.3ms postprocess per image at shape (1, 3, 672, 1024)\n",
            "\n",
            "0: 672x1024 1 number_plate, 1 car, 17.6ms\n",
            "Speed: 7.6ms preprocess, 17.6ms inference, 1.5ms postprocess per image at shape (1, 3, 672, 1024)\n",
            "\n",
            "0: 672x1024 1 number_plate, 1 car, 17.4ms\n",
            "Speed: 7.4ms preprocess, 17.4ms inference, 1.3ms postprocess per image at shape (1, 3, 672, 1024)\n",
            "\n",
            "0: 672x1024 1 number_plate, 1 car, 18.2ms\n",
            "Speed: 5.7ms preprocess, 18.2ms inference, 1.4ms postprocess per image at shape (1, 3, 672, 1024)\n",
            "\n",
            "0: 672x1024 1 number_plate, 1 car, 18.2ms\n",
            "Speed: 8.1ms preprocess, 18.2ms inference, 1.3ms postprocess per image at shape (1, 3, 672, 1024)\n",
            "\n",
            "0: 672x1024 1 number_plate, 1 car, 26.6ms\n",
            "Speed: 7.0ms preprocess, 26.6ms inference, 1.7ms postprocess per image at shape (1, 3, 672, 1024)\n",
            "\n",
            "0: 672x1024 1 number_plate, 24.5ms\n",
            "Speed: 7.4ms preprocess, 24.5ms inference, 1.8ms postprocess per image at shape (1, 3, 672, 1024)\n",
            "\n",
            "0: 672x1024 1 number_plate, 1 car, 25.9ms\n",
            "Speed: 8.1ms preprocess, 25.9ms inference, 1.6ms postprocess per image at shape (1, 3, 672, 1024)\n",
            "\n",
            "0: 672x1024 1 number_plate, 1 car, 29.1ms\n",
            "Speed: 6.3ms preprocess, 29.1ms inference, 1.5ms postprocess per image at shape (1, 3, 672, 1024)\n",
            "\n",
            "0: 672x1024 1 number_plate, 1 car, 17.5ms\n",
            "Speed: 6.6ms preprocess, 17.5ms inference, 1.5ms postprocess per image at shape (1, 3, 672, 1024)\n",
            "\n",
            "0: 672x1024 1 number_plate, 1 car, 17.4ms\n",
            "Speed: 6.1ms preprocess, 17.4ms inference, 1.4ms postprocess per image at shape (1, 3, 672, 1024)\n",
            "\n",
            "0: 672x1024 1 number_plate, 1 car, 17.2ms\n",
            "Speed: 5.4ms preprocess, 17.2ms inference, 1.6ms postprocess per image at shape (1, 3, 672, 1024)\n",
            "\n",
            "0: 672x1024 1 number_plate, 1 car, 17.3ms\n",
            "Speed: 6.0ms preprocess, 17.3ms inference, 1.4ms postprocess per image at shape (1, 3, 672, 1024)\n",
            "\n",
            "0: 672x1024 1 number_plate, 1 car, 17.6ms\n",
            "Speed: 5.9ms preprocess, 17.6ms inference, 1.4ms postprocess per image at shape (1, 3, 672, 1024)\n",
            "\n",
            "0: 672x1024 1 number_plate, 17.8ms\n",
            "Speed: 4.7ms preprocess, 17.8ms inference, 1.3ms postprocess per image at shape (1, 3, 672, 1024)\n",
            "\n",
            "0: 672x1024 1 number_plate, 17.6ms\n",
            "Speed: 6.8ms preprocess, 17.6ms inference, 1.3ms postprocess per image at shape (1, 3, 672, 1024)\n",
            "\n",
            "0: 672x1024 1 number_plate, 1 car, 18.2ms\n",
            "Speed: 7.1ms preprocess, 18.2ms inference, 1.5ms postprocess per image at shape (1, 3, 672, 1024)\n",
            "\n",
            "0: 672x1024 1 number_plate, 1 car, 19.9ms\n",
            "Speed: 6.4ms preprocess, 19.9ms inference, 1.4ms postprocess per image at shape (1, 3, 672, 1024)\n",
            "\n",
            "0: 672x1024 1 number_plate, 17.6ms\n",
            "Speed: 6.3ms preprocess, 17.6ms inference, 1.7ms postprocess per image at shape (1, 3, 672, 1024)\n",
            "\n",
            "0: 672x1024 1 number_plate, 1 car, 18.0ms\n",
            "Speed: 6.5ms preprocess, 18.0ms inference, 1.6ms postprocess per image at shape (1, 3, 672, 1024)\n",
            "\n",
            "0: 672x1024 1 number_plate, 1 car, 17.2ms\n",
            "Speed: 4.7ms preprocess, 17.2ms inference, 1.6ms postprocess per image at shape (1, 3, 672, 1024)\n",
            "\n",
            "0: 672x1024 1 number_plate, 17.3ms\n",
            "Speed: 4.9ms preprocess, 17.3ms inference, 1.5ms postprocess per image at shape (1, 3, 672, 1024)\n",
            "\n",
            "0: 672x1024 1 number_plate, 17.7ms\n",
            "Speed: 6.5ms preprocess, 17.7ms inference, 1.5ms postprocess per image at shape (1, 3, 672, 1024)\n",
            "\n",
            "0: 672x1024 1 number_plate, 17.6ms\n",
            "Speed: 5.0ms preprocess, 17.6ms inference, 1.3ms postprocess per image at shape (1, 3, 672, 1024)\n",
            "\n",
            "0: 672x1024 1 number_plate, 17.7ms\n",
            "Speed: 6.5ms preprocess, 17.7ms inference, 1.3ms postprocess per image at shape (1, 3, 672, 1024)\n",
            "\n",
            "0: 672x1024 1 number_plate, 17.7ms\n",
            "Speed: 5.9ms preprocess, 17.7ms inference, 1.4ms postprocess per image at shape (1, 3, 672, 1024)\n",
            "\n",
            "0: 672x1024 1 number_plate, 1 car, 17.7ms\n",
            "Speed: 7.1ms preprocess, 17.7ms inference, 1.4ms postprocess per image at shape (1, 3, 672, 1024)\n",
            "\n",
            "0: 672x1024 1 number_plate, 2 cars, 20.6ms\n",
            "Speed: 6.2ms preprocess, 20.6ms inference, 1.8ms postprocess per image at shape (1, 3, 672, 1024)\n",
            "\n",
            "0: 672x1024 1 number_plate, 2 cars, 24.7ms\n",
            "Speed: 8.4ms preprocess, 24.7ms inference, 1.8ms postprocess per image at shape (1, 3, 672, 1024)\n",
            "\n",
            "0: 672x1024 (no detections), 25.6ms\n",
            "Speed: 10.5ms preprocess, 25.6ms inference, 0.8ms postprocess per image at shape (1, 3, 672, 1024)\n",
            "\n",
            "0: 672x1024 (no detections), 19.2ms\n",
            "Speed: 7.3ms preprocess, 19.2ms inference, 0.6ms postprocess per image at shape (1, 3, 672, 1024)\n",
            "\n",
            "0: 672x1024 1 bike, 27.8ms\n",
            "Speed: 9.7ms preprocess, 27.8ms inference, 1.5ms postprocess per image at shape (1, 3, 672, 1024)\n",
            "\n",
            "0: 672x1024 1 bike, 16.9ms\n",
            "Speed: 7.0ms preprocess, 16.9ms inference, 1.4ms postprocess per image at shape (1, 3, 672, 1024)\n",
            "\n",
            "0: 672x1024 (no detections), 17.0ms\n",
            "Speed: 7.0ms preprocess, 17.0ms inference, 0.5ms postprocess per image at shape (1, 3, 672, 1024)\n",
            "\n",
            "0: 672x1024 (no detections), 17.1ms\n",
            "Speed: 4.6ms preprocess, 17.1ms inference, 0.6ms postprocess per image at shape (1, 3, 672, 1024)\n",
            "\n",
            "0: 672x1024 (no detections), 17.1ms\n",
            "Speed: 6.9ms preprocess, 17.1ms inference, 0.6ms postprocess per image at shape (1, 3, 672, 1024)\n",
            "\n",
            "0: 672x1024 (no detections), 17.8ms\n",
            "Speed: 6.8ms preprocess, 17.8ms inference, 0.7ms postprocess per image at shape (1, 3, 672, 1024)\n",
            "\n",
            "0: 672x1024 (no detections), 17.9ms\n",
            "Speed: 6.9ms preprocess, 17.9ms inference, 0.6ms postprocess per image at shape (1, 3, 672, 1024)\n",
            "\n",
            "0: 672x1024 (no detections), 17.2ms\n",
            "Speed: 5.0ms preprocess, 17.2ms inference, 0.6ms postprocess per image at shape (1, 3, 672, 1024)\n",
            "\n",
            "0: 672x1024 (no detections), 17.4ms\n",
            "Speed: 7.8ms preprocess, 17.4ms inference, 0.6ms postprocess per image at shape (1, 3, 672, 1024)\n",
            "\n",
            "0: 672x1024 (no detections), 17.8ms\n",
            "Speed: 7.3ms preprocess, 17.8ms inference, 0.6ms postprocess per image at shape (1, 3, 672, 1024)\n",
            "\n",
            "0: 672x1024 (no detections), 18.9ms\n",
            "Speed: 6.8ms preprocess, 18.9ms inference, 0.6ms postprocess per image at shape (1, 3, 672, 1024)\n",
            "\n",
            "0: 672x1024 (no detections), 21.2ms\n",
            "Speed: 6.7ms preprocess, 21.2ms inference, 0.6ms postprocess per image at shape (1, 3, 672, 1024)\n",
            "\n",
            "0: 672x1024 (no detections), 19.0ms\n",
            "Speed: 6.2ms preprocess, 19.0ms inference, 0.6ms postprocess per image at shape (1, 3, 672, 1024)\n",
            "\n",
            "0: 672x1024 (no detections), 17.5ms\n",
            "Speed: 6.9ms preprocess, 17.5ms inference, 0.7ms postprocess per image at shape (1, 3, 672, 1024)\n",
            "\n",
            "0: 672x1024 (no detections), 17.9ms\n",
            "Speed: 7.3ms preprocess, 17.9ms inference, 0.6ms postprocess per image at shape (1, 3, 672, 1024)\n",
            "\n",
            "0: 672x1024 (no detections), 17.8ms\n",
            "Speed: 4.8ms preprocess, 17.8ms inference, 0.6ms postprocess per image at shape (1, 3, 672, 1024)\n",
            "\n",
            "0: 672x1024 (no detections), 17.8ms\n",
            "Speed: 6.8ms preprocess, 17.8ms inference, 0.6ms postprocess per image at shape (1, 3, 672, 1024)\n",
            "\n",
            "0: 672x1024 (no detections), 18.9ms\n",
            "Speed: 5.1ms preprocess, 18.9ms inference, 0.6ms postprocess per image at shape (1, 3, 672, 1024)\n",
            "\n",
            "0: 672x1024 (no detections), 18.3ms\n",
            "Speed: 6.7ms preprocess, 18.3ms inference, 0.6ms postprocess per image at shape (1, 3, 672, 1024)\n",
            "\n",
            "0: 672x1024 (no detections), 27.2ms\n",
            "Speed: 6.2ms preprocess, 27.2ms inference, 0.7ms postprocess per image at shape (1, 3, 672, 1024)\n",
            "\n",
            "0: 672x1024 (no detections), 26.1ms\n",
            "Speed: 7.5ms preprocess, 26.1ms inference, 0.7ms postprocess per image at shape (1, 3, 672, 1024)\n",
            "\n",
            "0: 672x1024 (no detections), 24.4ms\n",
            "Speed: 6.9ms preprocess, 24.4ms inference, 0.6ms postprocess per image at shape (1, 3, 672, 1024)\n",
            "\n",
            "0: 672x1024 (no detections), 17.8ms\n",
            "Speed: 5.2ms preprocess, 17.8ms inference, 0.6ms postprocess per image at shape (1, 3, 672, 1024)\n",
            "\n",
            "0: 672x1024 (no detections), 24.1ms\n",
            "Speed: 5.1ms preprocess, 24.1ms inference, 0.9ms postprocess per image at shape (1, 3, 672, 1024)\n",
            "\n",
            "0: 672x1024 (no detections), 17.8ms\n",
            "Speed: 6.8ms preprocess, 17.8ms inference, 0.6ms postprocess per image at shape (1, 3, 672, 1024)\n",
            "\n",
            "0: 672x1024 (no detections), 17.8ms\n",
            "Speed: 7.0ms preprocess, 17.8ms inference, 0.6ms postprocess per image at shape (1, 3, 672, 1024)\n",
            "\n",
            "0: 672x1024 (no detections), 18.5ms\n",
            "Speed: 7.4ms preprocess, 18.5ms inference, 0.6ms postprocess per image at shape (1, 3, 672, 1024)\n",
            "\n",
            "0: 672x1024 (no detections), 17.6ms\n",
            "Speed: 7.2ms preprocess, 17.6ms inference, 0.6ms postprocess per image at shape (1, 3, 672, 1024)\n",
            "\n",
            "0: 672x1024 (no detections), 21.9ms\n",
            "Speed: 6.9ms preprocess, 21.9ms inference, 0.6ms postprocess per image at shape (1, 3, 672, 1024)\n",
            "\n",
            "0: 672x1024 (no detections), 19.2ms\n",
            "Speed: 7.3ms preprocess, 19.2ms inference, 0.5ms postprocess per image at shape (1, 3, 672, 1024)\n",
            "\n",
            "0: 672x1024 (no detections), 18.0ms\n",
            "Speed: 7.6ms preprocess, 18.0ms inference, 0.6ms postprocess per image at shape (1, 3, 672, 1024)\n",
            "\n",
            "0: 672x1024 (no detections), 19.8ms\n",
            "Speed: 8.1ms preprocess, 19.8ms inference, 0.6ms postprocess per image at shape (1, 3, 672, 1024)\n",
            "\n",
            "0: 672x1024 1 car, 18.0ms\n",
            "Speed: 7.2ms preprocess, 18.0ms inference, 1.3ms postprocess per image at shape (1, 3, 672, 1024)\n",
            "\n",
            "0: 672x1024 2 cars, 18.0ms\n",
            "Speed: 6.2ms preprocess, 18.0ms inference, 1.4ms postprocess per image at shape (1, 3, 672, 1024)\n",
            "\n",
            "0: 672x1024 1 number_plate, 2 cars, 17.7ms\n",
            "Speed: 7.9ms preprocess, 17.7ms inference, 1.4ms postprocess per image at shape (1, 3, 672, 1024)\n",
            "\n",
            "0: 672x1024 1 number_plate, 1 car, 20.1ms\n",
            "Speed: 7.4ms preprocess, 20.1ms inference, 1.5ms postprocess per image at shape (1, 3, 672, 1024)\n",
            "\n",
            "0: 672x1024 1 number_plate, 18.0ms\n",
            "Speed: 7.9ms preprocess, 18.0ms inference, 1.4ms postprocess per image at shape (1, 3, 672, 1024)\n",
            "\n",
            "0: 672x1024 1 number_plate, 17.7ms\n",
            "Speed: 7.4ms preprocess, 17.7ms inference, 1.4ms postprocess per image at shape (1, 3, 672, 1024)\n",
            "\n",
            "0: 672x1024 1 number_plate, 2 cars, 17.7ms\n",
            "Speed: 5.2ms preprocess, 17.7ms inference, 1.3ms postprocess per image at shape (1, 3, 672, 1024)\n",
            "\n",
            "0: 672x1024 1 number_plate, 2 cars, 18.4ms\n",
            "Speed: 6.6ms preprocess, 18.4ms inference, 1.3ms postprocess per image at shape (1, 3, 672, 1024)\n",
            "\n",
            "0: 672x1024 1 number_plate, 18.2ms\n",
            "Speed: 5.5ms preprocess, 18.2ms inference, 1.5ms postprocess per image at shape (1, 3, 672, 1024)\n",
            "\n",
            "0: 672x1024 1 number_plate, 2 cars, 26.5ms\n",
            "Speed: 11.0ms preprocess, 26.5ms inference, 2.0ms postprocess per image at shape (1, 3, 672, 1024)\n",
            "\n",
            "0: 672x1024 1 number_plate, 25.0ms\n",
            "Speed: 8.3ms preprocess, 25.0ms inference, 1.8ms postprocess per image at shape (1, 3, 672, 1024)\n",
            "\n",
            "0: 672x1024 1 number_plate, 20.7ms\n",
            "Speed: 9.6ms preprocess, 20.7ms inference, 1.3ms postprocess per image at shape (1, 3, 672, 1024)\n",
            "\n",
            "0: 672x1024 1 number_plate, 1 car, 1 truck, 18.0ms\n",
            "Speed: 7.6ms preprocess, 18.0ms inference, 1.3ms postprocess per image at shape (1, 3, 672, 1024)\n",
            "\n",
            "0: 672x1024 1 number_plate, 1 car, 1 truck, 17.1ms\n",
            "Speed: 6.0ms preprocess, 17.1ms inference, 1.3ms postprocess per image at shape (1, 3, 672, 1024)\n",
            "\n",
            "0: 672x1024 1 number_plate, 1 truck, 31.2ms\n",
            "Speed: 8.0ms preprocess, 31.2ms inference, 2.1ms postprocess per image at shape (1, 3, 672, 1024)\n",
            "\n",
            "0: 672x1024 1 number_plate, 1 car, 1 truck, 32.1ms\n",
            "Speed: 8.4ms preprocess, 32.1ms inference, 2.3ms postprocess per image at shape (1, 3, 672, 1024)\n",
            "\n",
            "0: 672x1024 1 number_plate, 1 car, 1 truck, 31.8ms\n",
            "Speed: 8.7ms preprocess, 31.8ms inference, 1.8ms postprocess per image at shape (1, 3, 672, 1024)\n",
            "\n",
            "0: 672x1024 1 number_plate, 1 car, 26.8ms\n",
            "Speed: 7.1ms preprocess, 26.8ms inference, 2.0ms postprocess per image at shape (1, 3, 672, 1024)\n",
            "\n",
            "0: 672x1024 1 number_plate, 1 car, 28.2ms\n",
            "Speed: 7.6ms preprocess, 28.2ms inference, 2.1ms postprocess per image at shape (1, 3, 672, 1024)\n",
            "\n",
            "0: 672x1024 1 number_plate, 1 car, 24.3ms\n",
            "Speed: 8.9ms preprocess, 24.3ms inference, 1.7ms postprocess per image at shape (1, 3, 672, 1024)\n",
            "\n",
            "0: 672x1024 1 number_plate, 1 car, 27.3ms\n",
            "Speed: 7.3ms preprocess, 27.3ms inference, 1.7ms postprocess per image at shape (1, 3, 672, 1024)\n",
            "\n",
            "0: 672x1024 1 number_plate, 2 cars, 21.0ms\n",
            "Speed: 7.4ms preprocess, 21.0ms inference, 1.7ms postprocess per image at shape (1, 3, 672, 1024)\n",
            "\n",
            "0: 672x1024 1 number_plate, 2 cars, 26.2ms\n",
            "Speed: 7.4ms preprocess, 26.2ms inference, 1.7ms postprocess per image at shape (1, 3, 672, 1024)\n",
            "\n",
            "0: 672x1024 1 number_plate, 1 car, 22.0ms\n",
            "Speed: 7.0ms preprocess, 22.0ms inference, 1.8ms postprocess per image at shape (1, 3, 672, 1024)\n",
            "\n",
            "0: 672x1024 1 number_plate, 1 car, 22.3ms\n",
            "Speed: 7.1ms preprocess, 22.3ms inference, 1.7ms postprocess per image at shape (1, 3, 672, 1024)\n",
            "\n",
            "0: 672x1024 1 number_plate, 1 car, 22.1ms\n",
            "Speed: 7.2ms preprocess, 22.1ms inference, 1.7ms postprocess per image at shape (1, 3, 672, 1024)\n",
            "\n",
            "0: 672x1024 1 number_plate, 1 car, 24.5ms\n",
            "Speed: 7.1ms preprocess, 24.5ms inference, 1.7ms postprocess per image at shape (1, 3, 672, 1024)\n",
            "\n",
            "0: 672x1024 1 number_plate, 1 car, 33.7ms\n",
            "Speed: 10.1ms preprocess, 33.7ms inference, 5.4ms postprocess per image at shape (1, 3, 672, 1024)\n",
            "\n",
            "0: 672x1024 1 number_plate, 1 car, 36.7ms\n",
            "Speed: 9.1ms preprocess, 36.7ms inference, 1.8ms postprocess per image at shape (1, 3, 672, 1024)\n",
            "\n",
            "0: 672x1024 1 number_plate, 1 car, 24.7ms\n",
            "Speed: 7.2ms preprocess, 24.7ms inference, 1.7ms postprocess per image at shape (1, 3, 672, 1024)\n",
            "\n",
            "0: 672x1024 1 number_plate, 1 car, 36.2ms\n",
            "Speed: 10.4ms preprocess, 36.2ms inference, 2.1ms postprocess per image at shape (1, 3, 672, 1024)\n",
            "\n",
            "0: 672x1024 1 number_plate, 1 car, 21.1ms\n",
            "Speed: 7.2ms preprocess, 21.1ms inference, 1.6ms postprocess per image at shape (1, 3, 672, 1024)\n",
            "\n",
            "0: 672x1024 1 number_plate, 1 car, 24.2ms\n",
            "Speed: 7.5ms preprocess, 24.2ms inference, 1.6ms postprocess per image at shape (1, 3, 672, 1024)\n",
            "\n",
            "0: 672x1024 1 number_plate, 1 car, 22.2ms\n",
            "Speed: 8.7ms preprocess, 22.2ms inference, 1.8ms postprocess per image at shape (1, 3, 672, 1024)\n",
            "\n",
            "0: 672x1024 1 number_plate, 1 car, 23.1ms\n",
            "Speed: 8.2ms preprocess, 23.1ms inference, 1.7ms postprocess per image at shape (1, 3, 672, 1024)\n",
            "\n",
            "0: 672x1024 1 number_plate, 27.4ms\n",
            "Speed: 11.3ms preprocess, 27.4ms inference, 1.8ms postprocess per image at shape (1, 3, 672, 1024)\n",
            "\n",
            "0: 672x1024 1 number_plate, 2 cars, 22.9ms\n",
            "Speed: 7.7ms preprocess, 22.9ms inference, 1.6ms postprocess per image at shape (1, 3, 672, 1024)\n",
            "\n",
            "0: 672x1024 1 number_plate, 2 cars, 22.1ms\n",
            "Speed: 11.6ms preprocess, 22.1ms inference, 1.7ms postprocess per image at shape (1, 3, 672, 1024)\n",
            "\n",
            "0: 672x1024 1 number_plate, 1 car, 22.0ms\n",
            "Speed: 8.0ms preprocess, 22.0ms inference, 1.6ms postprocess per image at shape (1, 3, 672, 1024)\n",
            "\n",
            "0: 672x1024 1 number_plate, 1 car, 23.1ms\n",
            "Speed: 7.7ms preprocess, 23.1ms inference, 1.6ms postprocess per image at shape (1, 3, 672, 1024)\n",
            "\n",
            "0: 672x1024 1 number_plate, 1 car, 26.1ms\n",
            "Speed: 11.6ms preprocess, 26.1ms inference, 1.7ms postprocess per image at shape (1, 3, 672, 1024)\n",
            "\n",
            "0: 672x1024 1 number_plate, 1 car, 33.1ms\n",
            "Speed: 8.9ms preprocess, 33.1ms inference, 2.4ms postprocess per image at shape (1, 3, 672, 1024)\n",
            "\n",
            "0: 672x1024 1 number_plate, 1 car, 41.8ms\n",
            "Speed: 8.5ms preprocess, 41.8ms inference, 2.2ms postprocess per image at shape (1, 3, 672, 1024)\n",
            "\n",
            "0: 672x1024 1 number_plate, 1 car, 38.4ms\n",
            "Speed: 11.3ms preprocess, 38.4ms inference, 2.2ms postprocess per image at shape (1, 3, 672, 1024)\n",
            "\n",
            "0: 672x1024 1 number_plate, 1 car, 27.5ms\n",
            "Speed: 7.3ms preprocess, 27.5ms inference, 1.9ms postprocess per image at shape (1, 3, 672, 1024)\n",
            "\n",
            "0: 672x1024 1 number_plate, 1 car, 35.4ms\n",
            "Speed: 7.8ms preprocess, 35.4ms inference, 2.1ms postprocess per image at shape (1, 3, 672, 1024)\n",
            "\n",
            "0: 672x1024 1 number_plate, 1 car, 23.1ms\n",
            "Speed: 7.0ms preprocess, 23.1ms inference, 3.6ms postprocess per image at shape (1, 3, 672, 1024)\n",
            "\n",
            "0: 672x1024 1 number_plate, 1 car, 29.2ms\n",
            "Speed: 9.9ms preprocess, 29.2ms inference, 1.7ms postprocess per image at shape (1, 3, 672, 1024)\n",
            "\n",
            "0: 672x1024 1 number_plate, 1 car, 22.6ms\n",
            "Speed: 9.9ms preprocess, 22.6ms inference, 2.0ms postprocess per image at shape (1, 3, 672, 1024)\n",
            "\n",
            "0: 672x1024 1 number_plate, 1 car, 26.4ms\n",
            "Speed: 9.2ms preprocess, 26.4ms inference, 2.0ms postprocess per image at shape (1, 3, 672, 1024)\n",
            "\n",
            "0: 672x1024 1 number_plate, 1 car, 36.3ms\n",
            "Speed: 10.7ms preprocess, 36.3ms inference, 2.1ms postprocess per image at shape (1, 3, 672, 1024)\n",
            "\n",
            "0: 672x1024 1 number_plate, 1 car, 27.6ms\n",
            "Speed: 10.4ms preprocess, 27.6ms inference, 1.6ms postprocess per image at shape (1, 3, 672, 1024)\n",
            "\n",
            "0: 672x1024 1 number_plate, 25.4ms\n",
            "Speed: 7.2ms preprocess, 25.4ms inference, 2.1ms postprocess per image at shape (1, 3, 672, 1024)\n",
            "\n",
            "0: 672x1024 1 number_plate, 1 car, 31.3ms\n",
            "Speed: 7.9ms preprocess, 31.3ms inference, 2.1ms postprocess per image at shape (1, 3, 672, 1024)\n",
            "\n",
            "0: 672x1024 1 number_plate, 30.0ms\n",
            "Speed: 7.6ms preprocess, 30.0ms inference, 2.2ms postprocess per image at shape (1, 3, 672, 1024)\n",
            "\n",
            "0: 672x1024 1 number_plate, 28.8ms\n",
            "Speed: 7.5ms preprocess, 28.8ms inference, 1.9ms postprocess per image at shape (1, 3, 672, 1024)\n",
            "\n",
            "0: 672x1024 1 number_plate, 27.8ms\n",
            "Speed: 9.5ms preprocess, 27.8ms inference, 2.0ms postprocess per image at shape (1, 3, 672, 1024)\n",
            "\n",
            "0: 672x1024 1 number_plate, 31.4ms\n",
            "Speed: 7.8ms preprocess, 31.4ms inference, 2.1ms postprocess per image at shape (1, 3, 672, 1024)\n",
            "\n",
            "0: 672x1024 1 number_plate, 38.5ms\n",
            "Speed: 8.6ms preprocess, 38.5ms inference, 3.7ms postprocess per image at shape (1, 3, 672, 1024)\n",
            "\n",
            "0: 672x1024 1 number_plate, 28.5ms\n",
            "Speed: 8.7ms preprocess, 28.5ms inference, 2.0ms postprocess per image at shape (1, 3, 672, 1024)\n",
            "\n",
            "0: 672x1024 1 number_plate, 30.3ms\n",
            "Speed: 7.7ms preprocess, 30.3ms inference, 2.6ms postprocess per image at shape (1, 3, 672, 1024)\n",
            "\n",
            "0: 672x1024 1 number_plate, 26.0ms\n",
            "Speed: 8.2ms preprocess, 26.0ms inference, 2.1ms postprocess per image at shape (1, 3, 672, 1024)\n",
            "\n",
            "0: 672x1024 1 number_plate, 28.4ms\n",
            "Speed: 11.0ms preprocess, 28.4ms inference, 1.9ms postprocess per image at shape (1, 3, 672, 1024)\n",
            "\n",
            "0: 672x1024 1 number_plate, 35.9ms\n",
            "Speed: 7.5ms preprocess, 35.9ms inference, 2.0ms postprocess per image at shape (1, 3, 672, 1024)\n",
            "\n",
            "0: 672x1024 1 number_plate, 30.1ms\n",
            "Speed: 7.2ms preprocess, 30.1ms inference, 1.9ms postprocess per image at shape (1, 3, 672, 1024)\n",
            "\n",
            "0: 672x1024 1 number_plate, 28.5ms\n",
            "Speed: 7.2ms preprocess, 28.5ms inference, 1.9ms postprocess per image at shape (1, 3, 672, 1024)\n",
            "\n",
            "0: 672x1024 1 number_plate, 26.4ms\n",
            "Speed: 7.4ms preprocess, 26.4ms inference, 1.7ms postprocess per image at shape (1, 3, 672, 1024)\n",
            "\n",
            "0: 672x1024 1 number_plate, 29.1ms\n",
            "Speed: 7.4ms preprocess, 29.1ms inference, 2.0ms postprocess per image at shape (1, 3, 672, 1024)\n",
            "\n",
            "0: 672x1024 1 number_plate, 29.3ms\n",
            "Speed: 7.2ms preprocess, 29.3ms inference, 1.9ms postprocess per image at shape (1, 3, 672, 1024)\n",
            "\n",
            "0: 672x1024 1 number_plate, 25.2ms\n",
            "Speed: 7.4ms preprocess, 25.2ms inference, 1.9ms postprocess per image at shape (1, 3, 672, 1024)\n",
            "\n",
            "0: 672x1024 1 number_plate, 27.2ms\n",
            "Speed: 7.5ms preprocess, 27.2ms inference, 2.2ms postprocess per image at shape (1, 3, 672, 1024)\n",
            "\n",
            "0: 672x1024 1 number_plate, 25.8ms\n",
            "Speed: 7.2ms preprocess, 25.8ms inference, 1.8ms postprocess per image at shape (1, 3, 672, 1024)\n",
            "\n",
            "0: 672x1024 1 number_plate, 25.4ms\n",
            "Speed: 7.2ms preprocess, 25.4ms inference, 1.8ms postprocess per image at shape (1, 3, 672, 1024)\n",
            "\n",
            "0: 672x1024 1 number_plate, 25.7ms\n",
            "Speed: 7.4ms preprocess, 25.7ms inference, 2.0ms postprocess per image at shape (1, 3, 672, 1024)\n",
            "\n",
            "0: 672x1024 1 number_plate, 27.3ms\n",
            "Speed: 7.1ms preprocess, 27.3ms inference, 1.9ms postprocess per image at shape (1, 3, 672, 1024)\n",
            "\n",
            "0: 672x1024 1 number_plate, 40.7ms\n",
            "Speed: 13.3ms preprocess, 40.7ms inference, 2.1ms postprocess per image at shape (1, 3, 672, 1024)\n",
            "\n",
            "0: 672x1024 1 number_plate, 35.2ms\n",
            "Speed: 8.6ms preprocess, 35.2ms inference, 2.4ms postprocess per image at shape (1, 3, 672, 1024)\n",
            "\n",
            "0: 672x1024 1 number_plate, 29.7ms\n",
            "Speed: 8.4ms preprocess, 29.7ms inference, 1.9ms postprocess per image at shape (1, 3, 672, 1024)\n",
            "\n",
            "0: 672x1024 1 number_plate, 26.0ms\n",
            "Speed: 9.5ms preprocess, 26.0ms inference, 1.8ms postprocess per image at shape (1, 3, 672, 1024)\n",
            "\n",
            "0: 672x1024 1 number_plate, 26.1ms\n",
            "Speed: 7.3ms preprocess, 26.1ms inference, 1.9ms postprocess per image at shape (1, 3, 672, 1024)\n",
            "\n",
            "0: 672x1024 1 number_plate, 26.2ms\n",
            "Speed: 7.5ms preprocess, 26.2ms inference, 1.9ms postprocess per image at shape (1, 3, 672, 1024)\n",
            "\n",
            "0: 672x1024 1 number_plate, 36.2ms\n",
            "Speed: 7.2ms preprocess, 36.2ms inference, 2.1ms postprocess per image at shape (1, 3, 672, 1024)\n",
            "\n",
            "0: 672x1024 1 number_plate, 25.8ms\n",
            "Speed: 7.7ms preprocess, 25.8ms inference, 1.9ms postprocess per image at shape (1, 3, 672, 1024)\n",
            "\n",
            "0: 672x1024 1 number_plate, 25.6ms\n",
            "Speed: 7.7ms preprocess, 25.6ms inference, 1.8ms postprocess per image at shape (1, 3, 672, 1024)\n",
            "\n",
            "0: 672x1024 1 number_plate, 29.3ms\n",
            "Speed: 7.6ms preprocess, 29.3ms inference, 1.9ms postprocess per image at shape (1, 3, 672, 1024)\n",
            "\n",
            "0: 672x1024 1 number_plate, 48.1ms\n",
            "Speed: 7.8ms preprocess, 48.1ms inference, 2.1ms postprocess per image at shape (1, 3, 672, 1024)\n",
            "\n",
            "0: 672x1024 1 number_plate, 27.2ms\n",
            "Speed: 7.6ms preprocess, 27.2ms inference, 1.9ms postprocess per image at shape (1, 3, 672, 1024)\n",
            "\n",
            "0: 672x1024 1 number_plate, 25.7ms\n",
            "Speed: 7.3ms preprocess, 25.7ms inference, 1.8ms postprocess per image at shape (1, 3, 672, 1024)\n",
            "\n",
            "0: 672x1024 1 number_plate, 26.9ms\n",
            "Speed: 7.7ms preprocess, 26.9ms inference, 1.9ms postprocess per image at shape (1, 3, 672, 1024)\n",
            "\n",
            "0: 672x1024 1 number_plate, 28.6ms\n",
            "Speed: 7.7ms preprocess, 28.6ms inference, 2.2ms postprocess per image at shape (1, 3, 672, 1024)\n",
            "\n",
            "0: 672x1024 1 number_plate, 40.3ms\n",
            "Speed: 10.8ms preprocess, 40.3ms inference, 3.4ms postprocess per image at shape (1, 3, 672, 1024)\n",
            "\n",
            "0: 672x1024 1 number_plate, 29.2ms\n",
            "Speed: 9.3ms preprocess, 29.2ms inference, 2.0ms postprocess per image at shape (1, 3, 672, 1024)\n",
            "\n",
            "0: 672x1024 1 number_plate, 31.1ms\n",
            "Speed: 7.5ms preprocess, 31.1ms inference, 1.9ms postprocess per image at shape (1, 3, 672, 1024)\n",
            "\n",
            "0: 672x1024 1 number_plate, 27.1ms\n",
            "Speed: 8.4ms preprocess, 27.1ms inference, 2.0ms postprocess per image at shape (1, 3, 672, 1024)\n",
            "\n",
            "0: 672x1024 1 number_plate, 26.7ms\n",
            "Speed: 8.9ms preprocess, 26.7ms inference, 2.0ms postprocess per image at shape (1, 3, 672, 1024)\n",
            "\n",
            "0: 672x1024 1 number_plate, 25.1ms\n",
            "Speed: 7.6ms preprocess, 25.1ms inference, 1.9ms postprocess per image at shape (1, 3, 672, 1024)\n",
            "\n",
            "0: 672x1024 1 number_plate, 25.9ms\n",
            "Speed: 8.7ms preprocess, 25.9ms inference, 2.0ms postprocess per image at shape (1, 3, 672, 1024)\n",
            "\n",
            "0: 672x1024 1 number_plate, 28.7ms\n",
            "Speed: 9.2ms preprocess, 28.7ms inference, 2.1ms postprocess per image at shape (1, 3, 672, 1024)\n",
            "\n",
            "0: 672x1024 1 number_plate, 36.6ms\n",
            "Speed: 10.4ms preprocess, 36.6ms inference, 1.9ms postprocess per image at shape (1, 3, 672, 1024)\n",
            "\n",
            "0: 672x1024 1 number_plate, 1 car, 30.2ms\n",
            "Speed: 7.2ms preprocess, 30.2ms inference, 2.0ms postprocess per image at shape (1, 3, 672, 1024)\n",
            "\n",
            "0: 672x1024 1 number_plate, 1 car, 28.4ms\n",
            "Speed: 9.8ms preprocess, 28.4ms inference, 2.1ms postprocess per image at shape (1, 3, 672, 1024)\n",
            "\n",
            "0: 672x1024 1 number_plate, 26.8ms\n",
            "Speed: 7.7ms preprocess, 26.8ms inference, 1.9ms postprocess per image at shape (1, 3, 672, 1024)\n",
            "\n",
            "0: 672x1024 1 number_plate, 1 car, 24.8ms\n",
            "Speed: 7.4ms preprocess, 24.8ms inference, 1.9ms postprocess per image at shape (1, 3, 672, 1024)\n",
            "\n",
            "0: 672x1024 1 number_plate, 25.1ms\n",
            "Speed: 7.5ms preprocess, 25.1ms inference, 2.0ms postprocess per image at shape (1, 3, 672, 1024)\n",
            "\n",
            "0: 672x1024 1 number_plate, 26.4ms\n",
            "Speed: 7.3ms preprocess, 26.4ms inference, 1.9ms postprocess per image at shape (1, 3, 672, 1024)\n",
            "\n",
            "0: 672x1024 1 number_plate, 26.0ms\n",
            "Speed: 7.2ms preprocess, 26.0ms inference, 2.0ms postprocess per image at shape (1, 3, 672, 1024)\n",
            "\n",
            "0: 672x1024 1 number_plate, 29.3ms\n",
            "Speed: 7.4ms preprocess, 29.3ms inference, 2.0ms postprocess per image at shape (1, 3, 672, 1024)\n",
            "\n",
            "0: 672x1024 2 number_plates, 1 car, 26.1ms\n",
            "Speed: 7.4ms preprocess, 26.1ms inference, 1.9ms postprocess per image at shape (1, 3, 672, 1024)\n",
            "\n",
            "0: 672x1024 2 number_plates, 1 car, 25.9ms\n",
            "Speed: 7.5ms preprocess, 25.9ms inference, 1.9ms postprocess per image at shape (1, 3, 672, 1024)\n",
            "\n",
            "0: 672x1024 1 number_plate, 1 car, 25.6ms\n",
            "Speed: 7.4ms preprocess, 25.6ms inference, 1.9ms postprocess per image at shape (1, 3, 672, 1024)\n",
            "\n",
            "0: 672x1024 1 number_plate, 1 car, 25.9ms\n",
            "Speed: 7.7ms preprocess, 25.9ms inference, 1.9ms postprocess per image at shape (1, 3, 672, 1024)\n",
            "\n",
            "0: 672x1024 1 number_plate, 1 car, 25.3ms\n",
            "Speed: 7.7ms preprocess, 25.3ms inference, 2.0ms postprocess per image at shape (1, 3, 672, 1024)\n",
            "\n",
            "0: 672x1024 1 number_plate, 1 car, 25.8ms\n",
            "Speed: 8.0ms preprocess, 25.8ms inference, 1.8ms postprocess per image at shape (1, 3, 672, 1024)\n",
            "\n",
            "0: 672x1024 1 number_plate, 1 car, 25.0ms\n",
            "Speed: 7.6ms preprocess, 25.0ms inference, 1.9ms postprocess per image at shape (1, 3, 672, 1024)\n",
            "\n",
            "0: 672x1024 1 number_plate, 25.8ms\n",
            "Speed: 7.5ms preprocess, 25.8ms inference, 2.0ms postprocess per image at shape (1, 3, 672, 1024)\n",
            "\n",
            "0: 672x1024 1 number_plate, 1 car, 26.2ms\n",
            "Speed: 9.2ms preprocess, 26.2ms inference, 2.0ms postprocess per image at shape (1, 3, 672, 1024)\n",
            "\n",
            "0: 672x1024 1 number_plate, 34.3ms\n",
            "Speed: 13.1ms preprocess, 34.3ms inference, 2.2ms postprocess per image at shape (1, 3, 672, 1024)\n",
            "\n",
            "0: 672x1024 1 number_plate, 1 car, 29.6ms\n",
            "Speed: 7.3ms preprocess, 29.6ms inference, 1.9ms postprocess per image at shape (1, 3, 672, 1024)\n",
            "\n",
            "0: 672x1024 1 number_plate, 1 car, 26.6ms\n",
            "Speed: 8.3ms preprocess, 26.6ms inference, 1.9ms postprocess per image at shape (1, 3, 672, 1024)\n",
            "\n",
            "0: 672x1024 1 number_plate, 1 car, 24.0ms\n",
            "Speed: 7.3ms preprocess, 24.0ms inference, 1.8ms postprocess per image at shape (1, 3, 672, 1024)\n",
            "\n",
            "0: 672x1024 1 car, 26.9ms\n",
            "Speed: 7.7ms preprocess, 26.9ms inference, 1.8ms postprocess per image at shape (1, 3, 672, 1024)\n",
            "\n",
            "0: 672x1024 (no detections), 31.5ms\n",
            "Speed: 7.2ms preprocess, 31.5ms inference, 0.8ms postprocess per image at shape (1, 3, 672, 1024)\n",
            "\n",
            "0: 672x1024 1 car, 35.5ms\n",
            "Speed: 8.7ms preprocess, 35.5ms inference, 2.1ms postprocess per image at shape (1, 3, 672, 1024)\n",
            "\n",
            "0: 672x1024 1 car, 29.7ms\n",
            "Speed: 10.3ms preprocess, 29.7ms inference, 2.2ms postprocess per image at shape (1, 3, 672, 1024)\n",
            "\n",
            "0: 672x1024 (no detections), 40.7ms\n",
            "Speed: 10.3ms preprocess, 40.7ms inference, 0.9ms postprocess per image at shape (1, 3, 672, 1024)\n",
            "\n",
            "0: 672x1024 (no detections), 29.1ms\n",
            "Speed: 8.4ms preprocess, 29.1ms inference, 0.6ms postprocess per image at shape (1, 3, 672, 1024)\n",
            "\n",
            "0: 672x1024 1 bike, 19.7ms\n",
            "Speed: 10.3ms preprocess, 19.7ms inference, 1.4ms postprocess per image at shape (1, 3, 672, 1024)\n",
            "\n",
            "0: 672x1024 1 bike, 19.7ms\n",
            "Speed: 5.6ms preprocess, 19.7ms inference, 1.3ms postprocess per image at shape (1, 3, 672, 1024)\n",
            "\n",
            "0: 672x1024 1 bike, 19.7ms\n",
            "Speed: 6.1ms preprocess, 19.7ms inference, 1.5ms postprocess per image at shape (1, 3, 672, 1024)\n",
            "\n",
            "0: 672x1024 (no detections), 19.7ms\n",
            "Speed: 7.6ms preprocess, 19.7ms inference, 0.6ms postprocess per image at shape (1, 3, 672, 1024)\n",
            "\n",
            "0: 672x1024 1 car, 19.7ms\n",
            "Speed: 7.4ms preprocess, 19.7ms inference, 1.6ms postprocess per image at shape (1, 3, 672, 1024)\n",
            "\n",
            "0: 672x1024 1 car, 19.7ms\n",
            "Speed: 7.6ms preprocess, 19.7ms inference, 1.4ms postprocess per image at shape (1, 3, 672, 1024)\n",
            "\n",
            "0: 672x1024 1 car, 19.7ms\n",
            "Speed: 7.3ms preprocess, 19.7ms inference, 1.5ms postprocess per image at shape (1, 3, 672, 1024)\n",
            "\n",
            "0: 672x1024 1 car, 21.4ms\n",
            "Speed: 7.4ms preprocess, 21.4ms inference, 1.4ms postprocess per image at shape (1, 3, 672, 1024)\n",
            "\n",
            "0: 672x1024 (no detections), 18.9ms\n",
            "Speed: 7.4ms preprocess, 18.9ms inference, 0.7ms postprocess per image at shape (1, 3, 672, 1024)\n",
            "\n",
            "0: 672x1024 (no detections), 27.5ms\n",
            "Speed: 11.6ms preprocess, 27.5ms inference, 0.7ms postprocess per image at shape (1, 3, 672, 1024)\n",
            "\n",
            "0: 672x1024 (no detections), 18.4ms\n",
            "Speed: 7.0ms preprocess, 18.4ms inference, 0.6ms postprocess per image at shape (1, 3, 672, 1024)\n",
            "\n",
            "0: 672x1024 (no detections), 18.4ms\n",
            "Speed: 8.7ms preprocess, 18.4ms inference, 0.6ms postprocess per image at shape (1, 3, 672, 1024)\n",
            "\n",
            "0: 672x1024 (no detections), 18.4ms\n",
            "Speed: 4.8ms preprocess, 18.4ms inference, 0.6ms postprocess per image at shape (1, 3, 672, 1024)\n",
            "\n",
            "0: 672x1024 (no detections), 20.3ms\n",
            "Speed: 8.7ms preprocess, 20.3ms inference, 0.6ms postprocess per image at shape (1, 3, 672, 1024)\n",
            "\n",
            "0: 672x1024 (no detections), 19.8ms\n",
            "Speed: 7.7ms preprocess, 19.8ms inference, 0.6ms postprocess per image at shape (1, 3, 672, 1024)\n",
            "\n",
            "0: 672x1024 (no detections), 20.7ms\n",
            "Speed: 6.9ms preprocess, 20.7ms inference, 0.6ms postprocess per image at shape (1, 3, 672, 1024)\n",
            "\n",
            "0: 672x1024 (no detections), 26.8ms\n",
            "Speed: 7.6ms preprocess, 26.8ms inference, 0.8ms postprocess per image at shape (1, 3, 672, 1024)\n",
            "\n",
            "0: 672x1024 (no detections), 25.0ms\n",
            "Speed: 9.1ms preprocess, 25.0ms inference, 0.8ms postprocess per image at shape (1, 3, 672, 1024)\n",
            "\n",
            "0: 672x1024 (no detections), 22.4ms\n",
            "Speed: 11.8ms preprocess, 22.4ms inference, 0.6ms postprocess per image at shape (1, 3, 672, 1024)\n",
            "\n",
            "0: 672x1024 (no detections), 18.2ms\n",
            "Speed: 7.0ms preprocess, 18.2ms inference, 0.6ms postprocess per image at shape (1, 3, 672, 1024)\n",
            "\n",
            "0: 672x1024 (no detections), 17.1ms\n",
            "Speed: 8.1ms preprocess, 17.1ms inference, 0.7ms postprocess per image at shape (1, 3, 672, 1024)\n",
            "\n",
            "0: 672x1024 (no detections), 17.7ms\n",
            "Speed: 7.6ms preprocess, 17.7ms inference, 0.6ms postprocess per image at shape (1, 3, 672, 1024)\n",
            "\n",
            "0: 672x1024 (no detections), 17.8ms\n",
            "Speed: 7.5ms preprocess, 17.8ms inference, 0.6ms postprocess per image at shape (1, 3, 672, 1024)\n",
            "\n",
            "0: 672x1024 (no detections), 17.9ms\n",
            "Speed: 7.2ms preprocess, 17.9ms inference, 0.6ms postprocess per image at shape (1, 3, 672, 1024)\n",
            "\n",
            "0: 672x1024 (no detections), 18.0ms\n",
            "Speed: 7.1ms preprocess, 18.0ms inference, 0.6ms postprocess per image at shape (1, 3, 672, 1024)\n",
            "\n",
            "0: 672x1024 (no detections), 18.3ms\n",
            "Speed: 7.1ms preprocess, 18.3ms inference, 0.6ms postprocess per image at shape (1, 3, 672, 1024)\n",
            "\n",
            "0: 672x1024 (no detections), 20.4ms\n",
            "Speed: 5.7ms preprocess, 20.4ms inference, 0.6ms postprocess per image at shape (1, 3, 672, 1024)\n",
            "\n",
            "0: 672x1024 (no detections), 21.4ms\n",
            "Speed: 7.0ms preprocess, 21.4ms inference, 0.6ms postprocess per image at shape (1, 3, 672, 1024)\n",
            "\n",
            "0: 672x1024 (no detections), 19.4ms\n",
            "Speed: 7.0ms preprocess, 19.4ms inference, 0.6ms postprocess per image at shape (1, 3, 672, 1024)\n",
            "\n",
            "0: 672x1024 (no detections), 19.7ms\n",
            "Speed: 7.3ms preprocess, 19.7ms inference, 0.6ms postprocess per image at shape (1, 3, 672, 1024)\n",
            "\n",
            "0: 672x1024 1 car, 17.4ms\n",
            "Speed: 7.3ms preprocess, 17.4ms inference, 1.3ms postprocess per image at shape (1, 3, 672, 1024)\n",
            "\n",
            "0: 672x1024 (no detections), 18.0ms\n",
            "Speed: 8.5ms preprocess, 18.0ms inference, 0.6ms postprocess per image at shape (1, 3, 672, 1024)\n",
            "\n",
            "0: 672x1024 (no detections), 39.2ms\n",
            "Speed: 11.8ms preprocess, 39.2ms inference, 0.7ms postprocess per image at shape (1, 3, 672, 1024)\n",
            "\n",
            "0: 672x1024 1 number_plate, 20.0ms\n",
            "Speed: 7.7ms preprocess, 20.0ms inference, 1.7ms postprocess per image at shape (1, 3, 672, 1024)\n",
            "\n",
            "0: 672x1024 1 number_plate, 1 car, 18.7ms\n",
            "Speed: 7.5ms preprocess, 18.7ms inference, 1.6ms postprocess per image at shape (1, 3, 672, 1024)\n",
            "\n",
            "0: 672x1024 1 number_plate, 17.5ms\n",
            "Speed: 7.3ms preprocess, 17.5ms inference, 1.4ms postprocess per image at shape (1, 3, 672, 1024)\n",
            "\n",
            "0: 672x1024 1 number_plate, 18.5ms\n",
            "Speed: 5.5ms preprocess, 18.5ms inference, 1.3ms postprocess per image at shape (1, 3, 672, 1024)\n",
            "✅ Processed Video Saved to: /content/output/processed_video.mp4\n"
          ]
        },
        {
          "data": {
            "application/javascript": "\n    async function download(id, filename, size) {\n      if (!google.colab.kernel.accessAllowed) {\n        return;\n      }\n      const div = document.createElement('div');\n      const label = document.createElement('label');\n      label.textContent = `Downloading \"${filename}\": `;\n      div.appendChild(label);\n      const progress = document.createElement('progress');\n      progress.max = size;\n      div.appendChild(progress);\n      document.body.appendChild(div);\n\n      const buffers = [];\n      let downloaded = 0;\n\n      const channel = await google.colab.kernel.comms.open(id);\n      // Send a message to notify the kernel that we're ready.\n      channel.send({})\n\n      for await (const message of channel.messages) {\n        // Send a message to notify the kernel that we're ready.\n        channel.send({})\n        if (message.buffers) {\n          for (const buffer of message.buffers) {\n            buffers.push(buffer);\n            downloaded += buffer.byteLength;\n            progress.value = downloaded;\n          }\n        }\n      }\n      const blob = new Blob(buffers, {type: 'application/binary'});\n      const a = document.createElement('a');\n      a.href = window.URL.createObjectURL(blob);\n      a.download = filename;\n      div.appendChild(a);\n      a.click();\n      div.remove();\n    }\n  ",
            "text/plain": [
              "<IPython.core.display.Javascript object>"
            ]
          },
          "metadata": {},
          "output_type": "display_data"
        },
        {
          "data": {
            "application/javascript": "download(\"download_b829749f-c265-44d0-b984-6d01d4621906\", \"detected_images.zip\", 26273205)",
            "text/plain": [
              "<IPython.core.display.Javascript object>"
            ]
          },
          "metadata": {},
          "output_type": "display_data"
        }
      ],
      "source": [
        "import cv2\n",
        "import os\n",
        "import torch\n",
        "from ultralytics import YOLO\n",
        "\n",
        "# Load the trained YOLO model\n",
        "model = YOLO('/content/runs/detect/train3/weights/best.pt')\n",
        "\n",
        "# Define input and output folders\n",
        "input_images_folder = \"/content/\"  # Folder containing images\n",
        "input_video_path = \"/content/carLicence4.mp4\"  # Input video\n",
        "output_folder = \"/content/output\"\n",
        "output_video_path = os.path.join(output_folder, \"processed_video.mp4\")\n",
        "\n",
        "# Create output folder if it doesn't exist\n",
        "os.makedirs(output_folder, exist_ok=True)\n",
        "\n",
        "### 📌 **Process Images**\n",
        "def process_images():\n",
        "    print(\"\\n🔍 Processing Images...\")\n",
        "    for img_name in os.listdir(input_images_folder):\n",
        "        img_path = os.path.join(input_images_folder, img_name)\n",
        "        output_path = os.path.join(output_folder, img_name)\n",
        "\n",
        "        # Read the image\n",
        "        image = cv2.imread(img_path)\n",
        "        if image is None:\n",
        "            print(f\"⚠️ Could not read image: {img_path}. Skipping...\")\n",
        "            continue\n",
        "\n",
        "\n",
        "        # Perform object detection\n",
        "        results = model(image)\n",
        "\n",
        "        # Draw bounding boxes and labels\n",
        "        for result in results:\n",
        "            for box in result.boxes.data:\n",
        "                x1, y1, x2, y2, conf, cls = map(int, box[:6])\n",
        "                label = f\"{model.names[cls]} {conf:.2f}\"\n",
        "\n",
        "                # Draw rectangle and label\n",
        "                cv2.rectangle(image, (x1, y1), (x2, y2), (0, 255, 0), 2)\n",
        "                cv2.putText(image, label, (x1, y1 - 10), cv2.FONT_HERSHEY_SIMPLEX, 0.5, (0, 255, 255), 2)\n",
        "\n",
        "        # Save the processed image\n",
        "        cv2.imwrite(output_path, image)\n",
        "        print(f\"✅ Processed: {img_name} -> Saved to {output_path}\")\n",
        "\n",
        "### 🎥 **Process Video**\n",
        "def process_video():\n",
        "    print(\"\\n🎥 Processing Video...\")\n",
        "\n",
        "    # Open video file\n",
        "    cap = cv2.VideoCapture(input_video_path)\n",
        "\n",
        "    # Get video properties\n",
        "    frame_width = int(cap.get(3))\n",
        "    frame_height = int(cap.get(4))\n",
        "    fps = int(cap.get(cv2.CAP_PROP_FPS))\n",
        "\n",
        "    # Define video writer\n",
        "    fourcc = cv2.VideoWriter_fourcc(*'mp4v')\n",
        "    out = cv2.VideoWriter(output_video_path, fourcc, fps, (frame_width, frame_height))\n",
        "\n",
        "    while cap.isOpened():\n",
        "        ret, frame = cap.read()\n",
        "        if not ret:\n",
        "            break  # Break if video ends\n",
        "\n",
        "        # Perform object detection\n",
        "        results = model(frame)\n",
        "\n",
        "        # Draw bounding boxes and labels\n",
        "        for result in results:\n",
        "            for box in result.boxes.data:\n",
        "                x1, y1, x2, y2, conf, cls = map(int, box[:6])\n",
        "                label = f\"{model.names[cls]} {conf:.2f}\"\n",
        "\n",
        "                # Draw rectangle and label\n",
        "                cv2.rectangle(frame, (x1, y1), (x2, y2), (0, 255, 0), 2)\n",
        "                cv2.putText(frame, label, (x1, y1 - 10), cv2.FONT_HERSHEY_SIMPLEX, 0.5, (0, 255, 255), 2)\n",
        "\n",
        "        # Write frame to output video\n",
        "        out.write(frame)\n",
        "\n",
        "    cap.release()\n",
        "    out.release()\n",
        "    print(f\"✅ Processed Video Saved to: {output_video_path}\")\n",
        "\n",
        "### 🔄 **Run Both Image & Video Processing**\n",
        "process_images()\n",
        "process_video()\n",
        "\n",
        "### 📥 **Download Results (For Google Colab Users)**\n",
        "import shutil\n",
        "shutil.make_archive(\"/content/detected_images\", 'zip', output_folder)\n",
        "\n",
        "from google.colab import files\n",
        "files.download(\"/content/detected_images.zip\")\n"
      ]
    },
    {
      "cell_type": "code",
      "execution_count": null,
      "metadata": {
        "id": "ParTRsTzTB34"
      },
      "outputs": [],
      "source": [
        "#"
      ]
    }
  ],
  "metadata": {
    "colab": {
      "provenance": []
    },
    "kernelspec": {
      "display_name": "Python 3",
      "name": "python3"
    },
    "language_info": {
      "name": "python"
    }
  },
  "nbformat": 4,
  "nbformat_minor": 0
}
